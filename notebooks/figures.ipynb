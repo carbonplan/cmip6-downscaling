{
 "cells": [
  {
   "cell_type": "code",
   "execution_count": null,
   "id": "innocent-jaguar",
   "metadata": {},
   "outputs": [],
   "source": [
    "import fsspec\n",
    "import xarray as xr\n",
    "import matplotlib.pyplot as plt\n",
    "import numpy as np\n",
    "import pandas as pd\n",
    "import intake\n",
    "\n",
    "from dask.distributed import Client\n",
    "\n",
    "from carbonplan.data import cat as core_cat\n",
    "\n",
    "from cmip6_downscaling.data import cat\n",
    "from cmip6_downscaling import config\n",
    "\n",
    "from cmip6_downscaling.workflows.share import get_cmip_runs\n",
    "\n",
    "from carbonplan_styles.mpl import set_theme"
   ]
  },
  {
   "cell_type": "code",
   "execution_count": null,
   "id": "removable-america",
   "metadata": {},
   "outputs": [],
   "source": [
    "set_theme(style=\"carbonplan_light\")"
   ]
  },
  {
   "cell_type": "code",
   "execution_count": null,
   "id": "renewable-drove",
   "metadata": {},
   "outputs": [],
   "source": [
    "client = Client(threads_per_worker=1)\n",
    "client"
   ]
  },
  {
   "cell_type": "code",
   "execution_count": null,
   "id": "rapid-winter",
   "metadata": {},
   "outputs": [],
   "source": [
    "grid = core_cat.grids.conus4k.to_dask()"
   ]
  },
  {
   "cell_type": "code",
   "execution_count": null,
   "id": "therapeutic-server",
   "metadata": {},
   "outputs": [],
   "source": [
    "grid.mask.plot()"
   ]
  },
  {
   "cell_type": "markdown",
   "id": "frozen-empire",
   "metadata": {},
   "source": [
    "Get a table of processed model runs.\n"
   ]
  },
  {
   "cell_type": "code",
   "execution_count": null,
   "id": "systematic-torture",
   "metadata": {},
   "outputs": [],
   "source": [
    "df = get_cmip_runs()"
   ]
  },
  {
   "cell_type": "markdown",
   "id": "fallen-little",
   "metadata": {},
   "source": [
    "Pull each run into a Xarray dataset\n"
   ]
  },
  {
   "cell_type": "code",
   "execution_count": null,
   "id": "fixed-queen",
   "metadata": {},
   "outputs": [],
   "source": [
    "data = {}\n",
    "index = []\n",
    "for method in [\"quantile-mapping\"]:  # , \"bias-corrected\"\n",
    "    for i, row in df.iterrows():\n",
    "        key = f\"{method}.{row.model}.{row.scenario}.{row.member}\"\n",
    "        cat = intake.open_esm_datastore(config.get(\"data_catalog.cmip.json\"))\n",
    "\n",
    "        data[key] = cat.search(\n",
    "            method=method,\n",
    "            model=row.model,\n",
    "            scenario=row.scenario,\n",
    "            member=row.member,\n",
    "        ).to_dask()\n",
    "        index.append((method, row.model, row.scenario))"
   ]
  },
  {
   "cell_type": "code",
   "execution_count": null,
   "id": "minor-zambia",
   "metadata": {},
   "outputs": [],
   "source": [
    "for key in data:\n",
    "    data[key][\"pdsi\"] = data[key][\"pdsi\"].clip(-16, 16)"
   ]
  },
  {
   "cell_type": "code",
   "execution_count": null,
   "id": "interpreted-bottom",
   "metadata": {},
   "outputs": [],
   "source": [
    "grid = grid.chunk({\"x\": 50, \"y\": 50}).persist()\n",
    "obs_ds = cat.obs.to_dask()\n",
    "obs_ds[\"pdsi\"] = obs_ds[\"pdsi\"].clip(-16, 16)\n",
    "obs_ts = obs_ds.where(grid.mask).mean((\"x\", \"y\")).load()"
   ]
  },
  {
   "cell_type": "code",
   "execution_count": null,
   "id": "subject-tutorial",
   "metadata": {},
   "outputs": [],
   "source": [
    "ann_ts = {}\n",
    "for k, ds in data.items():\n",
    "    print(k)\n",
    "    if \"month\" in ds:\n",
    "        ds = ds.drop(\"month\")\n",
    "        print(\"dropped month\")\n",
    "    ann_ts[k] = ds.mean((\"x\", \"y\")).load()"
   ]
  },
  {
   "cell_type": "code",
   "execution_count": null,
   "id": "curious-palestine",
   "metadata": {},
   "outputs": [],
   "source": [
    "def multi_index_from_keys(keys):\n",
    "    return pd.MultiIndex.from_tuples(\n",
    "        [tuple(k.split(\".\")[:3]) for k in keys],\n",
    "        names=[\"method\", \"model\", \"scenario\"],\n",
    "    )\n",
    "\n",
    "\n",
    "def combine(data):\n",
    "    dim = xr.Variable(\"run\", multi_index_from_keys(data.keys()))\n",
    "    ds = xr.concat(data.values(), dim=dim, coords=\"minimal\", compat=\"override\")\n",
    "    ds = ds.unstack(dim=\"run\")\n",
    "    ds[\"method\"] = ds[\"method\"].astype(str)\n",
    "    ds[\"model\"] = ds[\"model\"].astype(str)\n",
    "    ds[\"scenario\"] = ds[\"scenario\"].astype(str)\n",
    "    return ds"
   ]
  },
  {
   "cell_type": "code",
   "execution_count": null,
   "id": "realistic-plymouth",
   "metadata": {},
   "outputs": [],
   "source": [
    "hist_ds = combine({k: ds for k, ds in ann_ts.items() if \"hist\" in k})\n",
    "ssp_ds = combine({k: ds for k, ds in ann_ts.items() if \"ssp\" in k})"
   ]
  },
  {
   "cell_type": "code",
   "execution_count": null,
   "id": "daily-dodge",
   "metadata": {},
   "outputs": [],
   "source": [
    "ann_ts"
   ]
  },
  {
   "cell_type": "code",
   "execution_count": null,
   "id": "large-sudan",
   "metadata": {},
   "outputs": [],
   "source": [
    "hist_ds"
   ]
  },
  {
   "cell_type": "code",
   "execution_count": null,
   "id": "trying-nudist",
   "metadata": {},
   "outputs": [],
   "source": [
    "# ssp_method_diff = ssp_ds.isel(method=1) - ssp_ds.isel(method=0)\n",
    "# hist_method_diff = hist_ds.isel(method=1) - hist_ds.isel(method=0)\n",
    "# hist_method_diff"
   ]
  },
  {
   "cell_type": "code",
   "execution_count": null,
   "id": "political-seafood",
   "metadata": {},
   "outputs": [],
   "source": [
    "methods = hist_ds[\"method\"].values\n",
    "var_names = [\"tmean\", \"ppt\", \"pet\", \"def\", \"soil\", \"vpd\", \"pdsi\"]\n",
    "colors = {\"ssp245\": \"yellow\", \"ssp370\": \"orange\", \"ssp585\": \"red\"}\n",
    "\n",
    "fig, axes = plt.subplots(\n",
    "    nrows=len(var_names),\n",
    "    ncols=len(methods) + 0,\n",
    "    figsize=(6, 12),\n",
    "    sharex=True,\n",
    "    squeeze=False,\n",
    ")\n",
    "\n",
    "for i, var in enumerate(var_names):\n",
    "    for j, method in enumerate(methods):\n",
    "        hist_ds[var].isel(method=j).squeeze(drop=True).resample(time=\"1AS\").mean().rolling(\n",
    "            time=1\n",
    "        ).mean().plot.line(x=\"time\", ax=axes[i, j], color=\"gray\", alpha=0.8, add_legend=False)\n",
    "        for scen in ssp_ds[\"scenario\"].values:\n",
    "            ssp_ds[var].isel(method=j).sel(scenario=scen).squeeze(drop=True).resample(\n",
    "                time=\"1AS\"\n",
    "            ).mean().rolling(time=1).mean().plot.line(\n",
    "                x=\"time\",\n",
    "                ax=axes[i, j],\n",
    "                color=colors[scen],\n",
    "                alpha=0.8,\n",
    "                add_legend=False,\n",
    "            )\n",
    "        obs_ts[var].squeeze(drop=True).resample(time=\"1AS\").mean().rolling(time=1).mean().plot.line(\n",
    "            x=\"time\", ax=axes[i, j], color=\"k\", alpha=1, add_legend=False\n",
    "        )\n",
    "\n",
    "        axes[i, j].set_xlabel(\"\")\n",
    "        if j != 0:\n",
    "            axes[i, j].set_ylabel(\"\")\n",
    "        if i == 0:\n",
    "            axes[i, j].set_title(\"\")\n",
    "        #             axes[i, j].set_title(method)\n",
    "        else:\n",
    "            axes[i, j].set_title(\"\")\n",
    "\n",
    "    #         hist_method_diff[var].squeeze(drop=True).resample(time='1AS').mean().rolling(time=10).mean().plot.line(\n",
    "    #             x='time', ax=axes[i, -1], color='gray', alpha=0.8, add_legend=False)\n",
    "    #         for scen in ssp_ds['scenario'].values:\n",
    "    #             ssp_method_diff[var].sel(scenario=scen).squeeze(drop=True).resample(time='1AS').mean().rolling(time=10).mean().plot.line(\n",
    "    #                 x='time', ax=axes[i, -1], color=colors[scen], alpha=0.8, add_legend=False)\n",
    "    axes[i, -1].set_xlabel(\"\")\n",
    "    axes[i, -1].set_ylabel(\"\")\n",
    "#     if i == 0:\n",
    "#         axes[i, -1].set_title(\"qm-bc\")\n",
    "#     else:\n",
    "#         axes[i, -1].set_title(\"\")\n",
    "\n",
    "axes[-1, 0].set_ylim(-25, 5)\n",
    "fig.tight_layout()"
   ]
  },
  {
   "cell_type": "code",
   "execution_count": null,
   "id": "related-fifth",
   "metadata": {},
   "outputs": [],
   "source": [
    "hist_periods = [\n",
    "    (\"1970\", \"2000\"),\n",
    "]\n",
    "ssp_periods = [(\"2020\", \"2050\"), (\"2060\", \"2090\")]\n",
    "\n",
    "maps = {}\n",
    "for k, ds in data.items():\n",
    "    maps[k] = {}\n",
    "    periods = hist_periods if \"hist\" in k else ssp_periods\n",
    "    for p in periods:\n",
    "        kp = \":\".join(p)\n",
    "\n",
    "        maps[k][kp] = ds.sel(time=slice(*p)).mean(dim=\"time\").load()"
   ]
  },
  {
   "cell_type": "code",
   "execution_count": null,
   "id": "hairy-detection",
   "metadata": {},
   "outputs": [],
   "source": [
    "for k, pmaps in maps.items():\n",
    "    for kp, ds in pmaps.items():\n",
    "        if \"month\" in ds:\n",
    "            maps[k][kp] = ds.drop(\"month\")"
   ]
  },
  {
   "cell_type": "code",
   "execution_count": null,
   "id": "illegal-jacksonville",
   "metadata": {},
   "outputs": [],
   "source": [
    "obs_map = cat.obs.to_dask().sel(time=slice(*hist_periods[0])).mean(dim=\"time\").load()\n",
    "obs_map"
   ]
  },
  {
   "cell_type": "code",
   "execution_count": null,
   "id": "romantic-audience",
   "metadata": {},
   "outputs": [],
   "source": [
    "hist_maps = combine({k: maps[k][\"1970:2000\"] for k in maps.keys() if \"hist\" in k})\n",
    "hist_maps[\"method\"] = [\"bc\", \"qm\"]"
   ]
  },
  {
   "cell_type": "code",
   "execution_count": null,
   "id": "inside-moisture",
   "metadata": {},
   "outputs": [],
   "source": [
    "obs_map[\"ws\"].plot(robust=True)"
   ]
  },
  {
   "cell_type": "code",
   "execution_count": null,
   "id": "ordinary-horizon",
   "metadata": {},
   "outputs": [],
   "source": [
    "var = \"tmean\"\n",
    "\n",
    "\n",
    "def plot_hist(\n",
    "    hist_maps,\n",
    "    obs_map,\n",
    "    var,\n",
    "    vmin=None,\n",
    "    vmax=None,\n",
    "    vmind=None,\n",
    "    vmaxd=None,\n",
    "    cmap=None,\n",
    "    cmapd=None,\n",
    "):\n",
    "    fig, axes = plt.subplots(\n",
    "        ncols=5,\n",
    "        nrows=hist_maps.dims[\"model\"],\n",
    "        sharex=True,\n",
    "        sharey=True,\n",
    "        figsize=(12, 12),\n",
    "        constrained_layout=True,\n",
    "    )\n",
    "\n",
    "    axes[0, 4].set_title(\"-\".join(hist_maps.method.values))\n",
    "\n",
    "    for i, model in enumerate(hist_maps.model.values):\n",
    "        for j, method in enumerate(hist_maps.method.values):\n",
    "            if i == 0:\n",
    "                axes[i, j].set_title(method)\n",
    "                axes[i, j + 2].set_title(method + \"-obs\")\n",
    "            if j == 0:\n",
    "                axes[i, j].set_ylabel(model)\n",
    "\n",
    "            left_cols = (\n",
    "                hist_maps[var]\n",
    "                .isel(model=i, method=j)\n",
    "                .plot(\n",
    "                    ax=axes[i, j],\n",
    "                    add_colorbar=False,\n",
    "                    vmin=vmin,\n",
    "                    vmax=vmax,\n",
    "                    cmap=cmap,\n",
    "                    add_labels=False,\n",
    "                )\n",
    "            )\n",
    "\n",
    "            bias = hist_maps[var].isel(model=i, method=j) - obs_map[var]\n",
    "            right_cols = bias.plot(\n",
    "                ax=axes[i, j + 2],\n",
    "                add_colorbar=False,\n",
    "                vmin=vmind,\n",
    "                vmax=vmaxd,\n",
    "                cmap=cmapd,\n",
    "                add_labels=False,\n",
    "            )\n",
    "\n",
    "        method_diff = hist_maps[var].isel(model=i, method=1) - hist_maps[var].isel(\n",
    "            model=i, method=0\n",
    "        )\n",
    "        method_diff.plot(\n",
    "            ax=axes[i, 4],\n",
    "            add_colorbar=False,\n",
    "            vmin=vmind,\n",
    "            vmax=vmaxd,\n",
    "            cmap=cmapd,\n",
    "            add_labels=False,\n",
    "        )\n",
    "\n",
    "    fig.colorbar(left_cols, ax=axes[-1, :2], location=\"bottom\", shrink=0.9)\n",
    "    fig.colorbar(right_cols, ax=axes[-1, 2:], location=\"bottom\", shrink=0.7)\n",
    "    fig.suptitle(var, y=1.03, fontweight=\"bold\")\n",
    "    return fig, axes"
   ]
  },
  {
   "cell_type": "code",
   "execution_count": null,
   "id": "pursuant-summit",
   "metadata": {},
   "outputs": [],
   "source": [
    "kwargs = {\n",
    "    \"tmean\": {\n",
    "        \"vmin\": 0,\n",
    "        \"vmax\": 25,\n",
    "        \"vmind\": -0.5,\n",
    "        \"vmaxd\": 0.5,\n",
    "        \"cmap\": \"cividis_r\",\n",
    "        \"cmapd\": \"RdBu_r\",\n",
    "    },\n",
    "    \"ppt\": {\n",
    "        \"vmin\": 0,\n",
    "        \"vmax\": 200,\n",
    "        \"vmind\": -1,\n",
    "        \"vmaxd\": 1,\n",
    "        \"cmap\": \"Blues\",\n",
    "        \"cmapd\": \"BrBG\",\n",
    "    },\n",
    "    \"pet\": {\n",
    "        \"vmin\": 0,\n",
    "        \"vmax\": 150,\n",
    "        \"vmind\": -25,\n",
    "        \"vmaxd\": 25,\n",
    "        \"cmap\": \"cividis\",\n",
    "        \"cmapd\": \"RdBu_r\",\n",
    "    },\n",
    "    \"def\": {\n",
    "        \"vmin\": 0,\n",
    "        \"vmax\": 150,\n",
    "        \"vmind\": -25,\n",
    "        \"vmaxd\": 25,\n",
    "        \"cmap\": \"cividis\",\n",
    "        \"cmapd\": \"RdBu_r\",\n",
    "    },\n",
    "    \"soil\": {\n",
    "        \"vmin\": 0,\n",
    "        \"vmax\": 150,\n",
    "        \"vmind\": -25,\n",
    "        \"vmaxd\": 25,\n",
    "        \"cmap\": \"cividis\",\n",
    "        \"cmapd\": \"RdBu_r\",\n",
    "    },\n",
    "    \"vpd\": {\n",
    "        \"vmin\": 0,\n",
    "        \"vmax\": 1,\n",
    "        \"vmind\": -0.25,\n",
    "        \"vmaxd\": 0.25,\n",
    "        \"cmap\": \"cividis\",\n",
    "        \"cmapd\": \"RdBu_r\",\n",
    "    },\n",
    "    \"pdsi\": {\n",
    "        \"vmin\": -0.5,\n",
    "        \"vmax\": 0.5,\n",
    "        \"vmind\": -0.25,\n",
    "        \"vmaxd\": 0.25,\n",
    "        \"cmap\": \"cividis\",\n",
    "        \"cmapd\": \"RdBu_r\",\n",
    "    },\n",
    "    \"srad\": {\n",
    "        \"vmin\": 140,\n",
    "        \"vmax\": 220,\n",
    "        \"vmind\": -1,\n",
    "        \"vmaxd\": 1,\n",
    "        \"cmap\": \"cividis\",\n",
    "        \"cmapd\": \"RdBu_r\",\n",
    "    },\n",
    "    \"tdew\": {\n",
    "        \"vmin\": -15,\n",
    "        \"vmax\": 15,\n",
    "        \"vmind\": -1,\n",
    "        \"vmaxd\": 1,\n",
    "        \"cmap\": \"cividis\",\n",
    "        \"cmapd\": \"RdBu_r\",\n",
    "    },\n",
    "}\n",
    "for var in [\n",
    "    \"tmean\",\n",
    "    \"ppt\",\n",
    "    \"pet\",\n",
    "    \"def\",\n",
    "    \"soil\",\n",
    "    \"vpd\",\n",
    "    \"pdsi\",\n",
    "    \"srad\",\n",
    "    \"tdew\",\n",
    "]:\n",
    "    fig, axes = plot_hist(hist_maps, obs_map, var=var, **kwargs[var])"
   ]
  }
 ],
 "metadata": {
  "kernelspec": {
   "display_name": "Python 3.9.13 ('cmip')",
   "language": "python",
   "name": "python3"
  },
  "language_info": {
   "codemirror_mode": {
    "name": "ipython",
    "version": 3
   },
   "file_extension": ".py",
   "mimetype": "text/x-python",
   "name": "python",
   "nbconvert_exporter": "python",
   "pygments_lexer": "ipython3",
   "version": "3.9.13"
  },
  "vscode": {
   "interpreter": {
    "hash": "103cd018f1836402e987ac78b2e1d0ec0c35be40759ca5bf713cf63ae8d2e25d"
   }
  }
 },
 "nbformat": 4,
 "nbformat_minor": 5
}
