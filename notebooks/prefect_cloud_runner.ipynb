{
 "cells": [
  {
   "cell_type": "code",
   "execution_count": 1,
   "id": "956b5ff1-7403-4d80-8072-2553ca6d255a",
   "metadata": {},
   "outputs": [
    {
     "name": "stderr",
     "output_type": "stream",
     "text": [
      "/srv/conda/envs/notebook/lib/python3.9/site-packages/carbonplan_data/__init__.py:29: UserWarning: CARBONPLAN_DATA environment variable not set, `carbonplan.data.cat` may not work as expected.Known data locations include: ['https://storage.googleapis.com/carbonplan-data', 'https://carbonplan.blob.core.windows.net/carbonplan-data'].\n",
      "  warnings.warn(msg)\n"
     ]
    },
    {
     "name": "stdout",
     "output_type": "stream",
     "text": [
      "<class 'cmip6_downscaling.runtimes.CloudRuntime'>\n",
      "  Storage    : <class 'prefect.storage.azure.Azure'>\n",
      "  Run Config : <class 'prefect.run_configs.kubernetes.KubernetesRun'>\n",
      "  Executor   : <class 'prefect.executors.dask.DaskExecutor'>\n",
      "\n"
     ]
    }
   ],
   "source": [
    "import glob\n",
    "import os\n",
    "import fsspec\n",
    "import pandas as pd\n",
    "import xarray as xr\n",
    "from upath import UPath\n",
    "import json\n",
    "import time\n",
    "import pathlib\n",
    "from prefect.client import Client\n",
    "from prefect.backend.flow import FlowView\n",
    "from prefect.backend.flow_run import FlowRunView, watch_flow_run\n",
    "from prefect.backend import FlowRunView\n",
    "from cmip6_downscaling.methods.common.containers import RunParameters\n",
    "from cmip6_downscaling.utils import str_to_hash\n",
    "from cmip6_downscaling import __version__ as version, config\n",
    "from cmip6_downscaling.methods.bcsd.flow import flow as bcsd_flow\n",
    "\n",
    "config_file_dir = '../../configs/bcsd_test_subset/'\n",
    "results_dir = UPath(config.get(\"storage.results.uri\").split('az://')[1]) / version\n",
    "finalize_dir = results_dir / 'runs'\n",
    "connection_string = os.environ.get(\"AZURE_STORAGE_CONNECTION_STRING\")\n",
    "fs = fsspec.filesystem('az', connection_string=connection_string)"
   ]
  },
  {
   "cell_type": "code",
   "execution_count": null,
   "id": "2d71564c-cb82-4068-b7d8-e50f9c50b409",
   "metadata": {},
   "outputs": [],
   "source": []
  },
  {
   "cell_type": "code",
   "execution_count": 2,
   "id": "ae19c221-7385-4a6d-bd90-d861beade550",
   "metadata": {},
   "outputs": [],
   "source": [
    "def retrieve_test_parms():\n",
    "    \"\"\"retrieve list of all .json param files in method subdir\"\"\"\n",
    "    return glob.glob(f'{config_file_dir}*.json')\n",
    "\n",
    "\n",
    "def create_run_params_from_json(parameter_fpath: str) -> RunParameters:\n",
    "\n",
    "    df = pd.read_json(parameter_fpath)\n",
    "    run_parameters = RunParameters(\n",
    "        method=df.method.iloc[0],\n",
    "        obs=df.obs.iloc[0],\n",
    "        model=df.model.iloc[0],\n",
    "        member=df.member.iloc[0],\n",
    "        grid_label=df.grid_label.iloc[0],\n",
    "        table_id=df.table_id.iloc[0],\n",
    "        scenario=df.scenario.iloc[0],\n",
    "        variable=df.variable.iloc[0],\n",
    "        latmin=df.latmin.iloc[0],\n",
    "        latmax=df.latmax.iloc[0],\n",
    "        lonmin=df.lonmin.iloc[0],\n",
    "        lonmax=df.lonmax.iloc[0],\n",
    "        train_dates=[df.train_period.iloc[0], df.train_period.iloc[1]],\n",
    "        predict_dates=[df.predict_period.iloc[0], df.predict_period.iloc[1]],\n",
    "    )\n",
    "\n",
    "    return run_parameters\n",
    "\n",
    "\n",
    "def run_flow(flow_id: str, param_file_path: str) -> list[str]:\n",
    "\n",
    "    json_path = pathlib.Path(param_file_path).read_text()\n",
    "    flow_hash = str_to_hash(json_path)\n",
    "    param_dict = json.loads(json_path)\n",
    "    param_dict[\"predict_period\"] = param_dict.pop(\"predict_dates\")\n",
    "    param_dict[\"train_period\"] = param_dict.pop(\"train_dates\")\n",
    "\n",
    "    client = Client()\n",
    "    flow_run_id = client.create_flow_run(flow_id=flow_id, parameters=param_dict)\n",
    "    flow_run = FlowRunView.from_flow_run_id(flow_run_id)\n",
    "    run_url = client.get_cloud_url(\"flow-run\", flow_run_id)\n",
    "    print(run_url)\n",
    "    return flow_run_id, flow_run, run_url, flow_hash, param_file_path\n",
    "\n",
    "\n",
    "def run_all_params(param_list: list, flow_id: str):\n",
    "    for param_file_path in param_list:\n",
    "        run_flow(flow_id, param_file_path)\n",
    "\n",
    "\n",
    "def check_flow_status(flow_run):\n",
    "    while not flow_run.state.is_finished():\n",
    "        time.sleep(3)\n",
    "        flow_run = flow_run.get_latest()\n",
    "    return flow_run\n",
    "\n",
    "\n",
    "def check_finalized_json(param_file_list: list[str]) -> list[str]:\n",
    "    \"\"\"Takes list of parameter files, checks if finalize json files exist for input params. Returns list of matching finalized files.\"\"\"\n",
    "    finalized_file_list = []\n",
    "    for fil in param_file_list:\n",
    "        run_params = create_run_params_from_json(fil)\n",
    "        json_fpath = finalize_dir.as_posix() + '/' + run_params.run_id + '/' + 'latest.json'\n",
    "        if fs.exists(json_fpath):\n",
    "            # appends the .json path formatted to match the input param path\n",
    "            finalized_file_list.append(\n",
    "                config_file_dir + json_fpath.split('/latest.json')[0].split('/')[-1] + '.json'\n",
    "            )\n",
    "\n",
    "    return finalized_file_list"
   ]
  },
  {
   "cell_type": "markdown",
   "id": "670b72af-76b1-44e1-a1de-ae993b63006b",
   "metadata": {},
   "source": [
    "## Register flow"
   ]
  },
  {
   "cell_type": "code",
   "execution_count": 3,
   "id": "ced9bc42-5119-4cc8-b032-c698eaa88783",
   "metadata": {},
   "outputs": [
    {
     "name": "stdout",
     "output_type": "stream",
     "text": [
      "[2022-05-13 06:19:27+0000] INFO - prefect.Azure | Uploading bcsd/2022-05-13t06-19-27-356653-00-00 to prefect\n",
      "Flow URL: https://cloud.prefect.io/carbonplan/flow/0f2a250a-5f25-4a27-ab7a-7a6d8899c00e\n",
      " └── ID: bc4280b3-1432-4d6b-9161-f21dcd65ea48\n",
      " └── Project: cmip6\n",
      " └── Labels: ['az-eu-west']\n"
     ]
    }
   ],
   "source": [
    "flow_id = bcsd_flow.register(project_name='cmip6')"
   ]
  },
  {
   "cell_type": "markdown",
   "id": "8683435b-a1ad-4328-b7b6-43f6df5e48e6",
   "metadata": {},
   "source": [
    "## Run all parameter files on prefect cloud"
   ]
  },
  {
   "cell_type": "code",
   "execution_count": 4,
   "id": "61dc7312-5165-4211-b6d0-eac400c126e2",
   "metadata": {},
   "outputs": [
    {
     "name": "stdout",
     "output_type": "stream",
     "text": [
      "https://cloud.prefect.io/carbonplan/flow-run/72213004-9f14-49f1-83df-a8651ac1ae01\n",
      "https://cloud.prefect.io/carbonplan/flow-run/bfcba53b-8908-46e6-81a8-e7353cca6d35\n",
      "https://cloud.prefect.io/carbonplan/flow-run/dadf192f-87b7-4050-9b3a-261de605e660\n",
      "https://cloud.prefect.io/carbonplan/flow-run/a9e9b557-8769-4719-bbd4-fd9926df7974\n"
     ]
    }
   ],
   "source": [
    "all_parameter_files = retrieve_test_parms()\n",
    "for param_file_path in all_parameter_files:\n",
    "    run_flow(flow_id, param_file_path)"
   ]
  },
  {
   "cell_type": "markdown",
   "id": "816fa33c-7f7b-4018-ad54-856311bb9b3b",
   "metadata": {},
   "source": [
    "### Wait n hours until all flows are finished/failed"
   ]
  },
  {
   "cell_type": "markdown",
   "id": "1367e3b9-cef0-4acb-8a7c-07c892173907",
   "metadata": {},
   "source": [
    "## Rerun flows that have not been finalized"
   ]
  },
  {
   "cell_type": "code",
   "execution_count": null,
   "id": "1bcb18a2-2da7-4976-8757-c88fc055ccbb",
   "metadata": {},
   "outputs": [],
   "source": [
    "successful_flows = check_finalized_json(all_parameter_files)\n",
    "failed_flows = set(all_parameter_files) ^ set(successful_flows)"
   ]
  },
  {
   "cell_type": "markdown",
   "id": "1cfefc3c-5d68-4c69-9c56-6f5f347092f7",
   "metadata": {},
   "source": [
    "#### etc."
   ]
  },
  {
   "cell_type": "code",
   "execution_count": null,
   "id": "1fd89611-ccb4-4ff7-934a-972ebb9b61c4",
   "metadata": {},
   "outputs": [],
   "source": [
    "for param_file_path in failed_flows:\n",
    "    run_flow(flow_id, param_file_path)"
   ]
  },
  {
   "cell_type": "code",
   "execution_count": null,
   "id": "6bdf31a0-e196-4005-98c4-469a1485f620",
   "metadata": {},
   "outputs": [],
   "source": []
  },
  {
   "cell_type": "code",
   "execution_count": null,
   "id": "07b34e65-49a2-4b53-8639-36a1b32e9626",
   "metadata": {},
   "outputs": [],
   "source": [
    "# def rerun_flow(flow_run, flow_run_id, param_file):\n",
    "\n",
    "#     flow_run = check_flow_status(flow_run)\n",
    "\n",
    "#     if flow_run.state.is_successful():\n",
    "#         return ''\n",
    "#     else:\n",
    "#         # we can add more retries here -- more complex for now\n",
    "#         flow_run_id, flow_run, run_url, flow_hash, param_file_path = run_flow(\n",
    "#             flow_run_id, param_file\n",
    "#         )\n",
    "#         flow_run = check_flow_status(flow_run)\n",
    "\n",
    "#         if flow_run.state.is_failed():\n",
    "#             return param_file_path\n",
    "#         else:\n",
    "#             return ''\n",
    "\n",
    "# failed_param_file_list = []\n",
    "# for flow_run_id, flow_run, run_url, flow_hash, param_file_path in runs:\n",
    "#     rerun_flow_status = rerun_flow(flow_run, flow_run_id, param_file_path)\n",
    "#     if len(rerun_flow_status) != 0:\n",
    "#         failed_param_file_list.append(rerun_flow_status)"
   ]
  },
  {
   "cell_type": "code",
   "execution_count": null,
   "id": "67b8e7f2-eaa5-4a02-b4e4-6cc21c3d7b64",
   "metadata": {},
   "outputs": [],
   "source": [
    "results_dir = UPath(config.get(\"storage.results.uri\")) / version\n",
    "\n",
    "downscaling_methods = ['bcsd']\n",
    "method = 'bcsd'\n",
    "_prefect_register_str = (\n",
    "    \"\"\"prefect register --project \"cmip6\" -p ../methods/{downscaling_method}/flow.py\"\"\"\n",
    ")\n",
    "_prefect_run_str = \"\"\"prefect run -i \"{flow_run_id}\" --param-file {param_file}\"\"\""
   ]
  },
  {
   "cell_type": "code",
   "execution_count": null,
   "id": "cf0f5d7e-c483-4f42-8461-764a103a6d4c",
   "metadata": {},
   "outputs": [],
   "source": [
    "def register_flow(method: str) -> str:\n",
    "    \"\"\"Register flow with prefect cloud and return flow_run_id for running flows\"\"\"\n",
    "\n",
    "    print('registering flow on prefect cloud')\n",
    "    flow_id = bcsd_flow.register(project_name='cmip6')\n",
    "    return flow_id\n",
    "\n",
    "\n",
    "def check_run_failed(run_id: str) -> bool:\n",
    "    flow_run = FlowRunView.from_flow_run_id(run_id)\n",
    "    flow_status_is_failed = FlowRunView.from_flow_run_id(run_id).state.is_failed()\n",
    "\n",
    "    return flow_status_is_failed\n",
    "\n",
    "\n",
    "def check_run_status(run_id: str) -> bool:\n",
    "    flow_run = FlowRunView.from_flow_run_id(run_id)\n",
    "    flow_state_finished_status = flow_run.state.is_finished()\n",
    "\n",
    "    return flow_state_finished_status\n",
    "\n",
    "\n",
    "# failed_runs = []\n",
    "# while flow_state_finished_status == False:\n",
    "#         flow_run = FlowRunView.from_flow_run_id(run_id)\n",
    "#         flow_state_finished_status = flow_run.state.is_finished()\n",
    "#         time.sleep(60)\n",
    "#     flow_status_is_failed = FlowRunView.from_flow_run_id(run_id).state.is_failed()\n",
    "#     if flow_status_is_failed: #if True, run has failed\n",
    "#         failed_runs.append(run_id)\n",
    "\n",
    "\n",
    "# def run_flow(param_file: str, flow_id: str) -> list:\n",
    "\n",
    "#         print(param_file)\n",
    "#         sys_output = os.popen(\n",
    "#             _prefect_run_str.format(flow_run_id=flow_id, param_file=param_file)\n",
    "#         ).read()\n",
    "#         run_id = sys_output.split('UUID: ')[1].split('\\n')[0]\n",
    "#         run_url = sys_output.split('URL: ')[1].split('\\n')[0]\n",
    "#         print(run_url)\n",
    "\n",
    "#         return [run_id, run_url]\n",
    "\n",
    "\n",
    "def check_run_status(run_id_list: list) -> list:\n",
    "    failed_runs = []\n",
    "    for run_id in run_id_list:\n",
    "        flow_state_finished_status = check_run_status(run_id)\n",
    "        flow_status_is_failed = check_run_failed(run_id)\n",
    "\n",
    "        if flow_status_is_failed:\n",
    "            failed_runs.append(run_id)\n",
    "    return failed_runs\n",
    "\n",
    "\n",
    "def run_all_param_files(param_file_list: list) -> list:\n",
    "    run_id_list = []\n",
    "    flow_id = register_flow(method)\n",
    "    for param_file in param_file_list:\n",
    "        flow_return = run_flow(param_file, flow_id)\n",
    "        run_id_list.append(flow_return[0])\n",
    "    print(run_id_list)"
   ]
  },
  {
   "cell_type": "code",
   "execution_count": null,
   "id": "3a725b7f-4cb4-41fc-94ba-c567bc4bf49c",
   "metadata": {},
   "outputs": [],
   "source": [
    "# first pass\n",
    "param_file_list = retrieve_test_parms()\n",
    "run_id_list = run_all_param_files(param_file_list)"
   ]
  },
  {
   "cell_type": "code",
   "execution_count": null,
   "id": "5e1b8970-ab56-44b1-8396-0ce5eea992b9",
   "metadata": {},
   "outputs": [],
   "source": [
    "run_id_list"
   ]
  },
  {
   "cell_type": "code",
   "execution_count": null,
   "id": "5a947bdf-ee6b-4916-a76f-d881925bd7e4",
   "metadata": {},
   "outputs": [],
   "source": [
    "# second pass\n",
    "failed_runs = check_run_status(run_id_list)\n",
    "second_failed_runs = run_all_param_files(failed_runs)"
   ]
  }
 ],
 "metadata": {
  "kernelspec": {
   "display_name": "Python 3 (ipykernel)",
   "language": "python",
   "name": "python3"
  },
  "language_info": {
   "codemirror_mode": {
    "name": "ipython",
    "version": 3
   },
   "file_extension": ".py",
   "mimetype": "text/x-python",
   "name": "python",
   "nbconvert_exporter": "python",
   "pygments_lexer": "ipython3",
   "version": "3.9.12"
  }
 },
 "nbformat": 4,
 "nbformat_minor": 5
}
