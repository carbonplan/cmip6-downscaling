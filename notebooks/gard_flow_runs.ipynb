{
 "cells": [
  {
   "cell_type": "code",
   "execution_count": null,
   "id": "d63d9275-23ad-4dbb-9a61-fbccde5f1914",
   "metadata": {},
   "outputs": [],
   "source": [
    "%load_ext autoreload\n",
    "%autoreload 2"
   ]
  },
  {
   "cell_type": "code",
   "execution_count": null,
   "id": "interested-demographic",
   "metadata": {},
   "outputs": [],
   "source": [
    "import os\n",
    "import time\n",
    "\n",
    "os.environ[\"PREFECT__FLOWS__CHECKPOINTING\"] = \"true\"\n",
    "\n",
    "from prefect import task, Flow, Parameter\n",
    "from prefect.executors import DaskExecutor\n",
    "import xarray as xr"
   ]
  },
  {
   "cell_type": "code",
   "execution_count": null,
   "id": "7eb9acee-431d-40bb-a177-659e14a94cd9",
   "metadata": {
    "tags": []
   },
   "outputs": [],
   "source": [
    "import fsspec\n",
    "import os\n",
    "\n",
    "connection_string = os.environ.get(\"AZURE_STORAGE_CONNECTION_STRING\")\n",
    "\n",
    "fs = fsspec.filesystem(\"az\", connection_string=connection_string)\n",
    "\n",
    "# # # fs.ls('flow-outputs/')\n",
    "\n",
    "# # fs.rm('flow-outputs/intermediate/bias_corrected_gcm',recursive=True)\n",
    "# # fs.rm('flow-outputs/intermediate/funnel_metadata_store/bias_corrected_gcm',recursive=True)\n",
    "# # fs.rm('flow-outputs/intermediate/bias_corrected_obs',recursive=True)\n",
    "# # fs.rm('flow-outputs/intermediate/funnel_metadata_store/bias_corrected_obs',recursive=True)\n",
    "# fs.rm('flow-outputs/intermediate/interpolated_obs',recursive=True)\n",
    "# fs.rm('flow-outputs/intermediate/rechunked_obs/ERA5_1980_2020_pr_tasmax_tasmin_full_space.zarr', recursive=True)\n",
    "# fs.rm('flow-outputs/intermediate/coarsened_obs/ERA5_1980_2020_pr_tasmax_tasmin_full_space_181x360_gridsize_10_10_llcorner_-90_0.zarr', recursive=True)\n",
    "# fs.rm('flow-outputs/intermediate/coarsened_obs/ERA5_1980_2020_pr_tasmax_tasmin_full_space_362x720_gridsize_5_5_llcorner_-90_0.zarr', recursive=True)\n",
    "# fs.rm('flow-outputs/intermediate/coarsened_obs/ERA5_1980_2020_pr_tasmax_tasmin_full_space_91x180_gridsize_20_20_llcorner_-90_0.zarr', recursive=True)"
   ]
  },
  {
   "cell_type": "code",
   "execution_count": null,
   "id": "satisfied-emphasis",
   "metadata": {
    "tags": []
   },
   "outputs": [],
   "source": [
    "# import dask\n",
    "# from dask.distributed import Client\n",
    "# from dask_gateway import Gateway\n",
    "\n",
    "# client = Client(n_workers=4)\n",
    "# client"
   ]
  },
  {
   "cell_type": "code",
   "execution_count": null,
   "id": "hollow-wisdom",
   "metadata": {},
   "outputs": [],
   "source": [
    "# executor = DaskExecutor(\"tcp://127.0.0.1:42329\")\n",
    "# from cmip6_downscaling.config.config import cache_store\n",
    "# cache_store = CacheStore('/home/jovyan/shared-readwrite/gard-test-1/')"
   ]
  },
  {
   "cell_type": "code",
   "execution_count": null,
   "id": "focal-variation",
   "metadata": {},
   "outputs": [],
   "source": [
    "run_hyperparameters = {\n",
    "    \"OBS\": \"ERA5\",\n",
    "    \"GCM\": \"MIROC6\",\n",
    "    \"SCENARIO\": \"ssp370\",\n",
    "    \"TRAIN_PERIOD_START\": \"1991\",\n",
    "    \"TRAIN_PERIOD_END\": \"1991\",\n",
    "    \"PREDICT_PERIOD_START\": \"2079\",\n",
    "    \"PREDICT_PERIOD_END\": \"2079\",\n",
    "    \"VARIABLES\": [\"tasmax\", \"tasmin\", \"pr\"],\n",
    "    \"BIAS_CORRECTION_METHOD\": \"quantile_transform\",\n",
    "    \"BIAS_CORRECTION_KWARGS\": None,\n",
    "    \"LABEL\": \"tasmax\",\n",
    "    \"MODEL_TYPE\": \"AnalogRegression\",\n",
    "    \"MODEL_PARAMS\": {\"n_analogs\": 50},  # 'thresh': 0 for precip\n",
    "}"
   ]
  },
  {
   "cell_type": "code",
   "execution_count": null,
   "id": "1bc47b06-ac37-4919-8109-6dd4fb8cdf46",
   "metadata": {},
   "outputs": [],
   "source": [
    "from cmip6_downscaling.workflows.gard_flow import gard_flow"
   ]
  },
  {
   "cell_type": "code",
   "execution_count": null,
   "id": "polar-engineer",
   "metadata": {
    "tags": []
   },
   "outputs": [],
   "source": [
    "gard_flow.run(parameters=run_hyperparameters)"
   ]
  },
  {
   "cell_type": "code",
   "execution_count": null,
   "id": "c41b6927-da1c-4230-bc93-89ada856836d",
   "metadata": {},
   "outputs": [],
   "source": [
    "ds = xr.open_zarr(\n",
    "    \"az://flow-outputs/intermediate/gard_pred_output/MIROC6_ssp370_1991_1991_2079_2079_tasmax_tasmin_pr_quantile_transform_AnalogRegression_tasmax.zarr\"\n",
    ")"
   ]
  },
  {
   "cell_type": "code",
   "execution_count": null,
   "id": "05bec3b7-4340-4fe8-b9c7-e8169fc194b4",
   "metadata": {},
   "outputs": [],
   "source": [
    "ds.prediction_error.isel(time=0).plot()"
   ]
  }
 ],
 "metadata": {
  "kernelspec": {
   "display_name": "Python 3 (ipykernel)",
   "language": "python",
   "name": "python3"
  },
  "language_info": {
   "codemirror_mode": {
    "name": "ipython",
    "version": 3
   },
   "file_extension": ".py",
   "mimetype": "text/x-python",
   "name": "python",
   "nbconvert_exporter": "python",
   "pygments_lexer": "ipython3",
   "version": "3.9.9"
  }
 },
 "nbformat": 4,
 "nbformat_minor": 5
}
