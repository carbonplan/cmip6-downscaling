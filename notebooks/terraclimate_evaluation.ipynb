{
 "cells": [
  {
   "cell_type": "markdown",
   "metadata": {},
   "source": [
    "<img width=\"50\" src=\"https://carbonplan-assets.s3.amazonaws.com/monogram/dark-small.png\" style=\"margin-left:0px;margin-top:20px\"/>\n",
    "\n",
    "# Terraclimate downscaling\n",
    "\n",
    "_by Oriana Chegwidden (CarbonPlan), December 15, 2020_\n",
    "\n",
    "This notebook evaluates the downscaling of CMIP6 variables against the obs\n",
    "Terraclimate dataset.\n"
   ]
  },
  {
   "cell_type": "code",
   "execution_count": null,
   "metadata": {},
   "outputs": [],
   "source": [
    "%load_ext autoreload\n",
    "%autoreload 2\n",
    "\n",
    "from cmip6_downscaling.analysis import load, metrics, plot\n",
    "import dask\n",
    "import os\n",
    "import matplotlib.pyplot as plt"
   ]
  },
  {
   "cell_type": "code",
   "execution_count": null,
   "metadata": {},
   "outputs": [],
   "source": [
    "from dask_gateway import Gateway\n",
    "\n",
    "gateway = Gateway()\n",
    "options = gateway.cluster_options()\n",
    "options.worker_cores = 2\n",
    "options.worker_memory = 24\n",
    "cluster = gateway.new_cluster(cluster_options=options)\n",
    "cluster.adapt(minimum=10, maximum=20)\n",
    "cluster"
   ]
  },
  {
   "cell_type": "code",
   "execution_count": null,
   "metadata": {},
   "outputs": [],
   "source": [
    "client = cluster.get_client()\n",
    "client"
   ]
  },
  {
   "cell_type": "code",
   "execution_count": null,
   "metadata": {},
   "outputs": [],
   "source": [
    "# load obs data\n",
    "obs = load.load_obs()\n",
    "# load cmip data\n",
    "gcm = load.load_cmip(model=\"CanESM5\", scenario=\"historical\", member=\"r10i1p1f1\")\n",
    "variables_to_plot = [\"ppt\", \"pdsi\", \"pet\", \"rh\", \"vpd\", \"tmax\", \"tmin\"]\n",
    "# calculate a metric from existing ones\n",
    "# make a plot comparing cmip and obs"
   ]
  },
  {
   "cell_type": "markdown",
   "metadata": {},
   "source": [
    "Let's brainstorm a bunch of things we'll want to plot.\n"
   ]
  },
  {
   "cell_type": "code",
   "execution_count": null,
   "metadata": {},
   "outputs": [],
   "source": [
    "time_slice = slice(\"1970\", \"1999\")"
   ]
  },
  {
   "cell_type": "code",
   "execution_count": null,
   "metadata": {},
   "outputs": [],
   "source": [
    "results_obs = metrics.calc(obs[variables_to_plot].sel(time=time_slice), compute=True)"
   ]
  },
  {
   "cell_type": "code",
   "execution_count": null,
   "metadata": {},
   "outputs": [],
   "source": [
    "results_gcm = metrics.calc(gcm[variables_to_plot].sel(time=time_slice), compute=True)"
   ]
  },
  {
   "cell_type": "markdown",
   "metadata": {},
   "source": [
    "The goal of these analyses is to evaluate the effect of different steps in the\n",
    "modeling chain. By teasing out where bias is introduced or where the\n",
    "distribution gets distorted, we'll better understand our output met datasets.\n"
   ]
  },
  {
   "cell_type": "markdown",
   "metadata": {},
   "source": [
    "Future climate plotting - within each of the historical timeseries, what\n",
    "influence does a future climate have on each of the variables. Spatial plots\n"
   ]
  },
  {
   "cell_type": "markdown",
   "metadata": {},
   "source": [
    "Make a multivariable map plot with columns being (left) obs (center) gcm and\n",
    "(right) the difference. Rows are the different variabless selected via\n",
    "`variables_to_plot`.\n",
    "\n",
    "Plotting requirements:\n",
    "\n",
    "- averaging time period\n",
    "- gcm/ensemble/historical\n",
    "- standardize colorbars for the obs/historical\n"
   ]
  },
  {
   "cell_type": "markdown",
   "metadata": {},
   "source": [
    "Some of the variables throw wierd numbers so for plotting we'll constrain them\n",
    "to a reasonable limit.\n"
   ]
  },
  {
   "cell_type": "code",
   "execution_count": null,
   "metadata": {},
   "outputs": [],
   "source": [
    "limits_dict = {\"pdsi\": {\"vmin\": -16, \"vmax\": 16}}"
   ]
  },
  {
   "cell_type": "markdown",
   "metadata": {},
   "source": [
    "Seems that the analyses like it when there are 6 workers minimum, so let's check\n",
    "out at least that many once we start to run all of our analyses so that we can\n",
    "be speedy from the get-go.\n"
   ]
  },
  {
   "cell_type": "code",
   "execution_count": null,
   "metadata": {},
   "outputs": [],
   "source": [
    "fig, axarr = plot_time_mean(\n",
    "    results_obs[\"time_mean\"],\n",
    "    results_gcm[\"time_mean\"],\n",
    "    diff=True,\n",
    "    limits_dict=limits_dict,\n",
    ")"
   ]
  },
  {
   "cell_type": "markdown",
   "metadata": {},
   "source": [
    "Now let's also do some seasonal mean plotting. Maybe the hub will behave better\n",
    "for this one.\n"
   ]
  },
  {
   "cell_type": "markdown",
   "metadata": {},
   "source": [
    "Spatial autocorrelation analyses Things to think about:\n",
    "\n",
    "- what weighting scheme\n",
    "- how many spatiotemporal lags to have\n"
   ]
  },
  {
   "cell_type": "code",
   "execution_count": null,
   "metadata": {},
   "outputs": [],
   "source": [
    "import pysal\n",
    "from esda.moran import Moran\n",
    "\n",
    "mi = Moran(y, w)"
   ]
  }
 ],
 "metadata": {
  "kernelspec": {
   "display_name": "Python [conda env:notebook] *",
   "language": "python",
   "name": "conda-env-notebook-py"
  },
  "language_info": {
   "codemirror_mode": {
    "name": "ipython",
    "version": 3
   },
   "file_extension": ".py",
   "mimetype": "text/x-python",
   "name": "python",
   "nbconvert_exporter": "python",
   "pygments_lexer": "ipython3",
   "version": "3.7.9"
  }
 },
 "nbformat": 4,
 "nbformat_minor": 4
}
