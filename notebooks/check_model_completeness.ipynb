{
 "cells": [
  {
   "cell_type": "code",
   "execution_count": null,
   "id": "fatal-opinion",
   "metadata": {},
   "outputs": [],
   "source": [
    "%load_ext autoreload\n",
    "%autoreload 2\n",
    "import xarray as xr\n",
    "import os\n",
    "from carbonplan_forest_risks.utils import get_store, albers_ak_transform\n",
    "import numpy as np\n",
    "import warnings\n",
    "from carbonplan_forest_risks.load import terraclim\n",
    "import pandas as pd\n",
    "warnings.filterwarnings('ignore')\n",
    "account_key = os.environ.get('BLOB_ACCOUNT_KEY')"
   ]
  },
  {
   "cell_type": "code",
   "execution_count": null,
   "id": "stretch-reason",
   "metadata": {},
   "outputs": [],
   "source": [
    "gcms = [\n",
    "    (\"CanESM5-CanOE\", \"r3i1p2f1\"),\n",
    "    (\"MIROC-ES2L\", \"r1i1p1f2\"),\n",
    "    (\"ACCESS-CM2\", \"r1i1p1f1\"),\n",
    "    (\"ACCESS-ESM1-5\", \"r10i1p1f1\"),\n",
    "    (\"MRI-ESM2-0\", \"r1i1p1f1\"),\n",
    "    (\"MPI-ESM1-2-LR\", \"r10i1p1f1\"),\n",
    "]"
   ]
  },
  {
   "cell_type": "code",
   "execution_count": null,
   "id": "proper-advancement",
   "metadata": {},
   "outputs": [],
   "source": [
    "v1_template = \"cmip6/quantile-mapping/conus/4000m/monthly/{}.{}.{}.zarr\"\n",
    "\n",
    "v2_template = \"cmip6/quantile-mapping-v2/conus/4000m/monthly/{}.{}.{}.zarr\""
   ]
  },
  {
   "cell_type": "code",
   "execution_count": null,
   "id": "future-extent",
   "metadata": {},
   "outputs": [],
   "source": [
    "account_key = os.environ.get(\"BLOB_ACCOUNT_KEY\")"
   ]
  },
  {
   "cell_type": "code",
   "execution_count": null,
   "id": "outdoor-warehouse",
   "metadata": {},
   "outputs": [],
   "source": [
    "models = []\n",
    "for scenario in [\"historical\", \"ssp245\", \"ssp370\", \"ssp585\"]:\n",
    "    for (gcm, ensemble_member) in gcms:\n",
    "        models.append(\"{}-{}\".format(gcm, scenario))\n",
    "path = get_store(\n",
    "    \"carbonplan-downscaling\",\n",
    "    zarr_template.format(gcms[0][0], \"historical\", gcms[0][1]),\n",
    "    account_key=account_key,\n",
    ")\n",
    "ds = xr.open_zarr(path)\n",
    "df = pd.DataFrame(index=models, columns=ds.data_vars)"
   ]
  },
  {
   "cell_type": "code",
   "execution_count": null,
   "id": "deluxe-assist",
   "metadata": {},
   "outputs": [],
   "source": [
    "for scenario in [\"historical\", \"ssp245\", \"ssp370\", \"ssp585\"]:\n",
    "    for (gcm, ensemble_member) in gcms:\n",
    "        path = get_store(\n",
    "            \"carbonplan-downscaling\",\n",
    "            zarr_template.format(gcm, scenario, ensemble_member),\n",
    "            account_key=account_key,\n",
    "        )\n",
    "        ds = xr.open_zarr(path)\n",
    "        for var in ds.data_vars:\n",
    "            df.loc[\"{}-{}\".format(gcm, scenario), var] = (\n",
    "                ds[var].isnull().sum().values\n",
    "            )"
   ]
  },
  {
   "cell_type": "code",
   "execution_count": null,
   "id": "african-elephant",
   "metadata": {},
   "outputs": [],
   "source": [
    "ds_v1 = xr.open_zarr(\n",
    "    get_store(\n",
    "        \"carbonplan-downscaling\",\n",
    "        zarr_template.format(gcms[0][0], \"historical\", gcms[0][1]),\n",
    "        account_key=account_key,\n",
    "    )\n",
    ")"
   ]
  },
  {
   "cell_type": "code",
   "execution_count": null,
   "id": "physical-paint",
   "metadata": {},
   "outputs": [],
   "source": [
    "ds_v1.pdsi.mean(dim=\"time\", skipna=False).isnull().plot()"
   ]
  },
  {
   "cell_type": "code",
   "execution_count": null,
   "id": "trained-handbook",
   "metadata": {},
   "outputs": [],
   "source": [
    "ds2 = xr.open_zarr(\n",
    "    get_store(\n",
    "        \"carbonplan-downscaling\",\n",
    "        v2_template.format(\"ACCESS-ESM1-5\", \"ssp245\", \"r10i1p1f1\"),\n",
    "        account_key=account_key,\n",
    "    )\n",
    ")"
   ]
  },
  {
   "cell_type": "code",
   "execution_count": null,
   "id": "posted-gardening",
   "metadata": {},
   "outputs": [],
   "source": [
    "ds2.vpd.mean(dim=\"time\", skipna=False).plot()"
   ]
  },
  {
   "cell_type": "code",
   "execution_count": null,
   "id": "athletic-yorkshire",
   "metadata": {},
   "outputs": [],
   "source": [
    "ds2.pdsi.isnull().sum().values"
   ]
  },
  {
   "cell_type": "code",
   "execution_count": null,
   "id": "realistic-astronomy",
   "metadata": {},
   "outputs": [],
   "source": [
    "ds_v1 = xr.open_zarr(\n",
    "    get_store(\n",
    "        \"carbonplan-downscaling\",\n",
    "        v1_template.format(\"ACCESS-ESM1-5\", \"ssp245\", \"r10i1p1f1\"),\n",
    "        account_key=account_key,\n",
    "    )\n",
    ")"
   ]
  },
  {
   "cell_type": "code",
   "execution_count": null,
   "id": "accepted-writing",
   "metadata": {},
   "outputs": [],
   "source": [
    "ds_v1.vap.min(dim=\"time\", skipna=False).plot()"
   ]
  },
  {
   "cell_type": "code",
   "execution_count": null,
   "id": "deadly-happiness",
   "metadata": {},
   "outputs": [],
   "source": [
    "ds_v1.pdsi.isnull().sum().values"
   ]
  },
  {
   "cell_type": "code",
   "execution_count": null,
   "id": "british-blink",
   "metadata": {},
   "outputs": [],
   "source": [
    "ds3 = xr.open_zarr(\n",
    "    get_store(\n",
    "        \"carbonplan-downscaling\",\n",
    "        zarr_template.format(\"MRI-ESM2-0\", \"historical\", \"r1i1p1f1\"),\n",
    "        account_key=account_key,\n",
    "    )\n",
    ")"
   ]
  },
  {
   "cell_type": "code",
   "execution_count": null,
   "id": "imported-homework",
   "metadata": {},
   "outputs": [],
   "source": [
    "ds3.pdsi.mean(dim=\"time\", skipna=False).isnull().plot()"
   ]
  },
  {
   "cell_type": "code",
   "execution_count": null,
   "id": "otherwise-ethiopia",
   "metadata": {},
   "outputs": [],
   "source": [
    "df[df.index.str.contains(\"historical\")] -= 350691120\n",
    "df[df.index.str.contains(\"ssp\")] -= 463991328"
   ]
  },
  {
   "cell_type": "code",
   "execution_count": null,
   "id": "varied-electronics",
   "metadata": {},
   "outputs": [],
   "source": [
    "df"
   ]
  },
  {
   "cell_type": "code",
   "execution_count": null,
   "id": "radio-destruction",
   "metadata": {},
   "outputs": [],
   "source": [
    "wyoming = {\"x\": slice(-1.2e6, -1e6), \"y\": slice(2.6e6, 2.2e6)}"
   ]
  },
  {
   "cell_type": "code",
   "execution_count": null,
   "id": "smaller-mission",
   "metadata": {},
   "outputs": [],
   "source": [
    "(terraclimate_v3.sel(**wyoming).cwd.min(dim=\"time\")).plot()"
   ]
  },
  {
   "cell_type": "code",
   "execution_count": null,
   "id": "adapted-tomato",
   "metadata": {},
   "outputs": [],
   "source": [
    "ds3[\"def\"].max(dim=\"time\").plot(vmin=99, vmax=101)  # .vap==0).sum()"
   ]
  },
  {
   "cell_type": "code",
   "execution_count": null,
   "id": "documentary-execution",
   "metadata": {},
   "outputs": [],
   "source": [
    "test = load.terraclim(\n",
    "    store=\"az\",\n",
    "    sampling=\"monthly\",\n",
    "    variables=[\"ppt\", \"tmean\", \"cwd\", \"vap\", \"vpd\"],\n",
    ")"
   ]
  }
 ],
 "metadata": {
  "kernelspec": {
   "display_name": "Python [conda env:notebook] *",
   "language": "python",
   "name": "conda-env-notebook-py"
  },
  "language_info": {
   "codemirror_mode": {
    "name": "ipython",
    "version": 3
   },
   "file_extension": ".py",
   "mimetype": "text/x-python",
   "name": "python",
   "nbconvert_exporter": "python",
   "pygments_lexer": "ipython3",
   "version": "3.8.8"
  }
 },
 "nbformat": 4,
 "nbformat_minor": 5
}
