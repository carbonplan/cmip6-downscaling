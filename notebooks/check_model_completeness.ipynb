{
 "cells": [
  {
   "cell_type": "code",
   "execution_count": null,
   "id": "sustained-affairs",
   "metadata": {},
   "outputs": [],
   "source": [
    "%load_ext autoreload\n",
    "%autoreload 2\n",
    "import xarray as xr\n",
    "import os\n",
    "from carbonplan_forest_risks.utils import get_store, albers_ak_transform\n",
    "import numpy as np\n",
    "import warnings\n",
    "from carbonplan_forest_risks.load import terraclim\n",
    "import pandas as pd\n",
    "import matplotlib.pyplot as plt\n",
    "\n",
    "warnings.filterwarnings('ignore')\n",
    "account_key = os.environ.get('BLOB_ACCOUNT_KEY')"
   ]
  },
  {
   "cell_type": "code",
   "execution_count": null,
   "id": "removable-might",
   "metadata": {},
   "outputs": [],
   "source": [
    "gcms = [\n",
    "    (\"CanESM5-CanOE\", \"r3i1p2f1\"),\n",
    "    (\"MIROC-ES2L\", \"r1i1p1f2\"),\n",
    "    (\"ACCESS-CM2\", \"r1i1p1f1\"),\n",
    "    (\"ACCESS-ESM1-5\", \"r10i1p1f1\"),\n",
    "    (\"MRI-ESM2-0\", \"r1i1p1f1\"),\n",
    "    (\"MPI-ESM1-2-LR\", \"r10i1p1f1\"),\n",
    "]"
   ]
  },
  {
   "cell_type": "code",
   "execution_count": null,
   "id": "surrounded-fifteen",
   "metadata": {},
   "outputs": [],
   "source": [
    "v1_template = \"cmip6/quantile-mapping/conus/4000m/monthly/{}.{}.{}.zarr\"\n",
    "\n",
    "v2_template = \"cmip6/quantile-mapping-v2/conus/4000m/monthly/{}.{}.{}.zarr\""
   ]
  },
  {
   "cell_type": "code",
   "execution_count": null,
   "id": "governing-controversy",
   "metadata": {},
   "outputs": [],
   "source": [
    "account_key = os.environ.get(\"BLOB_ACCOUNT_KEY\")"
   ]
  },
  {
   "cell_type": "code",
   "execution_count": null,
   "id": "noble-friday",
   "metadata": {},
   "outputs": [],
   "source": [
    "models = []\n",
    "for scenario in [\"historical\", \"ssp245\", \"ssp370\", \"ssp585\"]:\n",
    "    for (gcm, ensemble_member) in gcms:\n",
    "        models.append(\"{}-{}\".format(gcm, scenario))\n",
    "path = get_store(\n",
    "    \"carbonplan-downscaling\",\n",
    "    zarr_template.format(gcms[0][0], \"historical\", gcms[0][1]),\n",
    "    account_key=account_key,\n",
    ")\n",
    "ds = xr.open_zarr(path)\n",
    "df = pd.DataFrame(index=models, columns=ds.data_vars)"
   ]
  },
  {
   "cell_type": "code",
   "execution_count": null,
   "id": "floral-devil",
   "metadata": {},
   "outputs": [],
   "source": [
    "for scenario in [\"historical\", \"ssp245\", \"ssp370\", \"ssp585\"]:\n",
    "    for (gcm, ensemble_member) in gcms:\n",
    "        path = get_store(\n",
    "            \"carbonplan-downscaling\",\n",
    "            zarr_template.format(gcm, scenario, ensemble_member),\n",
    "            account_key=account_key,\n",
    "        )\n",
    "        ds = xr.open_zarr(path)\n",
    "        for var in ds.data_vars:\n",
    "            df.loc[\"{}-{}\".format(gcm, scenario), var] = ds[var].isnull().sum().values"
   ]
  },
  {
   "cell_type": "code",
   "execution_count": null,
   "id": "entitled-attempt",
   "metadata": {},
   "outputs": [],
   "source": [
    "ds_v1 = xr.open_zarr(\n",
    "    get_store(\n",
    "        \"carbonplan-downscaling\",\n",
    "        zarr_template.format(gcms[0][0], \"historical\", gcms[0][1]),\n",
    "        account_key=account_key,\n",
    "    )\n",
    ")"
   ]
  },
  {
   "cell_type": "code",
   "execution_count": null,
   "id": "discrete-employee",
   "metadata": {},
   "outputs": [],
   "source": [
    "ds_v1.pdsi.mean(dim=\"time\", skipna=False).isnull().plot()"
   ]
  },
  {
   "cell_type": "code",
   "execution_count": null,
   "id": "damaged-train",
   "metadata": {},
   "outputs": [],
   "source": [
    "terraclimate_v1 = xr.open_zarr(\n",
    "    get_store(\n",
    "        \"carbonplan-downscaling\",\n",
    "        \"obs/conus/4000m/{}/terraclimate_plus.zarr\".format(\"monthly\"),\n",
    "    )\n",
    ")"
   ]
  },
  {
   "cell_type": "code",
   "execution_count": null,
   "id": "posted-package",
   "metadata": {},
   "outputs": [],
   "source": [
    "nans_v1 = terraclimate_v1.pdsi.isnull().sum(dim=\"time\").compute()\n",
    "nans_v1.plot()"
   ]
  },
  {
   "cell_type": "code",
   "execution_count": null,
   "id": "motivated-adolescent",
   "metadata": {},
   "outputs": [],
   "source": [
    "terraclimate_v3 = xr.open_zarr(\n",
    "    get_store(\n",
    "        \"carbonplan-downscaling\",\n",
    "        \"obs/conus/4000m/{}/terraclimate_plus_v3.zarr\".format(\"monthly\"),\n",
    "    )\n",
    ")"
   ]
  },
  {
   "cell_type": "code",
   "execution_count": null,
   "id": "naval-algeria",
   "metadata": {},
   "outputs": [],
   "source": [
    "nans_v3 = terraclimate_v3.pdsi.isnull().sum(dim=\"time\").compute()\n",
    "nans_v3.plot()"
   ]
  },
  {
   "cell_type": "code",
   "execution_count": null,
   "id": "korean-cooperative",
   "metadata": {},
   "outputs": [],
   "source": [
    "ds_v2 = xr.open_zarr(\n",
    "    get_store(\n",
    "        \"carbonplan-downscaling\",\n",
    "        v2_template.format(\"ACCESS-ESM1-5\", \"ssp245\", \"r10i1p1f1\"),\n",
    "        account_key=account_key,\n",
    "    )\n",
    ")"
   ]
  },
  {
   "cell_type": "code",
   "execution_count": null,
   "id": "premier-helen",
   "metadata": {},
   "outputs": [],
   "source": [
    "ds2.vpd.mean(dim=\"time\", skipna=False).plot()"
   ]
  },
  {
   "cell_type": "code",
   "execution_count": null,
   "id": "purple-honolulu",
   "metadata": {},
   "outputs": [],
   "source": [
    "ds2.pdsi.isnull().sum().values"
   ]
  },
  {
   "cell_type": "code",
   "execution_count": null,
   "id": "representative-society",
   "metadata": {},
   "outputs": [],
   "source": [
    "ds_v1 = xr.open_zarr(\n",
    "    get_store(\n",
    "        \"carbonplan-downscaling\",\n",
    "        v1_template.format(\"ACCESS-ESM1-5\", \"ssp245\", \"r10i1p1f1\"),\n",
    "        account_key=account_key,\n",
    "    )\n",
    ")"
   ]
  },
  {
   "cell_type": "code",
   "execution_count": null,
   "id": "arabic-animal",
   "metadata": {},
   "outputs": [],
   "source": [
    "ds_v1.vap.min(dim=\"time\", skipna=False).plot()"
   ]
  },
  {
   "cell_type": "code",
   "execution_count": null,
   "id": "colonial-lodging",
   "metadata": {},
   "outputs": [],
   "source": [
    "ds_v1.pdsi.isnull().sum().values"
   ]
  },
  {
   "cell_type": "code",
   "execution_count": null,
   "id": "bacterial-triple",
   "metadata": {},
   "outputs": [],
   "source": [
    "qm_template = \"cmip6/quantile-mapping-v3/conus/4000m/monthly/{}.{}.{}.zarr\"\n",
    "\n",
    "terra_template = \"cmip6/quantile-mapping-v3/conus/4000m/monthly/{}.{}.{}.zarr\""
   ]
  },
  {
   "cell_type": "code",
   "execution_count": null,
   "id": "beneficial-providence",
   "metadata": {},
   "outputs": [],
   "source": [
    "ds_v3_qm_vars = xr.open_zarr(\n",
    "    get_store(\n",
    "        \"carbonplan-downscaling\",\n",
    "        qm_template.format(\"ACCESS-ESM1-5\", \"ssp245\", \"r10i1p1f1\"),\n",
    "        account_key=account_key,\n",
    "    )\n",
    ")"
   ]
  },
  {
   "cell_type": "code",
   "execution_count": null,
   "id": "prescribed-arkansas",
   "metadata": {},
   "outputs": [],
   "source": [
    "ds_v3_terra_vars = xr.open_zarr(\n",
    "    get_store(\n",
    "        \"carbonplan-scratch\",\n",
    "        terra_template.format(\"ACCESS-ESM1-5\", \"ssp245\", \"r10i1p1f1\"),\n",
    "        account_key=account_key,\n",
    "    )\n",
    ")"
   ]
  },
  {
   "cell_type": "code",
   "execution_count": null,
   "id": "covered-barrel",
   "metadata": {},
   "outputs": [],
   "source": [
    "ds_v3 = xr.merge([ds_v3_qm_vars, ds_v3_terra_vars])"
   ]
  },
  {
   "cell_type": "code",
   "execution_count": null,
   "id": "handled-wealth",
   "metadata": {},
   "outputs": [],
   "source": [
    "# Check for nans"
   ]
  },
  {
   "cell_type": "code",
   "execution_count": null,
   "id": "unexpected-excellence",
   "metadata": {},
   "outputs": [],
   "source": [
    "df = pd.DataFrame(index=ds_v3.data_vars, columns=[\"nulls\", \"negatives\"])"
   ]
  },
  {
   "cell_type": "code",
   "execution_count": null,
   "id": "iraqi-sapphire",
   "metadata": {},
   "outputs": [],
   "source": [
    "for var in ds_v3.data_vars:\n",
    "    print(var)\n",
    "    df.loc[var, \"nulls\"] = ds_v3[var].isnull().sum().values"
   ]
  },
  {
   "cell_type": "code",
   "execution_count": null,
   "id": "organized-worse",
   "metadata": {},
   "outputs": [],
   "source": [
    "# Check aphysical values"
   ]
  },
  {
   "cell_type": "code",
   "execution_count": null,
   "id": "aboriginal-undergraduate",
   "metadata": {},
   "outputs": [],
   "source": [
    "for var in ds_v3.data_vars:\n",
    "    print(var)\n",
    "    df.loc[var, \"negatives\"] = (ds_v3[var] < 0).sum().values"
   ]
  },
  {
   "cell_type": "code",
   "execution_count": null,
   "id": "coastal-diana",
   "metadata": {},
   "outputs": [],
   "source": [
    "df[\"greater than 1\"] = np.nan"
   ]
  },
  {
   "cell_type": "code",
   "execution_count": null,
   "id": "stuffed-italic",
   "metadata": {},
   "outputs": [],
   "source": [
    "for var in ds_v3.data_vars:\n",
    "    print(var)\n",
    "    df.loc[var, \"greater than 1\"] = (ds_v3[var] > 1).sum().values"
   ]
  },
  {
   "cell_type": "markdown",
   "id": "embedded-purpose",
   "metadata": {},
   "source": [
    "# All PDSI between -16 and 16\n"
   ]
  },
  {
   "cell_type": "code",
   "execution_count": null,
   "id": "deluxe-enforcement",
   "metadata": {},
   "outputs": [],
   "source": [
    "# check outside -16 + 16 for pdsi\n",
    "(ds_v3[\"pdsi\"] < -16).sum().values"
   ]
  },
  {
   "cell_type": "code",
   "execution_count": null,
   "id": "irish-authorization",
   "metadata": {},
   "outputs": [],
   "source": [
    "(ds_v3[\"pdsi\"] > 16).sum().values"
   ]
  },
  {
   "cell_type": "code",
   "execution_count": null,
   "id": "happy-mustang",
   "metadata": {},
   "outputs": [],
   "source": [
    "assert (ds_v3[\"pdsi\"] > 16).sum().values == 0"
   ]
  },
  {
   "cell_type": "code",
   "execution_count": null,
   "id": "spare-spread",
   "metadata": {},
   "outputs": [],
   "source": [
    "# Check the minimum value of vapor pressure\n",
    "ds_v3[\"vap\"].min(dim=\"time\").plot()"
   ]
  },
  {
   "cell_type": "code",
   "execution_count": null,
   "id": "integral-hormone",
   "metadata": {},
   "outputs": [],
   "source": [
    "ds_v1[\"vap\"].min(dim=[\"x\", \"y\"]).plot(label=\"v1\")\n",
    "ds_v3[\"vap\"].min(dim=[\"x\", \"y\"]).plot(label=\"v3\")\n",
    "plt.legend()"
   ]
  },
  {
   "cell_type": "code",
   "execution_count": null,
   "id": "concrete-budget",
   "metadata": {},
   "outputs": [],
   "source": [
    "fig, axarr = plt.subplots(ncols=2, figsize=(8, 4))\n",
    "ds_v1[\"rh\"].min(dim=\"time\").plot(ax=axarr[0], vmin=0, vmax=0.01)\n",
    "axarr[0].set_title(\"v1\")\n",
    "ds_v3[\"rh\"].min(dim=\"time\").plot(ax=axarr[1], vmin=0, vmax=0.01)\n",
    "axarr[1].set_title(\"v3\")"
   ]
  },
  {
   "cell_type": "code",
   "execution_count": null,
   "id": "mighty-place",
   "metadata": {},
   "outputs": [],
   "source": [
    "ds_v1[\"rh\"].min(dim=[\"x\", \"y\"]).plot(label=\"v1\", alpha=0.8)\n",
    "ds_v3[\"rh\"].min(dim=[\"x\", \"y\"]).plot(label=\"v3\", alpha=0.8)\n",
    "plt.legend()"
   ]
  },
  {
   "cell_type": "code",
   "execution_count": null,
   "id": "excited-croatia",
   "metadata": {},
   "outputs": [],
   "source": [
    "ds_v1[\"rh\"].max(dim=[\"x\", \"y\"]).plot(label=\"v1\", alpha=0.8)\n",
    "ds_v3[\"rh\"].max(dim=[\"x\", \"y\"]).plot(label=\"v3\", alpha=0.8)\n",
    "plt.legend()"
   ]
  },
  {
   "cell_type": "markdown",
   "id": "antique-provision",
   "metadata": {},
   "source": [
    "# count of rh==1 instance\n"
   ]
  },
  {
   "cell_type": "code",
   "execution_count": null,
   "id": "central-customer",
   "metadata": {},
   "outputs": [],
   "source": [
    "(ds_v1[\"rh\"] == 1).sum(dim=[\"x\", \"y\"]).plot(label=\"v1\", alpha=0.8)\n",
    "(ds_v3[\"rh\"] == 1).sum(dim=[\"x\", \"y\"]).plot(label=\"v3\", alpha=0.8)\n",
    "plt.legend()"
   ]
  },
  {
   "cell_type": "markdown",
   "id": "worth-mobile",
   "metadata": {},
   "source": [
    "# check the variables bill is using\n"
   ]
  },
  {
   "cell_type": "code",
   "execution_count": null,
   "id": "through-secretary",
   "metadata": {},
   "outputs": [],
   "source": [
    "# confirm that same decades and then can make spatial map of the pdsi for each decade"
   ]
  },
  {
   "cell_type": "code",
   "execution_count": null,
   "id": "guided-importance",
   "metadata": {},
   "outputs": [],
   "source": [
    "coarsened_v3 = (\n",
    "    ds_v3.sel(time=slice(\"2020\", \"2099\"))[[\"ppt\", \"pdsi\"]].coarsen(time=120).min().compute()\n",
    ")\n",
    "coarsened_v1 = (\n",
    "    ds_v1.sel(time=slice(\"2020\", \"2099\"))[[\"ppt\", \"pdsi\"]].coarsen(time=120).min().compute()\n",
    ")"
   ]
  },
  {
   "cell_type": "markdown",
   "id": "qualified-realtor",
   "metadata": {},
   "source": [
    "# minimum decadal PDSI\n"
   ]
  },
  {
   "cell_type": "code",
   "execution_count": null,
   "id": "fixed-helping",
   "metadata": {},
   "outputs": [],
   "source": [
    "(coarsened_v3.pdsi - coarsened_v1.pdsi).plot(\n",
    "    x=\"lon\", y=\"lat\", col=\"time\", col_wrap=3, vmin=-16, vmax=16, cmap=\"RdBu\"\n",
    ")"
   ]
  },
  {
   "cell_type": "code",
   "execution_count": null,
   "id": "indoor-thunder",
   "metadata": {},
   "outputs": [],
   "source": [
    "coarsened_v1.pdsi.plot(x=\"lon\", y=\"lat\", col=\"time\", col_wrap=3, vmin=-16, vmax=16, cmap=\"RdBu\")"
   ]
  },
  {
   "cell_type": "code",
   "execution_count": null,
   "id": "pharmaceutical-carpet",
   "metadata": {},
   "outputs": [],
   "source": [
    "coarsened_v3.pdsi.plot(x=\"lon\", y=\"lat\", col=\"time\", col_wrap=3, vmin=-16, vmax=16, cmap=\"RdBu\")"
   ]
  },
  {
   "cell_type": "markdown",
   "id": "innovative-flash",
   "metadata": {},
   "source": [
    "# minimum decadal precipitation\n"
   ]
  },
  {
   "cell_type": "code",
   "execution_count": null,
   "id": "original-german",
   "metadata": {},
   "outputs": [],
   "source": [
    "(coarsened_v3.ppt - coarsened_v1.ppt).plot(\n",
    "    x=\"lon\", y=\"lat\", col=\"time\", col_wrap=3, vmin=-20, vmax=20, cmap=\"RdBu\"\n",
    ")"
   ]
  },
  {
   "cell_type": "code",
   "execution_count": null,
   "id": "accessory-jefferson",
   "metadata": {},
   "outputs": [],
   "source": [
    "coarsened_v1.ppt.plot(x=\"lon\", y=\"lat\", col=\"time\", col_wrap=3)"
   ]
  },
  {
   "cell_type": "code",
   "execution_count": null,
   "id": "provincial-boutique",
   "metadata": {},
   "outputs": [],
   "source": [
    "coarsened_v3.ppt.plot(x=\"lon\", y=\"lat\", col=\"time\", col_wrap=3)"
   ]
  },
  {
   "cell_type": "markdown",
   "id": "flexible-kelly",
   "metadata": {},
   "source": [
    "# means\n"
   ]
  },
  {
   "cell_type": "code",
   "execution_count": null,
   "id": "chronic-moses",
   "metadata": {},
   "outputs": [],
   "source": [
    "coarsened_v3_mean = (\n",
    "    ds_v3.sel(time=slice(\"2020\", \"2099\"))[[\"ppt\", \"vpd\", \"pdsi\", \"tmin\", \"tmean\"]]\n",
    "    .coarsen(time=120)\n",
    "    .mean()\n",
    "    .compute()\n",
    ")\n",
    "coarsened_v1_mean = (\n",
    "    ds_v1.sel(time=slice(\"2020\", \"2099\"))[[\"ppt\", \"vpd\", \"pdsi\", \"tmin\", \"tmean\"]]\n",
    "    .coarsen(time=120)\n",
    "    .mean()\n",
    "    .compute()\n",
    ")"
   ]
  },
  {
   "cell_type": "markdown",
   "id": "fatty-click",
   "metadata": {},
   "source": [
    "# mean precip\n"
   ]
  },
  {
   "cell_type": "code",
   "execution_count": null,
   "id": "attempted-journal",
   "metadata": {},
   "outputs": [],
   "source": [
    "((coarsened_v3_mean.ppt - coarsened_v1_mean.ppt) / coarsened_v1_mean.ppt * 100).plot(\n",
    "    x=\"lon\", y=\"lat\", col=\"time\", col_wrap=3, vmin=-10, vmax=10, cmap=\"RdBu\"\n",
    ")"
   ]
  },
  {
   "cell_type": "code",
   "execution_count": null,
   "id": "angry-settlement",
   "metadata": {},
   "outputs": [],
   "source": [
    "coarsened_v1_mean.ppt.plot(x=\"lon\", y=\"lat\", col=\"time\", col_wrap=3)"
   ]
  },
  {
   "cell_type": "code",
   "execution_count": null,
   "id": "grave-insured",
   "metadata": {},
   "outputs": [],
   "source": [
    "coarsened_v3_mean.ppt.plot(x=\"lon\", y=\"lat\", col=\"time\", col_wrap=3)"
   ]
  },
  {
   "cell_type": "markdown",
   "id": "bored-ordinary",
   "metadata": {},
   "source": [
    "# mean VPD\n"
   ]
  },
  {
   "cell_type": "code",
   "execution_count": null,
   "id": "centered-summer",
   "metadata": {},
   "outputs": [],
   "source": [
    "(coarsened_v3_mean.vpd - coarsened_v1_mean.vpd).plot(\n",
    "    x=\"lon\", y=\"lat\", col=\"time\", col_wrap=3, vmin=-0.02, vmax=0.02, cmap=\"RdBu\"\n",
    ")"
   ]
  },
  {
   "cell_type": "markdown",
   "id": "remarkable-certificate",
   "metadata": {},
   "source": [
    "# mean PDSI\n"
   ]
  },
  {
   "cell_type": "code",
   "execution_count": null,
   "id": "practical-pleasure",
   "metadata": {},
   "outputs": [],
   "source": [
    "(coarsened_v3_mean.pdsi - coarsened_v1_mean.pdsi).plot(\n",
    "    x=\"lon\", y=\"lat\", col=\"time\", col_wrap=3, vmin=-16, vmax=16, cmap=\"RdBu\"\n",
    ")"
   ]
  },
  {
   "cell_type": "markdown",
   "id": "emotional-mechanics",
   "metadata": {},
   "source": [
    "# maxes\n"
   ]
  },
  {
   "cell_type": "code",
   "execution_count": null,
   "id": "relevant-armstrong",
   "metadata": {},
   "outputs": [],
   "source": [
    "coarsened_v3_max = (\n",
    "    ds_v3.sel(time=slice(\"2020\", \"2099\"))[[\"def\", \"vpd\"]].coarsen(time=120).max().compute()\n",
    ")\n",
    "coarsened_v1_max = (\n",
    "    ds_v1.sel(time=slice(\"2020\", \"2099\"))[[\"def\", \"vpd\"]].coarsen(time=120).max().compute()\n",
    ")"
   ]
  },
  {
   "cell_type": "markdown",
   "id": "preceding-calculation",
   "metadata": {},
   "source": [
    "# cwd max\n"
   ]
  },
  {
   "cell_type": "code",
   "execution_count": null,
   "id": "broad-palmer",
   "metadata": {},
   "outputs": [],
   "source": [
    "(coarsened_v3_max[\"def\"] - coarsened_v1_max[\"def\"]).plot(\n",
    "    x=\"lon\", y=\"lat\", col=\"time\", col_wrap=3, cmap=\"RdBu\"\n",
    ")"
   ]
  },
  {
   "cell_type": "code",
   "execution_count": null,
   "id": "classical-breach",
   "metadata": {},
   "outputs": [],
   "source": [
    "coarsened_v3_max[\"def\"].plot(x=\"lon\", y=\"lat\", col=\"time\", col_wrap=3)"
   ]
  },
  {
   "cell_type": "code",
   "execution_count": null,
   "id": "israeli-paste",
   "metadata": {},
   "outputs": [],
   "source": [
    "coarsened_v1_max[\"def\"].plot(x=\"lon\", y=\"lat\", col=\"time\", col_wrap=3)"
   ]
  },
  {
   "cell_type": "code",
   "execution_count": null,
   "id": "collective-belgium",
   "metadata": {},
   "outputs": [],
   "source": [
    "ds_v1.sel(x=500000, y=1000000, method=\"nearest\")[\"def\"].plot(alpha=0.8, label=\"v1\")\n",
    "ds_v3.sel(x=500000, y=1000000, method=\"nearest\")[\"def\"].plot(alpha=0.8, label=\"v3\")\n",
    "plt.legend()"
   ]
  },
  {
   "cell_type": "code",
   "execution_count": null,
   "id": "sapphire-march",
   "metadata": {},
   "outputs": [],
   "source": [
    "ds_v1.sel(x=500000, y=1000000, method=\"nearest\")[\"pet\"].plot(alpha=0.8, label=\"v1\")\n",
    "ds_v3.sel(x=500000, y=1000000, method=\"nearest\")[\"pet\"].plot(alpha=0.8, label=\"v3\")\n",
    "plt.legend()"
   ]
  },
  {
   "cell_type": "code",
   "execution_count": null,
   "id": "median-position",
   "metadata": {},
   "outputs": [],
   "source": [
    "ds_v1.sel(x=500000, y=1000000, method=\"nearest\")[\"tmean\"].plot(alpha=0.8, label=\"v1\")\n",
    "ds_v3.sel(x=500000, y=1000000, method=\"nearest\")[\"tmean\"].plot(alpha=0.8, label=\"v3\")\n",
    "plt.legend()"
   ]
  },
  {
   "cell_type": "code",
   "execution_count": null,
   "id": "cognitive-array",
   "metadata": {},
   "outputs": [],
   "source": [
    "ds_v1.sel(x=500000, y=1000000, method=\"nearest\")[\"srad\"].plot(alpha=0.8, label=\"v1\")\n",
    "ds_v3.sel(x=500000, y=1000000, method=\"nearest\")[\"srad\"].plot(alpha=0.8, label=\"v3\")\n",
    "plt.legend()"
   ]
  },
  {
   "cell_type": "code",
   "execution_count": null,
   "id": "animal-venue",
   "metadata": {},
   "outputs": [],
   "source": [
    "ds_v1.sel(x=500000, y=1000000, method=\"nearest\")[\"aet\"].plot(alpha=0.8, label=\"v1\")\n",
    "ds_v3.sel(x=500000, y=1000000, method=\"nearest\")[\"aet\"].plot(alpha=0.8, label=\"v3\")\n",
    "plt.legend()"
   ]
  },
  {
   "cell_type": "code",
   "execution_count": null,
   "id": "burning-compilation",
   "metadata": {},
   "outputs": [],
   "source": [
    "fig, axarr = plt.subplots(nrows=len(ds_v3.data_vars), figsize=(8, 50))\n",
    "for i, var in enumerate(ds_v3.data_vars):\n",
    "    ds_v1.sel(x=500000, y=1000000, method=\"nearest\")[var].plot(ax=axarr[i], alpha=0.8, label=\"v1\")\n",
    "    ds_v3.sel(x=500000, y=1000000, method=\"nearest\")[var].plot(ax=axarr[i], alpha=0.8, label=\"v3\")\n",
    "    axarr[i].legend()\n",
    "plt.tight_layout()"
   ]
  }
 ],
 "metadata": {
  "kernelspec": {
   "display_name": "Python [conda env:notebook] *",
   "language": "python",
   "name": "conda-env-notebook-py"
  },
  "language_info": {
   "codemirror_mode": {
    "name": "ipython",
    "version": 3
   },
   "file_extension": ".py",
   "mimetype": "text/x-python",
   "name": "python",
   "nbconvert_exporter": "python",
   "pygments_lexer": "ipython3",
   "version": "3.8.8"
  }
 },
 "nbformat": 4,
 "nbformat_minor": 5
}
