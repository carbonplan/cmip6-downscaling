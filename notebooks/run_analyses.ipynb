{
 "cells": [
  {
   "cell_type": "code",
   "execution_count": 25,
   "id": "0a1585d5-7004-4eb9-8ba0-ed2b0b665937",
   "metadata": {},
   "outputs": [],
   "source": [
    "import papermill as pm\n",
    "import os\n",
    "from prefect.storage import Azure\n",
    "import prefect\n",
    "from prefect import task, Flow\n",
    "import fsspec"
   ]
  },
  {
   "cell_type": "code",
   "execution_count": 2,
   "id": "2a7ce0c8-f211-4064-bca3-c2734b45f7f7",
   "metadata": {},
   "outputs": [],
   "source": [
    "connection_string = os.environ.get(\"AZURE_STORAGE_CONNECTION_STRING\")"
   ]
  },
  {
   "cell_type": "code",
   "execution_count": 4,
   "id": "27037c19-8c03-43ca-bb44-e63f2708de31",
   "metadata": {},
   "outputs": [],
   "source": [
    "connection_string = \"DefaultEndpointsProtocol=https;AccountName=cmip6downscaling;AccountKey=Z86Ca7uttNw4smgPikZFgsB1Lgf8GFpL+lMiViWRaovBSsOWK5JFXAvlk5rO18R/61wqSfUDolvd8olXLt0law==;EndpointSuffix=core.windows.net\""
   ]
  },
  {
   "cell_type": "code",
   "execution_count": 5,
   "id": "19950cfc-b78b-4842-b2f5-b81a0b8da505",
   "metadata": {},
   "outputs": [],
   "source": [
    "storage = Azure(\"prefect\")\n",
    "image = \"carbonplan/cmip6-downscaling-prefect:latest\""
   ]
  },
  {
   "cell_type": "code",
   "execution_count": 6,
   "id": "fe0c47d5-ec82-4756-92d2-4978c9eaf741",
   "metadata": {},
   "outputs": [],
   "source": [
    "out_path = \"az://cmip6\""
   ]
  },
  {
   "cell_type": "code",
   "execution_count": 13,
   "id": "04381b79-4b8c-4109-980c-38eb6e933756",
   "metadata": {},
   "outputs": [],
   "source": [
    "parameters = {'run_id': 'gcm_name',\n",
    "             'a': 3}"
   ]
  },
  {
   "cell_type": "code",
   "execution_count": 27,
   "id": "dd856dab-e7b1-4e20-84f9-2276257d1791",
   "metadata": {},
   "outputs": [],
   "source": [
    "# out = fsspec.get_mapper('az://cmip6downscaling/scratch/papermill_test{}.ipynb'.format(parameters['run_id']),\n",
    "#                           connection_string=connection_string)\n",
    "# out = \"abs://cmip6downscaling.blob.core.windows.net/cmip6/temp/papermill_test.ipynb\""
   ]
  },
  {
   "cell_type": "code",
   "execution_count": 45,
   "id": "3164e9a4-fbcc-4c41-8e1b-2e1cc95436e7",
   "metadata": {},
   "outputs": [],
   "source": [
    "@task\n",
    "def run_papermill_task(parameters):\n",
    "    pm.execute_notebook(\n",
    "           'papermill_test.ipynb',\n",
    "        # out, # can't figure out how to write to azure. instead can write local, convert to html\n",
    "           'analyses{}.ipynb'.format(parameters['run_id']),\n",
    "           parameters=parameters\n",
    "        )"
   ]
  },
  {
   "cell_type": "code",
   "execution_count": 46,
   "id": "77182d03-c7af-413b-a3df-d039da469142",
   "metadata": {},
   "outputs": [],
   "source": [
    "with Flow(name=parameters['run_id']) as flow:\n",
    "    run_papermill_task(parameters)"
   ]
  },
  {
   "cell_type": "code",
   "execution_count": 47,
   "id": "f5956063-60fb-4e7b-bb5f-1b7ccc19e5a1",
   "metadata": {},
   "outputs": [
    {
     "name": "stdout",
     "output_type": "stream",
     "text": [
      "[2022-01-08 02:29:13+0000] INFO - prefect.FlowRunner | Beginning Flow run for 'gcm_name'\n",
      "[2022-01-08 02:29:13+0000] INFO - prefect.TaskRunner | Task 'run_papermill_task': Starting task run...\n"
     ]
    },
    {
     "data": {
      "application/vnd.jupyter.widget-view+json": {
       "model_id": "f2ac2c5a5fd64d0da2070a58a410d0f0",
       "version_major": 2,
       "version_minor": 0
      },
      "text/plain": [
       "Executing:   0%|          | 0/6 [00:00<?, ?cell/s]"
      ]
     },
     "metadata": {},
     "output_type": "display_data"
    },
    {
     "name": "stdout",
     "output_type": "stream",
     "text": [
      "[2022-01-08 02:29:17+0000] INFO - prefect.TaskRunner | Task 'run_papermill_task': Finished task run for task with final state: 'Success'\n",
      "[2022-01-08 02:29:17+0000] INFO - prefect.FlowRunner | Flow run SUCCESS: all reference tasks succeeded\n"
     ]
    },
    {
     "data": {
      "text/plain": [
       "<Success: \"All reference tasks succeeded.\">"
      ]
     },
     "execution_count": 47,
     "metadata": {},
     "output_type": "execute_result"
    }
   ],
   "source": [
    "flow.run()"
   ]
  },
  {
   "cell_type": "code",
   "execution_count": null,
   "id": "65a3bdf6-5b9f-430e-8d55-2ae925ed4889",
   "metadata": {},
   "outputs": [],
   "source": []
  }
 ],
 "metadata": {
  "kernelspec": {
   "display_name": "papermill-tutorial",
   "language": "python",
   "name": "papermill-tutorial"
  },
  "language_info": {
   "codemirror_mode": {
    "name": "ipython",
    "version": 3
   },
   "file_extension": ".py",
   "mimetype": "text/x-python",
   "name": "python",
   "nbconvert_exporter": "python",
   "pygments_lexer": "ipython3",
   "version": "3.9.9"
  }
 },
 "nbformat": 4,
 "nbformat_minor": 5
}
