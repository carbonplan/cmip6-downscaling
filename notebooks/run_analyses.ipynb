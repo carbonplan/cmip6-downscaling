{
 "cells": [
  {
   "cell_type": "code",
   "execution_count": 1,
   "id": "0a1585d5-7004-4eb9-8ba0-ed2b0b665937",
   "metadata": {},
   "outputs": [
    {
     "name": "stderr",
     "output_type": "stream",
     "text": [
      "/srv/conda/envs/notebook/lib/python3.9/site-packages/papermill/iorw.py:50: FutureWarning: pyarrow.HadoopFileSystem is deprecated as of 2.0.0, please use pyarrow.fs.HadoopFileSystem instead.\n",
      "  from pyarrow import HadoopFileSystem\n"
     ]
    }
   ],
   "source": [
    "import papermill as pm\n",
    "import os\n",
    "from prefect.storage import Azure\n",
    "import prefect\n",
    "from prefect import task, Flow\n",
    "import fsspec\n",
    "from prefect.tasks.jupyter import ExecuteNotebook"
   ]
  },
  {
   "cell_type": "code",
   "execution_count": 2,
   "id": "2a7ce0c8-f211-4064-bca3-c2734b45f7f7",
   "metadata": {},
   "outputs": [],
   "source": [
    "connection_string = os.environ.get(\"AZURE_STORAGE_CONNECTION_STRING\")"
   ]
  },
  {
   "cell_type": "code",
   "execution_count": 5,
   "id": "19950cfc-b78b-4842-b2f5-b81a0b8da505",
   "metadata": {},
   "outputs": [],
   "source": [
    "storage = Azure(\"prefect\")\n",
    "image = \"carbonplan/cmip6-downscaling-prefect:latest\""
   ]
  },
  {
   "cell_type": "code",
   "execution_count": 6,
   "id": "fe0c47d5-ec82-4756-92d2-4978c9eaf741",
   "metadata": {},
   "outputs": [],
   "source": [
    "out_path = \"az://cmip6\""
   ]
  },
  {
   "cell_type": "code",
   "execution_count": 4,
   "id": "04381b79-4b8c-4109-980c-38eb6e933756",
   "metadata": {},
   "outputs": [],
   "source": [
    "parameters = {'run_id': 'gcm_name',\n",
    "             'a': 3}"
   ]
  },
  {
   "cell_type": "code",
   "execution_count": 5,
   "id": "dd856dab-e7b1-4e20-84f9-2276257d1791",
   "metadata": {},
   "outputs": [],
   "source": [
    "# out = fsspec.get_mapper('az://cmip6downscaling/scratch/papermill_test{}.ipynb'.format(parameters['run_id']),\n",
    "#                           connection_string=connection_string)\n",
    "# out = \"abs://cmip6downscaling.blob.core.windows.net/cmip6/temp/papermill_test.ipynb\""
   ]
  },
  {
   "cell_type": "code",
   "execution_count": 6,
   "id": "3164e9a4-fbcc-4c41-8e1b-2e1cc95436e7",
   "metadata": {},
   "outputs": [],
   "source": [
    "@task\n",
    "def run_papermill_task(parameters):\n",
    "    pm.execute_notebook(\n",
    "           'papermill_test.ipynb', # can't figure out how to write to azure. instead can write local, convert to html\n",
    "           'analyses{}.ipynb'.format(parameters['run_id']),\n",
    "           parameters=parameters\n",
    "        )"
   ]
  },
  {
   "cell_type": "code",
   "execution_count": 7,
   "id": "77182d03-c7af-413b-a3df-d039da469142",
   "metadata": {},
   "outputs": [],
   "source": [
    "with Flow(name=parameters['run_id']) as flow:\n",
    "    run_papermill_task(parameters)"
   ]
  },
  {
   "cell_type": "code",
   "execution_count": 8,
   "id": "f5956063-60fb-4e7b-bb5f-1b7ccc19e5a1",
   "metadata": {},
   "outputs": [
    {
     "name": "stdout",
     "output_type": "stream",
     "text": [
      "[2022-01-10 20:43:00+0000] INFO - prefect.FlowRunner | Beginning Flow run for 'gcm_name'\n",
      "[2022-01-10 20:43:00+0000] INFO - prefect.TaskRunner | Task 'run_papermill_task': Starting task run...\n"
     ]
    },
    {
     "data": {
      "application/vnd.jupyter.widget-view+json": {
       "model_id": "b79180c218fb4d67836a86ce07557209",
       "version_major": 2,
       "version_minor": 0
      },
      "text/plain": [
       "Executing:   0%|          | 0/6 [00:00<?, ?cell/s]"
      ]
     },
     "metadata": {},
     "output_type": "display_data"
    },
    {
     "name": "stdout",
     "output_type": "stream",
     "text": [
      "[2022-01-10 20:43:04+0000] INFO - prefect.TaskRunner | Task 'run_papermill_task': Finished task run for task with final state: 'Success'\n",
      "[2022-01-10 20:43:04+0000] INFO - prefect.FlowRunner | Flow run SUCCESS: all reference tasks succeeded\n"
     ]
    },
    {
     "data": {
      "text/plain": [
       "<Success: \"All reference tasks succeeded.\">"
      ]
     },
     "execution_count": 8,
     "metadata": {},
     "output_type": "execute_result"
    }
   ],
   "source": [
    "flow.run()"
   ]
  },
  {
   "cell_type": "code",
   "execution_count": 20,
   "id": "67143818-3dd1-4ae0-82b1-a61d163343c7",
   "metadata": {},
   "outputs": [],
   "source": [
    "# this might be what we want to do eventually but it struggles - AttributeError: 'OutStream' object has no attribute 'buffer'"
   ]
  },
  {
   "cell_type": "code",
   "execution_count": 27,
   "id": "73cab85e-ce36-4f19-bcc0-67dbd12cb796",
   "metadata": {},
   "outputs": [],
   "source": [
    "task = ExecuteNotebook('papermill_test.ipynb',\n",
    "                       parameters=parameters, output_format='html', kernel_name='papermill-tutorial')\n",
    "output = task.run()"
   ]
  }
 ],
 "metadata": {
  "kernelspec": {
   "display_name": "papermill-tutorial",
   "language": "python",
   "name": "papermill-tutorial"
  },
  "language_info": {
   "codemirror_mode": {
    "name": "ipython",
    "version": 3
   },
   "file_extension": ".py",
   "mimetype": "text/x-python",
   "name": "python",
   "nbconvert_exporter": "python",
   "pygments_lexer": "ipython3",
   "version": "3.9.9"
  }
 },
 "nbformat": 4,
 "nbformat_minor": 5
}
