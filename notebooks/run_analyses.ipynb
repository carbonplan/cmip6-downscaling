{
 "cells": [
  {
   "cell_type": "code",
   "execution_count": null,
   "id": "0a1585d5-7004-4eb9-8ba0-ed2b0b665937",
   "metadata": {},
   "outputs": [],
   "source": [
    "import papermill as pm\n",
    "import os\n",
    "from prefect.storage import Azure\n",
    "import prefect\n",
    "from prefect import task, Flow\n",
    "import fsspec\n",
    "from prefect.tasks.jupyter import ExecuteNotebook"
   ]
  },
  {
   "cell_type": "code",
   "execution_count": null,
   "id": "2a7ce0c8-f211-4064-bca3-c2734b45f7f7",
   "metadata": {},
   "outputs": [],
   "source": [
    "connection_string = os.environ.get(\"AZURE_STORAGE_CONNECTION_STRING\")"
   ]
  },
  {
   "cell_type": "code",
   "execution_count": null,
   "id": "19950cfc-b78b-4842-b2f5-b81a0b8da505",
   "metadata": {},
   "outputs": [],
   "source": [
    "storage = Azure(\"prefect\")\n",
    "image = \"carbonplan/cmip6-downscaling-prefect:latest\""
   ]
  },
  {
   "cell_type": "code",
   "execution_count": null,
   "id": "fe0c47d5-ec82-4756-92d2-4978c9eaf741",
   "metadata": {},
   "outputs": [],
   "source": [
    "out_path = \"az://cmip6\""
   ]
  },
  {
   "cell_type": "code",
   "execution_count": null,
   "id": "04381b79-4b8c-4109-980c-38eb6e933756",
   "metadata": {},
   "outputs": [],
   "source": [
    "parameters = {\"run_id\": \"gcm_name\", \"a\": 3}"
   ]
  },
  {
   "cell_type": "code",
   "execution_count": null,
   "id": "87ddf52f-3389-44be-ab7f-fe3a1c73e6fc",
   "metadata": {},
   "outputs": [],
   "source": [
    "import sys"
   ]
  },
  {
   "cell_type": "code",
   "execution_count": null,
   "id": "73cab85e-ce36-4f19-bcc0-67dbd12cb796",
   "metadata": {
    "tags": []
   },
   "outputs": [],
   "source": [
    "task = ExecuteNotebook(\n",
    "    \"papermill_test.ipynb\",\n",
    "    parameters=parameters,\n",
    "    output_format=\"html\",\n",
    "    kernel_name=\"papermill-tutorial\",\n",
    ")\n",
    "\n",
    "output = task.run()"
   ]
  },
  {
   "cell_type": "code",
   "execution_count": null,
   "id": "dd856dab-e7b1-4e20-84f9-2276257d1791",
   "metadata": {},
   "outputs": [],
   "source": [
    "# out = fsspec.get_mapper('az://cmip6downscaling/scratch/papermill_test{}.ipynb'.format(parameters['run_id']),\n",
    "#                           connection_string=connection_string)\n",
    "# out = \"abs://cmip6downscaling.blob.core.windows.net/cmip6/temp/papermill_test.ipynb\""
   ]
  },
  {
   "cell_type": "code",
   "execution_count": null,
   "id": "3164e9a4-fbcc-4c41-8e1b-2e1cc95436e7",
   "metadata": {},
   "outputs": [],
   "source": [
    "@task\n",
    "def run_papermill_task(parameters):\n",
    "    pm.execute_notebook(\n",
    "        \"papermill_test.ipynb\",  # can't figure out how to write to azure. instead can write local, convert to html\n",
    "        \"analyses{}.ipynb\".format(parameters[\"run_id\"]),\n",
    "        parameters=parameters,\n",
    "    )"
   ]
  },
  {
   "cell_type": "code",
   "execution_count": null,
   "id": "77182d03-c7af-413b-a3df-d039da469142",
   "metadata": {},
   "outputs": [],
   "source": [
    "with Flow(name=parameters[\"run_id\"]) as flow:\n",
    "    run_papermill_task(parameters)"
   ]
  },
  {
   "cell_type": "code",
   "execution_count": null,
   "id": "f5956063-60fb-4e7b-bb5f-1b7ccc19e5a1",
   "metadata": {},
   "outputs": [],
   "source": [
    "flow.run()"
   ]
  },
  {
   "cell_type": "code",
   "execution_count": null,
   "id": "67143818-3dd1-4ae0-82b1-a61d163343c7",
   "metadata": {},
   "outputs": [],
   "source": [
    "# this might be what we want to do eventually but it struggles - AttributeError: 'OutStream' object has no attribute 'buffer'"
   ]
  }
 ],
 "metadata": {
  "kernelspec": {
   "display_name": "papermill-tutorial",
   "language": "python",
   "name": "papermill-tutorial"
  },
  "language_info": {
   "codemirror_mode": {
    "name": "ipython",
    "version": 3
   },
   "file_extension": ".py",
   "mimetype": "text/x-python",
   "name": "python",
   "nbconvert_exporter": "python",
   "pygments_lexer": "ipython3",
   "version": "3.9.9"
  }
 },
 "nbformat": 4,
 "nbformat_minor": 5
}
