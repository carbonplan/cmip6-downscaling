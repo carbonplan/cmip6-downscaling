{
 "cells": [
  {
   "cell_type": "code",
   "execution_count": null,
   "metadata": {},
   "outputs": [],
   "source": [
    "%load_ext autoreload\n",
    "%autoreload 2\n",
    "\n",
    "import zarr\n",
    "import xarray as xr\n",
    "import os"
   ]
  },
  {
   "cell_type": "code",
   "execution_count": null,
   "metadata": {},
   "outputs": [],
   "source": [
    "# rechunked version\n",
    "mapper = zarr.storage.ABSStore(\n",
    "    \"carbonplan-scratch\",\n",
    "    prefix=\"rechunker/terraclimate/target.zarr/\",\n",
    "    account_name=\"carbonplan\",\n",
    "    account_key=os.environ[\"BLOB_ACCOUNT_KEY\"],\n",
    ")\n",
    "\n",
    "ds_conus = xr.open_zarr(mapper, consolidated=True)"
   ]
  },
  {
   "cell_type": "code",
   "execution_count": null,
   "metadata": {},
   "outputs": [],
   "source": [
    "from carbonplan.data import cat\n",
    "\n",
    "ds_global = cat.terraclimate.raw_terraclimate.to_dask()"
   ]
  },
  {
   "cell_type": "code",
   "execution_count": null,
   "metadata": {},
   "outputs": [],
   "source": [
    "dem = xr.open_rasterio(\n",
    "    \"https://storage.googleapis.com/carbonplan-data/\"\n",
    "    \"processed/edna/conus/4000m/raster.tif\"\n",
    ").load()\n",
    "dem = dem.where(dem > -1000).squeeze(drop=True)\n",
    "ds_conus[\"dem\"] = dem"
   ]
  },
  {
   "cell_type": "code",
   "execution_count": null,
   "metadata": {},
   "outputs": [],
   "source": [
    "dbr = xr.open_rasterio(\n",
    "    \"/home/jovyan/cmip6-downscaling/cmip6_downscaling/\" \"data/rockdepm.tif\"\n",
    ")\n",
    "dbr = dbr.where(dbr != 255).squeeze(drop=True)\n",
    "ds_conus[\"dbr\"] = dbr.variable"
   ]
  },
  {
   "cell_type": "code",
   "execution_count": null,
   "metadata": {},
   "outputs": [],
   "source": [
    "from metpy.calc import dewpoint\n",
    "from metpy.units import units\n",
    "import numpy as np\n",
    "from cmip6_downscaling.disagg import terraclimate"
   ]
  },
  {
   "cell_type": "code",
   "execution_count": null,
   "metadata": {},
   "outputs": [],
   "source": [
    "# somewhere in idaho\n",
    "# df = ds_conus.isel(x=200, y=200).squeeze(drop=True).to_dataframe()\n",
    "\n",
    "# kitsap peninsula\n",
    "# df = ds_conus.sel(x=-2e6, y=3e6, method='nearest').squeeze(drop=True).to_dataframe()\n",
    "\n",
    "# west slopes colorado rockies\n",
    "df = (\n",
    "    ds_conus.sel(x=-1e6, y=2e6, method=\"nearest\")\n",
    "    .squeeze(drop=True)\n",
    "    .to_dataframe()\n",
    ")\n",
    "\n",
    "# southeast\n",
    "# df = ds_conus.sel(x=1e6, y=1e6, method='nearest').squeeze(drop=True).to_dataframe()"
   ]
  },
  {
   "cell_type": "code",
   "execution_count": null,
   "metadata": {},
   "outputs": [],
   "source": [
    "awc = df.soil.max()  # we use this until we get john's data\n",
    "awc = xr.open_rasterio(\n",
    "    \"/home/jovyan/cmip6-downscaling/cmip6_downscaling/\" \"data/awc_250.tif\"\n",
    ").load()\n",
    "awc = awc.where(awc != 255).squeeze(drop=True)\n",
    "ds_conus[\"awc\"] = awc.variable"
   ]
  },
  {
   "cell_type": "markdown",
   "metadata": {},
   "source": [
    "## Soil water capacity derivation for Terraclimate\n",
    "\n",
    "The WBM requires data on the plant extractable soil water capacity. We used\n",
    "extractable soil water storage capacity data at a 0.5° grid from Wang-Erlandsson\n",
    "et al.32 that were derived from estimates of satellite based evaporation, ET0,\n",
    "and precipitation. Wang-Erlandsson et al.32 provided estimates for varying\n",
    "return intervals. _We used the 2-year period_ given our use of ET0, as it best\n",
    "matched with evapotranspiration variability in grassland biomes, corresponding\n",
    "with our use of a reference grass surface in the WBM. To adhere to the spatial\n",
    "resolution of TerraClimate, _we first extrapolated data using a 0.5° buffer from\n",
    "existing data using the 8 nearest neighbors, and then bilinearly interpolated\n",
    "plant extractable soil water from its native 0.5° grid. We set a lower bound on\n",
    "plant extractable soil water of 10 mm and set a default value of 50 mm for\n",
    "places void of data._\n"
   ]
  },
  {
   "cell_type": "code",
   "execution_count": null,
   "metadata": {},
   "outputs": [],
   "source": [
    "swc_chirps = xr.open_rasterio(\n",
    "    \"/home/jovyan/cmip6-downscaling/cmip6_downscaling/\"\n",
    "    \"data/sr_chirps_2yrs.asc\"\n",
    ")\n",
    "swc_cru = xr.open_rasterio(\n",
    "    \"/home/jovyan/cmip6-downscaling/cmip6_downscaling/\" \"data/sr_cru_2yrs.asc\"\n",
    ")\n",
    "swc = swc_cru.where(swc_cru != -9999).squeeze(drop=True)"
   ]
  },
  {
   "cell_type": "code",
   "execution_count": null,
   "metadata": {},
   "outputs": [],
   "source": [
    "df_global = (\n",
    "    ds_global.sel(lat=df.lat[0], lon=df.lon[0], method=\"nearest\")\n",
    "    .squeeze(drop=True)\n",
    "    .to_dataframe()\n",
    ")"
   ]
  },
  {
   "cell_type": "code",
   "execution_count": null,
   "metadata": {},
   "outputs": [],
   "source": [
    "df[\"awc\"] = swc.sel(y=df.lat[0], x=df.lon[0], method=\"nearest\").values"
   ]
  },
  {
   "cell_type": "code",
   "execution_count": null,
   "metadata": {},
   "outputs": [],
   "source": [
    "df.update(df_global)"
   ]
  },
  {
   "cell_type": "code",
   "execution_count": null,
   "metadata": {},
   "outputs": [],
   "source": [
    "df[\"tmean\"] = (df.tmax + df.tmin) / 2\n",
    "df[\"tdew\"] = np.asarray(dewpoint(df[\"vap\"].values * units.pascal * 1000))\n",
    "df.head()"
   ]
  },
  {
   "cell_type": "code",
   "execution_count": null,
   "metadata": {},
   "outputs": [],
   "source": [
    "%time\n",
    "WM2_TO_MGM2D = 86400 / 1e6\n",
    "\n",
    "import pandas as pd\n",
    "import matplotlib.pyplot as plt\n",
    "\n",
    "df_v2 = pd.DataFrame(index=df.index, columns=['snowpack', 'h2o_input', \n",
    "                                              'albedo', 'pet', 'aet', \n",
    "                                              'soil', 'runoff'])\n",
    "# df['awc'] *= 25.4 * 10\n",
    "\n",
    "snowpack_prev = 0.\n",
    "tmean_prev = df['tmean'][0]\n",
    "soil_prev = 0 # df['awc'][0]\n",
    "count=0\n",
    "for i, row in df.iterrows():\n",
    "    out = terraclimate.snowmod(\n",
    "        row['tmean'],\n",
    "        row['ppt'],\n",
    "        radiation=row['srad'] * WM2_TO_MGM2D,\n",
    "        snowpack_prev=snowpack_prev)\n",
    "    \n",
    "    out['pet'] = terraclimate.monthly_PET(\n",
    "        row['srad'] * WM2_TO_MGM2D,\n",
    "        row['tmax'],\n",
    "        row['tmin'],\n",
    "        row['ws'],\n",
    "        row['tdew'],\n",
    "        tmean_prev,\n",
    "        row['lat'],\n",
    "        row['dem'],\n",
    "        i.month - 1,\n",
    "    ) * out['mfsnow']\n",
    "        \n",
    "    out.update(terraclimate.hydromod(\n",
    "            row['tmean'],\n",
    "            row['ppt'],\n",
    "            out['pet'],\n",
    "            row['awc'],\n",
    "            soil_prev,\n",
    "            snowpack_prev,\n",
    "#         instead of running snowmod twice just grab it from earlier\n",
    "#         run of snowmod\n",
    "            out['mfsnow']))\n",
    "    df_v2.loc[i] = out\n",
    "    tmean_prev = row['tmean']\n",
    "    snowpack_prev = out['snowpack']\n",
    "    soil_prev = out['soil']"
   ]
  },
  {
   "cell_type": "markdown",
   "metadata": {},
   "source": [
    "# runoff\n"
   ]
  },
  {
   "cell_type": "code",
   "execution_count": null,
   "metadata": {},
   "outputs": [],
   "source": [
    "# kitsap\n",
    "var = \"runoff\"\n",
    "s = slice(-48, None)\n",
    "df.q[s].plot(label=\"v1\")\n",
    "df_v2[var][s].plot(label=\"v2\")\n",
    "plt.legend()"
   ]
  },
  {
   "cell_type": "code",
   "execution_count": null,
   "metadata": {},
   "outputs": [],
   "source": [
    "# colorado rockies\n",
    "var = \"runoff\"\n",
    "s = slice(-48, None)\n",
    "df.q[s].plot(label=\"v1\")\n",
    "df_v2[var][s].plot(label=\"v2\")\n",
    "plt.legend()"
   ]
  },
  {
   "cell_type": "code",
   "execution_count": null,
   "metadata": {},
   "outputs": [],
   "source": [
    "# southeast\n",
    "var = \"runoff\"\n",
    "s = slice(-48, None)\n",
    "df.q[s].plot(label=\"v1\")\n",
    "df_v2[var][s].plot(label=\"v2\")\n",
    "plt.legend()"
   ]
  },
  {
   "cell_type": "markdown",
   "metadata": {},
   "source": [
    "# aet and pet\n"
   ]
  },
  {
   "cell_type": "code",
   "execution_count": null,
   "metadata": {},
   "outputs": [],
   "source": [
    "# kitsap\n",
    "s = slice(-48, None)\n",
    "df.pet[s].plot(label=\"pet-v1\")\n",
    "\n",
    "df_v2[\"pet\"][s].plot(label=\"pet-v2\")\n",
    "df.aet[s].plot(label=\"v1\")\n",
    "df_v2.aet[s].plot(label=\"v2\")\n",
    "plt.legend()"
   ]
  },
  {
   "cell_type": "code",
   "execution_count": null,
   "metadata": {},
   "outputs": [],
   "source": [
    "# colorado rockies\n",
    "s = slice(-48, None)\n",
    "df.pet[s].plot(label=\"pet-v1\")\n",
    "\n",
    "df_v2[\"pet\"][s].plot(label=\"pet-v2\")\n",
    "# df_v2.et0[s].plot(label='et0-v2')\n",
    "df.aet[s].plot(label=\"aet-v1\")\n",
    "df_v2.aet[s].plot(label=\"aet-v2\")\n",
    "plt.ylabel(\"et\")\n",
    "plt.legend()"
   ]
  },
  {
   "cell_type": "code",
   "execution_count": null,
   "metadata": {},
   "outputs": [],
   "source": [
    "# somewhere in idaho\n",
    "s = slice(-48, None)\n",
    "df.pet[s].plot(label=\"pet-v1\")\n",
    "df_v2[\"pet\"][s].plot(label=\"pet-v2\")\n",
    "df.aet[s].plot(label=\"v1\")\n",
    "df_v2.aet[s].plot(label=\"v2\")\n",
    "plt.legend()"
   ]
  },
  {
   "cell_type": "markdown",
   "metadata": {},
   "source": [
    "# soil\n"
   ]
  },
  {
   "cell_type": "code",
   "execution_count": null,
   "metadata": {},
   "outputs": [],
   "source": [
    "# southeast\n",
    "s = slice(-72, None)\n",
    "df.soil[s].plot(label=\"v1\")\n",
    "df_v2.soil[s].plot(label=\"v2\")\n",
    "plt.legend()"
   ]
  },
  {
   "cell_type": "code",
   "execution_count": null,
   "metadata": {},
   "outputs": [],
   "source": [
    "# west slopes colorado rockies\n",
    "s = slice(-72, None)\n",
    "df.soil[s].plot(label=\"v1\")\n",
    "df_v2.soil[s].plot(label=\"v2\")\n",
    "plt.legend()"
   ]
  },
  {
   "cell_type": "code",
   "execution_count": null,
   "metadata": {},
   "outputs": [],
   "source": [
    "# kitsap\n",
    "s = slice(-72, None)\n",
    "df.soil[s].plot(label=\"v1\")\n",
    "df_v2.soil[s].plot(label=\"v2\")\n",
    "plt.legend()"
   ]
  },
  {
   "cell_type": "markdown",
   "metadata": {},
   "source": [
    "# swe\n"
   ]
  },
  {
   "cell_type": "code",
   "execution_count": null,
   "metadata": {},
   "outputs": [],
   "source": [
    "# colorado rockies\n",
    "s = slice(-72, None)\n",
    "df.swe[s].plot(label=\"v1\")\n",
    "df_v2.snowpack[s].plot(label=\"v2\")\n",
    "plt.legend()"
   ]
  }
 ],
 "metadata": {
  "kernelspec": {
   "display_name": "Python 3",
   "language": "python",
   "name": "python3"
  },
  "language_info": {
   "codemirror_mode": {
    "name": "ipython",
    "version": 3
   },
   "file_extension": ".py",
   "mimetype": "text/x-python",
   "name": "python",
   "nbconvert_exporter": "python",
   "pygments_lexer": "ipython3",
   "version": "3.7.8"
  }
 },
 "nbformat": 4,
 "nbformat_minor": 4
}
