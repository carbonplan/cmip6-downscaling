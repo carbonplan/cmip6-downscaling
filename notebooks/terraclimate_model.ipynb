{
 "cells": [
  {
   "cell_type": "code",
   "execution_count": null,
   "metadata": {},
   "outputs": [],
   "source": [
    "%load_ext autoreload\n",
    "%autoreload 2\n",
    "\n",
    "import zarr\n",
    "import xarray as xr\n",
    "import os"
   ]
  },
  {
   "cell_type": "code",
   "execution_count": null,
   "metadata": {},
   "outputs": [],
   "source": [
    "# rechunked version\n",
    "mapper = zarr.storage.ABSStore(\n",
    "    'carbonplan-scratch',\n",
    "    prefix='rechunker/terraclimate/target.zarr/',\n",
    "    account_name=\"carbonplan\",\n",
    "    account_key=os.environ[\"BLOB_ACCOUNT_KEY\"])\n",
    "\n",
    "ds_conus = xr.open_zarr(mapper, consolidated=True)\n",
    "ds_conus"
   ]
  },
  {
   "cell_type": "code",
   "execution_count": null,
   "metadata": {},
   "outputs": [],
   "source": [
    "from carbonplan.data import cat\n",
    "\n",
    "ds_global = cat.terraclimate.raw_terraclimate.to_dask()"
   ]
  },
  {
   "cell_type": "code",
   "execution_count": null,
   "metadata": {},
   "outputs": [],
   "source": [
    "dem = xr.open_rasterio('https://storage.googleapis.com/carbonplan-data/processed/edna/conus/4000m/raster.tif').load()\n",
    "dem = dem.where(dem > -1000).squeeze(drop=True)\n",
    "ds_conus['dem'] = dem\n",
    "dem"
   ]
  },
  {
   "cell_type": "code",
   "execution_count": null,
   "metadata": {},
   "outputs": [],
   "source": [
    "\n",
    "awc = xr.open_rasterio('/home/jovyan/awc_4000m.tif').load()\n",
    "awc = awc.where(awc != 255).squeeze(drop=True)\n",
    "ds_conus['awc'] = awc\n",
    "awc"
   ]
  },
  {
   "cell_type": "code",
   "execution_count": null,
   "metadata": {},
   "outputs": [],
   "source": [
    "from metpy.calc import dewpoint\n",
    "from metpy.units import units\n",
    "import numpy as np\n",
    "from cmip6_downscaling.disagg import terraclimate"
   ]
  },
  {
   "cell_type": "code",
   "execution_count": null,
   "metadata": {},
   "outputs": [],
   "source": [
    "ds_conus"
   ]
  },
  {
   "cell_type": "code",
   "execution_count": null,
   "metadata": {},
   "outputs": [],
   "source": [
    "# df = ds_conus.isel(x=200, y=200).squeeze(drop=True).to_dataframe()\n",
    "df = ds_conus.sel(x=-2e6, y=3e6, method='nearest').squeeze(drop=True).to_dataframe()\n",
    "df['awc'] = df['awc'] / 100 * 1000"
   ]
  },
  {
   "cell_type": "code",
   "execution_count": null,
   "metadata": {},
   "outputs": [],
   "source": [
    "df_global = ds_global.sel(lat=df.lat[0], lon=df.lon[0], method='nearest').squeeze(drop=True).to_dataframe()\n",
    "df_global.head()"
   ]
  },
  {
   "cell_type": "code",
   "execution_count": null,
   "metadata": {},
   "outputs": [],
   "source": [
    "df.update(df_global)\n"
   ]
  },
  {
   "cell_type": "code",
   "execution_count": null,
   "metadata": {},
   "outputs": [],
   "source": [
    "df['tmean'] = (df.tmax + df.tmin) / 2\n",
    "df['tdew'] = np.asarray(dewpoint(df['vap'].values * units.pascal * 1000))\n",
    "df.head()"
   ]
  },
  {
   "cell_type": "code",
   "execution_count": null,
   "metadata": {},
   "outputs": [],
   "source": [
    "%time\n",
    "WM2_TO_MGM2D = 86400 / 1e6\n",
    "\n",
    "import pandas as pd\n",
    "import matplotlib.pyplot as plt\n",
    "\n",
    "df_v2 = pd.DataFrame(index=df.index, columns=['snowpack', 'h2o_input', 'albedo', 'et0', 'aet', 'soil', 'runoff'])\n",
    "# df['awc'] *= 25.4 * 10\n",
    "\n",
    "snowpack_prev = 0.\n",
    "tmean_prev = df['tmean'][0]\n",
    "soil_prev = 0 # df['awc'][0]\n",
    "\n",
    "for i, row in df.iterrows():\n",
    "    out = terraclimate.snowmod(\n",
    "        row['tmean'],\n",
    "        row['ppt'],\n",
    "        radiation=row['srad'] * WM2_TO_MGM2D,\n",
    "        snowpack_prev=snowpack_prev)\n",
    "    \n",
    "    out['et0'] = terraclimate.monthly_et0(\n",
    "        row['srad'] * WM2_TO_MGM2D,\n",
    "        row['tmax'],\n",
    "        row['tmin'],\n",
    "        row['ws'],\n",
    "        row['tdew'],\n",
    "        tmean_prev,\n",
    "        row['lat'],\n",
    "        row['dem'],\n",
    "        i.month - 1,\n",
    "    )\n",
    "\n",
    "    out.update(terraclimate.aetmod(\n",
    "        out['et0'],\n",
    "        out['h2o_input'],\n",
    "        row['awc'] ,\n",
    "        soil_prev=soil_prev))\n",
    "    df_v2.loc[i] = out\n",
    "    \n",
    "    tmean_prev = row['tmean']\n",
    "    snowpack_prev = out['snowpack']\n",
    "    soil_prev = out['soil']"
   ]
  },
  {
   "cell_type": "code",
   "execution_count": null,
   "metadata": {},
   "outputs": [],
   "source": [
    "var = 'runoff'\n",
    "s = slice(-48, None)\n",
    "df.q[s].plot(label='v1')\n",
    "df_v2[var][s].plot(label='v2')\n",
    "plt.legend()"
   ]
  },
  {
   "cell_type": "code",
   "execution_count": null,
   "metadata": {},
   "outputs": [],
   "source": [
    "s = slice(-48, None)\n",
    "df.pet[s].plot(label='pet-v1')\n",
    "# df_v2.et0[s].plot(label='et0-v2')\n",
    "df.aet[s].plot(label='v1')\n",
    "df_v2.aet[s].plot(label='v2')\n",
    "plt.legend()"
   ]
  },
  {
   "cell_type": "code",
   "execution_count": null,
   "metadata": {},
   "outputs": [],
   "source": [
    "s = slice(-72, None)\n",
    "df.swe[s].plot(label='v1')\n",
    "df_v2.snowpack[s].plot(label='v2')\n",
    "plt.legend()"
   ]
  },
  {
   "cell_type": "code",
   "execution_count": null,
   "metadata": {},
   "outputs": [],
   "source": [
    "s = slice(-48, None)\n",
    "df.ppt[s].plot(label='ppt')\n",
    "df.tmin[s].plot(label='tmin', secondary_y=True)\n",
    "plt.legend()"
   ]
  }
 ],
 "metadata": {
  "kernelspec": {
   "display_name": "Python 3",
   "language": "python",
   "name": "python3"
  },
  "language_info": {
   "codemirror_mode": {
    "name": "ipython",
    "version": 3
   },
   "file_extension": ".py",
   "mimetype": "text/x-python",
   "name": "python",
   "nbconvert_exporter": "python",
   "pygments_lexer": "ipython3",
   "version": "3.7.8"
  }
 },
 "nbformat": 4,
 "nbformat_minor": 4
}
