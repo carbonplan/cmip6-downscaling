{
 "cells": [
  {
   "cell_type": "code",
   "execution_count": null,
   "metadata": {},
   "outputs": [],
   "source": [
    "%load_ext autoreload\n",
    "%autoreload 2\n",
    "\n",
    "import zarr\n",
    "import xarray as xr\n",
    "import os\n",
    "import numpy as np\n",
    "import matplotlib.pyplot as plt\n",
    "\n",
    "from carbonplan.data import cat\n",
    "from cmip6_downscaling.disagg import terraclimate\n",
    "from cmip6_downscaling.disagg.derived_variables import process"
   ]
  },
  {
   "cell_type": "code",
   "execution_count": null,
   "metadata": {},
   "outputs": [],
   "source": [
    "from dask.distributed import Client\n",
    "\n",
    "client = Client(n_workers=8, threads_per_worker=1)\n",
    "client"
   ]
  },
  {
   "cell_type": "code",
   "execution_count": null,
   "metadata": {},
   "outputs": [],
   "source": [
    "ds_conus = cat.terraclimate.terraclimate.to_dask()\n",
    "ds_grid = cat.grids.conus4k.to_dask().drop([\"lat\", \"lon\", \"lon_b\", \"lat_b\"])"
   ]
  },
  {
   "cell_type": "code",
   "execution_count": null,
   "metadata": {},
   "outputs": [],
   "source": [
    "ds_conus = process(ds_conus)\n",
    "ds_conus = ds_conus.update(ds_grid)\n",
    "ds_conus"
   ]
  },
  {
   "cell_type": "code",
   "execution_count": null,
   "metadata": {},
   "outputs": [],
   "source": [
    "ds_conus[\"awc\"] = np.maximum(ds_conus[\"awc\"], ds_conus[\"soil\"].max(\"time\"))"
   ]
  },
  {
   "cell_type": "code",
   "execution_count": null,
   "metadata": {},
   "outputs": [],
   "source": [
    "data = {}\n",
    "# somewhere in idaho\n",
    "data[\"idaho\"] = (\n",
    "    ds_conus.isel(x=200, y=200).squeeze(drop=True).load().to_dataframe()\n",
    ")\n",
    "\n",
    "# kitsap peninsula\n",
    "data[\"kitsap\"] = (\n",
    "    ds_conus.sel(x=-2e6, y=3e6, method=\"nearest\")\n",
    "    .squeeze(drop=True)\n",
    "    .load()\n",
    "    .to_dataframe()\n",
    ")\n",
    "\n",
    "# west slopes colorado rockies\n",
    "data[\"colorado\"] = (\n",
    "    ds_conus.sel(x=-1e6, y=2e6, method=\"nearest\")\n",
    "    .squeeze(drop=True)\n",
    "    .load()\n",
    "    .to_dataframe()\n",
    ")\n",
    "\n",
    "# southeast\n",
    "data[\"southeast\"] = (\n",
    "    ds_conus.sel(x=1e6, y=1e6, method=\"nearest\")\n",
    "    .squeeze(drop=True)\n",
    "    .load()\n",
    "    .to_dataframe()\n",
    ")"
   ]
  },
  {
   "cell_type": "code",
   "execution_count": null,
   "metadata": {},
   "outputs": [],
   "source": [
    "# run our version of the terraclimate hydrology model for all points\n",
    "v2 = {}\n",
    "for k, df_point in data.items():\n",
    "    awc = df_point[\"awc\"][0]\n",
    "    elev = df_point[\"elevation\"][0]\n",
    "    lat = df_point[\"lat\"][0]\n",
    "\n",
    "    v2[k] = terraclimate.model(df_point, awc, lat, elev)"
   ]
  },
  {
   "cell_type": "code",
   "execution_count": null,
   "metadata": {},
   "outputs": [],
   "source": [
    "def plot_points(v1, v2, var=\"pdsi\", tslice=slice(200, 300)):\n",
    "\n",
    "    fig, axes = plt.subplots(ncols=len(v2), figsize=(24, 4))\n",
    "\n",
    "    for i, k in enumerate(v2):\n",
    "        v1[k][var][tslice].plot(label=\"v1\", ax=axes[i])\n",
    "        v2[k][var][tslice].plot(label=\"v2\", ax=axes[i])\n",
    "        axes[i].set_title(k.title())\n",
    "\n",
    "    plt.ylabel(var)\n",
    "    plt.legend()\n",
    "\n",
    "    return fig, axes"
   ]
  },
  {
   "cell_type": "code",
   "execution_count": null,
   "metadata": {},
   "outputs": [],
   "source": [
    "fig, axes = plot_points(data, v2, var=\"pdsi\")"
   ]
  },
  {
   "cell_type": "code",
   "execution_count": null,
   "metadata": {},
   "outputs": [],
   "source": [
    "fig, axes = plot_points(data, v2, var=\"pet\")"
   ]
  },
  {
   "cell_type": "code",
   "execution_count": null,
   "metadata": {},
   "outputs": [],
   "source": [
    "fig, axes = plot_points(data, v2, var=\"swe\")"
   ]
  },
  {
   "cell_type": "code",
   "execution_count": null,
   "metadata": {},
   "outputs": [],
   "source": [
    "fig, axes = plot_points(data, v2, var=\"aet\")"
   ]
  },
  {
   "cell_type": "code",
   "execution_count": null,
   "metadata": {},
   "outputs": [],
   "source": [
    "fig, axes = plot_points(data, v2, var=\"soil\")"
   ]
  },
  {
   "cell_type": "code",
   "execution_count": null,
   "metadata": {},
   "outputs": [],
   "source": [
    "fig, axes = plot_points(data, v2, var=\"q\")"
   ]
  },
  {
   "cell_type": "code",
   "execution_count": null,
   "metadata": {},
   "outputs": [],
   "source": [
    "fig, axes = plot_points(data, v2, var=\"def\")"
   ]
  }
 ],
 "metadata": {
  "kernelspec": {
   "display_name": "Python [conda env:notebook] *",
   "language": "python",
   "name": "conda-env-notebook-py"
  },
  "language_info": {
   "codemirror_mode": {
    "name": "ipython",
    "version": 3
   },
   "file_extension": ".py",
   "mimetype": "text/x-python",
   "name": "python",
   "nbconvert_exporter": "python",
   "pygments_lexer": "ipython3",
   "version": "3.7.8"
  }
 },
 "nbformat": 4,
 "nbformat_minor": 4
}
