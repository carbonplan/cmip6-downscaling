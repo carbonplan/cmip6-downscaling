{
 "cells": [
  {
   "cell_type": "code",
   "execution_count": null,
   "id": "fe7a5d0e-6a8f-41aa-adc0-9f0c19e8dcc3",
   "metadata": {},
   "outputs": [],
   "source": [
    "import numpy as np\n",
    "import xarray as xr\n",
    "import regionmask"
   ]
  },
  {
   "cell_type": "code",
   "execution_count": null,
   "id": "26f1dfab-bcb7-4ffa-97b7-2c823c5c02bd",
   "metadata": {},
   "outputs": [],
   "source": [
    "ds = xr.open_zarr(\n",
    "    'az://training/ERA5_daily/2000/', storage_options={'account_name': 'cmip6downscaling'}\n",
    ").head(time=10)\n",
    "ds"
   ]
  },
  {
   "cell_type": "code",
   "execution_count": null,
   "id": "d310cc9f-54cd-4c0d-94b0-14dd1a93f6a6",
   "metadata": {},
   "outputs": [],
   "source": [
    "regionmask.defined_regions.ar6.land.plot()"
   ]
  },
  {
   "cell_type": "code",
   "execution_count": null,
   "id": "fdde2c3c-34a7-4cda-85b4-7d5c8c9626d9",
   "metadata": {},
   "outputs": [],
   "source": [
    "mask = regionmask.defined_regions.ar6.land.mask(ds)"
   ]
  },
  {
   "cell_type": "code",
   "execution_count": null,
   "id": "a3797b86-9b50-4586-ada4-acae55e0fadd",
   "metadata": {},
   "outputs": [],
   "source": [
    "mask.plot()"
   ]
  },
  {
   "cell_type": "code",
   "execution_count": null,
   "id": "03a3769b-d8b3-4d94-84c0-a12108d64c8e",
   "metadata": {},
   "outputs": [],
   "source": [
    "# split dataset into regions\n",
    "\n",
    "pieces = {}\n",
    "\n",
    "for key, group in ds['tasmax'].groupby(mask):\n",
    "    pieces[key] = group.unstack('stacked_lat_lon')\n",
    "\n",
    "# plot sample region\n",
    "pieces[0].isel(time=0).plot()"
   ]
  },
  {
   "cell_type": "code",
   "execution_count": null,
   "id": "7023b0f9-9cc7-430a-8c63-29ea7cc33537",
   "metadata": {},
   "outputs": [],
   "source": [
    "# Next:\n",
    "# - given a dictionary of xarray datasets from the ar6 regions, merge into a single dataset\n",
    "# - things to consider:\n",
    "#   - memory use\n",
    "#   - overlapping bounds\n",
    "#   - wrapped coordinates (for example, region `1` will not plot due to unsorted coordinates)"
   ]
  },
  {
   "cell_type": "code",
   "execution_count": null,
   "id": "31282646-7d86-496c-a279-3bb034b144f3",
   "metadata": {},
   "outputs": [],
   "source": [
    "# Create a new dataset with the expected shape\n",
    "expected_ds = xr.full_like(ds[['tasmax']], np.nan)"
   ]
  },
  {
   "cell_type": "code",
   "execution_count": null,
   "id": "c1ead745",
   "metadata": {},
   "outputs": [],
   "source": [
    "# Sort the pieces by geographic coordinates and merge into a single dataset\n",
    "combined_ds = xr.merge(\n",
    "    [expected_ds, xr.merge((da.sortby([\"lat\", \"lon\"]) for da in pieces.values()))], join=\"left\"\n",
    ")"
   ]
  },
  {
   "cell_type": "code",
   "execution_count": null,
   "id": "adb516e8",
   "metadata": {},
   "outputs": [],
   "source": [
    "# Check that the original and reconstructed data are identical\n",
    "xr.testing.assert_identical(ds['tasmax'].where(mask >= 0), combined_ds['tasmax'])"
   ]
  }
 ],
 "metadata": {
  "kernelspec": {
   "display_name": "Python 3 (ipykernel)",
   "language": "python",
   "name": "python3"
  },
  "language_info": {
   "codemirror_mode": {
    "name": "ipython",
    "version": 3
   },
   "file_extension": ".py",
   "mimetype": "text/x-python",
   "name": "python",
   "nbconvert_exporter": "python",
   "pygments_lexer": "ipython3",
   "version": "3.9.12"
  }
 },
 "nbformat": 4,
 "nbformat_minor": 5
}
