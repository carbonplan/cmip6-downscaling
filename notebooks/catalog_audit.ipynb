{
 "cells": [
  {
   "cell_type": "code",
   "execution_count": null,
   "id": "b6c5b1a4-6379-4f60-a34a-8d15796534ff",
   "metadata": {},
   "outputs": [],
   "source": [
    "import pandas as pd\n",
    "from pandas.errors import OutOfBoundsDatetime\n",
    "import xarray as xr\n",
    "from tqdm import tqdm\n",
    "from cmip6_downscaling.data import cat\n",
    "from cmip6_downscaling.data.cmip import get_gcm\n",
    "import intake\n",
    "\n",
    "az_col = cat.cmip6()\n",
    "gcs_col = intake.open_esm_datastore(\"https://storage.googleapis.com/cmip6/pangeo-cmip6.json\")"
   ]
  },
  {
   "cell_type": "code",
   "execution_count": 2,
   "id": "c95ff7cc-d509-4d46-91f2-61bfb1dc3b9e",
   "metadata": {},
   "outputs": [],
   "source": [
    "variable_id_list = ['tasmax', 'tasmin', 'pr']\n",
    "experiment_id_list = ['historical', 'ssp245', 'ssp370', 'ssp585']\n",
    "query = dict(\n",
    "    table_id='day',\n",
    "    grid_label='gn',\n",
    "    variable_id=variable_id_list,\n",
    "    experiment_id=experiment_id_list,\n",
    ")\n",
    "col_subset = az_col.search(require_all_on=[\"variable_id\", \"experiment_id\"], **query)\n",
    "col_subset_df = col_subset.df\n",
    "group_result = col_subset_df.groupby([\"source_id\", \"member_id\"])[\n",
    "    [\"experiment_id\", \"variable_id\"]\n",
    "].nunique()\n",
    "filtered_group_result = group_result[\n",
    "    (group_result['experiment_id'] >= len(experiment_id_list))\n",
    "    & (group_result['variable_id'] >= len(variable_id_list))\n",
    "].reset_index()\n",
    "catalog_filtered = pd.merge(\n",
    "    filtered_group_result,\n",
    "    col_subset_df,\n",
    "    left_on=['source_id', 'member_id'],\n",
    "    right_on=['source_id', 'member_id'],\n",
    "    how='inner',\n",
    ")"
   ]
  },
  {
   "cell_type": "code",
   "execution_count": 3,
   "id": "0169efe5-0b95-4b19-b3e3-9c1db7ca4b20",
   "metadata": {},
   "outputs": [],
   "source": [
    "# invalid_val_list =['az://cmip6/ScenarioMIP/NCAR/CESM2/ssp585/r11i1p1f1/day/pr/gn/v20200528/',\n",
    "#  'az://cmip6/CMIP/CCCma/CanESM5/historical/r18i1p2f1/day/pr/gn/v20190429/',\n",
    "#  'az://cmip6/ScenarioMIP/CCCma/CanESM5/ssp585/r4i1p1f1/day/tasmax/gn/v20190429/',\n",
    "#  'az://cmip6/CMIP/MPI-M/MPI-ESM1-2-LR/historical/r2i1p1f1/day/tasmax/gn/v20190710/',\n",
    "#  'az://cmip6/ScenarioMIP/MRI/MRI-ESM2-0/ssp245/r2i1p1f1/day/pr/gn/v20210830/']\n",
    "invalid_val_list = []\n",
    "for val in tqdm(catalog_filtered['zstore'].to_list()):\n",
    "    try:\n",
    "        ds = xr.open_zarr(val)\n",
    "        # print(ds.time.min().values.astype(str))\n",
    "    except:\n",
    "        invalid_val_list.append(val)\n",
    "\n",
    "# removes invalid stores from filtered catalog\n",
    "catalog_filtered_clean = catalog_filtered[~catalog_filtered['zstore'].isin(invalid_val_list)]\n",
    "catalog_filtered_clean.to_csv('az://static/valid_gcm_members.csv', index=False)"
   ]
  }
 ],
 "metadata": {
  "kernelspec": {
   "display_name": "Python 3 (ipykernel)",
   "language": "python",
   "name": "python3"
  },
  "language_info": {
   "codemirror_mode": {
    "name": "ipython",
    "version": 3
   },
   "file_extension": ".py",
   "mimetype": "text/x-python",
   "name": "python",
   "nbconvert_exporter": "python",
   "pygments_lexer": "ipython3",
   "version": "3.9.12"
  }
 },
 "nbformat": 4,
 "nbformat_minor": 5
}
