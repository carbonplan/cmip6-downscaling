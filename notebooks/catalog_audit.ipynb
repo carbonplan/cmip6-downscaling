{
 "cells": [
  {
   "cell_type": "code",
   "execution_count": null,
   "id": "b6c5b1a4-6379-4f60-a34a-8d15796534ff",
   "metadata": {},
   "outputs": [],
   "source": [
    "import pandas as pd\n",
    "from cmip6_downscaling.data import cat\n",
    "import intake"
   ]
  },
  {
   "cell_type": "code",
   "execution_count": null,
   "id": "8625eaae-a9ae-4a4c-b41d-596952204b1c",
   "metadata": {},
   "outputs": [],
   "source": [
    "def return_valid_gcms(col):\n",
    "    gcm_list = []\n",
    "    member_id_list = []\n",
    "    historical = col.search(\n",
    "        activity_id='CMIP',\n",
    "        experiment_id='historical',\n",
    "        table_id='day',\n",
    "        grid_label='gn',\n",
    "        variable_id=['tasmax', 'tasmin', 'pr'],\n",
    "    )\n",
    "    ssps = col.search(\n",
    "        activity_id='ScenarioMIP',\n",
    "        table_id='day',\n",
    "        grid_label='gn',\n",
    "        variable_id=['tasmax', 'tasmin', 'pr'],\n",
    "    )\n",
    "    # list of gcms that share historical and ssps scenarios\n",
    "    gcm_id_list = list(set(ssps.df.source_id.unique()) & set(historical.df.source_id.unique()))\n",
    "\n",
    "    for gcm_id in gcm_id_list:\n",
    "        # select historical and ssps dfs for corresponding gcm\n",
    "        ssps_df = ssps.df[['experiment_id', 'source_id', 'member_id', 'variable_id']]\n",
    "        ssps_df = ssps_df[ssps_df['source_id'] == gcm_id]\n",
    "        historical_df = historical.df[['experiment_id', 'source_id', 'member_id', 'variable_id']]\n",
    "        historical_df = historical_df[historical_df['source_id'] == gcm_id]\n",
    "\n",
    "        # list of member ids shared between historical and ssps\n",
    "        shared_member_ids = list(\n",
    "            set(ssps_df.member_id.unique()) & set(historical_df.member_id.unique())\n",
    "        )\n",
    "        print(gcm_id)\n",
    "        print(shared_member_ids)\n",
    "        for mem_id in shared_member_ids:\n",
    "            member_historical_df = historical_df[historical_df['member_id'] == mem_id]\n",
    "            member_ssps_df = ssps_df[ssps_df['member_id'] == mem_id]\n",
    "            merge_df = member_historical_df.merge(\n",
    "                member_ssps_df,\n",
    "                left_on=['member_id', 'variable_id'],\n",
    "                right_on=['member_id', 'variable_id'],\n",
    "                how='inner',\n",
    "            )\n",
    "            if len(merge_df) >= 9:\n",
    "                gcm_list.append(gcm_id)\n",
    "                member_id_list.append(mem_id)\n",
    "    valid_df = pd.DataFrame({'GCM': gcm_list, 'member_id': member_id_list})\n",
    "    return valid_df"
   ]
  },
  {
   "cell_type": "code",
   "execution_count": null,
   "id": "d815769f-84c8-44a1-8040-133152e49fc6",
   "metadata": {},
   "outputs": [],
   "source": [
    "az_col = cat.cmip6()\n",
    "gcs_col = intake.open_esm_datastore(\"https://storage.googleapis.com/cmip6/pangeo-cmip6.json\")"
   ]
  },
  {
   "cell_type": "code",
   "execution_count": null,
   "id": "81b8e921-301b-4762-9060-11044a075249",
   "metadata": {},
   "outputs": [],
   "source": [
    "az_valid_df = return_valid_gcms(az_col)\n",
    "gcs_valid_df = return_valid_gcms(gcs_col)\n",
    "az_valid_df.columns = ['az_GCM', 'az_member_id']\n",
    "gcs_valid_df.columns = ['gcs_GCM', 'gcs_member_id']\n",
    "az_gcp_compare = pd.merge(\n",
    "    az_valid_df,\n",
    "    gcs_valid_df,\n",
    "    right_on=['gcs_GCM', 'gcs_member_id'],\n",
    "    left_on=['az_GCM', 'az_member_id'],\n",
    "    how='outer',\n",
    ")\n",
    "az_gcp_compare.to_csv('az_vs_gcp_catalog.csv', index=False)"
   ]
  },
  {
   "cell_type": "code",
   "execution_count": null,
   "id": "6eb24e5b-b93d-4ff0-8ae4-3672b8d3cfd5",
   "metadata": {},
   "outputs": [],
   "source": []
  },
  {
   "cell_type": "code",
   "execution_count": null,
   "id": "bc8e2245-75be-428c-ae04-6549c4253c40",
   "metadata": {},
   "outputs": [],
   "source": [
    "import planetary_computer\n",
    "import xarray as xr\n",
    "import fsspec\n",
    "import pystac_client\n",
    "\n",
    "catalog = pystac_client.Client.open(\"https://planetarycomputer.microsoft.com/api/stac/v1/\")\n",
    "collection = catalog.get_collection(\"nasa-nex-gddp-cmip6\")\n",
    "colection_list = collection.summaries.get_list(\"cmip6:model\")"
   ]
  },
  {
   "cell_type": "code",
   "execution_count": null,
   "id": "f22e06be-614d-4540-8160-580731ea3f81",
   "metadata": {},
   "outputs": [],
   "source": [
    "az_list = az_valid_df['az_GCM'].to_list()"
   ]
  },
  {
   "cell_type": "code",
   "execution_count": null,
   "id": "04a8456e-6962-40f3-8519-4947c728bc0e",
   "metadata": {},
   "outputs": [],
   "source": [
    "pc_az_overlap = set(az_list) & set(colection_list)"
   ]
  }
 ],
 "metadata": {
  "kernelspec": {
   "display_name": "Python 3 (ipykernel)",
   "language": "python",
   "name": "python3"
  },
  "language_info": {
   "codemirror_mode": {
    "name": "ipython",
    "version": 3
   },
   "file_extension": ".py",
   "mimetype": "text/x-python",
   "name": "python",
   "nbconvert_exporter": "python",
   "pygments_lexer": "ipython3",
   "version": "3.9.12"
  }
 },
 "nbformat": 4,
 "nbformat_minor": 5
}
