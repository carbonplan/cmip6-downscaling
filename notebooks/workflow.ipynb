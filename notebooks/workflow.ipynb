{
 "cells": [
  {
   "cell_type": "code",
   "execution_count": null,
   "id": "f85078e4-8df2-40a5-8f94-4ba83d721b31",
   "metadata": {},
   "outputs": [],
   "source": [
    "import intake\n",
    "import os\n",
    "import zarr"
   ]
  },
  {
   "cell_type": "code",
   "execution_count": null,
   "id": "a4be9fad-a0d7-4bcd-b6dd-7bb816eb147e",
   "metadata": {},
   "outputs": [],
   "source": [
    "col_url = (\n",
    "    \"https://cmip6downscaling.blob.core.windows.net/cmip6/pangeo-cmip6.json\"\n",
    ")\n",
    "\n",
    "col = intake.open_esm_datastore(col_url)\n",
    "\n",
    "full_subset = col.search(\n",
    "    activity_id=[\"CMIP\", \"ScenarioMIP\"],\n",
    "    experiment_id=[\"historical\"],  # , \"ssp245\", \"ssp370\", \"ssp585\"\n",
    "    member_id=\"r1i1p1f1\",\n",
    "    source_id=\"BCC-CSM2-MR\",\n",
    "    table_id=\"day\",\n",
    "    grid_label=\"gn\",\n",
    "    variable_id=[\"tasmax\"],  # tasmax, tasmin, pr\n",
    ")"
   ]
  },
  {
   "cell_type": "code",
   "execution_count": null,
   "id": "c17a3835-eee1-4a39-9004-b3e7fd6b6ded",
   "metadata": {},
   "outputs": [],
   "source": [
    "def get_store(bucket, prefix, account_key=None):\n",
    "    \"\"\"helper function to create a zarr store\"\"\"\n",
    "\n",
    "    if account_key is None:\n",
    "        account_key = os.environ.get(\"AccountKey\", None)\n",
    "\n",
    "    store = zarr.storage.ABSStore(\n",
    "        bucket,\n",
    "        prefix=prefix,\n",
    "        account_name=\"cmip6downscaling\",\n",
    "        account_key=account_key,\n",
    "    )\n",
    "    return store"
   ]
  },
  {
   "cell_type": "code",
   "execution_count": null,
   "id": "4a0474bb-2b6a-4a0a-b22c-c38e3572749b",
   "metadata": {},
   "outputs": [],
   "source": [
    "full_subset.df[\"zstore\"].item()"
   ]
  },
  {
   "cell_type": "code",
   "execution_count": null,
   "id": "cdce4dad-a7e5-472a-b3c5-09fc591f32f8",
   "metadata": {},
   "outputs": [],
   "source": [
    "get_store(\n",
    "    bucket=\"cmip6\",\n",
    "    prefix=\"CMIP/BCC/BCC-CSM2-MR/historical/r1i1p1f1/day/pr/gn/v20181126/\",\n",
    ")"
   ]
  },
  {
   "cell_type": "code",
   "execution_count": null,
   "id": "eecb6602-f988-4e6d-a49a-37e7c939cba8",
   "metadata": {},
   "outputs": [],
   "source": [
    "ds = full_subset.to_dataset_dict(\n",
    "    zarr_kwargs={\n",
    "        \"consolidated\": True,\n",
    "        \"decode_times\": True,\n",
    "        \"use_cftime\": True,\n",
    "    },\n",
    "    storage_options={\n",
    "        \"account_name\": \"cmip6downscaling\",\n",
    "        \"account_key\": os.environ.get(\"AccountKey\", None),\n",
    "    },\n",
    ")"
   ]
  },
  {
   "cell_type": "code",
   "execution_count": null,
   "id": "f6885d07-23d6-4507-9f83-247305271f5f",
   "metadata": {},
   "outputs": [],
   "source": [
    "ds['CMIP.BCC.BCC-CSM2-MR.historical.day.gn'].tasmax.isel(time=slice(0,30))."
   ]
  },
  {
   "cell_type": "code",
   "execution_count": null,
   "id": "18c336f7-0f77-4f65-a0ea-79350607c2c4",
   "metadata": {},
   "outputs": [],
   "source": [
    "ds[\"CMIP.BCC.BCC-CSM2-MR.historical.day.gn\"]"
   ]
  },
  {
   "cell_type": "code",
   "execution_count": null,
   "id": "d87b1c21-04b9-4a7a-96df-8748e28d650a",
   "metadata": {},
   "outputs": [],
   "source": [
    "def downscale(method_specs):\n",
    "    downscale_model = get_model(method_specs, model_params=method_specs)\n",
    "    downscale_model.prep()  # calls regrid\n",
    "    downscale_model.fit()  # quantile mapping\n",
    "    downscale_model.predict()\n",
    "    downscale_model.eval()"
   ]
  },
  {
   "cell_type": "code",
   "execution_count": null,
   "id": "eea01c91-ff83-440f-8a17-5a69850b713f",
   "metadata": {},
   "outputs": [],
   "source": [
    "def get_model():\n",
    "    ensure_consistency(\n",
    "        method_specs, obs\n",
    "    )  # either check that params match obs or that obs can be coerced into matching specs\n",
    "    return quantile_mapping  # this will be a class"
   ]
  },
  {
   "cell_type": "code",
   "execution_count": null,
   "id": "1e6f58a5-c1c4-41c8-a237-521ffc036d42",
   "metadata": {},
   "outputs": [],
   "source": [
    "def quantile_mapping(gcm, obs)"
   ]
  },
  {
   "cell_type": "code",
   "execution_count": null,
   "id": "b71429d5-f861-48c1-a126-3b30a17ff09e",
   "metadata": {},
   "outputs": [],
   "source": [
    "# grab a gcm\n",
    "# grab training data\n",
    "downscale(method_specs={'name': 'quantile_mapping',  # when you regrid gets decided by the method 'chiao'\n",
    "#                         'varibles':\n",
    "#                         'spatial_resolution': ,\n",
    "#                         'temporal_resolution':}, \n",
    "                        # which choices do we want to expose and test/run multiple permutations of\n",
    "          gcm=gcm, \n",
    "          scenario=scenario, \n",
    "          region='global', \n",
    "         )\n",
    "evaluate_performance() \n",
    "# gcm changes and metrics AND obs ;\n",
    "# how well is it actually bias-corrected- what biases remain?\n",
    "evaluate_changes() # store the change signal? "
   ]
  },
  {
   "cell_type": "markdown",
   "id": "e4c2d3a2-5159-4b51-a64e-cadcfad015b8",
   "metadata": {},
   "source": [
    "thoughts:\n",
    "\n",
    "- when to take from raw gcm grid to output - depends on method (maybe a\n",
    "  downscaling method will keep it on its raw grid and find nearest neighbor or\n",
    "  patterns?)\n",
    "- what about other cmip6 experiments (not just scenario mip)\n"
   ]
  }
 ],
 "metadata": {
  "kernelspec": {
   "display_name": "Python 3 (ipykernel)",
   "language": "python",
   "name": "python3"
  },
  "language_info": {
   "codemirror_mode": {
    "name": "ipython",
    "version": 3
   },
   "file_extension": ".py",
   "mimetype": "text/x-python",
   "name": "python",
   "nbconvert_exporter": "python",
   "pygments_lexer": "ipython3",
   "version": "3.9.7"
  }
 },
 "nbformat": 4,
 "nbformat_minor": 5
}
