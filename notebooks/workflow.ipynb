{
 "cells": [
  {
   "cell_type": "code",
   "execution_count": null,
   "id": "152be33d",
   "metadata": {},
   "outputs": [],
   "source": [
    "import intake\n",
    "import os\n",
    "import zarr"
   ]
  },
  {
   "cell_type": "code",
   "execution_count": null,
   "id": "324c01a6",
   "metadata": {},
   "outputs": [],
   "source": [
    "col_url = \"https://cmip6downscaling.blob.core.windows.net/cmip6/pangeo-cmip6.json\"\n",
    "\n",
    "col = intake.open_esm_datastore(col_url)\n",
    "\n",
    "full_subset = col.search(\n",
    "    activity_id=[\"CMIP\", \"ScenarioMIP\"],\n",
    "    experiment_id=[\"historical\"],  # , \"ssp245\", \"ssp370\", \"ssp585\"\n",
    "    member_id=\"r1i1p1f1\",\n",
    "    source_id=\"BCC-CSM2-MR\",\n",
    "    table_id=\"day\",\n",
    "    grid_label=\"gn\",\n",
    "    variable_id=[\"tasmax\"],  # tasmax, tasmin, pr\n",
    ")"
   ]
  },
  {
   "cell_type": "code",
   "execution_count": null,
   "id": "ff05d67a",
   "metadata": {},
   "outputs": [],
   "source": [
    "def get_store(bucket, prefix, account_key=None):\n",
    "    \"\"\"helper function to create a zarr store\"\"\"\n",
    "\n",
    "    if account_key is None:\n",
    "        account_key = os.environ.get(\"AccountKey\", None)\n",
    "\n",
    "    store = zarr.storage.ABSStore(\n",
    "        bucket,\n",
    "        prefix=prefix,\n",
    "        account_name=\"cmip6downscaling\",\n",
    "        account_key=account_key,\n",
    "    )\n",
    "    return store"
   ]
  },
  {
   "cell_type": "code",
   "execution_count": null,
   "id": "1e57a080",
   "metadata": {},
   "outputs": [],
   "source": [
    "full_subset.df[\"zstore\"].item()"
   ]
  },
  {
   "cell_type": "code",
   "execution_count": null,
   "id": "1fc8c1d1",
   "metadata": {},
   "outputs": [],
   "source": [
    "get_store(\n",
    "    bucket=\"cmip6\",\n",
    "    prefix=\"CMIP/BCC/BCC-CSM2-MR/historical/r1i1p1f1/day/pr/gn/v20181126/\",\n",
    ")"
   ]
  },
  {
   "cell_type": "code",
   "execution_count": null,
   "id": "81e2ae73",
   "metadata": {},
   "outputs": [],
   "source": [
    "ds = full_subset.to_dataset_dict(\n",
    "    zarr_kwargs={\n",
    "        \"consolidated\": True,\n",
    "        \"decode_times\": True,\n",
    "        \"use_cftime\": True,\n",
    "    },\n",
    "    storage_options={\n",
    "        \"account_name\": \"cmip6downscaling\",\n",
    "        \"account_key\": os.environ.get(\"AccountKey\", None),\n",
    "    },\n",
    ")"
   ]
  },
  {
   "cell_type": "code",
   "execution_count": null,
   "id": "2ecd22ef",
   "metadata": {},
   "outputs": [],
   "source": [
    "ds['CMIP.BCC.BCC-CSM2-MR.historical.day.gn'].tasmax.isel(time=slice(0,30))."
   ]
  },
  {
   "cell_type": "code",
   "execution_count": null,
   "id": "4f41a1b6",
   "metadata": {},
   "outputs": [],
   "source": [
    "ds[\"CMIP.BCC.BCC-CSM2-MR.historical.day.gn\"]"
   ]
  },
  {
   "cell_type": "code",
   "execution_count": null,
   "id": "cde0c1b3",
   "metadata": {},
   "outputs": [],
   "source": [
    "def downscale(method_specs):\n",
    "    downscale_model = get_model(method_specs, model_params=method_specs)\n",
    "    downscale_model.prep()  # calls regrid\n",
    "    downscale_model.fit()  # quantile mapping\n",
    "    downscale_model.predict()\n",
    "    downscale_model.eval()"
   ]
  },
  {
   "cell_type": "code",
   "execution_count": null,
   "id": "8d4f9e0d",
   "metadata": {},
   "outputs": [],
   "source": [
    "def get_model():\n",
    "    ensure_consistency(\n",
    "        method_specs, obs\n",
    "    )  # either check that params match obs or that obs can be coerced into matching specs\n",
    "    return quantile_mapping  # this will be a class"
   ]
  },
  {
   "cell_type": "code",
   "execution_count": null,
   "id": "356a54a5",
   "metadata": {},
   "outputs": [],
   "source": [
    "def quantile_mapping(gcm, obs):\n",
    "    pass"
   ]
  },
  {
   "cell_type": "code",
   "execution_count": null,
   "id": "1e90be18",
   "metadata": {},
   "outputs": [],
   "source": [
    "# # grab a gcm\n",
    "# # grab training data\n",
    "# downscale(method_specs={'name': 'quantile_mapping',  # when you regrid gets decided by the method 'chiao'\n",
    "# #                         'varibles':\n",
    "# #                         'spatial_resolution': ,\n",
    "# #                         'temporal_resolution':},\n",
    "#                         # which choices do we want to expose and test/run multiple permutations of\n",
    "#           gcm=gcm,\n",
    "#           scenario=scenario,\n",
    "#           region='global'}\n",
    "#          )\n",
    "# evaluate_performance()\n",
    "# # gcm changes and metrics AND obs\n",
    "# # how well is it actually bias-corrected- what biases remain?\n",
    "# evaluate_changes() # store the change signal?"
   ]
  },
  {
   "cell_type": "markdown",
   "id": "e64ae926",
   "metadata": {},
   "source": [
    "thoughts:\n",
    "\n",
    "- when to take from raw gcm grid to output - depends on method (maybe a\n",
    "  downscaling method will keep it on its raw grid and find nearest neighbor or\n",
    "  patterns?)\n",
    "- what about other cmip6 experiments (not just scenario mip)\n"
   ]
  }
 ],
 "metadata": {
  "kernelspec": {
   "display_name": "Python 3 (ipykernel)",
   "language": "python",
   "name": "python3"
  },
  "language_info": {
   "codemirror_mode": {
    "name": "ipython",
    "version": 3
   },
   "file_extension": ".py",
   "mimetype": "text/x-python",
   "name": "python",
   "nbconvert_exporter": "python",
   "pygments_lexer": "ipython3",
   "version": "3.9.9"
  }
 },
 "nbformat": 4,
 "nbformat_minor": 5
}
