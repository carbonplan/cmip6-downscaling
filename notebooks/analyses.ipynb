{
 "cells": [
  {
   "cell_type": "code",
   "execution_count": null,
   "id": "d6bcde1c-c12b-4e19-9511-d56513f32495",
   "metadata": {
    "tags": []
   },
   "outputs": [],
   "source": [
    "%load_ext autoreload\n",
    "%autoreload 2\n",
    "import os\n",
    "\n",
    "os.environ[\"PREFECT__FLOWS__CHECKPOINTING\"] = \"True\"\n",
    "\n",
    "import fsspec\n",
    "import pandas as pd\n",
    "import xarray as xr\n",
    "import numpy as np\n",
    "import cmip6_downscaling\n",
    "import numpy as np\n",
    "from xarray_schema import DataArraySchema, DatasetSchema\n",
    "\n",
    "from cmip6_downscaling.data.observations import open_era5\n",
    "from cmip6_downscaling.data.cmip import get_gcm, load_cmip\n",
    "from dask.distributed import Client, LocalCluster\n",
    "import warnings\n",
    "warnings.filterwarnings(\"ignore\")\n",
    "import pytest\n",
    "from cmip6_downscaling.analysis import analysis, metrics\n",
    "from cmip6_downscaling.analysis import load\n",
    "from cmip6_downscaling.analysis.analysis import qaqc_checks, grab_top_city_data, load_top_cities, get_seasonal, change_ds\n",
    "from cmip6_downscaling.analysis.plot import plot_cdfs, plot_values_and_difference, plot_seasonal\n",
    "from cmip6_downscaling.analysis.qaqc import make_qaqc_ds\n",
    "import matplotlib.pyplot as plt\n",
    "import cartopy.crs as ccrs\n",
    "\n",
    "from carbonplan import styles\n",
    "\n",
    "styles.mpl.set_theme(style='carbonplan_light')\n"
   ]
  },
  {
   "cell_type": "code",
   "execution_count": null,
   "id": "dd95ae7e-c9ed-4b53-9669-923aecf3957e",
   "metadata": {},
   "outputs": [],
   "source": [
    "cluster = LocalCluster()\n",
    "client = Client(cluster)"
   ]
  },
  {
   "cell_type": "code",
   "execution_count": null,
   "id": "47804031-f7b5-49a9-b4ad-e3b67f3315c4",
   "metadata": {
    "tags": [
     "parameters"
    ]
   },
   "outputs": [],
   "source": [
    "# Pass as a parameter to be used by papermill: the runid which will be used to create the template for the raw and summary files\n",
    "run_id = \"MIROC6_ssp370_1991_1995_2071_2075_tasmax_21_day_3_year_rolling\"\n",
    "var = \"tasmax\"\n",
    "gcm = \"MIROC6\"\n",
    "scenario = \"ssp370\""
   ]
  },
  {
   "cell_type": "markdown",
   "id": "62e1930b-e0d9-4916-b0f1-61a7151761ed",
   "metadata": {
    "tags": []
   },
   "source": [
    "# Load in your data\n"
   ]
  },
  {
   "cell_type": "markdown",
   "id": "94af8862-8495-4c5e-90ee-ed51197f971a",
   "metadata": {},
   "source": [
    "Load in downscaled run\n"
   ]
  },
  {
   "cell_type": "code",
   "execution_count": null,
   "id": "94727d4e-2141-434c-ae29-d9bcf11230b1",
   "metadata": {
    "tags": []
   },
   "outputs": [],
   "source": [
    "ds = xr.open_zarr(\n",
    "    f\"az://flow-outputs/intermediate/epoch_replaced_gcm/{run_id}.zarr\"\n",
    ").drop(\"dayofyear\")"
   ]
  },
  {
   "cell_type": "code",
   "execution_count": null,
   "id": "9f172c35-6d9e-41ca-bf75-1398091e1fec",
   "metadata": {},
   "outputs": [],
   "source": [
    "def load_downscaled_ds(variable: str = 'tasmax',\n",
    "                        gcm: str = \"MIROC6\",\n",
    "                        obs_id:str = 'ERA5',\n",
    "                        predict_period_start:str ='2079',\n",
    "                        predict_period_end:str ='2079',\n",
    "                        downscale_method:str ='bcsd',\n",
    "                        scenario:str ='ssp370') -> xr.Dataset:\n",
    "    path = f\"az://cmip6/results/{downscale_method}_{scenario}_{gcm}_{predict_period_start}_{predict_period_end}_{variable}.zarr\"\n",
    "    return xr.open_zarr(path)"
   ]
   },
   {
    "cell_type": "markdown",
   "id": "3b31fe7b-c650-45bc-90c4-7530b8620c9d",
   "metadata": {},
   "source": [
    "Load in observational dataset for evaluation below.\n"
   ]
  },
  {
   "cell_type": "code",
   "execution_count": null,
   "id": "a0f3cbcf-f166-46d1-96d2-7e1f1c763b4f",
   "metadata": {},
   "outputs": [],
   "source": [
    "training_period = slice(\"1991\", \"1995\")\n",
    "future_period = slice(\"2071\", \"2075\")"
   ]
  },
  {
   "cell_type": "code",
   "execution_count": null,
   "id": "6c03ead1-c567-46e6-be72-0947f660cccc",
   "metadata": {},
   "outputs": [],
   "source": [
    "obs_ds = open_era5(\n",
    "    start_year=training_period.start,\n",
    "    end_year=training_period.stop,\n",
    "    variables=[var],\n",
    ")\n",
    "if var == \"pr\":\n",
    "    obs_ds *= (\n",
    "        86400  # can remove this once ERA5 is rescaled in open_era5 function\n",
    "    )"
   ]
  },
  {
   "cell_type": "markdown",
   "id": "ce4baed5-820e-400d-b40f-76d3a6dea3e3",
   "metadata": {},
   "source": [
    "Load in raw GCM (not downscaled or bias-corrected).\n"
   ]
  },
  {
   "cell_type": "code",
   "execution_count": null,
   "id": "389659d7-cad0-420c-98d2-f9c9d4ad896e",
   "metadata": {},
   "outputs": [],
   "source": [
    "gcm = get_gcm(gcm, scenario, variables=[var])"
   ]
  },
  {
   "cell_type": "markdown",
   "id": "a8bec9b1-f10d-4cfa-a9cc-0ee4f25fc990",
   "metadata": {},
   "source": [
    "# QAQC Routines\n",
    "\n",
    "Search for nans and aphysical quantitities\n"
   ]
  },
  {
   "cell_type": "code",
   "execution_count": null,
   "id": "e2d1c4c4-1955-4bfb-a7c0-b71d236962fb",
   "metadata": {
    "tags": []
   },
   "outputs": [],
   "source": [
    "annual_qaqc_ts, qaqc_maps = qaqc_checks(ds.isel(time=slice(0, 365)))"
   ]
  },
  {
   "cell_type": "markdown",
   "id": "3f1191a7-1c51-4de8-aebd-4acdac0d14e7",
   "metadata": {},
   "source": [
    "What years, if any, include QAQC issues?\n"
   ]
  },
  {
   "cell_type": "code",
   "execution_count": null,
   "id": "fb799493-5d8d-4987-ba09-755290d1cbc2",
   "metadata": {},
   "outputs": [],
   "source": [
    "if annual_qaqc_ts.sum().values.any():\n",
    "    print(annual_qaqc_ts)"
   ]
  },
  {
   "cell_type": "markdown",
   "id": "c9e4d4da-4ccd-4bc1-b13c-2a522b077491",
   "metadata": {},
   "source": [
    "Where, if anywhere, do those QAQC issues happen?\n"
   ]
  },
  {
   "cell_type": "code",
   "execution_count": null,
   "id": "e7b6c6f1-9fa3-4fbe-a835-afc7a8b141ad",
   "metadata": {},
   "outputs": [],
   "source": [
    "for var in qaqc_maps:\n",
    "    if qaqc_maps[var].sum().values.any():\n",
    "        qaqc_maps[var].plot(col_wrap=1, col=\"qaqc_check\")"
   ]
  },
  {
   "cell_type": "markdown",
   "id": "64f87666-b17c-4148-b259-b9686a8d56b0",
   "metadata": {},
   "source": [
    "# Evaluation over training period\n",
    "\n",
    "How well do statistics of downscaled GCM data look like observations? In other\n",
    "words, did the model perform as expected and are there any other side-effects.\n"
   ]
  },
  {
   "cell_type": "markdown",
   "id": "4dbbc31d-9f33-4c1b-902f-005bddeaed8c",
   "metadata": {},
   "source": [
    "First, let's look at some individual locations around the world (we'll look at a\n",
    "sampling of the biggest cities). We'll compare the statistics of the historical\n",
    "downscaled data with the observations dataset and see how they match. Depending\n",
    "on the metric they should align very well (if that metric was used in training)\n",
    "but other metrics might differ still.\n"
   ]
  },
  {
   "cell_type": "markdown",
   "id": "66dff63e-13eb-484c-ab6c-f26b1f2e86f9",
   "metadata": {},
   "source": [
    "Load in the training dataset (ERA5)\n"
   ]
  },
  {
   "cell_type": "markdown",
   "id": "f4ea7332-0e63-49b4-b222-fdb54e84af96",
   "metadata": {},
   "source": [
    "We'll do our analyses across the 100 biggest cities (all in different countries\n",
    "so as to provide some geographic diversity). Also added a few in the Western US\n",
    "to cover that part of the world.\n"
   ]
  },
  {
   "cell_type": "code",
   "execution_count": null,
   "id": "0ce1a730-b728-40db-b9a9-dc73e48e5bbc",
   "metadata": {},
   "outputs": [],
   "source": [
    "top_cities = load_top_cities(plot=True)"
   ]
  },
  {
   "cell_type": "code",
   "execution_count": null,
   "id": "2ed52c23-1f1f-40f7-911a-ceed573be653",
   "metadata": {},
   "outputs": [],
   "source": [
    "[obs_cities, downscaled_cities, gcm_cities] = grab_top_city_data(\n",
    "    [obs_ds[var], ds[var], gcm[var]], top_cities\n",
    ")"
   ]
  },
  {
   "cell_type": "code",
   "execution_count": null,
   "id": "64bd5e76-3bdf-448a-bf8e-6845e2faab33",
   "metadata": {},
   "outputs": [],
   "source": [
    "plot_cdfs(\n",
    "    obs_cities,\n",
    "    downscaled_cities.sel(time=training_period),\n",
    "    downscaled_cities.sel(time=future_period),\n",
    "    top_cities,\n",
    "    training_period,\n",
    "    future_period,\n",
    "    gcm_cities.sel(time=training_period),\n",
    "    gcm_cities.sel(time=future_period),\n",
    "    sharex=True,\n",
    ")"
   ]
  },
  {
   "cell_type": "code",
   "execution_count": null,
   "id": "955ce878-9341-4eab-ae39-c0ef67937be2",
   "metadata": {},
   "outputs": [],
   "source": [
    "plot_cdfs(\n",
    "    obs_cities,\n",
    "    downscaled_cities.sel(time=training_period),\n",
    "    downscaled_cities.sel(time=future_period),\n",
    "    top_cities,\n",
    "    training_period,\n",
    "    future_period,\n",
    "    gcm_cities.sel(time=training_period),\n",
    "    gcm_cities.sel(time=future_period),\n",
    "    sharex=False,\n",
    ")"
   ]
  },
  {
   "cell_type": "markdown",
   "id": "554be1a0-ddb0-42a5-9fc3-b370e73ae544",
   "metadata": {},
   "source": [
    "# Performance of standard statistics\n"
   ]
  },
  {
   "cell_type": "code",
   "execution_count": null,
   "id": "247c598d-3d92-4155-843c-da3eb4fd6213",
   "metadata": {
    "tags": []
   },
   "outputs": [],
   "source": [
    "for metric in [\"mean\", \"median\", \"std\"]:  # , 'percentile1',\n",
    "    # 'percentile5', 'percentile95', 'percentile99']:\n",
    "    plot_values_and_difference(\n",
    "        metrics.metric_calc(obs_ds.sel(time=training_period), metric)[var],\n",
    "        metrics.metric_calc(ds.sel(time=training_period), metric)[var],\n",
    "        title1=\"GCM change in {}\".format(metric),\n",
    "        title2=\"Downscaled change in {}\".format(metric),\n",
    "        title3=\"Difference downscaled-GCM\",\n",
    "        variable=var,\n",
    "        metric=metric,\n",
    "    )"
   ]
  },
  {
   "cell_type": "markdown",
   "id": "0bdb2c44-d86e-41b3-aa16-164df30ef51a",
   "metadata": {
    "tags": []
   },
   "source": [
    "# Hot days\n",
    "\n",
    "Calculate the average number of hot days (over 30c) within observations and\n",
    "downscaled model.\n"
   ]
  },
  {
   "cell_type": "code",
   "execution_count": null,
   "id": "f39bff4c-c88b-4051-a4bb-fc357edf4d79",
   "metadata": {},
   "outputs": [],
   "source": [
    "if var == \"tasmax\":\n",
    "    days_over_30c_era5 = metrics.days_temperature_threshold(\n",
    "        obs_ds, \"over\", 273 + 30\n",
    "    ).compute()\n",
    "    days_over_30c_ds = metrics.days_temperature_threshold(\n",
    "        ds.sel(time=training_period), \"over\", 273 + 30\n",
    "    ).compute()\n",
    "    plot_values_and_difference(\n",
    "        days_over_30c_era5[\"tasmax\"],\n",
    "        days_over_30c_ds[\"tasmax\"],\n",
    "        cbar_kwargs={\"label\": \"Days over 30C\"},\n",
    "        diff_limit=20,\n",
    "    )"
   ]
  },
  {
   "cell_type": "markdown",
   "id": "f0753123-4039-464b-a48c-1cd1e7195420",
   "metadata": {},
   "source": [
    "# Very hot days\n",
    "\n",
    "Performance: the average number of very hot days (over 40c)\n"
   ]
  },
  {
   "cell_type": "code",
   "execution_count": null,
   "id": "a06c02d7-9c0d-479f-83dc-bb3896e876a2",
   "metadata": {},
   "outputs": [],
   "source": [
    "if var == \"tasmax\":\n",
    "    days_over_40c_era5 = metrics.days_temperature_threshold(\n",
    "        obs_ds, \"over\", 273 + 40\n",
    "    ).compute()\n",
    "    days_over_40c_ds = metrics.days_temperature_threshold(\n",
    "        ds.sel(time=training_period), \"over\", 273 + 40\n",
    "    ).compute()\n",
    "    plot_values_and_difference(\n",
    "        days_over_40c_era5[\"tasmax\"],\n",
    "        days_over_40c_ds[\"tasmax\"],\n",
    "        cbar_kwargs={\"label\": \"Days over 40C\"},\n",
    "    )"
   ]
  },
  {
   "cell_type": "markdown",
   "id": "04956b69-f8d9-43fc-a8f8-773b164d5cd5",
   "metadata": {},
   "source": [
    "# Is the change seen in the downscaled dataset the same as the change projected by the raw GCM?\n"
   ]
  },
  {
   "cell_type": "code",
   "execution_count": null,
   "id": "8fe686f6-dd82-456e-a45f-8c2a73e4f07a",
   "metadata": {},
   "outputs": [],
   "source": [
    "downscaled_change_cities = change_ds(\n",
    "    downscaled_cities.sel(time=training_period),\n",
    "    downscaled_cities.sel(time=future_period),\n",
    ")\n",
    "gcm_change_cities = change_ds(\n",
    "    gcm_cities.sel(time=training_period), gcm_cities.sel(time=future_period)\n",
    ")"
   ]
  },
  {
   "cell_type": "code",
   "execution_count": null,
   "id": "a57316cd-cea5-418d-b433-00f34b896a2d",
   "metadata": {},
   "outputs": [],
   "source": [
    "for metric in gcm_change_cities:\n",
    "    plot_values_and_difference(\n",
    "        gcm_change_cities[metric],\n",
    "        downscaled_change_cities[metric],\n",
    "        gcm_change_cities,\n",
    "        city_coords=obs_cities,\n",
    "        title1=\"GCM change in {}\".format(metric),\n",
    "        title2=\"Downscaled change in {}\".format(metric),\n",
    "        title3=\"Difference downscaled-GCM\",\n",
    "        variable=var,\n",
    "        metric=metric,\n",
    "    )"
   ]
  },
  {
   "cell_type": "markdown",
   "id": "80296759-34d7-4bce-9e2e-36f472d2c4a2",
   "metadata": {},
   "source": [
    "# Seasonal statistics\n"
   ]
  },
  {
   "cell_type": "markdown",
   "id": "e06063c5-dc53-42a0-b682-6c056d6950c9",
   "metadata": {},
   "source": [
    "### Assess the mean value over the season\n"
   ]
  },
  {
   "cell_type": "code",
   "execution_count": null,
   "id": "d927373b-1660-4b99-8902-b861d91dbc67",
   "metadata": {},
   "outputs": [],
   "source": [
    "aggregator = \"mean\"\n",
    "obs_seasonal = get_seasonal(obs_ds, aggregator=aggregator)\n",
    "downscaled_seasonal = get_seasonal(\n",
    "    ds.sel(time=training_period), aggregator=aggregator\n",
    ")"
   ]
  },
  {
   "cell_type": "code",
   "execution_count": null,
   "id": "f9b001ab-8b91-4873-a2a9-769a1761e1fa",
   "metadata": {},
   "outputs": [],
   "source": [
    "plot_seasonal(obs_seasonal[\"tasmax\"], downscaled_seasonal[\"tasmax\"])"
   ]
  },
  {
   "cell_type": "code",
   "execution_count": null,
   "id": "6c4963a6-ac57-47f1-8ca6-8ee641a1bb8f",
   "metadata": {},
   "outputs": [],
   "source": [
    "aggregator = \"max\"\n",
    "obs_seasonal = get_seasonal(obs_ds, aggregator=aggregator)\n",
    "downscaled_seasonal = get_seasonal(\n",
    "    ds.sel(time=training_period), aggregator=aggregator\n",
    ")\n",
    "plot_seasonal(obs_seasonal[\"tasmax\"], downscaled_seasonal[\"tasmax\"])"
   ]
  },
  {
   "cell_type": "markdown",
   "id": "9b5ecb6c-ca62-44ef-a454-20a860ce5e1d",
   "metadata": {},
   "source": [
    "### Assess the variability over the season\n"
   ]
  },
  {
   "cell_type": "code",
   "execution_count": null,
   "id": "34c21ccc-a75a-437c-a9db-abedd07da730",
   "metadata": {},
   "outputs": [],
   "source": [
    "aggregator = \"stdev\"\n",
    "obs_seasonal = get_seasonal(obs_ds, aggregator=aggregator)\n",
    "downscaled_seasonal = get_seasonal(\n",
    "    ds.sel(time=training_period), aggregator=aggregator\n",
    ")\n",
    "plot_seasonal(obs_seasonal[\"tasmax\"], downscaled_seasonal[\"tasmax\"])"
   ]
  },
  {
   "cell_type": "markdown",
   "id": "94e29f85-61e5-424f-8e59-6c96ab2e711a",
   "metadata": {},
   "source": [
    "# Precipitation-specific metrics\n"
   ]
  },
  {
   "cell_type": "markdown",
   "id": "9761ad09-8124-42ad-9e0c-9413d9096820",
   "metadata": {},
   "source": [
    "If precipitation, calculate the precipitation indices across season and plot the\n",
    "same seasonal comparison maps. Metrics taken from Wilby 1998.\n"
   ]
  },
  {
   "cell_type": "code",
   "execution_count": null,
   "id": "3059781e-f675-4da7-ba2a-e8d5993da96b",
   "metadata": {},
   "outputs": [],
   "source": [
    "if var != \"pr\":\n",
    "    raise SystemExit(\n",
    "        \"Stopping here! Everything below is only for precipitation.\"\n",
    "    )"
   ]
  },
  {
   "cell_type": "markdown",
   "id": "14036035-515b-4eaf-b12c-1b472511b987",
   "metadata": {},
   "source": [
    "### If it was wet, how wet was it?\n"
   ]
  },
  {
   "cell_type": "code",
   "execution_count": null,
   "id": "adc4806d-661f-4f66-b1e3-86b690760be4",
   "metadata": {},
   "outputs": [],
   "source": [
    "for metric in [\"mean\", \"median\", \"std\", \"percentile95\"]:\n",
    "    plot_values_and_difference(\n",
    "        metrics.wet_day_amount(obs_ds.pr, method=metric),\n",
    "        metrics.wet_day_amount(ds[\"pr\"].sel(training_period), method=metric),\n",
    "        cbar_kwargs={\"label\": f\"{metric} wet day amount\"},\n",
    "        diff_limit=10,\n",
    "    )"
   ]
  },
  {
   "cell_type": "markdown",
   "id": "5aecfc7d-e55f-4a36-a8ac-02d7adee99ad",
   "metadata": {},
   "source": [
    "Calculate boolean masks of wet and dry days (they are inverses of eachother)\n",
    "based upon a threshold. We'll then use these to perform a variety of statistics.\n"
   ]
  },
  {
   "cell_type": "code",
   "execution_count": null,
   "id": "592e8bce-530d-4ea8-9166-f977a1a0e78a",
   "metadata": {},
   "outputs": [],
   "source": [
    "wet_days_obs = metrics.is_wet_day(obs_ds, threshold=0.05).compute()\n",
    "dry_days_obs = ~wet_days_obs\n",
    "wet_days_downscaled = metrics.is_wet_day(\n",
    "    ds.sel(training_period), threshold=0.05\n",
    ").compute()\n",
    "dry_days_downscaled = ~wet_days_downscaled"
   ]
  },
  {
   "cell_type": "markdown",
   "id": "cdbeda37-d384-421b-acb0-8f91451151ba",
   "metadata": {},
   "source": [
    "### Length and variability of wet spells\n"
   ]
  },
  {
   "cell_type": "code",
   "execution_count": null,
   "id": "04a6b5d9-4276-4776-a1ab-08028261e36e",
   "metadata": {},
   "outputs": [],
   "source": [
    "for metric in ['mean', 'std', 'percentile90', 'percentile99']\"\n",
    "    plot_values_and_difference(apply_spell_length(wet_days_obs, metric),\n",
    "                           apply_spell_length(wet_days_downscaled, metric),\n",
    "                           cbar_kwargs={'label': f'{metric} days'}, diff_limit=10)"
   ]
  },
  {
   "cell_type": "markdown",
   "id": "059d4d50-d006-42c2-bbc4-941b8d4f97a3",
   "metadata": {},
   "source": [
    "### Length and variability of dry spells\n"
   ]
  },
  {
   "cell_type": "code",
   "execution_count": null,
   "id": "16ee7b0b-33e4-4917-9b49-f7b0429a5a69",
   "metadata": {
    "tags": []
   },
   "outputs": [],
   "source": [
    "for metric in ['mean', 'std', 'percentile90', 'percentile99']\"\n",
    "    plot_values_and_difference(apply_spell_length(dry_days_obs, metric),\n",
    "                           apply_spell_length(dry_days_downscaled, metric),\n",
    "                           cbar_kwargs={'label': f'{metric} days'}, diff_limit=10)"
   ]
  },
  {
   "cell_type": "markdown",
   "id": "8092aace-1375-4c78-ac0c-fc2120f05bb0",
   "metadata": {},
   "source": [
    "### If today was wet, what are odds tomorrow will be wet?\n"
   ]
  },
  {
   "cell_type": "code",
   "execution_count": null,
   "id": "03d9d0d8-e933-4c84-bb40-9b6480fe37f2",
   "metadata": {},
   "outputs": [],
   "source": [
    "plot_values_and_difference(\n",
    "    metrics.probability_two_consecutive_days(obs_ds, kind_of_days=\"wet\")[\"pr\"],\n",
    "    metrics.probability_two_consecutive_days(\n",
    "        ds.sel(time=training_period), kind_of_days=\"wet\"\n",
    "    )[\"pr\"],\n",
    "    cbar_kwargs={\"label\": \"probability\"},\n",
    "    diff_limit=0.5,\n",
    ")"
   ]
  },
  {
   "cell_type": "markdown",
   "id": "a4603b69-e080-47fd-8e7b-faeab6c45f9f",
   "metadata": {},
   "source": [
    "### If today was dry, what are odds tomorrow will be dry?\n"
   ]
  },
  {
   "cell_type": "code",
   "execution_count": null,
   "id": "75f90d87-bd86-494d-847f-5cf82ee4b5fd",
   "metadata": {
    "tags": []
   },
   "outputs": [],
   "source": [
    "plot_values_and_difference(\n",
    "    metrics.probability_two_consecutive_days(obs_ds, kind_of_days=\"dry\")[\"pr\"],\n",
    "    metrics.probability_two_consecutive_days(\n",
    "        ds.sel(time=training_period), kind_of_days=\"dry\"\n",
    "    )[\"pr\"],\n",
    "    cbar_kwargs={\"label\": \"probability\"},\n",
    "    diff_limit=0.5,\n",
    ")"
   ]
  },
  {
   "cell_type": "markdown",
   "id": "b41229e1-9681-4254-826d-1757d1ea142f",
   "metadata": {},
   "source": [
    "### Low frequency variability - standard deviation of monthly precipitation\n"
   ]
  },
  {
   "cell_type": "code",
   "execution_count": null,
   "id": "f62a5057-3cbf-41c5-ac86-389c64d41020",
   "metadata": {},
   "outputs": [],
   "source": [
    "plot_values_and_difference(\n",
    "    monthly_variability(obs_ds.pr, method=\"sum\"),\n",
    "    monthly_variability(ds.sel(time=training_period).pr, method=\"sum\"),\n",
    "    cbar_kwargs={\"label\": \"mm\"},\n",
    "    diff_limit=0.5,\n",
    ")"
   ]
  }
 ],
 "metadata": {
  "kernelspec": {
   "display_name": "Python [conda env:notebook] *",
   "language": "python",
   "name": "conda-env-notebook-py"
  },
  "language_info": {
   "codemirror_mode": {
    "name": "ipython",
    "version": 3
   },
   "file_extension": ".py",
   "mimetype": "text/x-python",
   "name": "python",
   "nbconvert_exporter": "python",
   "pygments_lexer": "ipython3",
   "version": "3.9.9"
  }
 },
 "nbformat": 4,
 "nbformat_minor": 5
}
