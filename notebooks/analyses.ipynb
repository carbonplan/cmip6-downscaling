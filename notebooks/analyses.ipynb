{
 "cells": [
  {
   "cell_type": "code",
   "execution_count": null,
   "id": "d6bcde1c-c12b-4e19-9511-d56513f32495",
   "metadata": {
    "tags": []
   },
   "outputs": [],
   "source": [
    "%load_ext autoreload\n",
    "%autoreload 2\n",
    "import os\n",
    "\n",
    "os.environ[\"PREFECT__FLOWS__CHECKPOINTING\"] = \"True\"\n",
    "\n",
    "import fsspec\n",
    "import pandas as pd\n",
    "import xarray as xr\n",
    "import numpy as np\n",
    "import cmip6_downscaling\n",
    "import numpy as np\n",
    "from xarray_schema import DataArraySchema, DatasetSchema\n",
    "\n",
    "from cmip6_downscaling.data.observations import open_era5\n",
    "from cmip6_downscaling.data.cmip import get_gcm, load_cmip\n",
    "from dask.distributed import Client, LocalCluster\n",
    "import warnings\n",
    "warnings.filterwarnings(\"ignore\")\n",
    "import pytest\n",
    "from cmip6_downscaling.analysis import analysis, metrics\n",
    "from cmip6_downscaling.analysis.analysis import qaqc_checks, grab_top_city_data, load_top_cities, get_seasonal, change_ds\n",
    "from cmip6_downscaling.analysis.plot import plot_cdfs, plot_values_and_difference, plot_seasonal\n",
    "from cmip6_downscaling.analysis.qaqc import make_qaqc_ds\n",
    "import matplotlib.pyplot as plt\n",
    "import cartopy.crs as ccrs\n",
    "\n",
    "from carbonplan import styles\n",
    "\n",
    "styles.mpl.set_theme(style='carbonplan_light')\n"
   ]
  },
  {
   "cell_type": "code",
   "execution_count": null,
   "id": "47804031-f7b5-49a9-b4ad-e3b67f3315c4",
   "metadata": {
    "tags": [
     "parameters"
    ]
   },
   "outputs": [],
   "source": [
    "# Pass as a parameter to be used by papermill: the runid which will be used to create the template for the raw and summary files\n",
    "run_id = \"MIROC6-ssp370-1990-1990-2090-2090-55-60-80-85-tasmax\"\n",
    "var = \"tasmax\"\n",
    "gcm = \"MIROC6\"\n",
    "scenario = \"ssp370\"\n",
    "train_period_start = \"1990\"\n",
    "train_period_end = \"1990\"\n",
    "predict_period_start = \"1990\"\n",
    "predict_period_end = \"1990\""
   ]
  },
  {
   "cell_type": "code",
   "execution_count": null,
   "id": "a6171914-ebd1-40db-8bc7-77f14b44b986",
   "metadata": {},
   "outputs": [],
   "source": [
    "print(run_id)"
   ]
  },
  {
   "cell_type": "code",
   "execution_count": null,
   "id": "441ed2ec-f4a0-443a-a0a0-6f4afc3620d7",
   "metadata": {},
   "outputs": [],
   "source": [
    "plt.plot(range(0, 4), range(0, 4))"
   ]
  }
 ],
 "metadata": {
  "kernelspec": {
   "display_name": "papermill-tutorial",
   "language": "python",
   "name": "papermill-tutorial"
  },
  "language_info": {
   "codemirror_mode": {
    "name": "ipython",
    "version": 3
   },
   "file_extension": ".py",
   "mimetype": "text/x-python",
   "name": "python",
   "nbconvert_exporter": "python",
   "pygments_lexer": "ipython3",
   "version": "3.9.9"
  }
 },
 "nbformat": 4,
 "nbformat_minor": 5
}
