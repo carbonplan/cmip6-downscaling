{
 "cells": [
  {
   "cell_type": "code",
   "execution_count": null,
   "id": "d6bcde1c-c12b-4e19-9511-d56513f32495",
   "metadata": {
    "tags": []
   },
   "outputs": [],
   "source": [
    "%load_ext autoreload\n",
    "%autoreload 2\n",
    "import os\n",
    "\n",
    "os.environ[\"PREFECT__FLOWS__CHECKPOINTING\"] = \"True\"\n",
    "\n",
    "import fsspec\n",
    "import pandas as pd\n",
    "import xarray as xr\n",
    "import numpy as np\n",
    "import cmip6_downscaling\n",
    "import numpy as np\n",
    "from xarray_schema import DataArraySchema, DatasetSchema\n",
    "\n",
    "from cmip6_downscaling.data.observations import open_era5\n",
    "from cmip6_downscaling.data.cmip import get_gcm, load_cmip\n",
    "from dask.distributed import Client, LocalCluster\n",
    "import warnings\n",
    "warnings.filterwarnings(\"ignore\")\n",
    "import pytest\n",
    "from cmip6_downscaling.analysis import analysis, metrics\n",
    "from cmip6_downscaling.analysis import load\n",
    "from cmip6_downscaling.analysis.analysis import qaqc_checks, grab_top_city_data, load_top_cities, get_seasonal, change_ds\n",
    "from cmip6_downscaling.analysis.plot import plot_cdfs, plot_values_and_difference, plot_seasonal\n",
    "from cmip6_downscaling.analysis.qaqc import make_qaqc_ds\n",
    "import matplotlib.pyplot as plt\n",
    "import cartopy.crs as ccrs\n",
    "\n",
    "from carbonplan import styles\n",
    "\n",
    "styles.mpl.set_theme(style='carbonplan_light')\n"
   ]
  },
  {
   "cell_type": "code",
   "execution_count": null,
   "id": "dd95ae7e-c9ed-4b53-9669-923aecf3957e",
   "metadata": {},
   "outputs": [
    {
     "name": "stderr",
     "output_type": "stream",
     "text": [
      "/srv/conda/envs/notebook/lib/python3.9/contextlib.py:126: UserWarning: Creating scratch directories is taking a surprisingly long time. This is often due to running workers on a network file system. Consider specifying a local-directory to point workers to write scratch data to a local disk.\n",
      "  next(self.gen)\n",
      "/srv/conda/envs/notebook/lib/python3.9/contextlib.py:126: UserWarning: Creating scratch directories is taking a surprisingly long time. This is often due to running workers on a network file system. Consider specifying a local-directory to point workers to write scratch data to a local disk.\n",
      "  next(self.gen)\n"
     ]
    }
   ],
   "source": [
    "cluster = LocalCluster()\n",
    "client = Client(cluster)"
   ]
  },
  {
   "cell_type": "code",
   "execution_count": null,
   "id": "47804031-f7b5-49a9-b4ad-e3b67f3315c4",
   "metadata": {
    "tags": [
     "parameters"
    ]
   },
   "outputs": [],
   "source": [
    "# Pass as a parameter to be used by papermill: the runid which will be used to create the template for the raw and summary files\n",
    "run_id = \"MIROC6_ssp370_1991_1995_2071_2075_tasmax_21_day_3_year_rolling\"\n",
    "var = \"tasmax\"\n",
    "gcm = \"MIROC6\"\n",
    "scenario = \"ssp370\""
   ]
  },
  {
   "cell_type": "markdown",
   "id": "62e1930b-e0d9-4916-b0f1-61a7151761ed",
   "metadata": {
    "tags": []
   },
   "source": [
    "# Load in your data\n"
   ]
  },
  {
   "cell_type": "markdown",
   "id": "94af8862-8495-4c5e-90ee-ed51197f971a",
   "metadata": {},
   "source": [
    "Load in downscaled run\n"
   ]
  },
  {
   "cell_type": "code",
   "execution_count": null,
   "id": "94727d4e-2141-434c-ae29-d9bcf11230b1",
   "metadata": {
    "tags": []
   },
   "outputs": [],
   "source": [
    "ds = xr.open_zarr(\n",
    "    f\"az://flow-outputs/intermediate/epoch_replaced_gcm/{run_id}.zarr\"\n",
    ").drop(\"dayofyear\")"
   ]
  },
  {
   "cell_type": "code",
   "execution_count": null,
   "id": "9f172c35-6d9e-41ca-bf75-1398091e1fec",
   "metadata": {},
   "outputs": [],
   "source": [
    "def load_downscaled_ds(variable: str = 'tasmax',\n",
    "                        gcm: str = \"MIROC6\",\n",
    "                        obs_id:str = 'ERA5',\n",
    "                        predict_period_start:str ='2079',\n",
    "                        predict_period_end:str ='2079',\n",
    "                        downscale_method:str ='bcsd',\n",
    "                        scenario:str ='ssp370') -> xr.Dataset:\n",
    "    path = f\"az://cmip6/results/{downscale_method}_{scenario}_{gcm}_{predict_period_start}_{predict_period_end}_{variable}.zarr\"\n",
    "    return xr.open_zarr(path)"
   },
   {
    "cell_type": "markdown",
   "id": "3b31fe7b-c650-45bc-90c4-7530b8620c9d",
   "metadata": {},
   "source": [
    "Load in observational dataset for evaluation below.\n"
   ]
  },
  {
   "cell_type": "code",
   "execution_count": null,
   "id": "a0f3cbcf-f166-46d1-96d2-7e1f1c763b4f",
   "metadata": {},
   "outputs": [],
   "source": [
    "training_period = slice(\"1991\", \"1995\")\n",
    "future_period = slice(\"2071\", \"2075\")"
   ]
  },
  {
   "cell_type": "code",
   "execution_count": null,
   "id": "6c03ead1-c567-46e6-be72-0947f660cccc",
   "metadata": {},
   "outputs": [],
   "source": [
    "obs_ds = open_era5(\n",
    "    start_year=training_period.start,\n",
    "    end_year=training_period.stop,\n",
    "    variables=[var],\n",
    ")\n",
    "if var == \"pr\":\n",
    "    obs_ds *= (\n",
    "        86400  # can remove this once ERA5 is rescaled in open_era5 function\n",
    "    )"
   ]
  },
  {
   "cell_type": "markdown",
   "id": "ce4baed5-820e-400d-b40f-76d3a6dea3e3",
   "metadata": {},
   "source": [
    "Load in raw GCM (not downscaled or bias-corrected).\n"
   ]
  },
  {
   "cell_type": "code",
   "execution_count": null,
   "id": "389659d7-cad0-420c-98d2-f9c9d4ad896e",
   "metadata": {},
   "outputs": [],
   "source": [
    "gcm = get_gcm(gcm, scenario, variables=[var])"
   ]
  },
  {
   "cell_type": "markdown",
   "id": "a8bec9b1-f10d-4cfa-a9cc-0ee4f25fc990",
   "metadata": {},
   "source": [
    "# QAQC Routines\n",
    "\n",
    "Search for nans and aphysical quantitities\n"
   ]
  },
  {
   "cell_type": "code",
   "execution_count": null,
   "id": "e2d1c4c4-1955-4bfb-a7c0-b71d236962fb",
   "metadata": {
    "tags": []
   },
   "outputs": [],
   "source": [
    "annual_qaqc_ts, qaqc_maps = qaqc_checks(ds.isel(time=slice(0, 365)))"
   ]
  },
  {
   "cell_type": "markdown",
   "id": "3f1191a7-1c51-4de8-aebd-4acdac0d14e7",
   "metadata": {},
   "source": [
    "What years, if any, include QAQC issues?\n"
   ]
  },
  {
   "cell_type": "code",
   "execution_count": null,
   "id": "fb799493-5d8d-4987-ba09-755290d1cbc2",
   "metadata": {},
   "outputs": [
    {
     "name": "stdout",
     "output_type": "stream",
     "text": [
      "                             tasmax\n",
      "year qaqc_check                    \n",
      "1991 nulls                207028365\n",
      "     aphysical_high_temp          0\n",
      "     aphysical_low_temp           0\n"
     ]
    }
   ],
   "source": [
    "if annual_qaqc_ts.sum().values.any():\n",
    "    print(annual_qaqc_ts)"
   ]
  },
  {
   "cell_type": "markdown",
   "id": "c9e4d4da-4ccd-4bc1-b13c-2a522b077491",
   "metadata": {},
   "source": [
    "Where, if anywhere, do those QAQC issues happen?\n"
   ]
  },
  {
   "cell_type": "code",
   "execution_count": null,
   "id": "e7b6c6f1-9fa3-4fbe-a835-afc7a8b141ad",
   "metadata": {},
   "outputs": [
    {
     "data": {
      "image/png": "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\n",
      "text/plain": [
       "<Figure size 288x648 with 4 Axes>"
      ]
     },
     "metadata": {
      "needs_background": "light"
     },
     "output_type": "display_data"
    }
   ],
   "source": [
    "for var in qaqc_maps:\n",
    "    if qaqc_maps[var].sum().values.any():\n",
    "        qaqc_maps[var].plot(col_wrap=1, col='qaqc_check')"
   ]
  },
  {
   "cell_type": "markdown",
   "id": "64f87666-b17c-4148-b259-b9686a8d56b0",
   "metadata": {},
   "source": [
    "# Evaluation over training period\n",
    "How well do statistics of downscaled GCM data look like observations? In other words, did the model perform as expected and are there any other side-effects."
   ]
  },
  {
   "cell_type": "markdown",
   "id": "4dbbc31d-9f33-4c1b-902f-005bddeaed8c",
   "metadata": {},
   "source": [
    "First, let's look at some individual locations around the world (we'll look at a sampling of the biggest cities). We'll compare the statistics of the historical downscaled data with the observations dataset and see how they match. Depending on the metric they should align very well (if that metric was used in training) but other metrics might differ still."
   ]
  },
  {
   "cell_type": "markdown",
   "id": "66dff63e-13eb-484c-ab6c-f26b1f2e86f9",
   "metadata": {},
   "source": [
    "Load in the training dataset (ERA5)"
   ]
  },
  {
   "cell_type": "code",
   "execution_count": 4,
   "id": "a0f3cbcf-f166-46d1-96d2-7e1f1c763b4f",
   "metadata": {},
   "outputs": [],
   "source": [
    "for var in qaqc_maps:\n",
    "    if qaqc_maps[var].sum().values.any():\n",
    "        qaqc_maps[var].plot(col_wrap=1, col=\"qaqc_check\")"
   ]
  },
  {
   "cell_type": "markdown",
   "id": "64f87666-b17c-4148-b259-b9686a8d56b0",
   "metadata": {},
   "source": [
    "# Evaluation over training period\n",
    "\n",
    "How well do statistics of downscaled GCM data look like observations? In other\n",
    "words, did the model perform as expected and are there any other side-effects.\n"
   ]
  },
  {
   "cell_type": "markdown",
   "id": "4dbbc31d-9f33-4c1b-902f-005bddeaed8c",
   "metadata": {},
   "source": [
    "First, let's look at some individual locations around the world (we'll look at a\n",
    "sampling of the biggest cities). We'll compare the statistics of the historical\n",
    "downscaled data with the observations dataset and see how they match. Depending\n",
    "on the metric they should align very well (if that metric was used in training)\n",
    "but other metrics might differ still.\n"
   ]
  },
  {
   "cell_type": "markdown",
   "id": "66dff63e-13eb-484c-ab6c-f26b1f2e86f9",
   "metadata": {},
   "source": [
    "Load in the training dataset (ERA5)\n"
   ]
  },
  {
   "cell_type": "markdown",
   "id": "f4ea7332-0e63-49b4-b222-fdb54e84af96",
   "metadata": {},
   "source": [
    "We'll do our analyses across the 100 biggest cities (all in different countries\n",
    "so as to provide some geographic diversity). Also added a few in the Western US\n",
    "to cover that part of the world.\n"
   ]
  },
  {
   "cell_type": "code",
   "execution_count": null,
   "id": "0ce1a730-b728-40db-b9a9-dc73e48e5bbc",
   "metadata": {},
   "source": [
    "top_cities = load_top_cities(plot=True)"
   ]
  },
  {
   "cell_type": "code",
   "execution_count": null,
   "id": "2ed52c23-1f1f-40f7-911a-ceed573be653",
   "metadata": {},
   "outputs": [],
   "source": [
    "[obs_cities, downscaled_cities, gcm_cities] = grab_top_city_data(\n",
    "    [obs_ds[var], ds[var], gcm[var]], top_cities\n",
    ")"
   ]
  },
  {
   "cell_type": "code",
   "execution_count": null,
   "id": "64bd5e76-3bdf-448a-bf8e-6845e2faab33",
   "metadata": {},
   "outputs": [],
   "source": [
    "plot_cdfs(\n",
    "    obs_cities,\n",
    "    downscaled_cities.sel(time=training_period),\n",
    "    downscaled_cities.sel(time=future_period),\n",
    "    top_cities,\n",
    "    training_period,\n",
    "    future_period,\n",
    "    gcm_cities.sel(time=training_period),\n",
    "    gcm_cities.sel(time=future_period),\n",
    "    sharex=True,\n",
    ")"
   ]
  },
  {
   "cell_type": "code",
   "execution_count": null,
   "id": "955ce878-9341-4eab-ae39-c0ef67937be2",
   "metadata": {},
   "outputs": [],
   "source": [
    "plot_cdfs(\n",
    "    obs_cities,\n",
    "    downscaled_cities.sel(time=training_period),\n",
    "    downscaled_cities.sel(time=future_period),\n",
    "    top_cities,\n",
    "    training_period,\n",
    "    future_period,\n",
    "    gcm_cities.sel(time=training_period),\n",
    "    gcm_cities.sel(time=future_period),\n",
    "    sharex=False,\n",
    ")"
   ]
  },
  {
   "cell_type": "markdown",
   "id": "554be1a0-ddb0-42a5-9fc3-b370e73ae544",
   "metadata": {},
   "outputs": [],
   "source": [
    "# Performance of standard statistics\n"
   ]
  },
  {
   "cell_type": "code",
   "execution_count": null,
   "id": "247c598d-3d92-4155-843c-da3eb4fd6213",
   "metadata": {
    "tags": []
   },
   "outputs": [],
   "source": [
    "for metric in [\"mean\", \"median\", \"std\"]:  # , 'percentile1',\n",
    "    # 'percentile5', 'percentile95', 'percentile99']:\n",
    "    plot_values_and_difference(\n",
    "        metrics.metric_calc(obs_ds.sel(time=training_period), metric)[var],\n",
    "        metrics.metric_calc(ds.sel(time=training_period), metric)[var],\n",
    "        title1=\"GCM change in {}\".format(metric),\n",
    "        title2=\"Downscaled change in {}\".format(metric),\n",
    "        title3=\"Difference downscaled-GCM\",\n",
    "        variable=var,\n",
    "        metric=metric,\n",
    "    )"
   ]
  },
  {
   "cell_type": "markdown",
   "id": "0bdb2c44-d86e-41b3-aa16-164df30ef51a",
   "metadata": {
    "tags": []
   },
   "source": [
    "# Hot days\n",
    "\n",
    "Calculate the average number of hot days (over 30c) within observations and\n",
    "downscaled model.\n"
   ]
  },
  {
   "cell_type": "code",
   "execution_count": null,
   "id": "f39bff4c-c88b-4051-a4bb-fc357edf4d79",
   "metadata": {},
   "outputs": [],
   "source": [
    "if var == \"tasmax\":\n",
    "    days_over_30c_era5 = metrics.days_temperature_threshold(\n",
    "        obs_ds, \"over\", 273 + 30\n",
    "    ).compute()\n",
    "    days_over_30c_ds = metrics.days_temperature_threshold(\n",
    "        ds.sel(time=training_period), \"over\", 273 + 30\n",
    "    ).compute()\n",
    "    plot_values_and_difference(\n",
    "        days_over_30c_era5[\"tasmax\"],\n",
    "        days_over_30c_ds[\"tasmax\"],\n",
    "        cbar_kwargs={\"label\": \"Days over 30C\"},\n",
    "        diff_limit=20,\n",
    "    )"
   ]
  },
  {
   "cell_type": "markdown",
   "id": "f0753123-4039-464b-a48c-1cd1e7195420",
   "metadata": {},
   "source": [
    "# Very hot days\n",
    "\n",
    "Performance: the average number of very hot days (over 40c)\n"
   ]
  },
  {
   "cell_type": "code",
   "execution_count": null,
   "id": "a06c02d7-9c0d-479f-83dc-bb3896e876a2",
   "metadata": {},
   "outputs": [],
   "source": [
    "if var == \"tasmax\":\n",
    "    days_over_40c_era5 = metrics.days_temperature_threshold(\n",
    "        obs_ds, \"over\", 273 + 40\n",
    "    ).compute()\n",
    "    days_over_40c_ds = metrics.days_temperature_threshold(\n",
    "        ds.sel(time=training_period), \"over\", 273 + 40\n",
    "    ).compute()\n",
    "    plot_values_and_difference(\n",
    "        days_over_40c_era5[\"tasmax\"],\n",
    "        days_over_40c_ds[\"tasmax\"],\n",
    "        cbar_kwargs={\"label\": \"Days over 40C\"},\n",
    "    )"
   ]
  },
  {
   "cell_type": "markdown",
   "id": "04956b69-f8d9-43fc-a8f8-773b164d5cd5",
   "metadata": {},
   "source": [
    "# Is the change seen in the downscaled dataset the same as the change projected by the raw GCM?\n"
   ]
  },
  {
   "cell_type": "code",
   "execution_count": null,
   "id": "8fe686f6-dd82-456e-a45f-8c2a73e4f07a",
   "metadata": {},
   "outputs": [],
   "source": [
    "downscaled_change_cities = change_ds(\n",
    "    downscaled_cities.sel(time=training_period),\n",
    "    downscaled_cities.sel(time=future_period),\n",
    ")\n",
    "gcm_change_cities = change_ds(\n",
    "    gcm_cities.sel(time=training_period), gcm_cities.sel(time=future_period)\n",
    ")"
   ]
  },
  {
   "cell_type": "code",
   "execution_count": null,
   "id": "a57316cd-cea5-418d-b433-00f34b896a2d",
   "metadata": {},
   "outputs": [],
   "source": [
    "for metric in gcm_change_cities:\n",
    "    plot_values_and_difference(\n",
    "        gcm_change_cities[metric],\n",
    "        downscaled_change_cities[metric],\n",
    "        gcm_change_cities,\n",
    "        city_coords=obs_cities,\n",
    "        title1=\"GCM change in {}\".format(metric),\n",
    "        title2=\"Downscaled change in {}\".format(metric),\n",
    "        title3=\"Difference downscaled-GCM\",\n",
    "        variable=var,\n",
    "        metric=metric,\n",
    "    )"
   ]
  },
  {
   "cell_type": "markdown",
   "id": "80296759-34d7-4bce-9e2e-36f472d2c4a2",
   "metadata": {},
   "source": [
    "# Seasonal statistics\n"
   ]
  },
  {
   "cell_type": "markdown",
   "id": "e06063c5-dc53-42a0-b682-6c056d6950c9",
   "metadata": {},
   "source": [
    "### Assess the mean value over the season\n"
   ]
  },
  {
   "cell_type": "code",
   "execution_count": null,
   "id": "d927373b-1660-4b99-8902-b861d91dbc67",
   "metadata": {},
   "outputs": [],
   "source": [
    "aggregator = \"mean\"\n",
    "obs_seasonal = get_seasonal(obs_ds, aggregator=aggregator)\n",
    "downscaled_seasonal = get_seasonal(\n",
    "    ds.sel(time=training_period), aggregator=aggregator\n",
    ")"
   ]
  },
  {
   "cell_type": "code",
   "execution_count": null,
   "id": "f9b001ab-8b91-4873-a2a9-769a1761e1fa",
   "metadata": {},
   "outputs": [],
   "source": [
    "plot_seasonal(obs_seasonal[\"tasmax\"], downscaled_seasonal[\"tasmax\"])"
   ]
  },
  {
   "cell_type": "code",
   "execution_count": null,
   "id": "6c4963a6-ac57-47f1-8ca6-8ee641a1bb8f",
   "metadata": {},
   "outputs": [],
   "source": [
    "aggregator = \"max\"\n",
    "obs_seasonal = get_seasonal(obs_ds, aggregator=aggregator)\n",
    "downscaled_seasonal = get_seasonal(\n",
    "    ds.sel(time=training_period), aggregator=aggregator\n",
    ")\n",
    "plot_seasonal(obs_seasonal[\"tasmax\"], downscaled_seasonal[\"tasmax\"])"
   ]
  },
  {
   "cell_type": "markdown",
   "id": "9b5ecb6c-ca62-44ef-a454-20a860ce5e1d",
   "metadata": {},
   "source": [
    "### Assess the variability over the season\n"
   ]
  },
  {
   "cell_type": "code",
   "execution_count": null,
   "id": "34c21ccc-a75a-437c-a9db-abedd07da730",
   "metadata": {},
   "outputs": [],
   "source": [
    "aggregator = \"stdev\"\n",
    "obs_seasonal = get_seasonal(obs_ds, aggregator=aggregator)\n",
    "downscaled_seasonal = get_seasonal(\n",
    "    ds.sel(time=training_period), aggregator=aggregator\n",
    ")\n",
    "plot_seasonal(obs_seasonal[\"tasmax\"], downscaled_seasonal[\"tasmax\"])"
   ]
  },
  {
   "cell_type": "markdown",
   "id": "94e29f85-61e5-424f-8e59-6c96ab2e711a",
   "metadata": {},
   "source": [
    "# Precipitation-specific metrics\n"
   ]
  },
  {
   "cell_type": "markdown",
   "id": "9761ad09-8124-42ad-9e0c-9413d9096820",
   "metadata": {},
   "source": [
    "If precipitation, calculate the precipitation indices across season and plot the\n",
    "same seasonal comparison maps. Metrics taken from Wilby 1998.\n"
   ]
  },
  {
   "cell_type": "code",
   "execution_count": null,
   "id": "3059781e-f675-4da7-ba2a-e8d5993da96b",
   "metadata": {},
   "outputs": [],
   "source": [
    "if var != \"pr\":\n",
    "    raise SystemExit(\n",
    "        \"Stopping here! Everything below is only for precipitation.\"\n",
    "    )"
   ]
  },
  {
   "cell_type": "markdown",
   "id": "14036035-515b-4eaf-b12c-1b472511b987",
   "metadata": {},
   "source": [
    "### If it was wet, how wet was it?\n"
   ]
  },
  {
   "cell_type": "code",
   "execution_count": null,
   "id": "adc4806d-661f-4f66-b1e3-86b690760be4",
   "metadata": {},
   "outputs": [],
   "source": []
  },
  {
   "cell_type": "code",
   "execution_count": 39,
   "id": "7de5a1d1-2ace-44d2-a358-d2ee6fde6065",
   "metadata": {
    "collapsed": true,
    "jupyter": {
     "outputs_hidden": true
    },
    "tags": []
   },
   "outputs": [
    {
     "ename": "KeyboardInterrupt",
     "evalue": "",
     "output_type": "error",
     "traceback": [
      "\u001b[0;31m---------------------------------------------------------------------------\u001b[0m",
      "\u001b[0;31mKeyboardInterrupt\u001b[0m                         Traceback (most recent call last)",
      "\u001b[0;32m/tmp/ipykernel_1956/3930043098.py\u001b[0m in \u001b[0;36m<module>\u001b[0;34m\u001b[0m\n\u001b[0;32m----> 1\u001b[0;31m plot_values_and_difference(metrics.mean_wet_day_amount(obs_ds.pr),\n\u001b[0m\u001b[1;32m      2\u001b[0m                            \u001b[0mmetrics\u001b[0m\u001b[0;34m.\u001b[0m\u001b[0mmean_wet_day_amount\u001b[0m\u001b[0;34m(\u001b[0m\u001b[0mobs_ds\u001b[0m\u001b[0;34m.\u001b[0m\u001b[0mpr\u001b[0m\u001b[0;34m)\u001b[0m\u001b[0;34m,\u001b[0m\u001b[0;34m\u001b[0m\u001b[0;34m\u001b[0m\u001b[0m\n\u001b[1;32m      3\u001b[0m                            cbar_kwargs={'label': 'Mean wet day amount'}, diff_min=-10, diff_max=10)\n",
      "\u001b[0;32m~/cmip6-downscaling/cmip6_downscaling/analysis/plot.py\u001b[0m in \u001b[0;36mplot_values_and_difference\u001b[0;34m(ds1, ds2, plot_diff, diff_min, diff_max, cbar_kwargs, title1, title2)\u001b[0m\n\u001b[1;32m     54\u001b[0m \u001b[0;32mdef\u001b[0m \u001b[0mplot_values_and_difference\u001b[0m\u001b[0;34m(\u001b[0m\u001b[0mds1\u001b[0m\u001b[0;34m,\u001b[0m \u001b[0mds2\u001b[0m\u001b[0;34m,\u001b[0m \u001b[0mplot_diff\u001b[0m\u001b[0;34m=\u001b[0m\u001b[0;32mTrue\u001b[0m\u001b[0;34m,\u001b[0m \u001b[0mdiff_min\u001b[0m\u001b[0;34m=\u001b[0m\u001b[0;34m-\u001b[0m\u001b[0;36m10\u001b[0m\u001b[0;34m,\u001b[0m \u001b[0mdiff_max\u001b[0m\u001b[0;34m=\u001b[0m\u001b[0;36m10\u001b[0m\u001b[0;34m,\u001b[0m \u001b[0mcbar_kwargs\u001b[0m\u001b[0;34m=\u001b[0m\u001b[0;34m{\u001b[0m\u001b[0;34m}\u001b[0m\u001b[0;34m,\u001b[0m \u001b[0mtitle1\u001b[0m\u001b[0;34m=\u001b[0m\u001b[0;34m''\u001b[0m\u001b[0;34m,\u001b[0m \u001b[0mtitle2\u001b[0m\u001b[0;34m=\u001b[0m\u001b[0;34m''\u001b[0m\u001b[0;34m)\u001b[0m\u001b[0;34m:\u001b[0m\u001b[0;34m\u001b[0m\u001b[0;34m\u001b[0m\u001b[0m\n\u001b[1;32m     55\u001b[0m     \u001b[0mfig\u001b[0m\u001b[0;34m,\u001b[0m \u001b[0maxarr\u001b[0m \u001b[0;34m=\u001b[0m \u001b[0mplt\u001b[0m\u001b[0;34m.\u001b[0m\u001b[0msubplots\u001b[0m\u001b[0;34m(\u001b[0m\u001b[0mncols\u001b[0m\u001b[0;34m=\u001b[0m\u001b[0;36m3\u001b[0m\u001b[0;34m,\u001b[0m \u001b[0mfigsize\u001b[0m\u001b[0;34m=\u001b[0m\u001b[0;34m(\u001b[0m\u001b[0;36m24\u001b[0m\u001b[0;34m,\u001b[0m\u001b[0;36m3\u001b[0m\u001b[0;34m)\u001b[0m\u001b[0;34m,\u001b[0m \u001b[0msubplot_kw\u001b[0m\u001b[0;34m=\u001b[0m\u001b[0;34m{\u001b[0m\u001b[0;34m'projection'\u001b[0m\u001b[0;34m:\u001b[0m \u001b[0mccrs\u001b[0m\u001b[0;34m.\u001b[0m\u001b[0mPlateCarree\u001b[0m\u001b[0;34m(\u001b[0m\u001b[0;34m)\u001b[0m\u001b[0;34m}\u001b[0m\u001b[0;34m)\u001b[0m\u001b[0;34m\u001b[0m\u001b[0;34m\u001b[0m\u001b[0m\n\u001b[0;32m---> 56\u001b[0;31m     \u001b[0mds1\u001b[0m\u001b[0;34m.\u001b[0m\u001b[0mplot\u001b[0m\u001b[0;34m(\u001b[0m\u001b[0max\u001b[0m\u001b[0;34m=\u001b[0m\u001b[0maxarr\u001b[0m\u001b[0;34m[\u001b[0m\u001b[0;36m0\u001b[0m\u001b[0;34m]\u001b[0m\u001b[0;34m,\u001b[0m \u001b[0mcmap\u001b[0m\u001b[0;34m=\u001b[0m\u001b[0;34m'fire_light'\u001b[0m\u001b[0;34m,\u001b[0m \u001b[0mcbar_kwargs\u001b[0m\u001b[0;34m=\u001b[0m\u001b[0mcbar_kwargs\u001b[0m\u001b[0;34m)\u001b[0m\u001b[0;34m\u001b[0m\u001b[0;34m\u001b[0m\u001b[0m\n\u001b[0m\u001b[1;32m     57\u001b[0m     \u001b[0maxarr\u001b[0m\u001b[0;34m[\u001b[0m\u001b[0;36m0\u001b[0m\u001b[0;34m]\u001b[0m\u001b[0;34m.\u001b[0m\u001b[0mset_title\u001b[0m\u001b[0;34m(\u001b[0m\u001b[0mtitle1\u001b[0m\u001b[0;34m)\u001b[0m\u001b[0;34m\u001b[0m\u001b[0;34m\u001b[0m\u001b[0m\n\u001b[1;32m     58\u001b[0m     \u001b[0mds2\u001b[0m\u001b[0;34m.\u001b[0m\u001b[0mplot\u001b[0m\u001b[0;34m(\u001b[0m\u001b[0max\u001b[0m\u001b[0;34m=\u001b[0m\u001b[0maxarr\u001b[0m\u001b[0;34m[\u001b[0m\u001b[0;36m1\u001b[0m\u001b[0;34m]\u001b[0m\u001b[0;34m,\u001b[0m \u001b[0mcmap\u001b[0m\u001b[0;34m=\u001b[0m\u001b[0;34m'fire_light'\u001b[0m\u001b[0;34m,\u001b[0m \u001b[0mcbar_kwargs\u001b[0m\u001b[0;34m=\u001b[0m\u001b[0mcbar_kwargs\u001b[0m\u001b[0;34m)\u001b[0m\u001b[0;34m\u001b[0m\u001b[0;34m\u001b[0m\u001b[0m\n",
      "\u001b[0;32m/srv/conda/envs/notebook/lib/python3.9/site-packages/xarray/plot/plot.py\u001b[0m in \u001b[0;36m__call__\u001b[0;34m(self, **kwargs)\u001b[0m\n\u001b[1;32m    860\u001b[0m \u001b[0;34m\u001b[0m\u001b[0m\n\u001b[1;32m    861\u001b[0m     \u001b[0;32mdef\u001b[0m \u001b[0m__call__\u001b[0m\u001b[0;34m(\u001b[0m\u001b[0mself\u001b[0m\u001b[0;34m,\u001b[0m \u001b[0;34m**\u001b[0m\u001b[0mkwargs\u001b[0m\u001b[0;34m)\u001b[0m\u001b[0;34m:\u001b[0m\u001b[0;34m\u001b[0m\u001b[0;34m\u001b[0m\u001b[0m\n\u001b[0;32m--> 862\u001b[0;31m         \u001b[0;32mreturn\u001b[0m \u001b[0mplot\u001b[0m\u001b[0;34m(\u001b[0m\u001b[0mself\u001b[0m\u001b[0;34m.\u001b[0m\u001b[0m_da\u001b[0m\u001b[0;34m,\u001b[0m \u001b[0;34m**\u001b[0m\u001b[0mkwargs\u001b[0m\u001b[0;34m)\u001b[0m\u001b[0;34m\u001b[0m\u001b[0;34m\u001b[0m\u001b[0m\n\u001b[0m\u001b[1;32m    863\u001b[0m \u001b[0;34m\u001b[0m\u001b[0m\n\u001b[1;32m    864\u001b[0m     \u001b[0;31m# we can't use functools.wraps here since that also modifies the name / qualname\u001b[0m\u001b[0;34m\u001b[0m\u001b[0;34m\u001b[0m\u001b[0m\n",
      "\u001b[0;32m/srv/conda/envs/notebook/lib/python3.9/site-packages/xarray/plot/plot.py\u001b[0m in \u001b[0;36mplot\u001b[0;34m(darray, row, col, col_wrap, ax, hue, rtol, subplot_kws, **kwargs)\u001b[0m\n\u001b[1;32m    291\u001b[0m     \u001b[0mxarray\u001b[0m\u001b[0;34m.\u001b[0m\u001b[0mDataArray\u001b[0m\u001b[0;34m.\u001b[0m\u001b[0msqueeze\u001b[0m\u001b[0;34m\u001b[0m\u001b[0;34m\u001b[0m\u001b[0m\n\u001b[1;32m    292\u001b[0m     \"\"\"\n\u001b[0;32m--> 293\u001b[0;31m     \u001b[0mdarray\u001b[0m \u001b[0;34m=\u001b[0m \u001b[0mdarray\u001b[0m\u001b[0;34m.\u001b[0m\u001b[0msqueeze\u001b[0m\u001b[0;34m(\u001b[0m\u001b[0;34m)\u001b[0m\u001b[0;34m.\u001b[0m\u001b[0mcompute\u001b[0m\u001b[0;34m(\u001b[0m\u001b[0;34m)\u001b[0m\u001b[0;34m\u001b[0m\u001b[0;34m\u001b[0m\u001b[0m\n\u001b[0m\u001b[1;32m    294\u001b[0m \u001b[0;34m\u001b[0m\u001b[0m\n\u001b[1;32m    295\u001b[0m     \u001b[0mplot_dims\u001b[0m \u001b[0;34m=\u001b[0m \u001b[0mset\u001b[0m\u001b[0;34m(\u001b[0m\u001b[0mdarray\u001b[0m\u001b[0;34m.\u001b[0m\u001b[0mdims\u001b[0m\u001b[0;34m)\u001b[0m\u001b[0;34m\u001b[0m\u001b[0;34m\u001b[0m\u001b[0m\n",
      "\u001b[0;32m/srv/conda/envs/notebook/lib/python3.9/site-packages/xarray/core/dataarray.py\u001b[0m in \u001b[0;36mcompute\u001b[0;34m(self, **kwargs)\u001b[0m\n\u001b[1;32m    949\u001b[0m         \"\"\"\n\u001b[1;32m    950\u001b[0m         \u001b[0mnew\u001b[0m \u001b[0;34m=\u001b[0m \u001b[0mself\u001b[0m\u001b[0;34m.\u001b[0m\u001b[0mcopy\u001b[0m\u001b[0;34m(\u001b[0m\u001b[0mdeep\u001b[0m\u001b[0;34m=\u001b[0m\u001b[0;32mFalse\u001b[0m\u001b[0;34m)\u001b[0m\u001b[0;34m\u001b[0m\u001b[0;34m\u001b[0m\u001b[0m\n\u001b[0;32m--> 951\u001b[0;31m         \u001b[0;32mreturn\u001b[0m \u001b[0mnew\u001b[0m\u001b[0;34m.\u001b[0m\u001b[0mload\u001b[0m\u001b[0;34m(\u001b[0m\u001b[0;34m**\u001b[0m\u001b[0mkwargs\u001b[0m\u001b[0;34m)\u001b[0m\u001b[0;34m\u001b[0m\u001b[0;34m\u001b[0m\u001b[0m\n\u001b[0m\u001b[1;32m    952\u001b[0m \u001b[0;34m\u001b[0m\u001b[0m\n\u001b[1;32m    953\u001b[0m     \u001b[0;32mdef\u001b[0m \u001b[0mpersist\u001b[0m\u001b[0;34m(\u001b[0m\u001b[0mself\u001b[0m\u001b[0;34m,\u001b[0m \u001b[0;34m**\u001b[0m\u001b[0mkwargs\u001b[0m\u001b[0;34m)\u001b[0m \u001b[0;34m->\u001b[0m \u001b[0;34m\"DataArray\"\u001b[0m\u001b[0;34m:\u001b[0m\u001b[0;34m\u001b[0m\u001b[0;34m\u001b[0m\u001b[0m\n",
      "\u001b[0;32m/srv/conda/envs/notebook/lib/python3.9/site-packages/xarray/core/dataarray.py\u001b[0m in \u001b[0;36mload\u001b[0;34m(self, **kwargs)\u001b[0m\n\u001b[1;32m    923\u001b[0m         \u001b[0mdask\u001b[0m\u001b[0;34m.\u001b[0m\u001b[0mcompute\u001b[0m\u001b[0;34m\u001b[0m\u001b[0;34m\u001b[0m\u001b[0m\n\u001b[1;32m    924\u001b[0m         \"\"\"\n\u001b[0;32m--> 925\u001b[0;31m         \u001b[0mds\u001b[0m \u001b[0;34m=\u001b[0m \u001b[0mself\u001b[0m\u001b[0;34m.\u001b[0m\u001b[0m_to_temp_dataset\u001b[0m\u001b[0;34m(\u001b[0m\u001b[0;34m)\u001b[0m\u001b[0;34m.\u001b[0m\u001b[0mload\u001b[0m\u001b[0;34m(\u001b[0m\u001b[0;34m**\u001b[0m\u001b[0mkwargs\u001b[0m\u001b[0;34m)\u001b[0m\u001b[0;34m\u001b[0m\u001b[0;34m\u001b[0m\u001b[0m\n\u001b[0m\u001b[1;32m    926\u001b[0m         \u001b[0mnew\u001b[0m \u001b[0;34m=\u001b[0m \u001b[0mself\u001b[0m\u001b[0;34m.\u001b[0m\u001b[0m_from_temp_dataset\u001b[0m\u001b[0;34m(\u001b[0m\u001b[0mds\u001b[0m\u001b[0;34m)\u001b[0m\u001b[0;34m\u001b[0m\u001b[0;34m\u001b[0m\u001b[0m\n\u001b[1;32m    927\u001b[0m         \u001b[0mself\u001b[0m\u001b[0;34m.\u001b[0m\u001b[0m_variable\u001b[0m \u001b[0;34m=\u001b[0m \u001b[0mnew\u001b[0m\u001b[0;34m.\u001b[0m\u001b[0m_variable\u001b[0m\u001b[0;34m\u001b[0m\u001b[0;34m\u001b[0m\u001b[0m\n",
      "\u001b[0;32m/srv/conda/envs/notebook/lib/python3.9/site-packages/xarray/core/dataset.py\u001b[0m in \u001b[0;36mload\u001b[0;34m(self, **kwargs)\u001b[0m\n\u001b[1;32m    860\u001b[0m \u001b[0;34m\u001b[0m\u001b[0m\n\u001b[1;32m    861\u001b[0m             \u001b[0;31m# evaluate all the dask arrays simultaneously\u001b[0m\u001b[0;34m\u001b[0m\u001b[0;34m\u001b[0m\u001b[0m\n\u001b[0;32m--> 862\u001b[0;31m             \u001b[0mevaluated_data\u001b[0m \u001b[0;34m=\u001b[0m \u001b[0mda\u001b[0m\u001b[0;34m.\u001b[0m\u001b[0mcompute\u001b[0m\u001b[0;34m(\u001b[0m\u001b[0;34m*\u001b[0m\u001b[0mlazy_data\u001b[0m\u001b[0;34m.\u001b[0m\u001b[0mvalues\u001b[0m\u001b[0;34m(\u001b[0m\u001b[0;34m)\u001b[0m\u001b[0;34m,\u001b[0m \u001b[0;34m**\u001b[0m\u001b[0mkwargs\u001b[0m\u001b[0;34m)\u001b[0m\u001b[0;34m\u001b[0m\u001b[0;34m\u001b[0m\u001b[0m\n\u001b[0m\u001b[1;32m    863\u001b[0m \u001b[0;34m\u001b[0m\u001b[0m\n\u001b[1;32m    864\u001b[0m             \u001b[0;32mfor\u001b[0m \u001b[0mk\u001b[0m\u001b[0;34m,\u001b[0m \u001b[0mdata\u001b[0m \u001b[0;32min\u001b[0m \u001b[0mzip\u001b[0m\u001b[0;34m(\u001b[0m\u001b[0mlazy_data\u001b[0m\u001b[0;34m,\u001b[0m \u001b[0mevaluated_data\u001b[0m\u001b[0;34m)\u001b[0m\u001b[0;34m:\u001b[0m\u001b[0;34m\u001b[0m\u001b[0;34m\u001b[0m\u001b[0m\n",
      "\u001b[0;32m/srv/conda/envs/notebook/lib/python3.9/site-packages/dask/base.py\u001b[0m in \u001b[0;36mcompute\u001b[0;34m(*args, **kwargs)\u001b[0m\n\u001b[1;32m    568\u001b[0m         \u001b[0mpostcomputes\u001b[0m\u001b[0;34m.\u001b[0m\u001b[0mappend\u001b[0m\u001b[0;34m(\u001b[0m\u001b[0mx\u001b[0m\u001b[0;34m.\u001b[0m\u001b[0m__dask_postcompute__\u001b[0m\u001b[0;34m(\u001b[0m\u001b[0;34m)\u001b[0m\u001b[0;34m)\u001b[0m\u001b[0;34m\u001b[0m\u001b[0;34m\u001b[0m\u001b[0m\n\u001b[1;32m    569\u001b[0m \u001b[0;34m\u001b[0m\u001b[0m\n\u001b[0;32m--> 570\u001b[0;31m     \u001b[0mresults\u001b[0m \u001b[0;34m=\u001b[0m \u001b[0mschedule\u001b[0m\u001b[0;34m(\u001b[0m\u001b[0mdsk\u001b[0m\u001b[0;34m,\u001b[0m \u001b[0mkeys\u001b[0m\u001b[0;34m,\u001b[0m \u001b[0;34m**\u001b[0m\u001b[0mkwargs\u001b[0m\u001b[0;34m)\u001b[0m\u001b[0;34m\u001b[0m\u001b[0;34m\u001b[0m\u001b[0m\n\u001b[0m\u001b[1;32m    571\u001b[0m     \u001b[0;32mreturn\u001b[0m \u001b[0mrepack\u001b[0m\u001b[0;34m(\u001b[0m\u001b[0;34m[\u001b[0m\u001b[0mf\u001b[0m\u001b[0;34m(\u001b[0m\u001b[0mr\u001b[0m\u001b[0;34m,\u001b[0m \u001b[0;34m*\u001b[0m\u001b[0ma\u001b[0m\u001b[0;34m)\u001b[0m \u001b[0;32mfor\u001b[0m \u001b[0mr\u001b[0m\u001b[0;34m,\u001b[0m \u001b[0;34m(\u001b[0m\u001b[0mf\u001b[0m\u001b[0;34m,\u001b[0m \u001b[0ma\u001b[0m\u001b[0;34m)\u001b[0m \u001b[0;32min\u001b[0m \u001b[0mzip\u001b[0m\u001b[0;34m(\u001b[0m\u001b[0mresults\u001b[0m\u001b[0;34m,\u001b[0m \u001b[0mpostcomputes\u001b[0m\u001b[0;34m)\u001b[0m\u001b[0;34m]\u001b[0m\u001b[0;34m)\u001b[0m\u001b[0;34m\u001b[0m\u001b[0;34m\u001b[0m\u001b[0m\n\u001b[1;32m    572\u001b[0m \u001b[0;34m\u001b[0m\u001b[0m\n",
      "\u001b[0;32m/srv/conda/envs/notebook/lib/python3.9/site-packages/distributed/client.py\u001b[0m in \u001b[0;36mget\u001b[0;34m(self, dsk, keys, workers, allow_other_workers, resources, sync, asynchronous, direct, retries, priority, fifo_timeout, actors, **kwargs)\u001b[0m\n\u001b[1;32m   2691\u001b[0m                     \u001b[0mshould_rejoin\u001b[0m \u001b[0;34m=\u001b[0m \u001b[0;32mFalse\u001b[0m\u001b[0;34m\u001b[0m\u001b[0;34m\u001b[0m\u001b[0m\n\u001b[1;32m   2692\u001b[0m             \u001b[0;32mtry\u001b[0m\u001b[0;34m:\u001b[0m\u001b[0;34m\u001b[0m\u001b[0;34m\u001b[0m\u001b[0m\n\u001b[0;32m-> 2693\u001b[0;31m                 \u001b[0mresults\u001b[0m \u001b[0;34m=\u001b[0m \u001b[0mself\u001b[0m\u001b[0;34m.\u001b[0m\u001b[0mgather\u001b[0m\u001b[0;34m(\u001b[0m\u001b[0mpacked\u001b[0m\u001b[0;34m,\u001b[0m \u001b[0masynchronous\u001b[0m\u001b[0;34m=\u001b[0m\u001b[0masynchronous\u001b[0m\u001b[0;34m,\u001b[0m \u001b[0mdirect\u001b[0m\u001b[0;34m=\u001b[0m\u001b[0mdirect\u001b[0m\u001b[0;34m)\u001b[0m\u001b[0;34m\u001b[0m\u001b[0;34m\u001b[0m\u001b[0m\n\u001b[0m\u001b[1;32m   2694\u001b[0m             \u001b[0;32mfinally\u001b[0m\u001b[0;34m:\u001b[0m\u001b[0;34m\u001b[0m\u001b[0;34m\u001b[0m\u001b[0m\n\u001b[1;32m   2695\u001b[0m                 \u001b[0;32mfor\u001b[0m \u001b[0mf\u001b[0m \u001b[0;32min\u001b[0m \u001b[0mfutures\u001b[0m\u001b[0;34m.\u001b[0m\u001b[0mvalues\u001b[0m\u001b[0;34m(\u001b[0m\u001b[0;34m)\u001b[0m\u001b[0;34m:\u001b[0m\u001b[0;34m\u001b[0m\u001b[0;34m\u001b[0m\u001b[0m\n",
      "\u001b[0;32m/srv/conda/envs/notebook/lib/python3.9/site-packages/distributed/client.py\u001b[0m in \u001b[0;36mgather\u001b[0;34m(self, futures, errors, direct, asynchronous)\u001b[0m\n\u001b[1;32m   1967\u001b[0m             \u001b[0;32melse\u001b[0m\u001b[0;34m:\u001b[0m\u001b[0;34m\u001b[0m\u001b[0;34m\u001b[0m\u001b[0m\n\u001b[1;32m   1968\u001b[0m                 \u001b[0mlocal_worker\u001b[0m \u001b[0;34m=\u001b[0m \u001b[0;32mNone\u001b[0m\u001b[0;34m\u001b[0m\u001b[0;34m\u001b[0m\u001b[0m\n\u001b[0;32m-> 1969\u001b[0;31m             return self.sync(\n\u001b[0m\u001b[1;32m   1970\u001b[0m                 \u001b[0mself\u001b[0m\u001b[0;34m.\u001b[0m\u001b[0m_gather\u001b[0m\u001b[0;34m,\u001b[0m\u001b[0;34m\u001b[0m\u001b[0;34m\u001b[0m\u001b[0m\n\u001b[1;32m   1971\u001b[0m                 \u001b[0mfutures\u001b[0m\u001b[0;34m,\u001b[0m\u001b[0;34m\u001b[0m\u001b[0;34m\u001b[0m\u001b[0m\n",
      "\u001b[0;32m/srv/conda/envs/notebook/lib/python3.9/site-packages/distributed/client.py\u001b[0m in \u001b[0;36msync\u001b[0;34m(self, func, asynchronous, callback_timeout, *args, **kwargs)\u001b[0m\n\u001b[1;32m    863\u001b[0m             \u001b[0;32mreturn\u001b[0m \u001b[0mfuture\u001b[0m\u001b[0;34m\u001b[0m\u001b[0;34m\u001b[0m\u001b[0m\n\u001b[1;32m    864\u001b[0m         \u001b[0;32melse\u001b[0m\u001b[0;34m:\u001b[0m\u001b[0;34m\u001b[0m\u001b[0;34m\u001b[0m\u001b[0m\n\u001b[0;32m--> 865\u001b[0;31m             return sync(\n\u001b[0m\u001b[1;32m    866\u001b[0m                 \u001b[0mself\u001b[0m\u001b[0;34m.\u001b[0m\u001b[0mloop\u001b[0m\u001b[0;34m,\u001b[0m \u001b[0mfunc\u001b[0m\u001b[0;34m,\u001b[0m \u001b[0;34m*\u001b[0m\u001b[0margs\u001b[0m\u001b[0;34m,\u001b[0m \u001b[0mcallback_timeout\u001b[0m\u001b[0;34m=\u001b[0m\u001b[0mcallback_timeout\u001b[0m\u001b[0;34m,\u001b[0m \u001b[0;34m**\u001b[0m\u001b[0mkwargs\u001b[0m\u001b[0;34m\u001b[0m\u001b[0;34m\u001b[0m\u001b[0m\n\u001b[1;32m    867\u001b[0m             )\n",
      "\u001b[0;32m/srv/conda/envs/notebook/lib/python3.9/site-packages/distributed/utils.py\u001b[0m in \u001b[0;36msync\u001b[0;34m(loop, func, callback_timeout, *args, **kwargs)\u001b[0m\n\u001b[1;32m    322\u001b[0m     \u001b[0;32melse\u001b[0m\u001b[0;34m:\u001b[0m\u001b[0;34m\u001b[0m\u001b[0;34m\u001b[0m\u001b[0m\n\u001b[1;32m    323\u001b[0m         \u001b[0;32mwhile\u001b[0m \u001b[0;32mnot\u001b[0m \u001b[0me\u001b[0m\u001b[0;34m.\u001b[0m\u001b[0mis_set\u001b[0m\u001b[0;34m(\u001b[0m\u001b[0;34m)\u001b[0m\u001b[0;34m:\u001b[0m\u001b[0;34m\u001b[0m\u001b[0;34m\u001b[0m\u001b[0m\n\u001b[0;32m--> 324\u001b[0;31m             \u001b[0me\u001b[0m\u001b[0;34m.\u001b[0m\u001b[0mwait\u001b[0m\u001b[0;34m(\u001b[0m\u001b[0;36m10\u001b[0m\u001b[0;34m)\u001b[0m\u001b[0;34m\u001b[0m\u001b[0;34m\u001b[0m\u001b[0m\n\u001b[0m\u001b[1;32m    325\u001b[0m     \u001b[0;32mif\u001b[0m \u001b[0merror\u001b[0m\u001b[0;34m[\u001b[0m\u001b[0;36m0\u001b[0m\u001b[0;34m]\u001b[0m\u001b[0;34m:\u001b[0m\u001b[0;34m\u001b[0m\u001b[0;34m\u001b[0m\u001b[0m\n\u001b[1;32m    326\u001b[0m         \u001b[0mtyp\u001b[0m\u001b[0;34m,\u001b[0m \u001b[0mexc\u001b[0m\u001b[0;34m,\u001b[0m \u001b[0mtb\u001b[0m \u001b[0;34m=\u001b[0m \u001b[0merror\u001b[0m\u001b[0;34m[\u001b[0m\u001b[0;36m0\u001b[0m\u001b[0;34m]\u001b[0m\u001b[0;34m\u001b[0m\u001b[0;34m\u001b[0m\u001b[0m\n",
      "\u001b[0;32m/srv/conda/envs/notebook/lib/python3.9/threading.py\u001b[0m in \u001b[0;36mwait\u001b[0;34m(self, timeout)\u001b[0m\n\u001b[1;32m    572\u001b[0m             \u001b[0msignaled\u001b[0m \u001b[0;34m=\u001b[0m \u001b[0mself\u001b[0m\u001b[0;34m.\u001b[0m\u001b[0m_flag\u001b[0m\u001b[0;34m\u001b[0m\u001b[0;34m\u001b[0m\u001b[0m\n\u001b[1;32m    573\u001b[0m             \u001b[0;32mif\u001b[0m \u001b[0;32mnot\u001b[0m \u001b[0msignaled\u001b[0m\u001b[0;34m:\u001b[0m\u001b[0;34m\u001b[0m\u001b[0;34m\u001b[0m\u001b[0m\n\u001b[0;32m--> 574\u001b[0;31m                 \u001b[0msignaled\u001b[0m \u001b[0;34m=\u001b[0m \u001b[0mself\u001b[0m\u001b[0;34m.\u001b[0m\u001b[0m_cond\u001b[0m\u001b[0;34m.\u001b[0m\u001b[0mwait\u001b[0m\u001b[0;34m(\u001b[0m\u001b[0mtimeout\u001b[0m\u001b[0;34m)\u001b[0m\u001b[0;34m\u001b[0m\u001b[0;34m\u001b[0m\u001b[0m\n\u001b[0m\u001b[1;32m    575\u001b[0m             \u001b[0;32mreturn\u001b[0m \u001b[0msignaled\u001b[0m\u001b[0;34m\u001b[0m\u001b[0;34m\u001b[0m\u001b[0m\n\u001b[1;32m    576\u001b[0m \u001b[0;34m\u001b[0m\u001b[0m\n",
      "\u001b[0;32m/srv/conda/envs/notebook/lib/python3.9/threading.py\u001b[0m in \u001b[0;36mwait\u001b[0;34m(self, timeout)\u001b[0m\n\u001b[1;32m    314\u001b[0m             \u001b[0;32melse\u001b[0m\u001b[0;34m:\u001b[0m\u001b[0;34m\u001b[0m\u001b[0;34m\u001b[0m\u001b[0m\n\u001b[1;32m    315\u001b[0m                 \u001b[0;32mif\u001b[0m \u001b[0mtimeout\u001b[0m \u001b[0;34m>\u001b[0m \u001b[0;36m0\u001b[0m\u001b[0;34m:\u001b[0m\u001b[0;34m\u001b[0m\u001b[0;34m\u001b[0m\u001b[0m\n\u001b[0;32m--> 316\u001b[0;31m                     \u001b[0mgotit\u001b[0m \u001b[0;34m=\u001b[0m \u001b[0mwaiter\u001b[0m\u001b[0;34m.\u001b[0m\u001b[0macquire\u001b[0m\u001b[0;34m(\u001b[0m\u001b[0;32mTrue\u001b[0m\u001b[0;34m,\u001b[0m \u001b[0mtimeout\u001b[0m\u001b[0;34m)\u001b[0m\u001b[0;34m\u001b[0m\u001b[0;34m\u001b[0m\u001b[0m\n\u001b[0m\u001b[1;32m    317\u001b[0m                 \u001b[0;32melse\u001b[0m\u001b[0;34m:\u001b[0m\u001b[0;34m\u001b[0m\u001b[0;34m\u001b[0m\u001b[0m\n\u001b[1;32m    318\u001b[0m                     \u001b[0mgotit\u001b[0m \u001b[0;34m=\u001b[0m \u001b[0mwaiter\u001b[0m\u001b[0;34m.\u001b[0m\u001b[0macquire\u001b[0m\u001b[0;34m(\u001b[0m\u001b[0;32mFalse\u001b[0m\u001b[0;34m)\u001b[0m\u001b[0;34m\u001b[0m\u001b[0;34m\u001b[0m\u001b[0m\n",
      "\u001b[0;31mKeyboardInterrupt\u001b[0m: "
     ]
    },
    {
     "data": {
      "image/png": "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\n",
      "text/plain": [
       "<Figure size 1728x216 with 3 Axes>"
      ]
     },
     "metadata": {},
     "output_type": "display_data"
    },
    {
     "name": "stderr",
     "output_type": "stream",
     "text": [
      "Process Dask Worker process (from Nanny):\n",
      "Traceback (most recent call last):\n",
      "  File \"/srv/conda/envs/notebook/lib/python3.9/site-packages/distributed/nanny.py\", line 931, in _run\n",
      "    loop.run_sync(run)\n",
      "  File \"/srv/conda/envs/notebook/lib/python3.9/site-packages/tornado/ioloop.py\", line 524, in run_sync\n",
      "    self.start()\n",
      "  File \"/srv/conda/envs/notebook/lib/python3.9/site-packages/tornado/platform/asyncio.py\", line 199, in start\n",
      "    self.asyncio_loop.run_forever()\n",
      "  File \"/srv/conda/envs/notebook/lib/python3.9/asyncio/base_events.py\", line 596, in run_forever\n",
      "    self._run_once()\n",
      "  File \"/srv/conda/envs/notebook/lib/python3.9/asyncio/base_events.py\", line 1854, in _run_once\n",
      "    event_list = self._selector.select(timeout)\n",
      "  File \"/srv/conda/envs/notebook/lib/python3.9/selectors.py\", line 469, in select\n",
      "    fd_event_list = self._selector.poll(timeout, max_ev)\n",
      "KeyboardInterrupt\n",
      "\n",
      "During handling of the above exception, another exception occurred:\n",
      "\n",
      "Traceback (most recent call last):\n",
      "  File \"/srv/conda/envs/notebook/lib/python3.9/multiprocessing/process.py\", line 315, in _bootstrap\n",
      "    self.run()\n",
      "  File \"/srv/conda/envs/notebook/lib/python3.9/multiprocessing/process.py\", line 108, in run\n",
      "    self._target(*self._args, **self._kwargs)\n",
      "  File \"/srv/conda/envs/notebook/lib/python3.9/site-packages/distributed/process.py\", line 175, in _run\n",
      "    target(*args, **kwargs)\n",
      "  File \"/srv/conda/envs/notebook/lib/python3.9/site-packages/distributed/nanny.py\", line 938, in _run\n",
      "    loop.run_sync(do_stop)\n",
      "  File \"/srv/conda/envs/notebook/lib/python3.9/site-packages/tornado/ioloop.py\", line 524, in run_sync\n",
      "    self.start()\n",
      "  File \"/srv/conda/envs/notebook/lib/python3.9/site-packages/tornado/platform/asyncio.py\", line 199, in start\n",
      "    self.asyncio_loop.run_forever()\n",
      "  File \"/srv/conda/envs/notebook/lib/python3.9/asyncio/base_events.py\", line 596, in run_forever\n",
      "    self._run_once()\n",
      "  File \"/srv/conda/envs/notebook/lib/python3.9/asyncio/base_events.py\", line 1890, in _run_once\n",
      "    handle._run()\n",
      "  File \"/srv/conda/envs/notebook/lib/python3.9/asyncio/events.py\", line 80, in _run\n",
      "    self._context.run(self._callback, *self._args)\n",
      "  File \"/srv/conda/envs/notebook/lib/python3.9/site-packages/distributed/nanny.py\", line 854, in do_stop\n",
      "    await worker.close(\n",
      "  File \"/srv/conda/envs/notebook/lib/python3.9/site-packages/distributed/worker.py\", line 1509, in close\n",
      "    self._workdir.release()\n",
      "  File \"/srv/conda/envs/notebook/lib/python3.9/site-packages/distributed/diskutils.py\", line 97, in release\n",
      "    self._finalizer()\n",
      "  File \"/srv/conda/envs/notebook/lib/python3.9/weakref.py\", line 591, in __call__\n",
      "    return info.func(*info.args, **(info.kwargs or {}))\n",
      "  File \"/srv/conda/envs/notebook/lib/python3.9/site-packages/distributed/diskutils.py\", line 108, in _finalize\n",
      "    safe_unlink(lock_path)\n",
      "  File \"/srv/conda/envs/notebook/lib/python3.9/site-packages/distributed/diskutils.py\", line 27, in safe_unlink\n",
      "    os.unlink(path)\n",
      "KeyboardInterrupt\n",
      "Process Dask Worker process (from Nanny):\n",
      "Traceback (most recent call last):\n",
      "  File \"/srv/conda/envs/notebook/lib/python3.9/site-packages/distributed/nanny.py\", line 931, in _run\n",
      "    loop.run_sync(run)\n",
      "  File \"/srv/conda/envs/notebook/lib/python3.9/site-packages/tornado/ioloop.py\", line 524, in run_sync\n",
      "    self.start()\n",
      "  File \"/srv/conda/envs/notebook/lib/python3.9/site-packages/tornado/platform/asyncio.py\", line 199, in start\n",
      "    self.asyncio_loop.run_forever()\n",
      "  File \"/srv/conda/envs/notebook/lib/python3.9/asyncio/base_events.py\", line 596, in run_forever\n",
      "    self._run_once()\n",
      "  File \"/srv/conda/envs/notebook/lib/python3.9/asyncio/base_events.py\", line 1854, in _run_once\n",
      "    event_list = self._selector.select(timeout)\n",
      "  File \"/srv/conda/envs/notebook/lib/python3.9/selectors.py\", line 469, in select\n",
      "    fd_event_list = self._selector.poll(timeout, max_ev)\n",
      "KeyboardInterrupt\n",
      "\n",
      "During handling of the above exception, another exception occurred:\n",
      "\n",
      "Traceback (most recent call last):\n",
      "  File \"/srv/conda/envs/notebook/lib/python3.9/multiprocessing/process.py\", line 315, in _bootstrap\n",
      "    self.run()\n",
      "  File \"/srv/conda/envs/notebook/lib/python3.9/multiprocessing/process.py\", line 108, in run\n",
      "    self._target(*self._args, **self._kwargs)\n",
      "  File \"/srv/conda/envs/notebook/lib/python3.9/site-packages/distributed/process.py\", line 175, in _run\n",
      "    target(*args, **kwargs)\n",
      "  File \"/srv/conda/envs/notebook/lib/python3.9/site-packages/distributed/nanny.py\", line 938, in _run\n",
      "    loop.run_sync(do_stop)\n",
      "  File \"/srv/conda/envs/notebook/lib/python3.9/site-packages/tornado/ioloop.py\", line 524, in run_sync\n",
      "    self.start()\n",
      "  File \"/srv/conda/envs/notebook/lib/python3.9/site-packages/tornado/platform/asyncio.py\", line 199, in start\n",
      "    self.asyncio_loop.run_forever()\n",
      "  File \"/srv/conda/envs/notebook/lib/python3.9/asyncio/base_events.py\", line 596, in run_forever\n",
      "    self._run_once()\n",
      "  File \"/srv/conda/envs/notebook/lib/python3.9/asyncio/base_events.py\", line 1890, in _run_once\n",
      "    handle._run()\n",
      "  File \"/srv/conda/envs/notebook/lib/python3.9/asyncio/events.py\", line 80, in _run\n",
      "    self._context.run(self._callback, *self._args)\n",
      "  File \"/srv/conda/envs/notebook/lib/python3.9/site-packages/distributed/nanny.py\", line 854, in do_stop\n",
      "    await worker.close(\n",
      "  File \"/srv/conda/envs/notebook/lib/python3.9/site-packages/distributed/worker.py\", line 1509, in close\n",
      "    self._workdir.release()\n",
      "  File \"/srv/conda/envs/notebook/lib/python3.9/site-packages/distributed/diskutils.py\", line 97, in release\n",
      "    self._finalizer()\n",
      "  File \"/srv/conda/envs/notebook/lib/python3.9/weakref.py\", line 591, in __call__\n",
      "    return info.func(*info.args, **(info.kwargs or {}))\n",
      "  File \"/srv/conda/envs/notebook/lib/python3.9/site-packages/distributed/diskutils.py\", line 108, in _finalize\n",
      "    safe_unlink(lock_path)\n",
      "  File \"/srv/conda/envs/notebook/lib/python3.9/site-packages/distributed/diskutils.py\", line 27, in safe_unlink\n",
      "    os.unlink(path)\n",
      "KeyboardInterrupt\n",
      "Process Dask Worker process (from Nanny):\n",
      "Traceback (most recent call last):\n",
      "  File \"/srv/conda/envs/notebook/lib/python3.9/site-packages/distributed/nanny.py\", line 931, in _run\n",
      "    loop.run_sync(run)\n",
      "  File \"/srv/conda/envs/notebook/lib/python3.9/site-packages/tornado/ioloop.py\", line 524, in run_sync\n",
      "    self.start()\n",
      "  File \"/srv/conda/envs/notebook/lib/python3.9/site-packages/tornado/platform/asyncio.py\", line 199, in start\n",
      "    self.asyncio_loop.run_forever()\n",
      "  File \"/srv/conda/envs/notebook/lib/python3.9/asyncio/base_events.py\", line 596, in run_forever\n",
      "    self._run_once()\n",
      "  File \"/srv/conda/envs/notebook/lib/python3.9/asyncio/base_events.py\", line 1854, in _run_once\n",
      "    event_list = self._selector.select(timeout)\n",
      "  File \"/srv/conda/envs/notebook/lib/python3.9/selectors.py\", line 469, in select\n",
      "    fd_event_list = self._selector.poll(timeout, max_ev)\n",
      "KeyboardInterrupt\n",
      "\n",
      "During handling of the above exception, another exception occurred:\n",
      "\n",
      "Traceback (most recent call last):\n",
      "  File \"/srv/conda/envs/notebook/lib/python3.9/multiprocessing/process.py\", line 315, in _bootstrap\n",
      "    self.run()\n",
      "  File \"/srv/conda/envs/notebook/lib/python3.9/multiprocessing/process.py\", line 108, in run\n",
      "    self._target(*self._args, **self._kwargs)\n",
      "  File \"/srv/conda/envs/notebook/lib/python3.9/site-packages/distributed/process.py\", line 175, in _run\n",
      "    target(*args, **kwargs)\n",
      "  File \"/srv/conda/envs/notebook/lib/python3.9/site-packages/distributed/nanny.py\", line 938, in _run\n",
      "    loop.run_sync(do_stop)\n",
      "  File \"/srv/conda/envs/notebook/lib/python3.9/site-packages/tornado/ioloop.py\", line 524, in run_sync\n",
      "    self.start()\n",
      "  File \"/srv/conda/envs/notebook/lib/python3.9/site-packages/tornado/platform/asyncio.py\", line 199, in start\n",
      "    self.asyncio_loop.run_forever()\n",
      "  File \"/srv/conda/envs/notebook/lib/python3.9/asyncio/base_events.py\", line 596, in run_forever\n",
      "    self._run_once()\n",
      "  File \"/srv/conda/envs/notebook/lib/python3.9/asyncio/base_events.py\", line 1890, in _run_once\n",
      "    handle._run()\n",
      "  File \"/srv/conda/envs/notebook/lib/python3.9/asyncio/events.py\", line 80, in _run\n",
      "    self._context.run(self._callback, *self._args)\n",
      "  File \"/srv/conda/envs/notebook/lib/python3.9/site-packages/distributed/nanny.py\", line 854, in do_stop\n",
      "    await worker.close(\n",
      "  File \"/srv/conda/envs/notebook/lib/python3.9/site-packages/distributed/worker.py\", line 1509, in close\n",
      "    self._workdir.release()\n",
      "  File \"/srv/conda/envs/notebook/lib/python3.9/site-packages/distributed/diskutils.py\", line 97, in release\n",
      "    self._finalizer()\n",
      "  File \"/srv/conda/envs/notebook/lib/python3.9/weakref.py\", line 591, in __call__\n",
      "    return info.func(*info.args, **(info.kwargs or {}))\n",
      "  File \"/srv/conda/envs/notebook/lib/python3.9/site-packages/distributed/diskutils.py\", line 108, in _finalize\n",
      "    safe_unlink(lock_path)\n",
      "  File \"/srv/conda/envs/notebook/lib/python3.9/site-packages/distributed/diskutils.py\", line 27, in safe_unlink\n",
      "    os.unlink(path)\n",
      "KeyboardInterrupt\n",
      "Process Dask Worker process (from Nanny):\n",
      "Traceback (most recent call last):\n",
      "  File \"/srv/conda/envs/notebook/lib/python3.9/site-packages/distributed/nanny.py\", line 931, in _run\n",
      "    loop.run_sync(run)\n",
      "  File \"/srv/conda/envs/notebook/lib/python3.9/site-packages/tornado/ioloop.py\", line 524, in run_sync\n",
      "    self.start()\n",
      "  File \"/srv/conda/envs/notebook/lib/python3.9/site-packages/tornado/platform/asyncio.py\", line 199, in start\n",
      "    self.asyncio_loop.run_forever()\n",
      "  File \"/srv/conda/envs/notebook/lib/python3.9/asyncio/base_events.py\", line 596, in run_forever\n",
      "    self._run_once()\n",
      "  File \"/srv/conda/envs/notebook/lib/python3.9/asyncio/base_events.py\", line 1854, in _run_once\n",
      "    event_list = self._selector.select(timeout)\n",
      "  File \"/srv/conda/envs/notebook/lib/python3.9/selectors.py\", line 469, in select\n",
      "    fd_event_list = self._selector.poll(timeout, max_ev)\n",
      "KeyboardInterrupt\n",
      "\n",
      "During handling of the above exception, another exception occurred:\n",
      "\n",
      "Traceback (most recent call last):\n",
      "  File \"/srv/conda/envs/notebook/lib/python3.9/multiprocessing/process.py\", line 315, in _bootstrap\n",
      "    self.run()\n",
      "  File \"/srv/conda/envs/notebook/lib/python3.9/multiprocessing/process.py\", line 108, in run\n",
      "    self._target(*self._args, **self._kwargs)\n",
      "  File \"/srv/conda/envs/notebook/lib/python3.9/site-packages/distributed/process.py\", line 175, in _run\n",
      "    target(*args, **kwargs)\n",
      "  File \"/srv/conda/envs/notebook/lib/python3.9/site-packages/distributed/nanny.py\", line 938, in _run\n",
      "    loop.run_sync(do_stop)\n",
      "  File \"/srv/conda/envs/notebook/lib/python3.9/site-packages/tornado/ioloop.py\", line 524, in run_sync\n",
      "    self.start()\n",
      "  File \"/srv/conda/envs/notebook/lib/python3.9/site-packages/tornado/platform/asyncio.py\", line 199, in start\n",
      "    self.asyncio_loop.run_forever()\n",
      "  File \"/srv/conda/envs/notebook/lib/python3.9/asyncio/base_events.py\", line 596, in run_forever\n",
      "    self._run_once()\n",
      "  File \"/srv/conda/envs/notebook/lib/python3.9/asyncio/base_events.py\", line 1890, in _run_once\n",
      "    handle._run()\n",
      "  File \"/srv/conda/envs/notebook/lib/python3.9/asyncio/events.py\", line 80, in _run\n",
      "    self._context.run(self._callback, *self._args)\n",
      "  File \"/srv/conda/envs/notebook/lib/python3.9/site-packages/distributed/nanny.py\", line 854, in do_stop\n",
      "    await worker.close(\n",
      "  File \"/srv/conda/envs/notebook/lib/python3.9/site-packages/distributed/worker.py\", line 1509, in close\n",
      "    self._workdir.release()\n",
      "  File \"/srv/conda/envs/notebook/lib/python3.9/site-packages/distributed/diskutils.py\", line 97, in release\n",
      "    self._finalizer()\n",
      "  File \"/srv/conda/envs/notebook/lib/python3.9/weakref.py\", line 591, in __call__\n",
      "    return info.func(*info.args, **(info.kwargs or {}))\n",
      "  File \"/srv/conda/envs/notebook/lib/python3.9/site-packages/distributed/diskutils.py\", line 108, in _finalize\n",
      "    safe_unlink(lock_path)\n",
      "  File \"/srv/conda/envs/notebook/lib/python3.9/site-packages/distributed/diskutils.py\", line 27, in safe_unlink\n",
      "    os.unlink(path)\n",
      "KeyboardInterrupt\n",
      "distributed.nanny - WARNING - Restarting worker\n",
      "distributed.nanny - WARNING - Restarting worker\n",
      "distributed.nanny - WARNING - Restarting worker\n",
      "distributed.nanny - WARNING - Restarting worker\n",
      "/srv/conda/envs/notebook/lib/python3.9/contextlib.py:126: UserWarning: Creating scratch directories is taking a surprisingly long time. This is often due to running workers on a network file system. Consider specifying a local-directory to point workers to write scratch data to a local disk.\n",
      "  next(self.gen)\n",
      "/srv/conda/envs/notebook/lib/python3.9/contextlib.py:126: UserWarning: Creating scratch directories is taking a surprisingly long time. This is often due to running workers on a network file system. Consider specifying a local-directory to point workers to write scratch data to a local disk.\n",
      "  next(self.gen)\n"
     ]
    }
   ],
   "source": [
    "for metric in [\"mean\", \"median\", \"std\", \"percentile95\"]:\n",
    "    plot_values_and_difference(\n",
    "        metrics.wet_day_amount(obs_ds.pr, method=metric),\n",
    "        metrics.wet_day_amount(ds[\"pr\"].sel(training_period), method=metric),\n",
    "        cbar_kwargs={\"label\": f\"{metric} wet day amount\"},\n",
    "        diff_limit=10,\n",
    "    )"
   ]
  },
  {
   "cell_type": "markdown",
   "id": "5aecfc7d-e55f-4a36-a8ac-02d7adee99ad",
   "metadata": {},
   "source": [
    "Calculate boolean masks of wet and dry days (they are inverses of eachother)\n",
    "based upon a threshold. We'll then use these to perform a variety of statistics.\n"
   ]
  },
  {
   "cell_type": "code",
   "execution_count": null,
   "id": "592e8bce-530d-4ea8-9166-f977a1a0e78a",
   "metadata": {},
   "outputs": [
    {
     "data": {
      "text/plain": [
       "<matplotlib.collections.QuadMesh at 0x7fadd60f93a0>"
      ]
     },
     "execution_count": 55,
     "metadata": {},
     "output_type": "execute_result"
    },
    {
     "data": {
      "image/png": "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\n",
      "text/plain": [
       "<Figure size 432x288 with 2 Axes>"
      ]
     },
     "metadata": {},
     "output_type": "display_data"
    }
   ],
   "source": [
    "metrics.wet_day(obs_ds, 'mean').sel(lat=slice(50,40), lon=slice(230,250)).pr.plot()"
   ]
  },
  {
   "cell_type": "code",
   "execution_count": 56,
   "id": "7501a176-42b0-4e9b-971e-49dd5898761a",
   "metadata": {},
   "outputs": [
    {
     "data": {
      "text/plain": [
       "<matplotlib.collections.QuadMesh at 0x7fadd5fa09d0>"
      ]
     },
     "execution_count": 56,
     "metadata": {},
     "output_type": "execute_result"
    },
    {
     "data": {
      "image/png": "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\n",
      "text/plain": [
       "<Figure size 432x288 with 2 Axes>"
      ]
     },
     "metadata": {},
     "output_type": "display_data"
    }
   ],
   "source": [
    "metrics.wet_day(obs_ds, 'median').sel(lat=slice(50,40), lon=slice(230,250)).pr.plot()"
   ]
  },
  {
   "cell_type": "code",
   "execution_count": 63,
   "id": "f4fe1aeb-8b1b-4f05-a689-9fc5a853a9e6",
   "metadata": {},
   "outputs": [
    {
     "data": {
      "text/plain": [
       "<matplotlib.collections.QuadMesh at 0x7fadd5b22d30>"
      ]
     },
     "execution_count": 63,
     "metadata": {},
     "output_type": "execute_result"
    },
    {
     "data": {
      "image/png": "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\n",
      "text/plain": [
       "<Figure size 432x288 with 2 Axes>"
      ]
     },
     "metadata": {},
     "output_type": "display_data"
    }
   ],
   "source": [
    "metrics.wet_day(obs_ds, 'std').sel(lat=slice(50,40), lon=slice(230,250)).pr.plot()"
   ]
  },
  {
   "cell_type": "code",
   "execution_count": 74,
   "id": "8654eb2b-1ac9-4d49-8789-fdb2f81b2c1a",
   "metadata": {},
   "outputs": [
    {
     "data": {
      "text/plain": [
       "<matplotlib.collections.QuadMesh at 0x7fadd588a250>"
      ]
     },
     "execution_count": 74,
     "metadata": {},
     "output_type": "execute_result"
    },
    {
     "data": {
      "image/png": "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\n",
      "text/plain": [
       "<Figure size 432x288 with 2 Axes>"
      ]
     },
     "metadata": {},
     "output_type": "display_data"
    }
   ],
   "source": [
    "metrics.wet_day(obs_ds, 'percentile95').sel(lat=slice(50,40), lon=slice(230,250)).pr.plot()"
   ]
  },
  {
   "cell_type": "code",
   "execution_count": 50,
   "id": "592e8bce-530d-4ea8-9166-f977a1a0e78a",
   "metadata": {},
   "outputs": [],
   "source": [
    "wet_days_obs = metrics.is_wet_day(obs_ds, threshold=0.05).compute()\n",
    "dry_days_obs = ~wet_days_obs\n",
    "wet_days_downscaled = metrics.is_wet_day(\n",
    "    ds.sel(training_period), threshold=0.05\n",
    ").compute()\n",
    "dry_days_downscaled = ~wet_days_downscaled"
   ]
  },
  {
   "cell_type": "markdown",
   "id": "cdbeda37-d384-421b-acb0-8f91451151ba",
   "metadata": {},
   "source": [
    "### Length and variability of wet spells\n"
   ]
  },
  {
   "cell_type": "code",
   "execution_count": null,
   "id": "04a6b5d9-4276-4776-a1ab-08028261e36e",
   "metadata": {},
   "outputs": [],
   "source": [
    "for metric in ['mean', 'std', 'percentile90', 'percentile99']\"\n",
    "    plot_values_and_difference(apply_spell_length(wet_days_obs, metric),\n",
    "                           apply_spell_length(wet_days_downscaled, metric),\n",
    "                           cbar_kwargs={'label': f'{metric} days'}, diff_limit=10)"
   ]
  },
  {
   "cell_type": "markdown",
   "id": "059d4d50-d006-42c2-bbc4-941b8d4f97a3",
   "metadata": {},
   "source": [
    "### Length and variability of dry spells\n"
   ]
  },
  {
   "cell_type": "code",
   "execution_count": null,
   "id": "16ee7b0b-33e4-4917-9b49-f7b0429a5a69",
   "metadata": {
    "tags": []
   },
   "outputs": [],
   "source": [
    "for metric in ['mean', 'std', 'percentile90', 'percentile99']\"\n",
    "    plot_values_and_difference(apply_spell_length(dry_days_obs, metric),\n",
    "                           apply_spell_length(dry_days_downscaled, metric),\n",
    "                           cbar_kwargs={'label': f'{metric} days'}, diff_limit=10)"
   ]
  },
  {
   "cell_type": "markdown",
   "id": "8092aace-1375-4c78-ac0c-fc2120f05bb0",
   "metadata": {},
   "source": [
    "### If today was wet, what are odds tomorrow will be wet?\n"
   ]
  },
  {
   "cell_type": "code",
   "execution_count": null,
   "id": "03d9d0d8-e933-4c84-bb40-9b6480fe37f2",
   "metadata": {},
   "outputs": [],
   "source": [
    "plot_values_and_difference(\n",
    "    metrics.probability_two_consecutive_days(obs_ds, kind_of_days=\"wet\")[\"pr\"],\n",
    "    metrics.probability_two_consecutive_days(\n",
    "        ds.sel(time=training_period), kind_of_days=\"wet\"\n",
    "    )[\"pr\"],\n",
    "    cbar_kwargs={\"label\": \"probability\"},\n",
    "    diff_limit=0.5,\n",
    ")"
   ]
  },
  {
   "cell_type": "markdown",
   "id": "a4603b69-e080-47fd-8e7b-faeab6c45f9f",
   "metadata": {},
   "source": [
    "### If today was dry, what are odds tomorrow will be dry?\n"
   ]
  },
  {
   "cell_type": "code",
   "execution_count": null,
   "id": "75f90d87-bd86-494d-847f-5cf82ee4b5fd",
   "metadata": {
    "tags": []
   },
   "outputs": [],
   "source": [
    "plot_values_and_difference(\n",
    "    metrics.probability_two_consecutive_days(obs_ds, kind_of_days=\"dry\")[\"pr\"],\n",
    "    metrics.probability_two_consecutive_days(\n",
    "        ds.sel(time=training_period), kind_of_days=\"dry\"\n",
    "    )[\"pr\"],\n",
    "    cbar_kwargs={\"label\": \"probability\"},\n",
    "    diff_limit=0.5,\n",
    ")"
   ]
  },
  {
   "cell_type": "markdown",
   "id": "b41229e1-9681-4254-826d-1757d1ea142f",
   "metadata": {},
   "source": [
    "### Low frequency variability - standard deviation of monthly precipitation\n"
   ]
  },
  {
   "cell_type": "code",
   "execution_count": null,
   "id": "f62a5057-3cbf-41c5-ac86-389c64d41020",
   "metadata": {},
   "outputs": [],
   "source": [
    "plot_values_and_difference(\n",
    "    monthly_variability(obs_ds.pr, method=\"sum\"),\n",
    "    monthly_variability(ds.sel(time=training_period).pr, method=\"sum\"),\n",
    "    cbar_kwargs={\"label\": \"mm\"},\n",
    "    diff_limit=0.5,\n",
    ")"
   ]
  }
 ],
 "metadata": {
  "kernelspec": {
   "display_name": "papermill-tutorial",
   "language": "python",
   "name": "papermill-tutorial"
  },
  "language_info": {
   "codemirror_mode": {
    "name": "ipython",
    "version": 3
   },
   "file_extension": ".py",
   "mimetype": "text/x-python",
   "name": "python",
   "nbconvert_exporter": "python",
   "pygments_lexer": "ipython3",
   "version": "3.9.9"
  }
 },
 "nbformat": 4,
 "nbformat_minor": 5
}
