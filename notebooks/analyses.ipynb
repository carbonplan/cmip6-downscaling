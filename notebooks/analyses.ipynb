{
 "cells": [
  {
   "cell_type": "code",
   "execution_count": 1,
   "id": "d6bcde1c-c12b-4e19-9511-d56513f32495",
   "metadata": {
    "tags": []
   },
   "outputs": [],
   "source": [
    "%load_ext autoreload\n",
    "%autoreload 2\n",
    "import os\n",
    "\n",
    "os.environ[\"PREFECT__FLOWS__CHECKPOINTING\"] = \"True\"\n",
    "\n",
    "import fsspec\n",
    "import intake\n",
    "import pandas as pd\n",
    "import xarray as xr\n",
    "import xesmf as xe\n",
    "import zarr\n",
    "from prefect import Flow, Parameter, task\n",
    "import re\n",
    "import numpy as np\n",
    "from xarray_schema import DataArraySchema, DatasetSchema\n",
    "\n",
    "from cmip6_downscaling.workflows.utils import rechunk_zarr_array, calc_auspicious_chunks_dict, delete_chunks_encoding, regrid_dataset, load_paths\n",
    "import cmip6_downscaling\n",
    "import numpy as np\n",
    "from xarray_schema import DataArraySchema, DatasetSchema\n",
    "connection_string = \"DefaultEndpointsProtocol=https;AccountName=cmip6downscaling;AccountKey=Z86Ca7uttNw4smgPikZFgsB1Lgf8GFpL+lMiViWRaovBSsOWK5JFXAvlk5rO18R/61wqSfUDolvd8olXLt0law==;EndpointSuffix=core.windows.net\"\n",
    "\n",
    "os.environ['AZURE_STORAGE_CONNECTION_STRING'] = connection_string\n",
    "from cmip6_downscaling.data.observations import open_era5\n",
    "from cmip6_downscaling.data.cmip import load_cmip, gcm_munge, convert_to_360\n",
    "# from cmip6_downscaling.methods.bcsd import preprocess_bcsd, prep_bcsd_inputs, fit_and_predict, postprocess_bcsd, make_flow_paths\n",
    "from dask.distributed import Client, LocalCluster\n",
    "import warnings\n",
    "import rechunker\n",
    "warnings.filterwarnings(\"ignore\")\n",
    "import pytest\n",
    "from cmip6_downscaling import analysis\n",
    "from cmip6_downscaling.analysis import load\n",
    "from cmip6_downscaling.analysis.analysis import qaqc_checks\n",
    "from cmip6_downscaling.analysis.qaqc import make_qaqc_ds\n",
    "import matplotlib.pyplot as plt"
   ]
  },
  {
   "cell_type": "code",
   "execution_count": 2,
   "id": "dd95ae7e-c9ed-4b53-9669-923aecf3957e",
   "metadata": {},
   "outputs": [],
   "source": [
    "# cluster = LocalCluster()\n",
    "# client = Client(cluster)\n",
    "# cluster.scale(4)\n"
   ]
  },
  {
   "cell_type": "code",
   "execution_count": 91,
   "id": "47804031-f7b5-49a9-b4ad-e3b67f3315c4",
   "metadata": {},
   "outputs": [],
   "source": [
    "# Pass as a parameter to be used by papermill: the runid which will be used to create the template for the raw and summary files\n",
    "run_id = 'MIROC6_ssp370_1991_1995_2071_2075_tasmax_21_day_3_year_rolling'"
   ]
  },
  {
   "cell_type": "code",
   "execution_count": 92,
   "id": "c62ba833-18d0-4fff-b71c-56098f0e301d",
   "metadata": {},
   "outputs": [],
   "source": [
    "# store = fsspec.get_mapper(f'az://cmip6downscaling/flow-outputs/intermediate/epoch_replaced_gcm/{run_id}.zarr')"
   ]
  },
  {
   "cell_type": "code",
   "execution_count": 93,
   "id": "94727d4e-2141-434c-ae29-d9bcf11230b1",
   "metadata": {
    "tags": []
   },
   "outputs": [],
   "source": [
    "ds = xr.open_zarr(f'az://flow-outputs/intermediate/epoch_replaced_gcm/{run_id}.zarr')"
   ]
  },
  {
   "cell_type": "markdown",
   "id": "a8bec9b1-f10d-4cfa-a9cc-0ee4f25fc990",
   "metadata": {},
   "source": [
    "# QAQC Routines\n",
    "Search for nans and aphysical quantitities"
   ]
  },
  {
   "cell_type": "code",
   "execution_count": 12,
   "id": "e2d1c4c4-1955-4bfb-a7c0-b71d236962fb",
   "metadata": {},
   "outputs": [],
   "source": [
    "annual_qaqc_ts, qaqc_maps = qaqc_checks(ds.isel(time=slice(0,2)))"
   ]
  },
  {
   "cell_type": "markdown",
   "id": "3f1191a7-1c51-4de8-aebd-4acdac0d14e7",
   "metadata": {},
   "source": [
    "What years, if any, include QAQC issues?"
   ]
  },
  {
   "cell_type": "code",
   "execution_count": 34,
   "id": "fb799493-5d8d-4987-ba09-755290d1cbc2",
   "metadata": {},
   "outputs": [],
   "source": [
    "if annual_qaqc_ts.sum().values.any():\n",
    "    print(annual_qaqc_ts)"
   ]
  },
  {
   "cell_type": "markdown",
   "id": "c9e4d4da-4ccd-4bc1-b13c-2a522b077491",
   "metadata": {},
   "source": [
    "Where, if anywhere, do those QAQC issues happen?"
   ]
  },
  {
   "cell_type": "code",
   "execution_count": 46,
   "id": "e7b6c6f1-9fa3-4fbe-a835-afc7a8b141ad",
   "metadata": {},
   "outputs": [],
   "source": [
    "if qaqc_maps[parameters['VARIABLE']].sum().values.any():\n",
    "    qaqc_maps[parameters['VARIABLE']].plot(col_wrap=1, col='qaqc_check')"
   ]
  },
  {
   "cell_type": "code",
   "execution_count": null,
   "id": "55fe5a83-28c5-4dd9-9ee7-0bf62238f18b",
   "metadata": {},
   "outputs": [],
   "source": [
    "method = np.max"
   ]
  },
  {
   "cell_type": "code",
   "execution_count": null,
   "id": "1ae0294a-ad27-4906-8071-768ec75b23b4",
   "metadata": {},
   "outputs": [],
   "source": [
    "summarizing_method = {'tmax': np.max,\n",
    "                      'tmin': np.min,\n",
    "                     'wind': np.max,}\n",
    "time_aggregations = ['month', 'year']"
   ]
  },
  {
   "cell_type": "markdown",
   "id": "b3caac1d-604c-4417-99f5-9da35cf69952",
   "metadata": {},
   "source": [
    "# Metrics"
   ]
  },
  {
   "cell_type": "code",
   "execution_count": null,
   "id": "8ecedd39-15e5-4d6f-8c6e-ce7f68fa88cc",
   "metadata": {},
   "outputs": [],
   "source": [
    "# historical_ds = load_obs(start_year, end_year)\n",
    "# def historical_skill_timeseries()\n",
    "\n",
    "# def historical_skill_maps():\n",
    "# xskillscore calculated along time dimension at different aggregations (\n",
    "\n",
    "# def compare_with_obs_historical(ds, historical_ds):\n",
    "#xskillscore"
   ]
  }
 ],
 "metadata": {
  "kernelspec": {
   "display_name": "Python [conda env:notebook] *",
   "language": "python",
   "name": "conda-env-notebook-py"
  },
  "language_info": {
   "codemirror_mode": {
    "name": "ipython",
    "version": 3
   },
   "file_extension": ".py",
   "mimetype": "text/x-python",
   "name": "python",
   "nbconvert_exporter": "python",
   "pygments_lexer": "ipython3",
   "version": "3.9.9"
  }
 },
 "nbformat": 4,
 "nbformat_minor": 5
}
