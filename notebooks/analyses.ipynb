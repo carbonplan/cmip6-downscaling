{
 "cells": [
  {
   "cell_type": "code",
   "execution_count": 9,
   "id": "d6bcde1c-c12b-4e19-9511-d56513f32495",
   "metadata": {
    "tags": []
   },
   "outputs": [],
   "source": [
    "%load_ext autoreload\n",
    "%autoreload 2\n",
    "import os\n",
    "\n",
    "os.environ[\"PREFECT__FLOWS__CHECKPOINTING\"] = \"True\"\n",
    "\n",
    "import fsspec\n",
    "import intake\n",
    "import pandas as pd\n",
    "import xarray as xr\n",
    "import xesmf as xe\n",
    "import zarr\n",
    "from prefect import Flow, Parameter, task\n",
    "import re\n",
    "import numpy as np\n",
    "from xarray_schema import DataArraySchema, DatasetSchema\n",
    "\n",
    "from cmip6_downscaling.workflows.utils import rechunk_zarr_array, calc_auspicious_chunks_dict, delete_chunks_encoding, regrid_dataset, load_paths\n",
    "import cmip6_downscaling\n",
    "import numpy as np\n",
    "from xarray_schema import DataArraySchema, DatasetSchema\n",
    "connection_string = \"DefaultEndpointsProtocol=https;AccountName=cmip6downscaling;AccountKey=Z86Ca7uttNw4smgPikZFgsB1Lgf8GFpL+lMiViWRaovBSsOWK5JFXAvlk5rO18R/61wqSfUDolvd8olXLt0law==;EndpointSuffix=core.windows.net\"\n",
    "\n",
    "os.environ['AZURE_STORAGE_CONNECTION_STRING'] = connection_string\n",
    "from cmip6_downscaling.data.observations import open_era5\n",
    "from cmip6_downscaling.data.cmip import load_cmip, gcm_munge, convert_to_360\n",
    "from cmip6_downscaling.methods.bcsd import preprocess_bcsd, prep_bcsd_inputs, fit_and_predict, postprocess_bcsd, make_flow_paths\n",
    "from dask.distributed import Client, LocalCluster\n",
    "import warnings\n",
    "import rechunker\n",
    "warnings.filterwarnings(\"ignore\")\n",
    "import pytest\n",
    "from cmip6_downscaling import analysis\n",
    "from cmip6_downscaling.analysis import load\n",
    "from cmip6_downscaling.analysis.analysis import qaqc_checks\n",
    "from cmip6_downscaling.analysis.qaqc import make_qaqc_ds\n",
    "import matplotlib.pyplot as plt"
   ]
  },
  {
   "cell_type": "code",
   "execution_count": 3,
   "id": "dd95ae7e-c9ed-4b53-9669-923aecf3957e",
   "metadata": {},
   "outputs": [],
   "source": [
    "cluster = LocalCluster()\n",
    "client = Client(cluster)\n",
    "cluster.scale(4)"
   ]
  },
  {
   "cell_type": "code",
   "execution_count": 4,
   "id": "47804031-f7b5-49a9-b4ad-e3b67f3315c4",
   "metadata": {},
   "outputs": [],
   "source": [
    "# coarse_obs_path = f\"az://cmip6/intermediates/{obs_id}_{gcm[0]}_{train_period_start}_{train_period_end}_{variable}.zarr\"\n",
    "# spatial_anomalies_path =  f\"az://cmip6/intermediates/anomalies_{obs_id}_{gcm[0]}_{train_period_start}_{train_period_end}_{variable}.zarr\"\n",
    "# bias_corrected_path = f\"az://cmip6/intermediates/bc_{obs_id}_{gcm[0]}_{train_period_start}_{train_period_end}_{variable}.zarr\""
   ]
  },
  {
   "cell_type": "code",
   "execution_count": 5,
   "id": "20f5c4ae-ecfa-4b07-bfbd-f254abd32631",
   "metadata": {},
   "outputs": [],
   "source": [
    "# bias_corrected_path = f\"az://cmip6/intermediates/bc_{scenario}_{gcm[0]}_{train_period_start}_{train_period_end}_{variable}.zarr\""
   ]
  },
  {
   "cell_type": "code",
   "execution_count": 6,
   "id": "11a4dc30-6dee-41cb-817d-abe020e60dd3",
   "metadata": {
    "tags": [
     "parameters"
    ]
   },
   "outputs": [],
   "source": [
    "variable = 'tasmax'\n",
    "gcm = \"MIROC6\"\n",
    "obs_id = 'ERA5'\n",
    "train_period_start='1990'\n",
    "train_period_end='1990'\n",
    "variable='tasmax'\n",
    "out_bucket='cmip6'\n",
    "predict_period_start='2079'\n",
    "predict_period_end='2079'\n",
    "scenario='ssp370'\n",
    "downscale_method='bcsd'"
   ]
  },
  {
   "cell_type": "code",
   "execution_count": 7,
   "id": "95012237-e111-4e41-a972-faa14ae333bb",
   "metadata": {},
   "outputs": [],
   "source": [
    "ds = load.load_downscaled_ds(variable=variable, \n",
    "                                      gcm=gcm, \n",
    "                                      obs_id=obs_id,\n",
    "                                      scenario=scenario,\n",
    "                                      predict_period_start=predict_period_start,\n",
    "                                      predict_period_end=predict_period_end,\n",
    "                                      downscale_method=downscale_method)"
   ]
  },
  {
   "cell_type": "code",
   "execution_count": 6,
   "id": "232bf941-80cb-45a2-857e-25a7d24f2871",
   "metadata": {},
   "outputs": [
    {
     "data": {
      "text/plain": [
       "<xarray.backends.zarr.ZarrStore at 0x17844ab30>"
      ]
     },
     "execution_count": 6,
     "metadata": {},
     "output_type": "execute_result"
    }
   ],
   "source": [
    "# ds.to_zarr('test.zarr')"
   ]
  },
  {
   "cell_type": "code",
   "execution_count": null,
   "id": "0de7e1c7-eb5e-4522-8047-629f9874d8d0",
   "metadata": {},
   "outputs": [],
   "source": [
    "# run_id = f\"{downscale_method}_{scenario}_{gcm}_{predict_period_start}_{predict_period_end}_{variable}\""
   ]
  },
  {
   "cell_type": "code",
   "execution_count": 9,
   "id": "7c9d8a67-65cb-46c2-9e40-e1de9827d89e",
   "metadata": {},
   "outputs": [],
   "source": [
    "# ds -= 273.15\n",
    "# qaqc_ds = make_qaqc_ds(ds)"
   ]
  },
  {
   "cell_type": "code",
   "execution_count": 44,
   "id": "e2d1c4c4-1955-4bfb-a7c0-b71d236962fb",
   "metadata": {},
   "outputs": [
    {
     "name": "stdout",
     "output_type": "stream",
     "text": [
      "okay\n"
     ]
    }
   ],
   "source": [
    "annual_qaqc_ts, qaqc_maps = qaqc_checks(ds.isel(time=slice(0,2)))"
   ]
  },
  {
   "cell_type": "code",
   "execution_count": 10,
   "id": "a3a4f3e5-73a9-4163-bfa0-9092ef6aa0e9",
   "metadata": {},
   "outputs": [],
   "source": [
    "# # maps = qaqc_ds.sum(dim='time')\n",
    "# fig, axarr = plt.subplots(ncols=len(maps), nrows=len(maps['qaqc_check']))\n",
    "# for col, variable in enumerate(maps.data_vars):\n",
    "#     for row, qaqc_check in enumerate(maps['qaqc_check']):\n",
    "#         maps[variable].sel(qaqc_check=qaqc_check).plot(ax=axarr[row, col])\n",
    "    "
   ]
  },
  {
   "cell_type": "markdown",
   "id": "08421933-c970-47df-8294-6fc16e2e4c22",
   "metadata": {},
   "source": [
    "# Summary file creation - to be done using funnel/caching"
   ]
  },
  {
   "cell_type": "code",
   "execution_count": 5,
   "id": "6ae53f26-9422-403c-9c2c-18a820f58a72",
   "metadata": {},
   "outputs": [],
   "source": [
    "test_tuple_one = (3,)\n",
    "test_tuple_two = (3,4)"
   ]
  },
  {
   "cell_type": "code",
   "execution_count": 8,
   "id": "55fe5a83-28c5-4dd9-9ee7-0bf62238f18b",
   "metadata": {},
   "outputs": [
    {
     "ename": "NameError",
     "evalue": "name 'np' is not defined",
     "output_type": "error",
     "traceback": [
      "\u001b[0;31m---------------------------------------------------------------------------\u001b[0m",
      "\u001b[0;31mNameError\u001b[0m                                 Traceback (most recent call last)",
      "\u001b[0;32m/var/folders/q4/3p8rs8s17q13wbkj0y58w6hm0000gn/T/ipykernel_2595/643518435.py\u001b[0m in \u001b[0;36m<module>\u001b[0;34m\u001b[0m\n\u001b[0;32m----> 1\u001b[0;31m \u001b[0mmethod\u001b[0m \u001b[0;34m=\u001b[0m \u001b[0mnp\u001b[0m\u001b[0;34m.\u001b[0m\u001b[0mmax\u001b[0m\u001b[0;34m\u001b[0m\u001b[0;34m\u001b[0m\u001b[0m\n\u001b[0m",
      "\u001b[0;31mNameError\u001b[0m: name 'np' is not defined"
     ]
    }
   ],
   "source": [
    "method = np.max"
   ]
  },
  {
   "cell_type": "code",
   "execution_count": null,
   "id": "1ae0294a-ad27-4906-8071-768ec75b23b4",
   "metadata": {},
   "outputs": [],
   "source": [
    "summarizing_method = {'tmax': (np.max,\n",
    "                      'tmin': np.min,\n",
    "                     'wind': np.max,}\n",
    "time_aggregations = ['month', 'year']\n",
    "# @task(serializer=funnel, cache='summaries/same_string_as_daily_but_{time_aggregation})\n",
    "# def create_time_summary(ds, time_aggregation):\n",
    "# out_ds = xr.Dataset()\n",
    "# for variable, method in summarizing_method:\n",
    "#     out_ds[variable] = method(ds.groupby(f'time.{time_aggregation}'))\n",
    "# return out_ds"
   ]
  },
  {
   "cell_type": "markdown",
   "id": "8f74c074-bb35-47bf-a4c6-2cce9aadbf5c",
   "metadata": {},
   "source": [
    "# QAQC Routines"
   ]
  },
  {
   "cell_type": "code",
   "execution_count": null,
   "id": "d50dafab-bba3-4ccf-a1cd-290bb78fa5d7",
   "metadata": {},
   "outputs": [],
   "source": [
    "\n",
    "returns dataset of same shape but with count of instances of bad data\n",
    "'''\n",
    "def timeseries_summary()\n",
    "# timeseries (return table with sum through time for each three metrics) that checks for\n",
    "* nans\n",
    "* temp > 150, below -150\n",
    "* precip > 100 ?? (placeholder since we don't have precip)"
   ]
  },
  {
   "cell_type": "markdown",
   "id": "b3caac1d-604c-4417-99f5-9da35cf69952",
   "metadata": {},
   "source": [
    "# Metrics"
   ]
  },
  {
   "cell_type": "code",
   "execution_count": null,
   "id": "8ecedd39-15e5-4d6f-8c6e-ce7f68fa88cc",
   "metadata": {},
   "outputs": [],
   "source": [
    "# historical_ds = load_obs(start_year, end_year)\n",
    "# def historical_skill_timeseries()\n",
    "\n",
    "# def historical_skill_maps():\n",
    "# xskillscore calculated along time dimension at different aggregations (\n",
    "\n",
    "# def compare_with_obs_historical(ds, historical_ds):\n",
    "#xskillscore"
   ]
  },
  {
   "cell_type": "markdown",
   "id": "1b02139c-00af-4743-931c-1121099ff847",
   "metadata": {},
   "source": [
    "# Check for nans map\n",
    "# plot count of each map"
   ]
  },
  {
   "cell_type": "code",
   "execution_count": null,
   "id": "ef37a82c-72e6-4735-98f7-189bc7f30e35",
   "metadata": {},
   "outputs": [],
   "source": []
  }
 ],
 "metadata": {
  "kernelspec": {
   "display_name": "Python [conda env:cmip6-jupyter] *",
   "language": "python",
   "name": "conda-env-cmip6-jupyter-py"
  },
  "language_info": {
   "codemirror_mode": {
    "name": "ipython",
    "version": 3
   },
   "file_extension": ".py",
   "mimetype": "text/x-python",
   "name": "python",
   "nbconvert_exporter": "python",
   "pygments_lexer": "ipython3",
   "version": "3.9.7"
  }
 },
 "nbformat": 4,
 "nbformat_minor": 5
}
