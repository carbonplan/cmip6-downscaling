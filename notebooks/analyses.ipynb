{
 "cells": [
  {
   "cell_type": "code",
   "execution_count": null,
   "id": "d6bcde1c-c12b-4e19-9511-d56513f32495",
   "metadata": {
    "tags": []
   },
   "outputs": [
    {
     "name": "stdout",
     "output_type": "stream",
     "text": [
      "The autoreload extension is already loaded. To reload it, use:\n",
      "  %reload_ext autoreload\n"
     ]
    }
   ],
   "source": [
    "%load_ext autoreload\n",
    "%autoreload 2\n",
    "import os\n",
    "\n",
    "os.environ[\"PREFECT__FLOWS__CHECKPOINTING\"] = \"True\"\n",
    "\n",
    "import fsspec\n",
    "import pandas as pd\n",
    "import xarray as xr\n",
    "import numpy as np\n",
    "import cmip6_downscaling\n",
    "import numpy as np\n",
    "from xarray_schema import DataArraySchema, DatasetSchema\n",
    "\n",
    "from cmip6_downscaling.data.observations import open_era5\n",
    "from cmip6_downscaling.data.cmip import get_gcm, load_cmip\n",
    "from dask.distributed import Client, LocalCluster\n",
    "import warnings\n",
    "warnings.filterwarnings(\"ignore\")\n",
    "import pytest\n",
    "from cmip6_downscaling.analysis import analysis, metrics\n",
    "from cmip6_downscaling.analysis import load\n",
    "from cmip6_downscaling.analysis.analysis import qaqc_checks, grab_top_city_data, load_top_cities, get_seasonal, change_ds\n",
    "from cmip6_downscaling.analysis.plot import plot_cdfs, plot_values_and_difference, plot_seasonal\n",
    "from cmip6_downscaling.analysis.qaqc import make_qaqc_ds\n",
    "import matplotlib.pyplot as plt\n",
    "import cartopy.crs as ccrs\n",
    "\n",
    "from carbonplan import styles\n",
    "\n",
    "styles.mpl.set_theme(style='carbonplan_light')\n"
   ]
  },
  {
   "cell_type": "code",
   "execution_count": null,
   "id": "dd95ae7e-c9ed-4b53-9669-923aecf3957e",
   "metadata": {},
   "outputs": [
    {
     "name": "stderr",
     "output_type": "stream",
     "text": [
      "/srv/conda/envs/notebook/lib/python3.9/contextlib.py:126: UserWarning: Creating scratch directories is taking a surprisingly long time. This is often due to running workers on a network file system. Consider specifying a local-directory to point workers to write scratch data to a local disk.\n",
      "  next(self.gen)\n",
      "/srv/conda/envs/notebook/lib/python3.9/contextlib.py:126: UserWarning: Creating scratch directories is taking a surprisingly long time. This is often due to running workers on a network file system. Consider specifying a local-directory to point workers to write scratch data to a local disk.\n",
      "  next(self.gen)\n"
     ]
    }
   ],
   "source": [
    "cluster = LocalCluster()\n",
    "client = Client(cluster)"
   ]
  },
  {
   "cell_type": "code",
   "execution_count": null,
   "id": "47804031-f7b5-49a9-b4ad-e3b67f3315c4",
   "metadata": {
    "tags": [
     "parameters"
    ]
   },
   "outputs": [],
   "source": [
    "# Pass as a parameter to be used by papermill: the runid which will be used to create the template for the raw and summary files\n",
    "run_id = \"MIROC6_ssp370_1991_1995_2071_2075_tasmax_21_day_3_year_rolling\"\n",
    "var = \"tasmax\"\n",
    "gcm = \"MIROC6\"\n",
    "scenario = \"ssp370\""
   ]
  },
  {
   "cell_type": "markdown",
   "id": "62e1930b-e0d9-4916-b0f1-61a7151761ed",
   "metadata": {
    "tags": []
   },
   "source": [
    "# Load in your data\n"
   ]
  },
  {
   "cell_type": "markdown",
   "id": "94af8862-8495-4c5e-90ee-ed51197f971a",
   "metadata": {},
   "source": [
    "Load in downscaled run\n"
   ]
  },
  {
   "cell_type": "code",
   "execution_count": null,
   "id": "94727d4e-2141-434c-ae29-d9bcf11230b1",
   "metadata": {
    "tags": []
   },
   "outputs": [],
   "source": [
    "ds = xr.open_zarr(\n",
    "    f\"az://flow-outputs/intermediate/epoch_replaced_gcm/{run_id}.zarr\"\n",
    ").drop(\"dayofyear\")"
   ]
  },
  {
   "cell_type": "code",
   "execution_count": null,
   "id": "9f172c35-6d9e-41ca-bf75-1398091e1fec",
   "metadata": {},
   "outputs": [],
   "source": [
    "def load_downscaled_ds(variable: str = 'tasmax',\n",
    "                        gcm: str = \"MIROC6\",\n",
    "                        obs_id:str = 'ERA5',\n",
    "                        predict_period_start:str ='2079',\n",
    "                        predict_period_end:str ='2079',\n",
    "                        downscale_method:str ='bcsd',\n",
    "                        scenario:str ='ssp370') -> xr.Dataset:\n",
    "    path = f\"az://cmip6/results/{downscale_method}_{scenario}_{gcm}_{predict_period_start}_{predict_period_end}_{variable}.zarr\"\n",
    "    return xr.open_zarr(path)"
   },
   {
    "cell_type": "markdown",
   "id": "3b31fe7b-c650-45bc-90c4-7530b8620c9d",
   "metadata": {},
   "source": [
    "Load in observational dataset for evaluation below.\n"
   ]
  },
  {
   "cell_type": "code",
   "execution_count": null,
   "id": "a0f3cbcf-f166-46d1-96d2-7e1f1c763b4f",
   "metadata": {},
   "outputs": [],
   "source": [
    "training_period = slice(\"1991\", \"1995\")\n",
    "future_period = slice(\"2071\", \"2075\")"
   ]
  },
  {
   "cell_type": "code",
   "execution_count": null,
   "id": "6c03ead1-c567-46e6-be72-0947f660cccc",
   "metadata": {},
   "outputs": [],
   "source": [
    "obs_ds = open_era5(\n",
    "    start_year=training_period.start,\n",
    "    end_year=training_period.stop,\n",
    "    variables=[var],\n",
    ")\n",
    "if var == \"pr\":\n",
    "    obs_ds *= (\n",
    "        86400  # can remove this once ERA5 is rescaled in open_era5 function\n",
    "    )"
   ]
  },
  {
   "cell_type": "markdown",
   "id": "ce4baed5-820e-400d-b40f-76d3a6dea3e3",
   "metadata": {},
   "source": [
    "Load in raw GCM (not downscaled or bias-corrected).\n"
   ]
  },
  {
   "cell_type": "code",
   "execution_count": null,
   "id": "389659d7-cad0-420c-98d2-f9c9d4ad896e",
   "metadata": {},
   "outputs": [],
   "source": [
    "gcm = get_gcm(gcm, scenario, variables=[var])"
   ]
  },
  {
   "cell_type": "markdown",
   "id": "a8bec9b1-f10d-4cfa-a9cc-0ee4f25fc990",
   "metadata": {},
   "source": [
    "# QAQC Routines\n",
    "\n",
    "Search for nans and aphysical quantitities\n"
   ]
  },
  {
   "cell_type": "code",
   "execution_count": null,
   "id": "e2d1c4c4-1955-4bfb-a7c0-b71d236962fb",
   "metadata": {
    "tags": []
   },
   "outputs": [],
   "source": [
    "annual_qaqc_ts, qaqc_maps = qaqc_checks(ds.isel(time=slice(0, 365)))"
   ]
  },
  {
   "cell_type": "markdown",
   "id": "3f1191a7-1c51-4de8-aebd-4acdac0d14e7",
   "metadata": {},
   "source": [
    "What years, if any, include QAQC issues?\n"
   ]
  },
  {
   "cell_type": "code",
   "execution_count": null,
   "id": "fb799493-5d8d-4987-ba09-755290d1cbc2",
   "metadata": {},
   "outputs": [
    {
     "name": "stdout",
     "output_type": "stream",
     "text": [
      "                             tasmax\n",
      "year qaqc_check                    \n",
      "1991 nulls                207028365\n",
      "     aphysical_high_temp          0\n",
      "     aphysical_low_temp           0\n"
     ]
    }
   ],
   "source": [
    "if annual_qaqc_ts.sum().values.any():\n",
    "    print(annual_qaqc_ts)"
   ]
  },
  {
   "cell_type": "markdown",
   "id": "c9e4d4da-4ccd-4bc1-b13c-2a522b077491",
   "metadata": {},
   "source": [
    "Where, if anywhere, do those QAQC issues happen?\n"
   ]
  },
  {
   "cell_type": "code",
   "execution_count": null,
   "id": "e7b6c6f1-9fa3-4fbe-a835-afc7a8b141ad",
   "metadata": {},
   "outputs": [
    {
     "data": {
      "image/png": "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\n",
      "text/plain": [
       "<Figure size 288x648 with 4 Axes>"
      ]
     },
     "metadata": {
      "needs_background": "light"
     },
     "output_type": "display_data"
    }
   ],
   "source": [
    "for var in qaqc_maps:\n",
    "    if qaqc_maps[var].sum().values.any():\n",
    "        qaqc_maps[var].plot(col_wrap=1, col='qaqc_check')"
   ]
  },
  {
   "cell_type": "markdown",
   "id": "64f87666-b17c-4148-b259-b9686a8d56b0",
   "metadata": {},
   "source": [
    "# Evaluation over training period\n",
    "How well do statistics of downscaled GCM data look like observations? In other words, did the model perform as expected and are there any other side-effects."
   ]
  },
  {
   "cell_type": "markdown",
   "id": "4dbbc31d-9f33-4c1b-902f-005bddeaed8c",
   "metadata": {},
   "source": [
    "First, let's look at some individual locations around the world (we'll look at a sampling of the biggest cities). We'll compare the statistics of the historical downscaled data with the observations dataset and see how they match. Depending on the metric they should align very well (if that metric was used in training) but other metrics might differ still."
   ]
  },
  {
   "cell_type": "markdown",
   "id": "66dff63e-13eb-484c-ab6c-f26b1f2e86f9",
   "metadata": {},
   "source": [
    "Load in the training dataset (ERA5)"
   ]
  },
  {
   "cell_type": "code",
   "execution_count": 6,
   "id": "a0f3cbcf-f166-46d1-96d2-7e1f1c763b4f",
   "metadata": {},
   "outputs": [],
   "source": [
    "for var in qaqc_maps:\n",
    "    if qaqc_maps[var].sum().values.any():\n",
    "        qaqc_maps[var].plot(col_wrap=1, col=\"qaqc_check\")"
   ]
  },
  {
   "cell_type": "markdown",
   "id": "64f87666-b17c-4148-b259-b9686a8d56b0",
   "metadata": {},
   "source": [
    "# Evaluation over training period\n",
    "\n",
    "How well do statistics of downscaled GCM data look like observations? In other\n",
    "words, did the model perform as expected and are there any other side-effects.\n"
   ]
  },
  {
   "cell_type": "markdown",
   "id": "4dbbc31d-9f33-4c1b-902f-005bddeaed8c",
   "metadata": {},
   "source": [
    "First, let's look at some individual locations around the world (we'll look at a\n",
    "sampling of the biggest cities). We'll compare the statistics of the historical\n",
    "downscaled data with the observations dataset and see how they match. Depending\n",
    "on the metric they should align very well (if that metric was used in training)\n",
    "but other metrics might differ still.\n"
   ]
  },
  {
   "cell_type": "markdown",
   "id": "66dff63e-13eb-484c-ab6c-f26b1f2e86f9",
   "metadata": {},
   "source": [
    "Load in the training dataset (ERA5)\n"
   ]
  },
  {
   "cell_type": "markdown",
   "id": "f4ea7332-0e63-49b4-b222-fdb54e84af96",
   "metadata": {},
   "source": [
    "We'll do our analyses across the 100 biggest cities (all in different countries\n",
    "so as to provide some geographic diversity). Also added a few in the Western US\n",
    "to cover that part of the world.\n"
   ]
  },
  {
   "cell_type": "code",
   "execution_count": null,
   "id": "0ce1a730-b728-40db-b9a9-dc73e48e5bbc",
   "metadata": {},
   "source": [
    "top_cities = load_top_cities(plot=True)"
   ]
  },
  {
   "cell_type": "code",
   "execution_count": null,
   "id": "2ed52c23-1f1f-40f7-911a-ceed573be653",
   "metadata": {},
   "outputs": [],
   "source": [
    "[obs_cities, downscaled_cities, gcm_cities] = grab_top_city_data(\n",
    "    [obs_ds[var], ds[var], gcm[var]], top_cities\n",
    ")"
   ]
  },
  {
   "cell_type": "code",
   "execution_count": null,
   "id": "64bd5e76-3bdf-448a-bf8e-6845e2faab33",
   "metadata": {},
   "outputs": [],
   "source": [
    "plot_cdfs(\n",
    "    obs_cities,\n",
    "    downscaled_cities.sel(time=training_period),\n",
    "    downscaled_cities.sel(time=future_period),\n",
    "    top_cities,\n",
    "    training_period,\n",
    "    future_period,\n",
    "    gcm_cities.sel(time=training_period),\n",
    "    gcm_cities.sel(time=future_period),\n",
    "    sharex=True,\n",
    ")"
   ]
  },
  {
   "cell_type": "code",
   "execution_count": null,
   "id": "955ce878-9341-4eab-ae39-c0ef67937be2",
   "metadata": {},
   "outputs": [],
   "source": [
    "plot_cdfs(\n",
    "    obs_cities,\n",
    "    downscaled_cities.sel(time=training_period),\n",
    "    downscaled_cities.sel(time=future_period),\n",
    "    top_cities,\n",
    "    training_period,\n",
    "    future_period,\n",
    "    gcm_cities.sel(time=training_period),\n",
    "    gcm_cities.sel(time=future_period),\n",
    "    sharex=False,\n",
    ")"
   ]
  },
  {
   "cell_type": "markdown",
   "id": "554be1a0-ddb0-42a5-9fc3-b370e73ae544",
   "metadata": {},
   "outputs": [],
   "source": [
    "# Performance of standard statistics\n"
   ]
  },
  {
   "cell_type": "code",
   "execution_count": null,
   "id": "247c598d-3d92-4155-843c-da3eb4fd6213",
   "metadata": {
    "tags": []
   },
   "outputs": [],
   "source": [
    "for metric in [\"mean\", \"median\", \"std\"]:  # , 'percentile1',\n",
    "    # 'percentile5', 'percentile95', 'percentile99']:\n",
    "    plot_values_and_difference(\n",
    "        metrics.metric_calc(obs_ds.sel(time=training_period), metric)[var],\n",
    "        metrics.metric_calc(ds.sel(time=training_period), metric)[var],\n",
    "        title1=\"GCM change in {}\".format(metric),\n",
    "        title2=\"Downscaled change in {}\".format(metric),\n",
    "        title3=\"Difference downscaled-GCM\",\n",
    "        variable=var,\n",
    "        metric=metric,\n",
    "    )"
   ]
  },
  {
   "cell_type": "markdown",
   "id": "0bdb2c44-d86e-41b3-aa16-164df30ef51a",
   "metadata": {
    "tags": []
   },
   "source": [
    "# Hot days\n",
    "\n",
    "Calculate the average number of hot days (over 30c) within observations and\n",
    "downscaled model.\n"
   ]
  },
  {
   "cell_type": "code",
   "execution_count": null,
   "id": "f39bff4c-c88b-4051-a4bb-fc357edf4d79",
   "metadata": {},
   "outputs": [],
   "source": [
    "if var == \"tasmax\":\n",
    "    days_over_30c_era5 = metrics.days_temperature_threshold(\n",
    "        obs_ds, \"over\", 273 + 30\n",
    "    ).compute()\n",
    "    days_over_30c_ds = metrics.days_temperature_threshold(\n",
    "        ds.sel(time=training_period), \"over\", 273 + 30\n",
    "    ).compute()\n",
    "    plot_values_and_difference(\n",
    "        days_over_30c_era5[\"tasmax\"],\n",
    "        days_over_30c_ds[\"tasmax\"],\n",
    "        cbar_kwargs={\"label\": \"Days over 30C\"},\n",
    "        diff_limit=20,\n",
    "    )"
   ]
  },
  {
   "cell_type": "markdown",
   "id": "f0753123-4039-464b-a48c-1cd1e7195420",
   "metadata": {},
   "source": [
    "# Very hot days\n",
    "\n",
    "Performance: the average number of very hot days (over 40c)\n"
   ]
  },
  {
   "cell_type": "code",
   "execution_count": null,
   "id": "a06c02d7-9c0d-479f-83dc-bb3896e876a2",
   "metadata": {},
   "outputs": [],
   "source": [
    "if var == \"tasmax\":\n",
    "    days_over_40c_era5 = metrics.days_temperature_threshold(\n",
    "        obs_ds, \"over\", 273 + 40\n",
    "    ).compute()\n",
    "    days_over_40c_ds = metrics.days_temperature_threshold(\n",
    "        ds.sel(time=training_period), \"over\", 273 + 40\n",
    "    ).compute()\n",
    "    plot_values_and_difference(\n",
    "        days_over_40c_era5[\"tasmax\"],\n",
    "        days_over_40c_ds[\"tasmax\"],\n",
    "        cbar_kwargs={\"label\": \"Days over 40C\"},\n",
    "    )"
   ]
  },
  {
   "cell_type": "markdown",
   "id": "04956b69-f8d9-43fc-a8f8-773b164d5cd5",
   "metadata": {},
   "source": [
    "# Is the change seen in the downscaled dataset the same as the change projected by the raw GCM?\n"
   ]
  },
  {
   "cell_type": "code",
   "execution_count": null,
   "id": "8fe686f6-dd82-456e-a45f-8c2a73e4f07a",
   "metadata": {},
   "outputs": [],
   "source": [
    "downscaled_change_cities = change_ds(\n",
    "    downscaled_cities.sel(time=training_period),\n",
    "    downscaled_cities.sel(time=future_period),\n",
    ")\n",
    "gcm_change_cities = change_ds(\n",
    "    gcm_cities.sel(time=training_period), gcm_cities.sel(time=future_period)\n",
    ")"
   ]
  },
  {
   "cell_type": "code",
   "execution_count": null,
   "id": "a57316cd-cea5-418d-b433-00f34b896a2d",
   "metadata": {},
   "outputs": [],
   "source": [
    "for metric in gcm_change_cities:\n",
    "    plot_values_and_difference(\n",
    "        gcm_change_cities[metric],\n",
    "        downscaled_change_cities[metric],\n",
    "        gcm_change_cities,\n",
    "        city_coords=obs_cities,\n",
    "        title1=\"GCM change in {}\".format(metric),\n",
    "        title2=\"Downscaled change in {}\".format(metric),\n",
    "        title3=\"Difference downscaled-GCM\",\n",
    "        variable=var,\n",
    "        metric=metric,\n",
    "    )"
   ]
  },
  {
   "cell_type": "markdown",
   "id": "80296759-34d7-4bce-9e2e-36f472d2c4a2",
   "metadata": {},
   "source": [
    "# Seasonal statistics\n"
   ]
  },
  {
   "cell_type": "markdown",
   "id": "e06063c5-dc53-42a0-b682-6c056d6950c9",
   "metadata": {},
   "source": [
    "### Assess the mean value over the season\n"
   ]
  },
  {
   "cell_type": "code",
   "execution_count": null,
   "id": "d927373b-1660-4b99-8902-b861d91dbc67",
   "metadata": {},
   "outputs": [],
   "source": [
    "aggregator = \"mean\"\n",
    "obs_seasonal = get_seasonal(obs_ds, aggregator=aggregator)\n",
    "downscaled_seasonal = get_seasonal(\n",
    "    ds.sel(time=training_period), aggregator=aggregator\n",
    ")"
   ]
  },
  {
   "cell_type": "code",
   "execution_count": null,
   "id": "f9b001ab-8b91-4873-a2a9-769a1761e1fa",
   "metadata": {},
   "outputs": [],
   "source": [
    "plot_seasonal(obs_seasonal[\"tasmax\"], downscaled_seasonal[\"tasmax\"])"
   ]
  },
  {
   "cell_type": "code",
   "execution_count": null,
   "id": "6c4963a6-ac57-47f1-8ca6-8ee641a1bb8f",
   "metadata": {},
   "outputs": [],
   "source": [
    "aggregator = \"max\"\n",
    "obs_seasonal = get_seasonal(obs_ds, aggregator=aggregator)\n",
    "downscaled_seasonal = get_seasonal(\n",
    "    ds.sel(time=training_period), aggregator=aggregator\n",
    ")\n",
    "plot_seasonal(obs_seasonal[\"tasmax\"], downscaled_seasonal[\"tasmax\"])"
   ]
  },
  {
   "cell_type": "markdown",
   "id": "9b5ecb6c-ca62-44ef-a454-20a860ce5e1d",
   "metadata": {},
   "source": [
    "### Assess the variability over the season\n"
   ]
  },
  {
   "cell_type": "code",
   "execution_count": null,
   "id": "34c21ccc-a75a-437c-a9db-abedd07da730",
   "metadata": {},
   "outputs": [],
   "source": [
    "aggregator = \"stdev\"\n",
    "obs_seasonal = get_seasonal(obs_ds, aggregator=aggregator)\n",
    "downscaled_seasonal = get_seasonal(\n",
    "    ds.sel(time=training_period), aggregator=aggregator\n",
    ")\n",
    "plot_seasonal(obs_seasonal[\"tasmax\"], downscaled_seasonal[\"tasmax\"])"
   ]
  },
  {
   "cell_type": "markdown",
   "id": "94e29f85-61e5-424f-8e59-6c96ab2e711a",
   "metadata": {},
   "source": [
    "# Precipitation-specific metrics\n"
   ]
  },
  {
   "cell_type": "markdown",
   "id": "9761ad09-8124-42ad-9e0c-9413d9096820",
   "metadata": {},
   "source": [
    "If precipitation, calculate the precipitation indices across season and plot the\n",
    "same seasonal comparison maps. Metrics taken from Wilby 1998.\n"
   ]
  },
  {
   "cell_type": "code",
   "execution_count": null,
   "id": "3059781e-f675-4da7-ba2a-e8d5993da96b",
   "metadata": {},
   "outputs": [],
   "source": [
    "if var != \"pr\":\n",
    "    raise SystemExit(\n",
    "        \"Stopping here! Everything below is only for precipitation.\"\n",
    "    )"
   ]
  },
  {
   "cell_type": "markdown",
   "id": "14036035-515b-4eaf-b12c-1b472511b987",
   "metadata": {},
   "source": [
    "### If it was wet, how wet was it?\n"
   ]
  },
  {
   "cell_type": "code",
   "execution_count": null,
   "id": "adc4806d-661f-4f66-b1e3-86b690760be4",
   "metadata": {},
   "outputs": [],
   "source": [
    "for metric in [\"mean\", \"median\", \"std\", \"percentile95\"]:\n",
    "    plot_values_and_difference(\n",
    "        metrics.wet_day_amount(obs_ds.pr, method=metric),\n",
    "        metrics.wet_day_amount(ds[\"pr\"].sel(training_period), method=metric),\n",
    "        cbar_kwargs={\"label\": f\"{metric} wet day amount\"},\n",
    "        diff_limit=10,\n",
    "    )"
   ]
  },
  {
   "cell_type": "markdown",
   "id": "5aecfc7d-e55f-4a36-a8ac-02d7adee99ad",
   "metadata": {},
   "source": [
    "Calculate boolean masks of wet and dry days (they are inverses of eachother)\n",
    "based upon a threshold. We'll then use these to perform a variety of statistics.\n"
   ]
  },
  {
   "cell_type": "code",
   "execution_count": null,
   "id": "592e8bce-530d-4ea8-9166-f977a1a0e78a",
   "metadata": {},
   "outputs": [],
   "source": [
    "wet_days_obs = metrics.is_wet_day(obs_ds, threshold=0.05).compute()\n",
    "dry_days_obs = ~wet_days_obs\n",
    "wet_days_downscaled = metrics.is_wet_day(\n",
    "    ds.sel(training_period), threshold=0.05\n",
    ").compute()\n",
    "dry_days_downscaled = ~wet_days_downscaled"
   ]
  },
  {
   "cell_type": "markdown",
   "id": "cdbeda37-d384-421b-acb0-8f91451151ba",
   "metadata": {},
   "source": [
    "### Length and variability of wet spells\n"
   ]
  },
  {
   "cell_type": "code",
   "execution_count": null,
   "id": "04a6b5d9-4276-4776-a1ab-08028261e36e",
   "metadata": {},
   "outputs": [],
   "source": [
    "for metric in ['mean', 'std', 'percentile90', 'percentile99']\"\n",
    "    plot_values_and_difference(apply_spell_length(wet_days_obs, metric),\n",
    "                           apply_spell_length(wet_days_downscaled, metric),\n",
    "                           cbar_kwargs={'label': f'{metric} days'}, diff_limit=10)"
   ]
  },
  {
   "cell_type": "markdown",
   "id": "059d4d50-d006-42c2-bbc4-941b8d4f97a3",
   "metadata": {},
   "source": [
    "### Length and variability of dry spells\n"
   ]
  },
  {
   "cell_type": "code",
   "execution_count": null,
   "id": "16ee7b0b-33e4-4917-9b49-f7b0429a5a69",
   "metadata": {
    "tags": []
   },
   "outputs": [],
   "source": [
    "for metric in ['mean', 'std', 'percentile90', 'percentile99']\"\n",
    "    plot_values_and_difference(apply_spell_length(dry_days_obs, metric),\n",
    "                           apply_spell_length(dry_days_downscaled, metric),\n",
    "                           cbar_kwargs={'label': f'{metric} days'}, diff_limit=10)"
   ]
  },
  {
   "cell_type": "markdown",
   "id": "8092aace-1375-4c78-ac0c-fc2120f05bb0",
   "metadata": {},
   "source": [
    "### If today was wet, what are odds tomorrow will be wet?\n"
   ]
  },
  {
   "cell_type": "code",
   "execution_count": null,
   "id": "03d9d0d8-e933-4c84-bb40-9b6480fe37f2",
   "metadata": {},
   "outputs": [],
   "source": [
    "plot_values_and_difference(\n",
    "    metrics.probability_two_consecutive_days(obs_ds, kind_of_days=\"wet\")[\"pr\"],\n",
    "    metrics.probability_two_consecutive_days(\n",
    "        ds.sel(time=training_period), kind_of_days=\"wet\"\n",
    "    )[\"pr\"],\n",
    "    cbar_kwargs={\"label\": \"probability\"},\n",
    "    diff_limit=0.5,\n",
    ")"
   ]
  },
  {
   "cell_type": "markdown",
   "id": "a4603b69-e080-47fd-8e7b-faeab6c45f9f",
   "metadata": {},
   "source": [
    "### If today was dry, what are odds tomorrow will be dry?\n"
   ]
  },
  {
   "cell_type": "code",
   "execution_count": null,
   "id": "75f90d87-bd86-494d-847f-5cf82ee4b5fd",
   "metadata": {
    "tags": []
   },
   "outputs": [],
   "source": [
    "plot_values_and_difference(\n",
    "    metrics.probability_two_consecutive_days(obs_ds, kind_of_days=\"dry\")[\"pr\"],\n",
    "    metrics.probability_two_consecutive_days(\n",
    "        ds.sel(time=training_period), kind_of_days=\"dry\"\n",
    "    )[\"pr\"],\n",
    "    cbar_kwargs={\"label\": \"probability\"},\n",
    "    diff_limit=0.5,\n",
    ")"
   ]
  },
  {
   "cell_type": "markdown",
   "id": "b41229e1-9681-4254-826d-1757d1ea142f",
   "metadata": {},
   "source": [
    "### Low frequency variability - standard deviation of monthly precipitation\n"
   ]
  },
  {
   "cell_type": "code",
   "execution_count": null,
   "id": "f62a5057-3cbf-41c5-ac86-389c64d41020",
   "metadata": {},
   "outputs": [],
   "source": [
    "plot_values_and_difference(\n",
    "    monthly_variability(obs_ds.pr, method=\"sum\"),\n",
    "    monthly_variability(ds.sel(time=training_period).pr, method=\"sum\"),\n",
    "    cbar_kwargs={\"label\": \"mm\"},\n",
    "    diff_limit=0.5,\n",
    ")"
   ]
  }
 ],
 "metadata": {
  "kernelspec": {
   "display_name": "papermill-tutorial",
   "language": "python",
   "name": "papermill-tutorial"
  },
  "language_info": {
   "codemirror_mode": {
    "name": "ipython",
    "version": 3
   },
   "file_extension": ".py",
   "mimetype": "text/x-python",
   "name": "python",
   "nbconvert_exporter": "python",
   "pygments_lexer": "ipython3",
   "version": "3.9.9"
  }
 },
 "nbformat": 4,
 "nbformat_minor": 5
}
