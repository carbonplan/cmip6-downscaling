{
 "cells": [
  {
   "cell_type": "code",
   "execution_count": null,
   "id": "b33b8570-64a2-42a3-b16c-0d90640a6428",
   "metadata": {},
   "outputs": [],
   "source": [
    "import planetary_computer\n",
    "import xarray as xr\n",
    "import fsspec\n",
    "import pystac_client\n",
    "\n",
    "catalog = pystac_client.Client.open(\"https://planetarycomputer.microsoft.com/api/stac/v1/\")"
   ]
  },
  {
   "cell_type": "markdown",
   "id": "89f407a0-7ddd-427d-be15-a44e0ec913a5",
   "metadata": {},
   "source": [
    "# load in NEX-GDDP data\n"
   ]
  },
  {
   "cell_type": "code",
   "execution_count": null,
   "id": "33a13854-130a-4be6-aad2-cd0cd8c25f46",
   "metadata": {},
   "outputs": [],
   "source": [
    "collection = catalog.get_collection(\"nasa-nex-gddp-cmip6\")"
   ]
  },
  {
   "cell_type": "code",
   "execution_count": null,
   "id": "047d7eac-d2b8-46b3-b356-783b4e0baa21",
   "metadata": {},
   "outputs": [],
   "source": [
    "collection.summaries.get_list(\"cmip6:model\")[:5]"
   ]
  },
  {
   "cell_type": "code",
   "execution_count": null,
   "id": "aa1db8d0-ab30-4732-b7b3-4af57329637a",
   "metadata": {},
   "outputs": [],
   "source": [
    "collection.summaries.get_list(\"cmip6:scenario\")"
   ]
  },
  {
   "cell_type": "code",
   "execution_count": null,
   "id": "fee3c110-28ac-4441-8d2b-144c9e8eb1be",
   "metadata": {},
   "outputs": [],
   "source": [
    "collection.summaries.get_list(\"cmip6:variable\")"
   ]
  },
  {
   "cell_type": "code",
   "execution_count": null,
   "id": "c6eb809e-7333-402d-9c1f-f3e3a6d21bb7",
   "metadata": {},
   "outputs": [],
   "source": [
    "search = catalog.search(\n",
    "    collections=[\"nasa-nex-gddp-cmip6\"],\n",
    "    datetime=\"1950/2000\",\n",
    "    query={\"cmip6:model\": {\"eq\": \"ACCESS-CM2\"}},\n",
    ")\n",
    "items = search.get_all_items()\n",
    "len(items)"
   ]
  },
  {
   "cell_type": "code",
   "execution_count": null,
   "id": "f07f4511-715d-43e2-a793-10e03ea5045c",
   "metadata": {},
   "outputs": [],
   "source": [
    "item = items[0]\n",
    "item.assets"
   ]
  },
  {
   "cell_type": "code",
   "execution_count": null,
   "id": "db11a5cb-502c-48ac-bab7-5ced3a7e6f5d",
   "metadata": {},
   "outputs": [],
   "source": [
    "signed_item = planetary_computer.sign(item)\n",
    "\n",
    "tasmax = xr.open_dataset(fsspec.open(signed_item.assets[\"tasmax\"].href).open())\n",
    "tasmax"
   ]
  },
  {
   "cell_type": "code",
   "execution_count": null,
   "id": "bd21f1ef-55cd-4ff2-b72b-862dceefdaca",
   "metadata": {},
   "outputs": [],
   "source": [
    "gddp = xr.open_mfdataset([fsspec.open(asset.href).open() for asset in signed_item.assets.values()])"
   ]
  },
  {
   "cell_type": "code",
   "execution_count": null,
   "id": "f35639ac-f769-4d2d-b5f4-2af48bead330",
   "metadata": {},
   "outputs": [],
   "source": [
    "import warnings\n",
    "import cartopy.crs as ccrs\n",
    "import matplotlib.pyplot as plt\n",
    "import pandas as pd\n",
    "\n",
    "warnings.filterwarnings(\"ignore\", message=\"__len__\")\n",
    "warnings.filterwarnings(\"ignore\", message=\"Iteration\")\n",
    "\n",
    "\n",
    "fig, axes = plt.subplots(\n",
    "    figsize=(16, 9),\n",
    "    ncols=3,\n",
    "    nrows=3,\n",
    "    subplot_kw=dict(projection=ccrs.Robinson()),\n",
    "    sharex=True,\n",
    "    sharey=True,\n",
    ")\n",
    "\n",
    "day = ds.isel(time=0)\n",
    "\n",
    "for i, (v, data) in enumerate(day.data_vars.items()):\n",
    "    ax = axes.ravel()[i]\n",
    "    r = data.plot(ax=ax, transform=ccrs.PlateCarree(), add_colorbar=False)\n",
    "    ax.set(title=v)\n",
    "\n",
    "fig.suptitle(pd.to_datetime(day.time.data).strftime(\"%Y-%m-%d\"))\n",
    "plt.tight_layout()"
   ]
  },
  {
   "cell_type": "code",
   "execution_count": null,
   "id": "0e98177b-7799-4077-8736-32bf7eb7043f",
   "metadata": {},
   "outputs": [],
   "source": [
    "gddp.lat"
   ]
  },
  {
   "cell_type": "markdown",
   "id": "6a683d4b-af64-45dc-b7e0-87d4fb38922c",
   "metadata": {},
   "source": [
    "# Load in our data\n"
   ]
  },
  {
   "cell_type": "code",
   "execution_count": null,
   "id": "2d36a718-b1c6-4ca6-b12d-8c5eef27bb04",
   "metadata": {},
   "outputs": [],
   "source": [
    "# Pass as a parameter to be used by papermill: the runid which will be used to create the template for the raw and summary files\n",
    "run_id = \"MIROC6_ssp370_1991_1995_2071_2075_tasmax_21_day_3_year_rolling\"\n",
    "var = \"tasmax\"\n",
    "gcm = \"MIROC6\"\n",
    "scenario = \"ssp370\"\n",
    "ds = xr.open_zarr(f\"az://flow-outputs/intermediate/epoch_replaced_gcm/{run_id}.zarr\").drop(\n",
    "    \"dayofyear\"\n",
    ")"
   ]
  },
  {
   "cell_type": "code",
   "execution_count": null,
   "id": "501a0af6-1e55-491a-90fe-6361acfc42eb",
   "metadata": {},
   "outputs": [],
   "source": [
    "ds.lat"
   ]
  },
  {
   "cell_type": "code",
   "execution_count": null,
   "id": "bf9cfb5f-0617-499a-8f2d-1e377ef8c0eb",
   "metadata": {},
   "outputs": [],
   "source": [
    "# Same as for obs/trained comparisons in analysis notebooks but do it for comparing with bcsd dataset"
   ]
  }
 ],
 "metadata": {
  "kernelspec": {
   "display_name": "Python [conda env:notebook] *",
   "language": "python",
   "name": "conda-env-notebook-py"
  },
  "language_info": {
   "codemirror_mode": {
    "name": "ipython",
    "version": 3
   },
   "file_extension": ".py",
   "mimetype": "text/x-python",
   "name": "python",
   "nbconvert_exporter": "python",
   "pygments_lexer": "ipython3",
   "version": "3.9.9"
  }
 },
 "nbformat": 4,
 "nbformat_minor": 5
}
