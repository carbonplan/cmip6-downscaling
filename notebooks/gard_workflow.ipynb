{
 "cells": [
  {
   "cell_type": "code",
   "execution_count": null,
   "id": "improved-stage",
   "metadata": {},
   "outputs": [],
   "source": [
    "%load_ext autoreload\n",
    "%autoreload 2\n",
    "\n",
    "import gstools as gs\n",
    "import intake\n",
    "import os\n",
    "import zarr\n",
    "import pandas as pd\n",
    "import xarray as xr\n",
    "import intake_esm\n",
    "import numpy as np\n",
    "from dask.distributed import Client\n",
    "from cmip6_downscaling import CLIMATE_NORMAL_PERIOD\n",
    "from cmip6_downscaling.constants import KELVIN, PERCENT, SEC_PER_DAY\n",
    "import rioxarray\n",
    "from rasterio.enums import Resampling\n",
    "from cmip6_downscaling.workflows.share import (\n",
    "    chunks,\n",
    "    future_time,\n",
    "    get_cmip_runs,\n",
    "    hist_time,\n",
    "    xy_region,\n",
    ")\n",
    "from cmip6_downscaling.workflows.utils import get_store\n",
    "import matplotlib.pyplot as plt\n",
    "intake_esm.__version__"
   ]
  },
  {
   "cell_type": "code",
   "execution_count": null,
   "id": "optional-basketball",
   "metadata": {},
   "outputs": [],
   "source": [
    "import skdownscale"
   ]
  },
  {
   "cell_type": "code",
   "execution_count": null,
   "id": "intended-impact",
   "metadata": {},
   "outputs": [],
   "source": [
    "skdownscale.__file__"
   ]
  },
  {
   "cell_type": "markdown",
   "id": "humanitarian-essence",
   "metadata": {},
   "source": [
    "# access GCM data\n"
   ]
  },
  {
   "cell_type": "code",
   "execution_count": null,
   "id": "becoming-newfoundland",
   "metadata": {},
   "outputs": [],
   "source": [
    "from cmip6_downscaling.data.cmip import gcm_munge"
   ]
  },
  {
   "cell_type": "code",
   "execution_count": null,
   "id": "organizational-guinea",
   "metadata": {},
   "outputs": [],
   "source": [
    "activity_ids = [\"CMIP\", \"ScenarioMIP\"]\n",
    "experiment_ids = [\"historical\", \"ssp370\"]  # , \"ssp126\", \"ssp245\",  \"ssp585\"\n",
    "member_ids = [\"r1i1p1f1\"]\n",
    "source_ids = [\"CanESM5\"]  # BCC-CSM2-MR\"]\n",
    "table_ids = [\"day\"]\n",
    "grid_labels = [\"gn\"]\n",
    "variables = \"tasmax\"\n",
    "variable_ids = [variables]  # tasmax, tasmin, pr"
   ]
  },
  {
   "cell_type": "code",
   "execution_count": null,
   "id": "palestinian-bench",
   "metadata": {},
   "outputs": [],
   "source": [
    "col_url = (\n",
    "    \"https://cmip6downscaling.blob.core.windows.net/cmip6/pangeo-cmip6.json\"\n",
    ")\n",
    "\n",
    "col = intake.open_esm_datastore(col_url)\n",
    "full_subset = col.search(\n",
    "    activity_id=activity_ids,\n",
    "    experiment_id=experiment_ids,\n",
    "    member_id=member_ids,\n",
    "    table_id=table_ids,\n",
    "    grid_label=grid_labels,\n",
    "    variable_id=variable_ids,\n",
    "    source_id=source_ids,\n",
    ")"
   ]
  },
  {
   "cell_type": "code",
   "execution_count": null,
   "id": "comparable-skill",
   "metadata": {},
   "outputs": [],
   "source": [
    "gcm_ds_dict = full_subset.to_dataset_dict(\n",
    "    zarr_kwargs={\n",
    "        \"consolidated\": True,\n",
    "        \"decode_times\": True,\n",
    "        \"use_cftime\": True,\n",
    "    },\n",
    "    storage_options={\n",
    "        \"account_name\": \"cmip6downscaling\",\n",
    "        \"account_key\": os.environ.get(\"AccountKey\", None),\n",
    "    },\n",
    ")"
   ]
  },
  {
   "cell_type": "code",
   "execution_count": null,
   "id": "effective-briefing",
   "metadata": {},
   "outputs": [],
   "source": [
    "keys = gcm_ds_dict.keys()\n",
    "historical_gcm = gcm_munge(\n",
    "    gcm_ds_dict[[k for k in keys if \"historical\" in k][0]]\n",
    ")\n",
    "future_gcm = gcm_munge(gcm_ds_dict[[k for k in keys if \"ssp\" in k][0]])"
   ]
  },
  {
   "cell_type": "code",
   "execution_count": null,
   "id": "noted-burton",
   "metadata": {},
   "outputs": [],
   "source": [
    "historical_gcm"
   ]
  },
  {
   "cell_type": "code",
   "execution_count": null,
   "id": "level-jurisdiction",
   "metadata": {},
   "outputs": [],
   "source": [
    "future_gcm"
   ]
  },
  {
   "cell_type": "markdown",
   "id": "beneficial-invention",
   "metadata": {},
   "source": [
    "# access obs data\n"
   ]
  },
  {
   "cell_type": "code",
   "execution_count": null,
   "id": "seven-provider",
   "metadata": {},
   "outputs": [],
   "source": [
    "# converts cmip standard names to ERA5 names\n",
    "variable_name_dict = {\n",
    "    \"tasmax\": \"air_temperature_at_2_metres_1hour_Maximum\",\n",
    "    \"tasmin\": \"air_temperature_at_2_metres_1hour_Minimum\",\n",
    "    \"pr\": \"precipitation_amount_1hour_Accumulation\",\n",
    "}"
   ]
  },
  {
   "cell_type": "markdown",
   "id": "conservative-march",
   "metadata": {},
   "source": [
    "# specify spatial regional subset and time periods\n"
   ]
  },
  {
   "cell_type": "code",
   "execution_count": null,
   "id": "respiratory-alliance",
   "metadata": {},
   "outputs": [],
   "source": [
    "from cmip6_downscaling.data.cmip import convert_to_360\n",
    "\n",
    "# parameters\n",
    "historical_start = \"2010\"\n",
    "historical_end = \"2014\"\n",
    "future_start = \"2015\"\n",
    "future_end = \"2019\"\n",
    "min_lat = 19\n",
    "max_lat = 55\n",
    "min_lon = 227\n",
    "max_lon = 299\n",
    "\n",
    "# chunk shape for dask execution (time must be contiguous, ie -1)\n",
    "chunks = {\"lat\": 10, \"lon\": 10, \"time\": -1}"
   ]
  },
  {
   "cell_type": "code",
   "execution_count": null,
   "id": "internal-locking",
   "metadata": {},
   "outputs": [],
   "source": [
    "obs = xr.open_zarr(\"obs_buffer.zarr\")\n",
    "obs"
   ]
  },
  {
   "cell_type": "code",
   "execution_count": null,
   "id": "hairy-metabolism",
   "metadata": {},
   "outputs": [],
   "source": [
    "historical_period = slice(historical_start, historical_end)\n",
    "future_period = slice(future_start, future_end)"
   ]
  },
  {
   "cell_type": "code",
   "execution_count": null,
   "id": "accessible-clerk",
   "metadata": {},
   "outputs": [],
   "source": [
    "from cmip6_downscaling.data.observations import get_coarse_obs\n",
    "\n",
    "\n",
    "def maca_preprocess(\n",
    "    historical_gcm,\n",
    "    future_gcm,\n",
    "    obs,\n",
    "    min_lon,\n",
    "    max_lon,\n",
    "    min_lat,\n",
    "    max_lat,\n",
    "):\n",
    "    lon_slice = slice(convert_to_360(min_lon), convert_to_360(max_lon))\n",
    "    lat_slice = slice(max_lat, min_lat)\n",
    "    full_gcm = xr.combine_by_coords(\n",
    "        [\n",
    "            historical_gcm.sel(lon=lon_slice, lat=lat_slice),\n",
    "            future_gcm.sel(lon=lon_slice, lat=lat_slice),\n",
    "        ],\n",
    "        combine_attrs=\"drop\",\n",
    "    ).rio.write_crs(\"EPSG:4326\")\n",
    "    obs = obs.chunk({\"lat\": -1, \"lon\": -1, \"time\": 1})\n",
    "    coarse_obs = get_coarse_obs(\n",
    "        obs=obs, gcm_ds_single_time_slice=full_gcm.isel(time=0)\n",
    "    )\n",
    "    return full_gcm, coarse_obs"
   ]
  },
  {
   "cell_type": "code",
   "execution_count": null,
   "id": "naval-convention",
   "metadata": {},
   "outputs": [],
   "source": [
    "full_gcm, coarse_obs = maca_preprocess(\n",
    "    historical_gcm=historical_gcm.sel(time=historical_period),\n",
    "    future_gcm=future_gcm.sel(time=future_period),\n",
    "    obs=obs,\n",
    "    min_lon=min_lon,\n",
    "    max_lon=max_lon,\n",
    "    min_lat=min_lat,\n",
    "    max_lat=max_lat,\n",
    ")"
   ]
  },
  {
   "cell_type": "markdown",
   "id": "pointed-pearl",
   "metadata": {},
   "source": [
    "## bias correction\n"
   ]
  },
  {
   "cell_type": "code",
   "execution_count": null,
   "id": "activated-samuel",
   "metadata": {},
   "outputs": [],
   "source": [
    "# bias correct future gcm and historical gcm to observation according to bias correction method specified\n",
    "# transform coarse obs if specified by bias correction method\n",
    "# fit & predict with Pointwise GARD model\n",
    "# fit --> X = coarse obs, y = fine obs\n",
    "# predict --> X = coarse historical or future gcm\n",
    "# do error calculations and perturb the answers as needed"
   ]
  },
  {
   "cell_type": "markdown",
   "id": "premier-shannon",
   "metadata": {},
   "source": [
    "# Run GARD model\n"
   ]
  },
  {
   "cell_type": "code",
   "execution_count": null,
   "id": "wrong-bhutan",
   "metadata": {},
   "outputs": [],
   "source": [
    "from skdownscale.pointwise_models import PureAnalog\n",
    "from skdownscale.pipelines.gard_wrapper import GardWrapper\n",
    "\n",
    "gard_model = PureAnalog(kind=\"mean_analogs\", n_analogs=10)\n",
    "gard_wrapper = GardWrapper(\n",
    "    model=gard_model, feature_list=[\"tasmax\"], dim=\"time\"\n",
    ")"
   ]
  },
  {
   "cell_type": "code",
   "execution_count": null,
   "id": "dedicated-problem",
   "metadata": {
    "collapsed": true,
    "jupyter": {
     "outputs_hidden": true
    },
    "tags": []
   },
   "outputs": [],
   "source": [
    "gcm_train.transpose(\"time\", \"lat\", \"lon\").load()\n",
    "obs.transpose(\"time\", \"lat\", \"lon\").load()"
   ]
  },
  {
   "cell_type": "code",
   "execution_count": null,
   "id": "willing-township",
   "metadata": {
    "collapsed": true,
    "jupyter": {
     "outputs_hidden": true
    },
    "tags": []
   },
   "outputs": [],
   "source": [
    "model = gard_wrapper.fit(X=gcm_train, y=obs)"
   ]
  },
  {
   "cell_type": "markdown",
   "id": "foster-glory",
   "metadata": {},
   "source": [
    "# Step 4: Predict for future (it's already on the coarse scale)\n"
   ]
  },
  {
   "cell_type": "code",
   "execution_count": null,
   "id": "frequent-mobility",
   "metadata": {},
   "outputs": [],
   "source": [
    "future = (\n",
    "    full_gcm[[variable]]\n",
    "    .sel(time=holdout_slice, lat=lat_slice, lon=lon_slice)\n",
    "    .load()\n",
    ")  # .rio.write_crs('EPSG:4326')\n",
    "# future = conform_to_reproject(future).load()\n",
    "future"
   ]
  },
  {
   "cell_type": "code",
   "execution_count": null,
   "id": "aware-surfing",
   "metadata": {},
   "outputs": [],
   "source": [
    "future_downscaled = model.predict(future)"
   ]
  },
  {
   "cell_type": "code",
   "execution_count": null,
   "id": "first-external",
   "metadata": {
    "tags": []
   },
   "outputs": [],
   "source": [
    "future_downscaled"
   ]
  },
  {
   "cell_type": "code",
   "execution_count": null,
   "id": "stock-celtic",
   "metadata": {},
   "outputs": [],
   "source": [
    "future_downscaled.isel(\n",
    "    time=3\n",
    ").plot()  # this downscaling didn't work very well XD"
   ]
  }
 ],
 "metadata": {
  "kernelspec": {
   "display_name": "Python [conda env:notebook] *",
   "language": "python",
   "name": "conda-env-notebook-py"
  },
  "language_info": {
   "codemirror_mode": {
    "name": "ipython",
    "version": 3
   },
   "file_extension": ".py",
   "mimetype": "text/x-python",
   "name": "python",
   "nbconvert_exporter": "python",
   "pygments_lexer": "ipython3",
   "version": "3.8.6"
  }
 },
 "nbformat": 4,
 "nbformat_minor": 5
}
