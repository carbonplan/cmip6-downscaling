{
 "cells": [
  {
   "cell_type": "code",
   "execution_count": null,
   "id": "7089c0d5",
   "metadata": {},
   "outputs": [],
   "source": [
    "from xpersist.prefect.result import XpersistResult\n",
    "from xpersist import CacheStore\n",
    "\n",
    "import xarray as xr\n",
    "from prefect import task, Flow"
   ]
  },
  {
   "cell_type": "markdown",
   "id": "83b3b6af",
   "metadata": {},
   "source": [
    "## fails on second run -- after cache_store_key is removed\n"
   ]
  },
  {
   "cell_type": "code",
   "execution_count": null,
   "id": "2d02d709",
   "metadata": {},
   "outputs": [],
   "source": [
    "serializer_dump_kwargs = None\n",
    "dataset_cache_store = CacheStore(\"./\")\n",
    "\n",
    "\n",
    "def load_dataset():\n",
    "    ds = xr.tutorial.open_dataset(\"air_temperature\")\n",
    "    print(ds)\n",
    "    return ds\n",
    "\n",
    "\n",
    "load_dataset_task = task(\n",
    "    load_dataset,\n",
    "    result=XpersistResult(\n",
    "        dataset_cache_store,\n",
    "        serializer=\"xarray.zarr\",\n",
    "        serializer_dump_kwargs=serializer_dump_kwargs,\n",
    "    ),\n",
    "    target=\"air_temp.zarr\",\n",
    "    log_stdout=True,\n",
    ")\n",
    "\n",
    "\n",
    "with Flow(name=\"load_air_temp\") as flow:\n",
    "    ds = load_dataset_task()\n",
    "flow.run()\n",
    "dataset_cache_store.delete(key=\"xpersist_metadata_store/air_temp.zarr.artifact.json\", dry_run=False)"
   ]
  },
  {
   "cell_type": "markdown",
   "id": "823e350b",
   "metadata": {},
   "source": [
    "## succeedes on second run -- after cache_store_key is removed\n"
   ]
  },
  {
   "cell_type": "code",
   "execution_count": null,
   "id": "169685f1",
   "metadata": {},
   "outputs": [],
   "source": [
    "serializer_dump_kwargs = {\"mode\": \"w\"}\n",
    "dataset_cache_store = CacheStore(\"./\")\n",
    "\n",
    "\n",
    "def load_dataset():\n",
    "    ds = xr.tutorial.open_dataset(\"air_temperature\")\n",
    "    print(ds)\n",
    "    return ds\n",
    "\n",
    "\n",
    "load_dataset_task = task(\n",
    "    load_dataset,\n",
    "    result=XpersistResult(\n",
    "        dataset_cache_store,\n",
    "        serializer=\"xarray.zarr\",\n",
    "        serializer_dump_kwargs=serializer_dump_kwargs,\n",
    "    ),\n",
    "    target=\"air_temp.zarr\",\n",
    "    log_stdout=True,\n",
    ")\n",
    "\n",
    "\n",
    "with Flow(name=\"load_air_temp\") as flow:\n",
    "    ds = load_dataset_task()\n",
    "flow.run()\n",
    "dataset_cache_store.delete(key=\"xpersist_metadata_store/air_temp.zarr.artifact.json\", dry_run=False)"
   ]
  }
 ],
 "metadata": {
  "kernelspec": {
   "display_name": "Python 3 (ipykernel)",
   "language": "python",
   "name": "python3"
  },
  "language_info": {
   "codemirror_mode": {
    "name": "ipython",
    "version": 3
   },
   "file_extension": ".py",
   "mimetype": "text/x-python",
   "name": "python",
   "nbconvert_exporter": "python",
   "pygments_lexer": "ipython3",
   "version": "3.9.7"
  }
 },
 "nbformat": 4,
 "nbformat_minor": 5
}
