{
 "cells": [
  {
   "cell_type": "code",
   "execution_count": null,
   "id": "plastic-occasion",
   "metadata": {},
   "outputs": [],
   "source": [
    "%load_ext autoreload\n",
    "%autoreload 2\n",
    "\n",
    "import gstools as gs\n",
    "import intake\n",
    "import os\n",
    "import zarr\n",
    "import pandas as pd\n",
    "import xarray as xr\n",
    "import intake_esm\n",
    "import numpy as np\n",
    "from dask.distributed import Client\n",
    "from cmip6_downscaling import CLIMATE_NORMAL_PERIOD\n",
    "from cmip6_downscaling.constants import KELVIN, PERCENT, SEC_PER_DAY\n",
    "import rioxarray\n",
    "from rasterio.enums import Resampling\n",
    "from cmip6_downscaling.workflows.share import (\n",
    "    chunks,\n",
    "    future_time,\n",
    "    get_cmip_runs,\n",
    "    hist_time,\n",
    "    xy_region,\n",
    ")\n",
    "from cmip6_downscaling.workflows.utils import get_store\n",
    "import matplotlib.pyplot as plt\n",
    "intake_esm.__version__"
   ]
  },
  {
   "cell_type": "code",
   "execution_count": null,
   "id": "affiliated-curtis",
   "metadata": {},
   "outputs": [],
   "source": [
    "import skdownscale"
   ]
  },
  {
   "cell_type": "code",
   "execution_count": null,
   "id": "oriental-celebrity",
   "metadata": {},
   "outputs": [],
   "source": [
    "skdownscale.__file__"
   ]
  },
  {
   "cell_type": "markdown",
   "id": "furnished-cuisine",
   "metadata": {},
   "source": [
    "# access GCM data\n",
    "\n",
    "will be replaced by `load_cmip_dictionary` and `gcm_munge`\n"
   ]
  },
  {
   "cell_type": "code",
   "execution_count": null,
   "id": "visible-deficit",
   "metadata": {},
   "outputs": [],
   "source": [
    "from cmip6_downscaling.data.cmip import gcm_munge"
   ]
  },
  {
   "cell_type": "code",
   "execution_count": null,
   "id": "copyrighted-quantum",
   "metadata": {},
   "outputs": [],
   "source": [
    "activity_ids = [\"CMIP\", \"ScenarioMIP\"]\n",
    "experiment_ids = [\"historical\", \"ssp370\"]  # , \"ssp126\", \"ssp245\",  \"ssp585\"\n",
    "member_ids = [\"r1i1p1f1\"]\n",
    "source_ids = [\"CanESM5\"]  # BCC-CSM2-MR\"]\n",
    "table_ids = [\"day\"]\n",
    "grid_labels = [\"gn\"]\n",
    "variables = \"tasmax\"\n",
    "variable_ids = [variables]  # tasmax, tasmin, pr"
   ]
  },
  {
   "cell_type": "code",
   "execution_count": null,
   "id": "governing-smart",
   "metadata": {},
   "outputs": [],
   "source": [
    "col_url = (\n",
    "    \"https://cmip6downscaling.blob.core.windows.net/cmip6/pangeo-cmip6.json\"\n",
    ")\n",
    "\n",
    "col = intake.open_esm_datastore(col_url)\n",
    "full_subset = col.search(\n",
    "    activity_id=activity_ids,\n",
    "    experiment_id=experiment_ids,\n",
    "    member_id=member_ids,\n",
    "    table_id=table_ids,\n",
    "    grid_label=grid_labels,\n",
    "    variable_id=variable_ids,\n",
    "    source_id=source_ids,\n",
    ")"
   ]
  },
  {
   "cell_type": "code",
   "execution_count": null,
   "id": "decent-decrease",
   "metadata": {},
   "outputs": [],
   "source": [
    "gcm_ds_dict = full_subset.to_dataset_dict(\n",
    "    zarr_kwargs={\n",
    "        \"consolidated\": True,\n",
    "        \"decode_times\": True,\n",
    "        \"use_cftime\": True,\n",
    "    },\n",
    "    storage_options={\n",
    "        \"account_name\": \"cmip6downscaling\",\n",
    "        \"account_key\": os.environ.get(\"AccountKey\", None),\n",
    "    },\n",
    ")"
   ]
  },
  {
   "cell_type": "code",
   "execution_count": null,
   "id": "emerging-contrast",
   "metadata": {},
   "outputs": [],
   "source": [
    "keys = gcm_ds_dict.keys()\n",
    "historical_gcm = gcm_munge(\n",
    "    gcm_ds_dict[[k for k in keys if \"historical\" in k][0]]\n",
    ")\n",
    "future_gcm = gcm_munge(gcm_ds_dict[[k for k in keys if \"ssp\" in k][0]])"
   ]
  },
  {
   "cell_type": "code",
   "execution_count": null,
   "id": "flying-advantage",
   "metadata": {},
   "outputs": [],
   "source": [
    "historical_gcm"
   ]
  },
  {
   "cell_type": "code",
   "execution_count": null,
   "id": "covered-musician",
   "metadata": {},
   "outputs": [],
   "source": [
    "future_gcm"
   ]
  },
  {
   "cell_type": "markdown",
   "id": "overall-definition",
   "metadata": {},
   "source": [
    "# access obs data\n",
    "\n",
    "to be replaced by `open_era5`\n"
   ]
  },
  {
   "cell_type": "code",
   "execution_count": null,
   "id": "biblical-madagascar",
   "metadata": {},
   "outputs": [],
   "source": [
    "# converts cmip standard names to ERA5 names\n",
    "variable_name_dict = {\n",
    "    \"tasmax\": \"air_temperature_at_2_metres_1hour_Maximum\",\n",
    "    \"tasmin\": \"air_temperature_at_2_metres_1hour_Minimum\",\n",
    "    \"pr\": \"precipitation_amount_1hour_Accumulation\",\n",
    "}"
   ]
  },
  {
   "cell_type": "code",
   "execution_count": null,
   "id": "continuing-reason",
   "metadata": {},
   "outputs": [],
   "source": [
    "def get_store(bucket, prefix, account_key=None):\n",
    "    \"\"\"helper function to create a zarr store\"\"\"\n",
    "\n",
    "    if account_key is None:\n",
    "        account_key = os.environ.get(\"AccountKey\", None)\n",
    "\n",
    "    store = zarr.storage.ABSStore(\n",
    "        bucket,\n",
    "        prefix=prefix,\n",
    "        account_name=\"cmip6downscaling\",\n",
    "        account_key=account_key,\n",
    "    )\n",
    "    return store\n",
    "\n",
    "\n",
    "def open_era5(var):\n",
    "    col = intake.open_esm_datastore(\n",
    "        \"https://cmip6downscaling.blob.core.windows.net/cmip6/ERA5_catalog.json\"\n",
    "    )\n",
    "    subset = col.search(\n",
    "        variable=variable_name_dict[var], year=np.arange(2010, 2020)\n",
    "    )\n",
    "    era5_stores = [\n",
    "        store.split(\"az://cmip6/\")[1] for store in subset.df.zstore.values\n",
    "    ]\n",
    "    store_list = [\n",
    "        get_store(bucket=\"cmip6\", prefix=prefix) for prefix in era5_stores\n",
    "    ]\n",
    "    ds = xr.open_mfdataset(store_list, engine=\"zarr\", concat_dim=\"time\").drop(\n",
    "        \"time1_bounds\"\n",
    "    )\n",
    "    return ds"
   ]
  },
  {
   "cell_type": "code",
   "execution_count": null,
   "id": "proper-africa",
   "metadata": {},
   "outputs": [],
   "source": [
    "# full_obs = open_era5(variable)"
   ]
  },
  {
   "cell_type": "code",
   "execution_count": null,
   "id": "advance-suggestion",
   "metadata": {},
   "outputs": [],
   "source": [
    "# full_obs"
   ]
  },
  {
   "cell_type": "markdown",
   "id": "bearing-joshua",
   "metadata": {},
   "source": [
    "# specify spatial regional subset and time periods\n"
   ]
  },
  {
   "cell_type": "code",
   "execution_count": null,
   "id": "another-brother",
   "metadata": {},
   "outputs": [],
   "source": [
    "from cmip6_downscaling.data.cmip import convert_to_360\n",
    "\n",
    "# parameters\n",
    "historical_start = \"2010\"\n",
    "historical_end = \"2014\"\n",
    "future_start = \"2015\"\n",
    "future_end = \"2019\"\n",
    "min_lat = 19\n",
    "max_lat = 55\n",
    "min_lon = 227\n",
    "max_lon = 299\n",
    "\n",
    "# chunk shape for dask execution (time must be contiguous, ie -1)\n",
    "chunks = {\"lat\": 10, \"lon\": 10, \"time\": -1}"
   ]
  },
  {
   "cell_type": "code",
   "execution_count": null,
   "id": "quiet-minister",
   "metadata": {},
   "outputs": [],
   "source": [
    "# buffer = 3\n",
    "# buffer_slice_lat = slice(max_lat + buffer, min_lat - buffer)\n",
    "# buffer_slice_lon = slice(convert_to_360(min_lon) - buffer, convert_to_360(max_lon) + buffer)\n",
    "# full_obs = full_obs.rio.write_crs('EPSG:4326')\n",
    "# obs_buffer = full_obs.sel(lat=buffer_slice_lat, lon=buffer_slice_lon)\n",
    "# obs_buffer = obs_buffer.resample(time='1D').reduce(np.max).rename({variable_name_dict[variable]:variable})\n",
    "# obs_buffer = obs_buffer.chunk({'lat': 10, 'lon': 10, 'time': 1000})\n",
    "# for v in obs_buffer:\n",
    "#     print(v)\n",
    "#     if 'chunks' in obs_buffer[v].encoding:\n",
    "#         del obs_buffer[v].encoding['chunks']\n",
    "# obs_buffer.to_zarr('obs_buffer.zarr', mode='w')"
   ]
  },
  {
   "cell_type": "code",
   "execution_count": null,
   "id": "satellite-march",
   "metadata": {},
   "outputs": [],
   "source": [
    "obs = xr.open_zarr(\"obs_buffer.zarr\")\n",
    "obs"
   ]
  },
  {
   "cell_type": "markdown",
   "id": "accepting-third",
   "metadata": {},
   "source": [
    "# start of workflow\n"
   ]
  },
  {
   "cell_type": "code",
   "execution_count": null,
   "id": "foreign-capability",
   "metadata": {},
   "outputs": [],
   "source": [
    "historical_period = slice(historical_start, historical_end)\n",
    "future_period = slice(future_start, future_end)"
   ]
  },
  {
   "cell_type": "code",
   "execution_count": null,
   "id": "consistent-answer",
   "metadata": {},
   "outputs": [],
   "source": [
    "from cmip6_downscaling.workflows.maca_flow import preprocess_maca"
   ]
  },
  {
   "cell_type": "code",
   "execution_count": null,
   "id": "derived-transfer",
   "metadata": {},
   "outputs": [],
   "source": [
    "full_gcm, coarse_obs = preprocess_maca(\n",
    "    historical_gcm=historical_gcm.sel(time=historical_period),\n",
    "    future_gcm=future_gcm.sel(time=future_period),\n",
    "    obs=obs,\n",
    "    min_lon=min_lon,\n",
    "    max_lon=max_lon,\n",
    "    min_lat=min_lat,\n",
    "    max_lat=max_lat,\n",
    ")"
   ]
  },
  {
   "cell_type": "code",
   "execution_count": null,
   "id": "lesbian-rabbit",
   "metadata": {},
   "outputs": [],
   "source": [
    "full_gcm.compute()"
   ]
  },
  {
   "cell_type": "code",
   "execution_count": null,
   "id": "constant-angola",
   "metadata": {},
   "outputs": [],
   "source": [
    "full_gcm.isel(time=0)[variables].plot()"
   ]
  },
  {
   "cell_type": "code",
   "execution_count": null,
   "id": "elementary-interim",
   "metadata": {},
   "outputs": [],
   "source": [
    "coarse_obs.compute()"
   ]
  },
  {
   "cell_type": "code",
   "execution_count": null,
   "id": "charming-concert",
   "metadata": {},
   "outputs": [],
   "source": [
    "coarse_obs.isel(time=0)[variables].plot()"
   ]
  },
  {
   "cell_type": "code",
   "execution_count": null,
   "id": "earlier-singing",
   "metadata": {},
   "outputs": [],
   "source": [
    "obs.isel(time=0)[variables].plot()"
   ]
  },
  {
   "cell_type": "markdown",
   "id": "concerned-fortune",
   "metadata": {},
   "source": [
    "## Epoch Adjustment\n"
   ]
  },
  {
   "cell_type": "code",
   "execution_count": null,
   "id": "similar-plant",
   "metadata": {},
   "outputs": [],
   "source": [
    "from cmip6_downscaling.methods.detrend import epoch_adjustment"
   ]
  },
  {
   "cell_type": "code",
   "execution_count": null,
   "id": "sustainable-annotation",
   "metadata": {},
   "outputs": [],
   "source": [
    "epoch_adjustment_kwargs = None\n",
    "epoch_adjustment_kws = {\"day_rolling_window\": 21, \"year_rolling_window\": 3}\n",
    "epoch_adjustment_kws.update(\n",
    "    {} if not epoch_adjustment_kwargs else epoch_adjustment_kwargs\n",
    ")\n",
    "\n",
    "# here, the time dimension of ea_gcm needs to be in 1 chunk\n",
    "ea_gcm, trend = epoch_adjustment(\n",
    "    data=full_gcm, historical_period=historical_period, **epoch_adjustment_kws\n",
    ")"
   ]
  },
  {
   "cell_type": "code",
   "execution_count": null,
   "id": "returning-stable",
   "metadata": {},
   "outputs": [],
   "source": [
    "i = int(len(ea_gcm.lat) / 2)\n",
    "j = int(len(ea_gcm.lon) / 2)\n",
    "plt.figure(figsize=(25, 5))\n",
    "ea_gcm.isel(lat=i, lon=j)[variables].plot(ax=plt.gca(), label=\"epoch adjusted\")\n",
    "full_gcm.isel(lat=i, lon=j)[variables].plot(ax=plt.gca(), label=\"original\")"
   ]
  },
  {
   "cell_type": "code",
   "execution_count": null,
   "id": "ordered-damages",
   "metadata": {},
   "outputs": [],
   "source": [
    "plt.figure(figsize=(25, 5))\n",
    "trend.isel(lat=i, lon=j)[variables].plot(ax=plt.gca())"
   ]
  },
  {
   "cell_type": "markdown",
   "id": "entire-rescue",
   "metadata": {},
   "source": [
    "## coarse scale bias correction\n"
   ]
  },
  {
   "cell_type": "code",
   "execution_count": null,
   "id": "female-milton",
   "metadata": {},
   "outputs": [],
   "source": [
    "from cmip6_downscaling.workflows.maca_flow import maca_bias_correction"
   ]
  },
  {
   "cell_type": "code",
   "execution_count": null,
   "id": "practical-karen",
   "metadata": {},
   "outputs": [],
   "source": [
    "bias_correction_kwargs = None\n",
    "bias_correction_kws = {\"batch_size\": 15, \"buffer_size\": 15}\n",
    "bias_correction_kws.update(\n",
    "    {} if not bias_correction_kwargs else bias_correction_kwargs\n",
    ")\n",
    "bc_ea_gcm = maca_bias_correction(\n",
    "    ds_gcm=ea_gcm,\n",
    "    ds_obs=coarse_obs,\n",
    "    historical_period=historical_period,\n",
    "    variables=variables,\n",
    "    **bias_correction_kws\n",
    ")"
   ]
  },
  {
   "cell_type": "code",
   "execution_count": null,
   "id": "insured-latex",
   "metadata": {},
   "outputs": [],
   "source": [
    "# plot cdf\n",
    "plt.hist(\n",
    "    coarse_obs[variables].values.flatten(),\n",
    "    bins=500,\n",
    "    density=True,\n",
    "    cumulative=True,\n",
    "    label=\"observation\",\n",
    "    histtype=\"step\",\n",
    "    alpha=0.55,\n",
    "    color=\"k\",\n",
    ")\n",
    "\n",
    "plt.hist(\n",
    "    ea_gcm[variables].sel(time=historical_period).values.flatten(),\n",
    "    label=\"epoch adjusted (hist)\",\n",
    "    bins=500,\n",
    "    density=True,\n",
    "    cumulative=True,\n",
    "    histtype=\"step\",\n",
    "    alpha=0.55,\n",
    ")\n",
    "plt.hist(\n",
    "    ea_gcm[variables].sel(time=future_period).values.flatten(),\n",
    "    label=\"epoch adjusted (future)\",\n",
    "    bins=500,\n",
    "    density=True,\n",
    "    cumulative=True,\n",
    "    histtype=\"step\",\n",
    "    alpha=0.55,\n",
    ")\n",
    "\n",
    "plt.hist(\n",
    "    bc_ea_gcm[variables].sel(time=historical_period).values.flatten(),\n",
    "    label=\"bias corrected (hist)\",\n",
    "    bins=500,\n",
    "    density=True,\n",
    "    cumulative=True,\n",
    "    histtype=\"step\",\n",
    "    alpha=0.55,\n",
    ")\n",
    "plt.hist(\n",
    "    bc_ea_gcm[variables].sel(time=future_period).values.flatten(),\n",
    "    label=\"bias corrected (future)\",\n",
    "    bins=500,\n",
    "    density=True,\n",
    "    cumulative=True,\n",
    "    histtype=\"step\",\n",
    "    alpha=0.55,\n",
    ")\n",
    "\n",
    "plt.legend(loc=\"upper left\")\n",
    "plt.xlabel(\"value\")\n",
    "plt.ylabel(\"cumulative prob\")\n",
    "plt.show()\n",
    "plt.close()"
   ]
  },
  {
   "cell_type": "markdown",
   "id": "combined-damages",
   "metadata": {},
   "source": [
    "## constructed analogs\n"
   ]
  },
  {
   "cell_type": "code",
   "execution_count": null,
   "id": "operational-coupon",
   "metadata": {},
   "outputs": [],
   "source": [
    "from cmip6_downscaling.workflows.maca_flow import maca_constructed_analogs"
   ]
  },
  {
   "cell_type": "code",
   "execution_count": null,
   "id": "unauthorized-vector",
   "metadata": {},
   "outputs": [],
   "source": [
    "X = coarse_obs.rename({\"time\": \"ndays_in_obs\"})  # coarse obs\n",
    "y = bc_ea_gcm.rename({\"time\": \"ndays_in_gcm\"})  # coarse gcm\n",
    "\n",
    "# get rmse between each GCM slices to be downscaled and each observation slices\n",
    "# will have the shape ndays_in_gcm x ndays_in_obs\n",
    "rmse = np.sqrt(((X - y) ** 2).sum(dim=[\"lat\", \"lon\"]))  # / n_pixel_coarse"
   ]
  },
  {
   "cell_type": "code",
   "execution_count": null,
   "id": "different-pride",
   "metadata": {},
   "outputs": [],
   "source": [
    "rmse"
   ]
  },
  {
   "cell_type": "code",
   "execution_count": null,
   "id": "grave-trader",
   "metadata": {
    "collapsed": true,
    "jupyter": {
     "outputs_hidden": true
    }
   },
   "outputs": [],
   "source": [
    "# %debug\n",
    "constructed_analogs_kwargs = None\n",
    "constructed_analogs_kws = {\"n_analogs\": 10, \"doy_range\": 45}\n",
    "constructed_analogs_kws.update(\n",
    "    {} if not constructed_analogs_kwargs else constructed_analogs_kwargs\n",
    ")\n",
    "\n",
    "downscaled_gcm = maca_constructed_analogs(\n",
    "    ds_gcm=bc_ea_gcm[variables],\n",
    "    ds_obs_coarse=coarse_obs[variables],\n",
    "    ds_obs_fine=obs[variables],\n",
    "    **constructed_analogs_kws\n",
    ")"
   ]
  },
  {
   "cell_type": "code",
   "execution_count": null,
   "id": "acceptable-tender",
   "metadata": {},
   "outputs": [],
   "source": [
    "downscaled_gcm.isel(time=slice(0, 10)).plot(col=\"time\", col_wrap=5)"
   ]
  },
  {
   "cell_type": "markdown",
   "id": "heavy-source",
   "metadata": {},
   "source": [
    "## epoch replacement\n"
   ]
  },
  {
   "cell_type": "code",
   "execution_count": null,
   "id": "round-apollo",
   "metadata": {},
   "outputs": [],
   "source": [
    "from cmip6_downscaling.workflows.maca_flow import maca_epoch_replacement"
   ]
  },
  {
   "cell_type": "code",
   "execution_count": null,
   "id": "corresponding-dependence",
   "metadata": {},
   "outputs": [],
   "source": [
    "downscaled_bc_gcm = maca_epoch_replacement(\n",
    "    ds_gcm_fine=downscaled_gcm,\n",
    "    trend_coarse=trend,\n",
    ")"
   ]
  },
  {
   "cell_type": "code",
   "execution_count": null,
   "id": "urban-stewart",
   "metadata": {},
   "outputs": [],
   "source": [
    "downscaled_bc_gcm.isel(time=slice(0, 10)).plot(col=\"time\", col_wrap=5)"
   ]
  },
  {
   "cell_type": "markdown",
   "id": "about-farmer",
   "metadata": {},
   "source": [
    "## fine scale bias correction\n"
   ]
  },
  {
   "cell_type": "code",
   "execution_count": null,
   "id": "fuzzy-penetration",
   "metadata": {},
   "outputs": [],
   "source": [
    "final_gcm = maca_bias_correction(\n",
    "    ds_gcm=downscaled_bc_gcm,\n",
    "    ds_obs=obs,\n",
    "    historical_period=historical_period,\n",
    "    variables=variables,\n",
    "    **bias_correction_kws\n",
    ")"
   ]
  }
 ],
 "metadata": {
  "kernelspec": {
   "display_name": "Python [conda env:notebook] *",
   "language": "python",
   "name": "conda-env-notebook-py"
  },
  "language_info": {
   "codemirror_mode": {
    "name": "ipython",
    "version": 3
   },
   "file_extension": ".py",
   "mimetype": "text/x-python",
   "name": "python",
   "nbconvert_exporter": "python",
   "pygments_lexer": "ipython3",
   "version": "3.8.6"
  }
 },
 "nbformat": 4,
 "nbformat_minor": 5
}
