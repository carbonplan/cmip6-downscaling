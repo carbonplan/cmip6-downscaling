{
 "cells": [
  {
   "cell_type": "code",
   "execution_count": null,
   "id": "b31621b4-3bb2-49cc-ba66-761c347167db",
   "metadata": {},
   "outputs": [],
   "source": [
    "%load_ext autoreload\n",
    "%autoreload 2"
   ]
  },
  {
   "cell_type": "code",
   "execution_count": null,
   "id": "cb5cf5ef-7a5c-44f3-b9a5-a8ea33859217",
   "metadata": {},
   "outputs": [],
   "source": [
    "import os\n",
    "import time\n",
    "\n",
    "os.environ[\"PREFECT__FLOWS__CHECKPOINTING\"] = \"true\"\n",
    "\n",
    "from funnel import CacheStore\n",
    "from funnel.prefect.result import FunnelResult\n",
    "from prefect import task, Flow, Parameter\n",
    "from prefect.executors import DaskExecutor\n",
    "import xarray as xr"
   ]
  },
  {
   "cell_type": "code",
   "execution_count": null,
   "id": "76964487-7065-4f72-a590-e8d5397a1fb6",
   "metadata": {},
   "outputs": [],
   "source": [
    "os.environ.get(\"AZURE_STORAGE_CONNECTION_STRING\")"
   ]
  },
  {
   "cell_type": "code",
   "execution_count": null,
   "id": "21621ece-a7fb-4bc8-9996-9466c5180831",
   "metadata": {},
   "outputs": [],
   "source": [
    "import fsspec\n",
    "import os\n",
    "\n",
    "connection_string = os.environ.get(\"AZURE_STORAGE_CONNECTION_STRING\")\n",
    "\n",
    "fs = fsspec.filesystem(\"az\", connection_string=connection_string)\n",
    "\n",
    "# # fs.rm('flow-outputs/intermediate/bias_corrected_gcm',recursive=True)\n",
    "# # fs.rm('flow-outputs/intermediate/funnel_metadata_store/bias_corrected_gcm',recursive=True)\n",
    "# # fs.rm('flow-outputs/intermediate/bias_corrected_obs',recursive=True)\n",
    "# # fs.rm('flow-outputs/intermediate/funnel_metadata_store/bias_corrected_obs',recursive=True)\n",
    "# fs.rm('flow-outputs/intermediate/interpolated_obs',recursive=True)\n",
    "# fs.rm('flow-outputs/intermediate/epoch_adjusted_gcm', recursive=True)\n",
    "# fs.rm('flow-outputs/intermediate/gcm_epoch_trend', recursive=True)\n",
    "# fs.rm('flow-outputs/intermediate/maca_epoch_adjusted_downscaled_output', recursive=True)\n",
    "# fs.rm('flow-outputs/intermediate/epoch_replaced_gcm', recursive=True)\n",
    "\n",
    "# fs.rm('flow-outputs/intermediate/maca_test_bias_correction_rechunk.zarr', recursive=True)\n",
    "# fs.rm('flow-outputs/intermediate/maca_epoch_adjusted_downscaled_output/MIROC6_ssp370_1991_1995_2071_2075_tasmax_tasmax_0.0_-90.0_360.0_90.0.zarr', recursive=True)\n",
    "# fs.rm('flow-outputs/intermediate/rechunked_obs/ERA5_1991_1995_tasmax_full_time.zarr', recursive=True)"
   ]
  },
  {
   "cell_type": "code",
   "execution_count": null,
   "id": "8c29b7c8-34cd-4c9d-ae46-f5b2c2409cc6",
   "metadata": {},
   "outputs": [],
   "source": [
    "run_hyperparameters = {\n",
    "    \"OBS\": \"ERA5\",\n",
    "    \"GCM\": \"MIROC6\",\n",
    "    \"SCENARIO\": \"ssp370\",\n",
    "    \"LABEL\": \"tasmax\",\n",
    "    \"TRAIN_PERIOD_START\": \"1991\",\n",
    "    \"TRAIN_PERIOD_END\": \"1995\",\n",
    "    \"PREDICT_PERIOD_START\": \"2071\",\n",
    "    \"PREDICT_PERIOD_END\": \"2075\",\n",
    "    \"EPOCH_ADJUSTMENT_DAY_ROLLING_WINDOW\": 21,\n",
    "    \"EPOCH_ADJUSTMENT_YEAR_ROLLING_WINDOW\": 3,\n",
    "    \"BIAS_CORRECTION_BATCH_SIZE\": 15,\n",
    "    \"BIAS_CORRECTION_BUFFER_SIZE\": 15,\n",
    "    \"CONSTRUCTED_ANALOG_N_ANALOGS\": 10,\n",
    "    \"CONSTRUCTED_ANALOG_DOY_RANGE\": 45,\n",
    "}"
   ]
  },
  {
   "cell_type": "code",
   "execution_count": null,
   "id": "c2c90bad-8866-4754-ac90-4f4a212c2fcb",
   "metadata": {},
   "outputs": [],
   "source": [
    "from cmip6_downscaling.workflows.maca_flow import maca_flow"
   ]
  },
  {
   "cell_type": "code",
   "execution_count": null,
   "id": "6c355712-2f6e-4cfb-8da5-a040a124e111",
   "metadata": {
    "tags": []
   },
   "outputs": [],
   "source": [
    "maca_flow.run(parameters=run_hyperparameters)"
   ]
  }
 ],
 "metadata": {
  "kernelspec": {
   "display_name": "Python [conda env:notebook] *",
   "language": "python",
   "name": "conda-env-notebook-py"
  },
  "language_info": {
   "codemirror_mode": {
    "name": "ipython",
    "version": 3
   },
   "file_extension": ".py",
   "mimetype": "text/x-python",
   "name": "python",
   "nbconvert_exporter": "python",
   "pygments_lexer": "ipython3",
   "version": "3.9.7"
  }
 },
 "nbformat": 4,
 "nbformat_minor": 5
}
