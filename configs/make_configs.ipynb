{
 "cells": [
  {
   "cell_type": "code",
   "execution_count": 7,
   "id": "604e256f-3847-48c1-ae59-ee5a5cad376b",
   "metadata": {},
   "outputs": [],
   "source": [
    "import itertools\n",
    "import json\n",
    "from cmip6_downscaling.methods.common.containers import RunParameters"
   ]
  },
  {
   "cell_type": "markdown",
   "id": "0030e415-5616-444c-8c70-de5c02242da1",
   "metadata": {},
   "source": [
    "## BCSD configs"
   ]
  },
  {
   "cell_type": "code",
   "execution_count": 8,
   "id": "51faef36-3edf-4921-a9b8-1380cf6f5b27",
   "metadata": {},
   "outputs": [],
   "source": [
    "template = {\n",
    "    \"method\": \"bcsd\",\n",
    "    \"obs\": \"ERA5\",\n",
    "    \"model\": \"\",\n",
    "    \"member\": \"r1i1p1f1\",\n",
    "    \"grid_label\": \"gn\",\n",
    "    \"table_id\": \"day\",\n",
    "    \"scenario\": \"\",\n",
    "    \"variable\": \"\",\n",
    "    \"train_period\": [\"1981\", \"1991\"],\n",
    "    \"predict_period\": [],\n",
    "    \"latmin\": \"-90\",\n",
    "    \"latmax\": \"90\",\n",
    "    \"lonmin\": \"-180\",\n",
    "    \"lonmax\": \"180\",\n",
    "}\n",
    "\n",
    "predict_periods = {\n",
    "    'historical': [\"2004\", \"2014\"],\n",
    "    'scenario': [\"2050\", \"2060\"],\n",
    "}\n",
    "\n",
    "models = [\"MIROC6\", \"AWI-CM-1-1-M\", \"BCC-CSM2-MR\"]\n",
    "variables = [\"tasmax\", \"tasmin\", \"pr\"]\n",
    "scenarios = [\"historical\", \"ssp245\", \"ssp370\", \"ssp585\"]"
   ]
  },
  {
   "cell_type": "code",
   "execution_count": 9,
   "id": "53f72166-62e4-44ca-83d0-6710aef36d7e",
   "metadata": {},
   "outputs": [
    {
     "name": "stdout",
     "output_type": "stream",
     "text": [
      "MIROC6 tasmax historical\n",
      "MIROC6 tasmax ssp245\n",
      "MIROC6 tasmax ssp370\n",
      "MIROC6 tasmax ssp585\n",
      "MIROC6 tasmin historical\n",
      "MIROC6 tasmin ssp245\n",
      "MIROC6 tasmin ssp370\n",
      "MIROC6 tasmin ssp585\n",
      "MIROC6 pr historical\n",
      "MIROC6 pr ssp245\n",
      "MIROC6 pr ssp370\n",
      "MIROC6 pr ssp585\n",
      "AWI-CM-1-1-M tasmax historical\n",
      "AWI-CM-1-1-M tasmax ssp245\n",
      "AWI-CM-1-1-M tasmax ssp370\n",
      "AWI-CM-1-1-M tasmax ssp585\n",
      "AWI-CM-1-1-M tasmin historical\n",
      "AWI-CM-1-1-M tasmin ssp245\n",
      "AWI-CM-1-1-M tasmin ssp370\n",
      "AWI-CM-1-1-M tasmin ssp585\n",
      "AWI-CM-1-1-M pr historical\n",
      "AWI-CM-1-1-M pr ssp245\n",
      "AWI-CM-1-1-M pr ssp370\n",
      "AWI-CM-1-1-M pr ssp585\n",
      "BCC-CSM2-MR tasmax historical\n",
      "BCC-CSM2-MR tasmax ssp245\n",
      "BCC-CSM2-MR tasmax ssp370\n",
      "BCC-CSM2-MR tasmax ssp585\n",
      "BCC-CSM2-MR tasmin historical\n",
      "BCC-CSM2-MR tasmin ssp245\n",
      "BCC-CSM2-MR tasmin ssp370\n",
      "BCC-CSM2-MR tasmin ssp585\n",
      "BCC-CSM2-MR pr historical\n",
      "BCC-CSM2-MR pr ssp245\n",
      "BCC-CSM2-MR pr ssp370\n",
      "BCC-CSM2-MR pr ssp585\n"
     ]
    }
   ],
   "source": [
    "for model, variable, scenario in itertools.product(models, variables, scenarios):\n",
    "    print(model, variable, scenario)\n",
    "    if 'ssp' in scenario:\n",
    "        period = predict_periods['scenario']\n",
    "    else:\n",
    "        period = predict_periods['historical']\n",
    "    up = {'model': model, 'variable': variable, 'scenario': scenario, 'predict_period': period}\n",
    "\n",
    "    run_dict = {**template, **up}\n",
    "    run_json = json.dumps(run_dict)\n",
    "\n",
    "    run_dict['train_dates'] = run_dict.pop('train_period')\n",
    "    run_dict['predict_dates'] = run_dict.pop('predict_period')\n",
    "\n",
    "    run_parameters = RunParameters(**run_dict)\n",
    "\n",
    "    with open(run_parameters.run_id + '.json', 'w') as f:\n",
    "        f.write(run_json)"
   ]
  },
  {
   "cell_type": "code",
   "execution_count": null,
   "id": "a21b93ef-1e7a-4591-9cc7-375640fc461a",
   "metadata": {},
   "outputs": [],
   "source": []
  }
 ],
 "metadata": {
  "kernelspec": {
   "display_name": "Python 3 (ipykernel)",
   "language": "python",
   "name": "python3"
  },
  "language_info": {
   "codemirror_mode": {
    "name": "ipython",
    "version": 3
   },
   "file_extension": ".py",
   "mimetype": "text/x-python",
   "name": "python",
   "nbconvert_exporter": "python",
   "pygments_lexer": "ipython3",
   "version": "3.9.12"
  }
 },
 "nbformat": 4,
 "nbformat_minor": 5
}
