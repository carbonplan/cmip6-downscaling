{
 "cells": [
  {
   "cell_type": "markdown",
   "id": "07a38576-390e-4b24-9b13-9a8d03571f67",
   "metadata": {},
   "source": [
    "### Creates .json parameter files from validated catalog combinations"
   ]
  },
  {
   "cell_type": "code",
   "execution_count": 17,
   "id": "f52aa05a-d924-4704-b98b-4195eb199d8d",
   "metadata": {},
   "outputs": [],
   "source": [
    "import pandas as pd\n",
    "from tqdm import tqdm\n",
    "import json\n",
    "from cmip6_downscaling.methods.common.containers import RunParameters"
   ]
  },
  {
   "cell_type": "code",
   "execution_count": 18,
   "id": "8381f7da-dbcd-4850-9695-e480e01bbdd5",
   "metadata": {},
   "outputs": [],
   "source": [
    "valid_df = pd.read_csv('valid_catalog.csv')\n",
    "\n",
    "template = {\n",
    "    \"method\": \"\",\n",
    "    \"obs\": \"ERA5\",\n",
    "    \"model\": \"\",\n",
    "    \"member\": \"\",\n",
    "    \"grid_label\": \"gn\",\n",
    "    \"table_id\": \"day\",\n",
    "    \"scenario\": \"\",\n",
    "    \"variable\": \"\",\n",
    "    \"train_period\": [\"1981\", \"2010\"],\n",
    "    \"predict_period\": \"\",\n",
    "    \"latmin\": \"-90\",\n",
    "    \"latmax\": \"90\",\n",
    "    \"lonmin\": \"-180\",\n",
    "    \"lonmax\": \"180\",\n",
    "}"
   ]
  },
  {
   "cell_type": "code",
   "execution_count": 19,
   "id": "f98c29c9-40c1-4126-9f7a-0d9d9611acb1",
   "metadata": {},
   "outputs": [
    {
     "name": "stdout",
     "output_type": "stream",
     "text": [
      "bcsd\n"
     ]
    },
    {
     "name": "stderr",
     "output_type": "stream",
     "text": [
      "1032it [00:31, 33.11it/s]\n"
     ]
    },
    {
     "name": "stdout",
     "output_type": "stream",
     "text": [
      "gard\n"
     ]
    },
    {
     "name": "stderr",
     "output_type": "stream",
     "text": [
      "1032it [00:31, 33.05it/s]\n"
     ]
    },
    {
     "name": "stdout",
     "output_type": "stream",
     "text": [
      "maca\n"
     ]
    },
    {
     "name": "stderr",
     "output_type": "stream",
     "text": [
      "1032it [00:31, 32.98it/s]\n"
     ]
    }
   ],
   "source": [
    "for method in ['bcsd', 'gard', 'maca']:\n",
    "    print(method)\n",
    "    for index, row in tqdm(valid_df.iterrows()):\n",
    "        filled_template = template.copy()\n",
    "        filled_template[\"method\"] = method\n",
    "        filled_template[\"member\"] = row['member_id']\n",
    "        filled_template[\"model\"] = row[\"source_id\"]\n",
    "        filled_template[\"variable\"] = row[\"variable_id_y\"]\n",
    "        filled_template[\"scenario\"] = row[\"experiment_id_y\"]\n",
    "        if 'ssp' in filled_template[\"scenario\"]:\n",
    "            filled_template[\"predict_period\"] = [\"2015\", \"2099\"]\n",
    "        else:\n",
    "            filled_template[\"predict_period\"] = [\"1950\", \"2014\"]\n",
    "\n",
    "        filled_template['train_dates'] = filled_template.pop('train_period')\n",
    "        filled_template['predict_dates'] = filled_template.pop('predict_period')\n",
    "\n",
    "        run_parameters = RunParameters(**filled_template)\n",
    "\n",
    "        with open(f'{method}' + '/' + run_parameters.run_id + '.json', 'w') as f:\n",
    "            f.write(json.dumps(filled_template))"
   ]
  },
  {
   "cell_type": "code",
   "execution_count": null,
   "id": "8d9f454f-b5db-4af1-af08-0cad97dbd537",
   "metadata": {},
   "outputs": [],
   "source": []
  },
  {
   "cell_type": "code",
   "execution_count": null,
   "id": "f30479d8-45bf-4727-9d10-f2dc72bd7877",
   "metadata": {},
   "outputs": [],
   "source": []
  }
 ],
 "metadata": {
  "kernelspec": {
   "display_name": "Python 3 (ipykernel)",
   "language": "python",
   "name": "python3"
  },
  "language_info": {
   "codemirror_mode": {
    "name": "ipython",
    "version": 3
   },
   "file_extension": ".py",
   "mimetype": "text/x-python",
   "name": "python",
   "nbconvert_exporter": "python",
   "pygments_lexer": "ipython3",
   "version": "3.9.12"
  }
 },
 "nbformat": 4,
 "nbformat_minor": 5
}
