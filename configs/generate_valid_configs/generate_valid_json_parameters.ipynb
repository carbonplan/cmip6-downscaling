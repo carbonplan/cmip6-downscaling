{
 "cells": [
  {
   "cell_type": "markdown",
   "id": "07a38576-390e-4b24-9b13-9a8d03571f67",
   "metadata": {},
   "source": [
    "### Creates .json parameter files from validated catalog combinations"
   ]
  },
  {
   "cell_type": "code",
   "execution_count": null,
   "id": "f52aa05a-d924-4704-b98b-4195eb199d8d",
   "metadata": {},
   "outputs": [],
   "source": [
    "import pandas as pd\n",
    "from tqdm import tqdm\n",
    "import json\n",
    "from cmip6_downscaling.methods.common.containers import RunParameters"
   ]
  },
  {
   "cell_type": "code",
   "execution_count": null,
   "id": "8381f7da-dbcd-4850-9695-e480e01bbdd5",
   "metadata": {},
   "outputs": [],
   "source": [
    "valid_df = pd.read_csv('valid_catalog.csv')\n",
    "\n",
    "template = {\n",
    "    \"bcsd\": {\n",
    "        \"method\": \"\",\n",
    "        \"obs\": \"ERA5\",\n",
    "        \"model\": \"\",\n",
    "        \"member\": \"\",\n",
    "        \"grid_label\": \"gn\",\n",
    "        \"table_id\": \"day\",\n",
    "        \"scenario\": \"\",\n",
    "        \"features\": \"\",\n",
    "        \"variable\": \"\",\n",
    "        \"train_dates\": [\"1981\", \"2010\"],\n",
    "        \"predict_dates\": \"\",\n",
    "        \"latmin\": \"-90\",\n",
    "        \"latmax\": \"90\",\n",
    "        \"lonmin\": \"-180\",\n",
    "        \"lonmax\": \"180\",\n",
    "        \"bias_correction_method\": \"\",\n",
    "        \"bias_correction_kwargs\": {},\n",
    "        \"model_type\": \"\",\n",
    "        \"model_params\": {},\n",
    "    },\n",
    "    \"gard\": {\n",
    "        \"method\": \"\",\n",
    "        \"obs\": \"ERA5\",\n",
    "        \"model\": \"\",\n",
    "        \"member\": \"\",\n",
    "        \"grid_label\": \"gn\",\n",
    "        \"table_id\": \"day\",\n",
    "        \"scenario\": \"\",\n",
    "        \"features\": \"\",\n",
    "        \"variable\": \"\",\n",
    "        \"train_dates\": [\"1981\", \"2010\"],\n",
    "        \"predict_dates\": \"\",\n",
    "        \"latmin\": \"-90\",\n",
    "        \"latmax\": \"90\",\n",
    "        \"lonmin\": \"-180\",\n",
    "        \"lonmax\": \"180\",\n",
    "        \"bias_correction_method\": \"quantile_mapper\",\n",
    "        \"bias_correction_kwargs\": {},\n",
    "        \"model_type\": \"PureRegression\",\n",
    "        \"model_params\": {},\n",
    "    },\n",
    "}"
   ]
  },
  {
   "cell_type": "code",
   "execution_count": null,
   "id": "18086475-1332-43ef-bbc8-dec49b0e822b",
   "metadata": {},
   "outputs": [],
   "source": [
    "gcms = ['MIROC6', 'CanESM5', 'BCC-CSM2-MR', 'MPI-ESM1-2-HR', 'MRI-ESM2-0']\n",
    "member = 'r1i1p1f1'\n",
    "variables = ['tasmax', 'tasmin', 'pr']"
   ]
  },
  {
   "cell_type": "code",
   "execution_count": null,
   "id": "62b4cafc-976b-4a00-a4e0-05f7cac2b37e",
   "metadata": {},
   "outputs": [],
   "source": [
    "for method in ['bcsd', 'gard']:\n",
    "    for gcm in gcms:\n",
    "        for variable in variables:\n",
    "            subset = valid_df[valid_df['source_id'] == gcm]\n",
    "\n",
    "            subset = subset[subset['member_id'] == member]\n",
    "            subset = subset[subset['variable_id_y'] == variable]\n",
    "            print(len(subset))\n",
    "\n",
    "            for index, row in tqdm(subset.iterrows()):\n",
    "                filled_template = template[method].copy()\n",
    "                filled_template[\"method\"] = method\n",
    "                filled_template[\"member\"] = row[\"member_id\"]\n",
    "                filled_template[\"model\"] = row[\"source_id\"]\n",
    "                filled_template[\"features\"] = [row[\"variable_id_y\"]]\n",
    "                filled_template[\"variable\"] = row[\"variable_id_y\"]\n",
    "                filled_template[\"scenario\"] = row[\"experiment_id_y\"]\n",
    "\n",
    "                if 'ssp' in filled_template[\"scenario\"]:\n",
    "                    filled_template[\"predict_dates\"] = [\"2015\", \"2099\"]\n",
    "                else:\n",
    "                    filled_template[\"predict_dates\"] = [\"1950\", \"2014\"]\n",
    "                if variable == 'pr':\n",
    "                    filled_template['model_params'] = {'thresh': 0}\n",
    "                    filled_template['bias_correction_kwargs'] = {\"detrend\": \"False\"}\n",
    "                elif variable in ['tasmax', 'tasmin']:\n",
    "                    filled_template['bias_correction_kwargs'] = {\"detrend\": \"True\"}\n",
    "                filled_template['train_dates'] = filled_template.pop('train_dates')\n",
    "                filled_template['predict_dates'] = filled_template.pop('predict_dates')\n",
    "\n",
    "                run_parameters = RunParameters(**filled_template)\n",
    "\n",
    "                with open(f'{method}' + '/' + run_parameters.run_id + '.json', 'w') as f:\n",
    "                    f.write(json.dumps(filled_template))"
   ]
  }
 ],
 "metadata": {
  "kernelspec": {
   "display_name": "Python 3 (ipykernel)",
   "language": "python",
   "name": "python3"
  },
  "language_info": {
   "codemirror_mode": {
    "name": "ipython",
    "version": 3
   },
   "file_extension": ".py",
   "mimetype": "text/x-python",
   "name": "python",
   "nbconvert_exporter": "python",
   "pygments_lexer": "ipython3",
   "version": "3.9.12"
  }
 },
 "nbformat": 4,
 "nbformat_minor": 5
}
