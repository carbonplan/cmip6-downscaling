{
 "cells": [
  {
   "cell_type": "markdown",
   "id": "07a38576-390e-4b24-9b13-9a8d03571f67",
   "metadata": {},
   "source": [
    "### Creates .json parameter files from validated catalog combinations"
   ]
  },
  {
   "cell_type": "code",
   "execution_count": 2,
   "id": "f52aa05a-d924-4704-b98b-4195eb199d8d",
   "metadata": {},
   "outputs": [],
   "source": [
    "import pandas as pd\n",
    "from tqdm import tqdm\n",
    "import json\n",
    "from cmip6_downscaling.methods.common.containers import RunParameters"
   ]
  },
  {
   "cell_type": "code",
   "execution_count": 11,
   "id": "8381f7da-dbcd-4850-9695-e480e01bbdd5",
   "metadata": {},
   "outputs": [],
   "source": [
    "valid_df = pd.read_csv('valid_catalog.csv')\n",
    "\n",
    "template = {\n",
    "    \"bcsd\": {\n",
    "        \"method\": \"\",\n",
    "        \"obs\": \"ERA5\",\n",
    "        \"model\": \"\",\n",
    "        \"member\": \"\",\n",
    "        \"grid_label\": \"gn\",\n",
    "        \"table_id\": \"day\",\n",
    "        \"scenario\": \"\",\n",
    "        \"features\": \"\",\n",
    "        \"variable\": \"\",\n",
    "        \"train_dates\": [\"1981\", \"2010\"],\n",
    "        \"predict_dates\": \"\",\n",
    "        \"latmin\": \"-90\",\n",
    "        \"latmax\": \"90\",\n",
    "        \"lonmin\": \"-180\",\n",
    "        \"lonmax\": \"180\",\n",
    "        \"bias_correction_method\": \"\",\n",
    "        \"bias_correction_kwargs\": {},\n",
    "        \"model_type\": \"\",\n",
    "        \"model_params\": {},\n",
    "    },\n",
    "    \"gard\": {\n",
    "        \"method\": \"\",\n",
    "        \"obs\": \"ERA5\",\n",
    "        \"model\": \"\",\n",
    "        \"member\": \"\",\n",
    "        \"grid_label\": \"gn\",\n",
    "        \"table_id\": \"day\",\n",
    "        \"scenario\": \"\",\n",
    "        \"features\": \"\",\n",
    "        \"variable\": \"\",\n",
    "        \"train_dates\": [\"1981\", \"2010\"],\n",
    "        \"predict_dates\": \"\",\n",
    "        \"latmin\": \"-90\",\n",
    "        \"latmax\": \"90\",\n",
    "        \"lonmin\": \"-180\",\n",
    "        \"lonmax\": \"180\",\n",
    "        \"bias_correction_method\": \"quantile_mapper\",\n",
    "        \"bias_correction_kwargs\": {},\n",
    "        \"model_type\": \"PureRegression\",\n",
    "        \"model_params\": {},\n",
    "    },\n",
    "    \"maca\": {\n",
    "        \"method\": \"\",\n",
    "        \"obs\": \"ERA5\",\n",
    "        \"model\": \"\",\n",
    "        \"member\": \"\",\n",
    "        \"grid_label\": \"gn\",\n",
    "        \"table_id\": \"day\",\n",
    "        \"scenario\": \"\",\n",
    "        \"variable\": \"\",\n",
    "        \"train_dates\": [\"1981\", \"2010\"],\n",
    "        \"predict_dates\": \"\",\n",
    "        \"latmin\": \"-90\",\n",
    "        \"latmax\": \"90\",\n",
    "        \"lonmin\": \"-180\",\n",
    "        \"lonmax\": \"180\",\n",
    "        \"year_rolling_window\": 31,\n",
    "        \"day_rolling_window\": 21,\n",
    "    },\n",
    "}"
   ]
  },
  {
   "cell_type": "code",
   "execution_count": 12,
   "id": "18086475-1332-43ef-bbc8-dec49b0e822b",
   "metadata": {},
   "outputs": [],
   "source": [
    "gcms = ['MIROC6', 'CanESM5', 'BCC-CSM2-MR', 'MPI-ESM1-2-HR', 'MRI-ESM2-0']\n",
    "member = 'r1i1p1f1'\n",
    "variables = ['tasmax', 'tasmin', 'pr']\n",
    "bias_correction_kwargs = {\n",
    "    \"pr\": {\"detrend\": False},\n",
    "    \"tasmin\": {\"detrend\": True},\n",
    "    \"tasmax\": {\"detrend\": True},\n",
    "    \"psl\": {\"detrend\": False},\n",
    "    \"ua\": {\"detrend\": False},\n",
    "    \"va\": {\"detrend\": False},\n",
    "}"
   ]
  },
  {
   "cell_type": "code",
   "execution_count": 13,
   "id": "62b4cafc-976b-4a00-a4e0-05f7cac2b37e",
   "metadata": {},
   "outputs": [
    {
     "name": "stderr",
     "output_type": "stream",
     "text": [
      "4it [00:00, 29.80it/s]\n",
      "4it [00:00, 34.49it/s]\n",
      "4it [00:00, 42.07it/s]\n",
      "4it [00:00, 41.90it/s]\n",
      "4it [00:00, 42.15it/s]\n",
      "4it [00:00, 42.39it/s]\n",
      "4it [00:00, 42.25it/s]\n",
      "4it [00:00, 48.47it/s]\n",
      "4it [00:00, 42.34it/s]\n",
      "4it [00:00, 43.26it/s]\n",
      "4it [00:00, 41.83it/s]\n",
      "4it [00:00, 41.79it/s]\n",
      "4it [00:00, 42.70it/s]\n",
      "4it [00:00, 42.71it/s]\n",
      "4it [00:00, 42.69it/s]\n"
     ]
    }
   ],
   "source": [
    "for method in ['maca']:  # ['bcsd', 'gard', 'maca']:\n",
    "    for gcm in gcms:\n",
    "        for variable in variables:\n",
    "            subset = valid_df[valid_df['source_id'] == gcm]\n",
    "\n",
    "            subset = subset[subset['member_id'] == member]\n",
    "            subset = subset[subset['variable_id_y'] == variable]\n",
    "\n",
    "            for index, row in tqdm(subset.iterrows()):\n",
    "                filled_template = template[method].copy()\n",
    "                filled_template[\"method\"] = method\n",
    "                filled_template[\"member\"] = row[\"member_id\"]\n",
    "                filled_template[\"model\"] = row[\"source_id\"]\n",
    "                filled_template[\"variable\"] = row[\"variable_id_y\"]\n",
    "                if method == 'maca' and 'hist' in row[\"experiment_id_y\"]:\n",
    "                    continue\n",
    "                filled_template[\"scenario\"] = row[\"experiment_id_y\"]\n",
    "\n",
    "                if method == 'maca':\n",
    "                    filled_template[\"predict_dates\"] = [\"1950\", \"2099\"]\n",
    "\n",
    "                elif method == 'gard':\n",
    "                    filled_template[\"features\"] = [row[\"variable_id_y\"]]\n",
    "                    if 'ssp' in filled_template[\"scenario\"]:\n",
    "                        filled_template[\"predict_dates\"] = [\"2015\", \"2099\"]\n",
    "                    else:\n",
    "                        filled_template[\"predict_dates\"] = [\"1950\", \"2014\"]\n",
    "\n",
    "                    if variable == 'pr':\n",
    "                        filled_template['model_params'] = {'thresh': 0}\n",
    "                        filled_template['bias_correction_kwargs'] = {\"detrend\": \"False\"}\n",
    "                    elif variable in ['tasmax', 'tasmin']:\n",
    "                        filled_template['bias_correction_kwargs'] = {\"detrend\": \"True\"}\n",
    "                    filled_template['train_dates'] = filled_template.pop('train_dates')\n",
    "                    filled_template['predict_dates'] = filled_template.pop('predict_dates')\n",
    "\n",
    "                run_parameters = RunParameters(**filled_template)\n",
    "\n",
    "                with open(f'{method}' + '/' + run_parameters.run_id + '.json', 'w') as f:\n",
    "                    f.write(json.dumps(filled_template))"
   ]
  },
  {
   "cell_type": "code",
   "execution_count": null,
   "id": "acf21a3e-8283-4423-a4f3-e0ff7e123ceb",
   "metadata": {},
   "outputs": [],
   "source": [
    "obs"
   ]
  },
  {
   "cell_type": "code",
   "execution_count": null,
   "id": "ed7f61d1-f997-4a6c-8d3b-f7e72350ba7d",
   "metadata": {},
   "outputs": [],
   "source": []
  }
 ],
 "metadata": {
  "kernelspec": {
   "display_name": "Python [conda env:notebook] *",
   "language": "python",
   "name": "conda-env-notebook-py"
  },
  "language_info": {
   "codemirror_mode": {
    "name": "ipython",
    "version": 3
   },
   "file_extension": ".py",
   "mimetype": "text/x-python",
   "name": "python",
   "nbconvert_exporter": "python",
   "pygments_lexer": "ipython3",
   "version": "3.9.13"
  }
 },
 "nbformat": 4,
 "nbformat_minor": 5
}
