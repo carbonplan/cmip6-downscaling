{
 "cells": [
  {
   "cell_type": "code",
   "execution_count": null,
   "id": "29ecb534-7072-4ce3-b96f-379b4424b6da",
   "metadata": {},
   "outputs": [],
   "source": [
    "import glob\n",
    "import os\n",
    "import pandas as pd\n",
    "from upath import UPath\n",
    "import json\n",
    "import time\n",
    "import pathlib\n",
    "from prefect.client import Client\n",
    "from prefect.backend.flow import FlowView\n",
    "from prefect.backend.flow_run import FlowRunView, watch_flow_run\n",
    "from prefect.backend import FlowRunView\n",
    "from cmip6_downscaling.methods.common.containers import RunParameters\n",
    "from cmip6_downscaling.utils import str_to_hash\n",
    "from cmip6_downscaling import __version__ as version, config\n",
    "from cmip6_downscaling.methods.bcsd.flow import flow as bcsd_flow"
   ]
  },
  {
   "cell_type": "code",
   "execution_count": null,
   "id": "77c8147e-4a3d-4489-a326-f4298a50664d",
   "metadata": {},
   "outputs": [],
   "source": [
    "client = Client()"
   ]
  },
  {
   "cell_type": "code",
   "execution_count": null,
   "id": "298d1cc7-da6a-4613-89c3-9de51d3b1787",
   "metadata": {},
   "outputs": [],
   "source": [
    "flow_id = bcsd_flow.register(project_name='cmip6')"
   ]
  },
  {
   "cell_type": "code",
   "execution_count": null,
   "id": "ae19c221-7385-4a6d-bd90-d861beade550",
   "metadata": {},
   "outputs": [],
   "source": [
    "def retrieve_test_parms():\n",
    "    \"\"\"retrieve list of all .json param files in method subdir\"\"\"\n",
    "    return glob.glob('../../configs/flow_runner_test/*.json')\n",
    "\n",
    "\n",
    "def run_flow(flow_id: str, param_file_path: str) -> list[str]:\n",
    "\n",
    "    json_path = pathlib.Path(param_file_path).read_text()\n",
    "    flow_hash = str_to_hash(json_path)\n",
    "    param_dict = json.loads(json_path)\n",
    "    client = Client()\n",
    "    flow_run_id = client.create_flow_run(flow_id=flow_id, parameters=param_dict)\n",
    "    flow_run = FlowRunView.from_flow_run_id(flow_run_id)\n",
    "    run_url = client.get_cloud_url(\"flow-run\", flow_run_id)\n",
    "    print(run_url)\n",
    "    return flow_run_id, flow_run, run_url, flow_hash, param_file_path\n",
    "\n",
    "\n",
    "def check_flow_status(flow_run):\n",
    "    while not flow_run.state.is_finished():\n",
    "        time.sleep(3)\n",
    "        flow_run = flow_run.get_latest()\n",
    "    return flow_run\n",
    "\n",
    "\n",
    "def rerun_flow(flow_run, flow_run_id, param_file):\n",
    "\n",
    "    flow_run = check_flow_status(flow_run)\n",
    "\n",
    "    if flow_run.state.is_successful():\n",
    "        return ''\n",
    "    else:\n",
    "        # we can add more retries here -- more complex for now\n",
    "        flow_run_id, flow_run, run_url, flow_hash, param_file_path = run_flow(\n",
    "            flow_run_id, param_file\n",
    "        )\n",
    "        flow_run = check_flow_status(flow_run)\n",
    "\n",
    "        if flow_run.state.is_failed():\n",
    "            return param_file_path\n",
    "        else:\n",
    "            return ''"
   ]
  },
  {
   "cell_type": "code",
   "execution_count": null,
   "id": "ced9bc42-5119-4cc8-b032-c698eaa88783",
   "metadata": {},
   "outputs": [],
   "source": [
    "runs = []\n",
    "list_of_params = retrieve_test_parms()\n",
    "for param_file_path in list_of_params:\n",
    "    runs.append(run_flow(flow_id, param_file_path))\n",
    "\n",
    "failed_param_file_list = []\n",
    "for flow_run_id, flow_run, run_url, flow_hash, param_file_path in runs:\n",
    "    rerun_flow_status = rerun_flow(flow_run, flow_run_id, param_file_path)\n",
    "    if len(rerun_flow_status) != 0:\n",
    "        failed_param_file_list.append(rerun_flow_status)"
   ]
  },
  {
   "cell_type": "code",
   "execution_count": null,
   "id": "1bcb18a2-2da7-4976-8757-c88fc055ccbb",
   "metadata": {},
   "outputs": [],
   "source": []
  },
  {
   "cell_type": "code",
   "execution_count": null,
   "id": "c3f6de07-c9fc-4452-893d-d7076c4bc1fa",
   "metadata": {},
   "outputs": [],
   "source": []
  },
  {
   "cell_type": "code",
   "execution_count": null,
   "id": "6d9ec544-7727-4ed2-912c-5b9c3ba9b4f4",
   "metadata": {},
   "outputs": [],
   "source": []
  },
  {
   "cell_type": "code",
   "execution_count": null,
   "id": "a228a117-b377-4b34-8df3-a90ac76a26d4",
   "metadata": {},
   "outputs": [],
   "source": []
  },
  {
   "cell_type": "code",
   "execution_count": null,
   "id": "dccc5ee4-2413-4664-931a-00aabbcbbc84",
   "metadata": {},
   "outputs": [],
   "source": []
  },
  {
   "cell_type": "code",
   "execution_count": null,
   "id": "5f652f0c-6523-4614-91cc-bfbda8481267",
   "metadata": {},
   "outputs": [],
   "source": []
  },
  {
   "cell_type": "code",
   "execution_count": null,
   "id": "c7cadd18-7c5e-4a03-bf51-2264115270f1",
   "metadata": {},
   "outputs": [],
   "source": []
  },
  {
   "cell_type": "code",
   "execution_count": null,
   "id": "69cfaa4e-ab03-4192-9df5-f859ed9d307a",
   "metadata": {},
   "outputs": [],
   "source": []
  },
  {
   "cell_type": "code",
   "execution_count": null,
   "id": "88b94801-c975-48f7-8775-0a59e5459eb5",
   "metadata": {},
   "outputs": [],
   "source": []
  },
  {
   "cell_type": "code",
   "execution_count": null,
   "id": "98c93f11-2622-49c9-b927-cfee9ea60559",
   "metadata": {},
   "outputs": [],
   "source": []
  },
  {
   "cell_type": "code",
   "execution_count": null,
   "id": "8b32aa6f-a3e3-4e14-a30f-9006dbb62fda",
   "metadata": {},
   "outputs": [],
   "source": []
  },
  {
   "cell_type": "code",
   "execution_count": null,
   "id": "811636ae-e34d-4b0a-b9fa-602b5d8561e8",
   "metadata": {},
   "outputs": [],
   "source": []
  },
  {
   "cell_type": "code",
   "execution_count": null,
   "id": "f7134286-e346-47b7-a597-71023a2e9152",
   "metadata": {},
   "outputs": [],
   "source": []
  },
  {
   "cell_type": "code",
   "execution_count": null,
   "id": "6bdf31a0-e196-4005-98c4-469a1485f620",
   "metadata": {},
   "outputs": [],
   "source": []
  },
  {
   "cell_type": "code",
   "execution_count": null,
   "id": "07b34e65-49a2-4b53-8639-36a1b32e9626",
   "metadata": {},
   "outputs": [],
   "source": []
  },
  {
   "cell_type": "code",
   "execution_count": null,
   "id": "67b8e7f2-eaa5-4a02-b4e4-6cc21c3d7b64",
   "metadata": {},
   "outputs": [],
   "source": [
    "results_dir = UPath(config.get(\"storage.results.uri\")) / version\n",
    "\n",
    "downscaling_methods = ['bcsd']\n",
    "method = 'bcsd'\n",
    "_prefect_register_str = (\n",
    "    \"\"\"prefect register --project \"cmip6\" -p ../methods/{downscaling_method}/flow.py\"\"\"\n",
    ")\n",
    "_prefect_run_str = \"\"\"prefect run -i \"{flow_run_id}\" --param-file {param_file}\"\"\""
   ]
  },
  {
   "cell_type": "code",
   "execution_count": null,
   "id": "cf0f5d7e-c483-4f42-8461-764a103a6d4c",
   "metadata": {},
   "outputs": [],
   "source": [
    "def create_run_params_from_json(parameter_fpath: str) -> RunParameters:\n",
    "\n",
    "    # run_parameters.run_id_hash\n",
    "    # target2 = results_dir / 'runs' / run_parameters.run_id / 'latest.json'\n",
    "\n",
    "    df = pd.read_json(parameter_fpath)\n",
    "    run_parameters = RunParameters(\n",
    "        method=df.method.iloc[0],\n",
    "        obs=df.obs.iloc[0],\n",
    "        model=df.model.iloc[0],\n",
    "        member=df.member.iloc[0],\n",
    "        grid_label=df.grid_label.iloc[0],\n",
    "        table_id=df.table_id.iloc[0],\n",
    "        scenario=df.scenario.iloc[0],\n",
    "        variable=df.variable.iloc[0],\n",
    "        latmin=df.latmin.iloc[0],\n",
    "        latmax=df.latmax.iloc[0],\n",
    "        lonmin=df.lonmin.iloc[0],\n",
    "        lonmax=df.lonmax.iloc[0],\n",
    "        train_dates=[df.train_period.iloc[0], df.train_period.iloc[1]],\n",
    "        predict_dates=[df.predict_period.iloc[0], df.predict_period.iloc[1]],\n",
    "    )\n",
    "\n",
    "    return run_parameters\n",
    "\n",
    "\n",
    "def register_flow(method: str) -> str:\n",
    "    \"\"\"Register flow with prefect cloud and return flow_run_id for running flows\"\"\"\n",
    "\n",
    "    print('registering flow on prefect cloud')\n",
    "    flow_id = bcsd_flow.register(project_name='cmip6')\n",
    "    return flow_id\n",
    "\n",
    "\n",
    "def check_run_failed(run_id: str) -> bool:\n",
    "    flow_run = FlowRunView.from_flow_run_id(run_id)\n",
    "    flow_status_is_failed = FlowRunView.from_flow_run_id(run_id).state.is_failed()\n",
    "\n",
    "    return flow_status_is_failed\n",
    "\n",
    "\n",
    "def check_run_status(run_id: str) -> bool:\n",
    "    flow_run = FlowRunView.from_flow_run_id(run_id)\n",
    "    flow_state_finished_status = flow_run.state.is_finished()\n",
    "\n",
    "    return flow_state_finished_status\n",
    "\n",
    "\n",
    "# failed_runs = []\n",
    "# while flow_state_finished_status == False:\n",
    "#         flow_run = FlowRunView.from_flow_run_id(run_id)\n",
    "#         flow_state_finished_status = flow_run.state.is_finished()\n",
    "#         time.sleep(60)\n",
    "#     flow_status_is_failed = FlowRunView.from_flow_run_id(run_id).state.is_failed()\n",
    "#     if flow_status_is_failed: #if True, run has failed\n",
    "#         failed_runs.append(run_id)\n",
    "\n",
    "\n",
    "# def run_flow(param_file: str, flow_id: str) -> list:\n",
    "\n",
    "#         print(param_file)\n",
    "#         sys_output = os.popen(\n",
    "#             _prefect_run_str.format(flow_run_id=flow_id, param_file=param_file)\n",
    "#         ).read()\n",
    "#         run_id = sys_output.split('UUID: ')[1].split('\\n')[0]\n",
    "#         run_url = sys_output.split('URL: ')[1].split('\\n')[0]\n",
    "#         print(run_url)\n",
    "\n",
    "#         return [run_id, run_url]\n",
    "\n",
    "\n",
    "def check_run_status(run_id_list: list) -> list:\n",
    "    failed_runs = []\n",
    "    for run_id in run_id_list:\n",
    "        flow_state_finished_status = check_run_status(run_id)\n",
    "        flow_status_is_failed = check_run_failed(run_id)\n",
    "\n",
    "        if flow_status_is_failed:\n",
    "            failed_runs.append(run_id)\n",
    "    return failed_runs\n",
    "\n",
    "\n",
    "def run_all_param_files(param_file_list: list) -> list:\n",
    "    run_id_list = []\n",
    "    flow_id = register_flow(method)\n",
    "    for param_file in param_file_list:\n",
    "        flow_return = run_flow(param_file, flow_id)\n",
    "        run_id_list.append(flow_return[0])\n",
    "    print(run_id_list)"
   ]
  },
  {
   "cell_type": "code",
   "execution_count": null,
   "id": "3a725b7f-4cb4-41fc-94ba-c567bc4bf49c",
   "metadata": {},
   "outputs": [],
   "source": [
    "# first pass\n",
    "param_file_list = retrieve_test_parms()\n",
    "run_id_list = run_all_param_files(param_file_list)"
   ]
  },
  {
   "cell_type": "code",
   "execution_count": null,
   "id": "5e1b8970-ab56-44b1-8396-0ce5eea992b9",
   "metadata": {},
   "outputs": [],
   "source": [
    "run_id_list"
   ]
  },
  {
   "cell_type": "code",
   "execution_count": null,
   "id": "5a947bdf-ee6b-4916-a76f-d881925bd7e4",
   "metadata": {},
   "outputs": [],
   "source": [
    "# second pass\n",
    "failed_runs = check_run_status(run_id_list)\n",
    "second_failed_runs = run_all_param_files(failed_runs)"
   ]
  }
 ],
 "metadata": {
  "kernelspec": {
   "display_name": "Python 3 (ipykernel)",
   "language": "python",
   "name": "python3"
  },
  "language_info": {
   "codemirror_mode": {
    "name": "ipython",
    "version": 3
   },
   "file_extension": ".py",
   "mimetype": "text/x-python",
   "name": "python",
   "nbconvert_exporter": "python",
   "pygments_lexer": "ipython3",
   "version": "3.9.12"
  }
 },
 "nbformat": 4,
 "nbformat_minor": 5
}
