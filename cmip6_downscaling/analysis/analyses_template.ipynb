{
 "cells": [
  {
   "cell_type": "code",
   "execution_count": null,
   "id": "d6bcde1c-c12b-4e19-9511-d56513f32495",
   "metadata": {
    "tags": []
   },
   "outputs": [],
   "source": [
    "%load_ext autoreload\n",
    "%autoreload 2\n",
    "%reload_ext watermark\n",
    "\n",
    "import os\n",
    "\n",
    "os.environ[\"PREFECT__FLOWS__CHECKPOINTING\"] = \"True\"\n",
    "\n",
    "import fsspec\n",
    "import pandas as pd\n",
    "import xarray as xr\n",
    "import numpy as np\n",
    "import cmip6_downscaling\n",
    "import numpy as np\n",
    "from xarray_schema import DataArraySchema, DatasetSchema\n",
    "\n",
    "from cmip6_downscaling.data.observations import open_era5\n",
    "from cmip6_downscaling.data.cmip import get_gcm, load_cmip\n",
    "from dask.distributed import Client, LocalCluster\n",
    "import warnings\n",
    "\n",
    "warnings.filterwarnings(\"ignore\")\n",
    "import pytest\n",
    "from cmip6_downscaling.analysis import analysis, metrics\n",
    "from cmip6_downscaling.analysis.analysis import (\n",
    "    qaqc_checks,\n",
    "    grab_top_city_data,\n",
    "    load_top_cities,\n",
    "    get_seasonal,\n",
    "    change_ds,\n",
    ")\n",
    "from cmip6_downscaling.analysis.plot import (\n",
    "    plot_cdfs,\n",
    "    plot_values_and_difference,\n",
    "    plot_seasonal,\n",
    ")  # , plot_each_step_bcsd\n",
    "from cmip6_downscaling.analysis.qaqc import make_qaqc_ds\n",
    "from cmip6_downscaling.methods.common.containers import BBox\n",
    "from cmip6_downscaling.methods.common.utils import validate_zarr_store\n",
    "import matplotlib.pyplot as plt\n",
    "import cartopy.crs as ccrs\n",
    "from carbonplan import styles\n",
    "from cmip6_downscaling import config\n",
    "from upath import UPath\n",
    "import json\n",
    "\n",
    "styles.mpl.set_theme(style='carbonplan_dark')"
   ]
  },
  {
   "cell_type": "code",
   "execution_count": null,
   "id": "aecc537a-ba77-4f8b-a27b-a2c99b05a29d",
   "metadata": {},
   "outputs": [],
   "source": [
    "watermark -d -n -t -u -v -p cmip6_downscaling -h -m -g -r -b"
   ]
  },
  {
   "cell_type": "code",
   "execution_count": null,
   "id": "edf9dcff-a22a-41a8-9c95-a14430710755",
   "metadata": {},
   "outputs": [],
   "source": [
    "from dask.distributed import Client, LocalCluster\n",
    "\n",
    "cluster = LocalCluster()\n",
    "client = Client(cluster)\n",
    "cluster.scale(32)"
   ]
  },
  {
   "cell_type": "code",
   "execution_count": null,
   "id": "6240f130-df6c-4615-ae9a-b1b8e5670aa4",
   "metadata": {},
   "outputs": [],
   "source": [
    "client"
   ]
  },
  {
   "cell_type": "code",
   "execution_count": null,
   "id": "dd95ae7e-c9ed-4b53-9669-923aecf3957e",
   "metadata": {},
   "outputs": [],
   "source": [
    "def open_store(d, dataset_nickname: str, chunking_method: str = 'full_time'):\n",
    "    analysis_path_store_names = {\n",
    "        'bcsd': {\n",
    "            'unchunked': {'obs': 'obs_path'},\n",
    "            'full_time': {\n",
    "                'obs': 'obs_full_time_path',\n",
    "                'gcm_train': 'experiment_train_full_time_path',\n",
    "                'gcm_predict': 'experiment_predict_full_time_path',\n",
    "                'output_daily': 'final_bcsd_full_time_path',\n",
    "                'output_monthly': 'monthly_summary_path',\n",
    "                'output_annual': 'annual_summary_path',\n",
    "            },\n",
    "            'full_space': {\n",
    "                'obs': 'obs_full_space_path',\n",
    "                'gcm_train': 'experiment_train_path',\n",
    "                'gcm_predict': 'experiment_predict_path',\n",
    "                'output_daily': 'final_bcsd_full_space_path',\n",
    "                'output_monthly': 'monthly_summary_full_space_path',\n",
    "                'output_annual': 'annual_summary_full_space_path',\n",
    "            },\n",
    "        },\n",
    "        'gard': {\n",
    "            'unchunked': {'obs': 'obs_path'},\n",
    "            'full_time': {\n",
    "                'obs': 'obs_full_time_path',\n",
    "                'gcm_train': 'experiment_train_full_time_path',\n",
    "                'gcm_predict': 'experiment_predict_path',\n",
    "                'output_daily': 'model_output_path',\n",
    "                'output_monthly': 'monthly_summary_path',\n",
    "                'output_annual': 'annual_summary_path',\n",
    "            },\n",
    "            'full_space': {\n",
    "                'obs': 'obs_full_space_path',\n",
    "                'gcm_train': 'experiment_train_path',\n",
    "                'gcm_predict': 'experiment_predict_path',\n",
    "                'output_daily': 'full_space_model_output_path',\n",
    "                'output_monthly': 'monthly_summary_full_space_path',\n",
    "                'output_annual': 'annual_summary_full_space_path',\n",
    "            },\n",
    "        },\n",
    "    }\n",
    "    stores = d['datasets']\n",
    "    parameters = d['parameters']\n",
    "    downscaling_method = parameters['method']\n",
    "    store_name = analysis_path_store_names[downscaling_method][chunking_method][dataset_nickname]\n",
    "    ds = xr.open_zarr(stores[store_name])\n",
    "    return ds"
   ]
  },
  {
   "cell_type": "code",
   "execution_count": null,
   "id": "e12c382c-bc17-479d-851b-fa2a5dd33f88",
   "metadata": {},
   "outputs": [],
   "source": [
    "connection_string = os.environ.get(\"AZURE_STORAGE_CONNECTION_STRING\")\n",
    "fs = fsspec.filesystem('az', connection_string=connection_string)"
   ]
  },
  {
   "cell_type": "code",
   "execution_count": null,
   "id": "47804031-f7b5-49a9-b4ad-e3b67f3315c4",
   "metadata": {
    "tags": [
     "parameters"
    ]
   },
   "outputs": [],
   "source": [
    "latest_json_path = 'flow-outputs/results/0.1.7/runs/gard_ERA5_CanESM5_r1i1p1f1_historical_tasmax_-90_90_-180_180_1981_2010_1950_2014/latest.json'\n",
    "scheduler_address = None  # does it come in as string"
   ]
  },
  {
   "cell_type": "code",
   "execution_count": null,
   "id": "f2820416-eb04-4d23-9834-563a1af2e5b6",
   "metadata": {},
   "outputs": [],
   "source": [
    "d = json.loads(fs.cat(latest_json_path))"
   ]
  },
  {
   "cell_type": "code",
   "execution_count": null,
   "id": "e04f1d35-34e7-4d73-8620-2b6261c5e1ec",
   "metadata": {},
   "outputs": [],
   "source": [
    "stores = d['datasets']\n",
    "parameters = d['parameters']"
   ]
  },
  {
   "cell_type": "code",
   "execution_count": null,
   "id": "4a51a621-eab6-4f47-aa2c-fc581d90b50d",
   "metadata": {},
   "outputs": [],
   "source": [
    "train_period = slice(*parameters['train_dates'])\n",
    "predict_period = slice(*parameters['predict_dates'])\n",
    "var = parameters['variable']\n",
    "method = parameters['method']"
   ]
  },
  {
   "cell_type": "markdown",
   "id": "22bfaabb",
   "metadata": {},
   "source": [
    "# Check that final zarr stores are valid¶\n"
   ]
  },
  {
   "cell_type": "code",
   "execution_count": null,
   "id": "6693897a",
   "metadata": {},
   "outputs": [],
   "source": [
    "for path in stores.values():\n",
    "    if 'flow-outputs/results' in path:\n",
    "        print(path)\n",
    "        validate_zarr_store(path)"
   ]
  },
  {
   "cell_type": "markdown",
   "id": "62e1930b-e0d9-4916-b0f1-61a7151761ed",
   "metadata": {
    "tags": []
   },
   "source": [
    "# Load in your data\n"
   ]
  },
  {
   "cell_type": "markdown",
   "id": "94af8862-8495-4c5e-90ee-ed51197f971a",
   "metadata": {},
   "source": [
    "Load in downscaled run\n"
   ]
  },
  {
   "cell_type": "code",
   "execution_count": null,
   "id": "94727d4e-2141-434c-ae29-d9bcf11230b1",
   "metadata": {
    "tags": []
   },
   "outputs": [],
   "source": [
    "output_daily = open_store(d, 'output_daily', 'full_time')"
   ]
  },
  {
   "cell_type": "markdown",
   "id": "3b31fe7b-c650-45bc-90c4-7530b8620c9d",
   "metadata": {},
   "source": [
    "Load in observational dataset for evaluation below.\n"
   ]
  },
  {
   "cell_type": "code",
   "execution_count": null,
   "id": "816a43b6-8c68-4f11-856d-952f4c8f169b",
   "metadata": {},
   "outputs": [],
   "source": [
    "# obs = xr.open_zarr('az://scratch/intermediates/0.1.6.post1+dirty/rechunk/3b24d6514b116b81')\n",
    "obs = open_store(d, 'obs', 'full_time')"
   ]
  },
  {
   "cell_type": "markdown",
   "id": "ce4baed5-820e-400d-b40f-76d3a6dea3e3",
   "metadata": {},
   "source": [
    "Load in raw GCM (not downscaled or bias-corrected).\n"
   ]
  },
  {
   "cell_type": "code",
   "execution_count": null,
   "id": "389659d7-cad0-420c-98d2-f9c9d4ad896e",
   "metadata": {},
   "outputs": [],
   "source": [
    "if method == 'bcsd':\n",
    "    gcm_train = open_store(d, 'gcm_train', 'full_time')\n",
    "gcm_predict = open_store(d, 'gcm_predict', 'full_time')"
   ]
  },
  {
   "cell_type": "markdown",
   "id": "79edcfdf-ae5c-458c-80da-ed7b874d6bca",
   "metadata": {},
   "source": [
    "# Let's first just look at the data at a location about which we have intuition"
   ]
  },
  {
   "cell_type": "code",
   "execution_count": null,
   "id": "a7f688f9-c4f8-4dbc-99c0-8dbf9b473c9e",
   "metadata": {},
   "outputs": [],
   "source": [
    "seattle = {'lat': 47.5, 'lon': -121.75}"
   ]
  },
  {
   "cell_type": "code",
   "execution_count": null,
   "id": "19b14a00-5d6e-48b9-90cd-d3cb8ce2c884",
   "metadata": {},
   "outputs": [],
   "source": [
    "output_daily.sel(**seattle, method='nearest')[var].plot()"
   ]
  },
  {
   "cell_type": "code",
   "execution_count": null,
   "id": "b168d6c4-5917-407c-9b6f-e337768fab68",
   "metadata": {},
   "outputs": [],
   "source": [
    "fig, axarr = plt.subplots()\n",
    "output_daily.sel(**seattle, method='nearest')[var].groupby('time.month').mean().plot(\n",
    "    ax=axarr, label='downscaled'\n",
    ")\n",
    "obs.sel(**seattle, method='nearest')[var].groupby('time.month').mean().plot(ax=axarr, label='ERA5')\n",
    "plt.legend()"
   ]
  },
  {
   "cell_type": "markdown",
   "id": "a8bec9b1-f10d-4cfa-a9cc-0ee4f25fc990",
   "metadata": {},
   "source": [
    "# QAQC Routines\n",
    "\n",
    "Search for nans and aphysical quantitities. This step can take a while (and so there is a flag to turn it `False`) but can be useful to run if you are suspicious something might be wrong or you have done major changes to the implementation.\n"
   ]
  },
  {
   "cell_type": "code",
   "execution_count": null,
   "id": "62954754-5e95-425d-9957-85182a1de6a2",
   "metadata": {},
   "outputs": [],
   "source": [
    "run_qaqc = False"
   ]
  },
  {
   "cell_type": "code",
   "execution_count": null,
   "id": "e2d1c4c4-1955-4bfb-a7c0-b71d236962fb",
   "metadata": {
    "tags": []
   },
   "outputs": [],
   "source": [
    "if run_qaqc:\n",
    "    checks = {\n",
    "        'tasmax': ['nulls', 'aphysical_high_temp', 'aphysical_low_temp'],\n",
    "        'tasmin': ['nulls', 'aphysical_high_temp', 'aphysical_low_temp'],\n",
    "        'pr': ['nulls', 'aphysical_high_precip', 'aphysical_low_precip'],\n",
    "    }\n",
    "    annual_qaqc_ts, qaqc_maps = qaqc_checks(output_daily, checks=checks[parameters['variable']])"
   ]
  },
  {
   "cell_type": "markdown",
   "id": "3f1191a7-1c51-4de8-aebd-4acdac0d14e7",
   "metadata": {},
   "source": [
    "What years, if any, include QAQC issues? Where, if anywhere, do those QAQC issues happen?"
   ]
  },
  {
   "cell_type": "code",
   "execution_count": null,
   "id": "fb799493-5d8d-4987-ba09-755290d1cbc2",
   "metadata": {
    "tags": []
   },
   "outputs": [],
   "source": [
    "if run_qaqc:\n",
    "    if annual_qaqc_ts.sum().values.any():\n",
    "        print(annual_qaqc_ts)\n",
    "        for var in qaqc_maps:\n",
    "            if qaqc_maps[var].sum().values.any():\n",
    "                qaqc_maps[var].plot(col_wrap=1, col=\"qaqc_check\")"
   ]
  },
  {
   "cell_type": "markdown",
   "id": "64f87666-b17c-4148-b259-b9686a8d56b0",
   "metadata": {},
   "source": [
    "# Evaluation over training period\n",
    "\n",
    "How well do statistics of downscaled GCM data look like observations? In other\n",
    "words, did the model perform as expected and are there any other side-effects.\n"
   ]
  },
  {
   "cell_type": "markdown",
   "id": "4dbbc31d-9f33-4c1b-902f-005bddeaed8c",
   "metadata": {},
   "source": [
    "First, let's look at some individual locations around the world (we'll look at a\n",
    "sampling of the biggest cities). We'll compare the statistics of the historical\n",
    "downscaled data with the observations dataset and see how they match. Depending\n",
    "on the metric they should align very well (if that metric was used in training)\n",
    "but other metrics might differ still.\n"
   ]
  },
  {
   "cell_type": "markdown",
   "id": "66dff63e-13eb-484c-ab6c-f26b1f2e86f9",
   "metadata": {},
   "source": [
    "Load in the training dataset (ERA5)\n"
   ]
  },
  {
   "cell_type": "markdown",
   "id": "f4ea7332-0e63-49b4-b222-fdb54e84af96",
   "metadata": {},
   "source": [
    "We'll do our analyses across the 100 biggest cities (all in different countries\n",
    "so as to provide some geographic diversity). Also added a few in the Western US\n",
    "to cover that part of the world.\n"
   ]
  },
  {
   "cell_type": "code",
   "execution_count": null,
   "id": "0ce1a730-b728-40db-b9a9-dc73e48e5bbc",
   "metadata": {},
   "outputs": [],
   "source": [
    "top_cities = load_top_cities(num_cities=100, add_additional_cities=True, plot=True)"
   ]
  },
  {
   "cell_type": "code",
   "execution_count": null,
   "id": "2ed52c23-1f1f-40f7-911a-ceed573be653",
   "metadata": {},
   "outputs": [],
   "source": [
    "if method == 'bcsd':\n",
    "    [obs_cities, downscaled_cities, gcm_cities] = grab_top_city_data(\n",
    "        [obs[var], output_daily[var], gcm_train[var]], top_cities\n",
    "    )\n",
    "# if historical then gcm_predict serves as the raw gcm\n",
    "elif method == 'gard':\n",
    "    [obs_cities, downscaled_cities, gcm_cities] = grab_top_city_data(\n",
    "        [obs[var], output_daily[var], gcm_predict[var]], top_cities\n",
    "    )"
   ]
  },
  {
   "cell_type": "code",
   "execution_count": null,
   "id": "955ce878-9341-4eab-ae39-c0ef67937be2",
   "metadata": {
    "tags": []
   },
   "outputs": [],
   "source": [
    "plot_cdfs(\n",
    "    obs_cities,\n",
    "    top_cities,\n",
    "    train_period,\n",
    "    predict_period,\n",
    "    downscaled_cities.sel(time=train_period),\n",
    "    downscaled_cities.sel(time=predict_period),\n",
    "    gcm_cities.sel(time=train_period),\n",
    "    gcm_cities.sel(time=predict_period),\n",
    "    sharex=False,\n",
    ")"
   ]
  },
  {
   "cell_type": "code",
   "execution_count": null,
   "id": "b19d9ec5-1cfb-4939-beb0-57e30050a18f",
   "metadata": {},
   "outputs": [],
   "source": [
    "plot_cdfs(\n",
    "    obs=obs_cities,\n",
    "    top_cities=top_cities,\n",
    "    train_period=train_period,\n",
    "    predict_period=predict_period,\n",
    "    historical_downscaled=downscaled_cities.sel(time=train_period),\n",
    "    future_downscaled=None,\n",
    "    historical_gcm=gcm_cities.sel(time=train_period),\n",
    "    future_gcm=None,\n",
    "    sharex=True,\n",
    ")"
   ]
  },
  {
   "cell_type": "markdown",
   "id": "554be1a0-ddb0-42a5-9fc3-b370e73ae544",
   "metadata": {},
   "source": [
    "# Performance of standard statistics\n"
   ]
  },
  {
   "cell_type": "code",
   "execution_count": null,
   "id": "07edcd64-53d0-4ddd-a7cf-3cef9727f4b3",
   "metadata": {},
   "outputs": [],
   "source": [
    "# some sample regions to see finer scale details than global\n",
    "regions = {\n",
    "    'US': {'lat': slice(25, 50), 'lon': slice(-120, -70)},\n",
    "    'tiny central US': {'lat': slice(35, 40), 'lon': slice(-100, -90)},\n",
    "    'Brazil': {'lat': slice(-30, 10), 'lon': slice(-70, -30)},\n",
    "}"
   ]
  },
  {
   "cell_type": "code",
   "execution_count": null,
   "id": "b09c8e18-55cb-40ad-b46e-ebcfbadb9701",
   "metadata": {},
   "outputs": [],
   "source": [
    "metric_dict = {'obs': {}, 'downscaled': {}}\n",
    "for metric in [\"mean\", \"std\", 'percentile99', 'percentile1']:\n",
    "    metric_dict['obs'][metric] = metrics.metric_calc(obs.sel(time=train_period), metric)[\n",
    "        var\n",
    "    ].compute()\n",
    "    metric_dict['downscaled'][metric] = metrics.metric_calc(\n",
    "        output_daily.sel(time=train_period), metric\n",
    "    )[var].compute()"
   ]
  },
  {
   "cell_type": "code",
   "execution_count": null,
   "id": "d68d2186-086a-44c1-a9b8-1341665689a6",
   "metadata": {},
   "outputs": [],
   "source": [
    "var_limits = {\n",
    "    'tasmax': {\n",
    "        'general': {\n",
    "            'mean': (280, 300),\n",
    "            'std': (0, 20),\n",
    "            'percentile1': (250, 280),\n",
    "            'percentile99': (290, 320),\n",
    "        },\n",
    "        'over 30c': (0, 365),\n",
    "        'over 40c': (0, 50),\n",
    "    },\n",
    "    'pr': {\n",
    "        'general': {\n",
    "            'mean': (0, 10),\n",
    "            'std': (0, 5),\n",
    "            'percentile1': (0, 0.1),\n",
    "            'percentile99': (10, 25),\n",
    "        }\n",
    "    },\n",
    "}\n",
    "diff_limits = {'tasmax': {'overall': 5, 'over 30c': 50, 'over 40c': 25}, 'pr': {'overall': 50}}\n",
    "diff_method = {'tasmax': 'absolute', 'pr': 'percent'}"
   ]
  },
  {
   "cell_type": "code",
   "execution_count": null,
   "id": "6d58eb5f-1d25-4f21-9fde-802d83fab572",
   "metadata": {
    "tags": []
   },
   "outputs": [],
   "source": [
    "for metric in [\"mean\", \"std\", 'percentile99', 'percentile1']:\n",
    "    plot_values_and_difference(\n",
    "        metric_dict['obs'][metric],\n",
    "        metric_dict['downscaled'][metric],\n",
    "        title1=\"Observed {} {}\".format(metric, var),\n",
    "        title2=\"Downscaled {} {}\".format(metric, var),\n",
    "        title3=\"Difference downscaled-GCM\",\n",
    "        variable=var,\n",
    "        metric=metric,\n",
    "        var_limits=var_limits[var]['general'][metric],\n",
    "        diff_limit=diff_limits[var]['overall'],\n",
    "        diff_method=diff_method[var],\n",
    "    )"
   ]
  },
  {
   "cell_type": "code",
   "execution_count": null,
   "id": "bce8c8d6-d918-4737-84b4-9addf8a58d9b",
   "metadata": {},
   "outputs": [],
   "source": [
    "for metric in [\"mean\", \"std\", 'percentile99', 'percentile1']:\n",
    "    plot_values_and_difference(\n",
    "        metric_dict['obs'][metric].sel(**regions['US']),\n",
    "        metric_dict['downscaled'][metric].sel(**regions['US']),\n",
    "        title1=\"Observed {} {}\".format(metric, var),\n",
    "        title2=\"Downscaled {} {}\".format(metric, var),\n",
    "        title3=\"Difference downscaled-GCM\",\n",
    "        variable=var,\n",
    "        metric=metric,\n",
    "        var_limits=var_limits[var]['general'][metric],\n",
    "        diff_limit=diff_limits[var]['overall'],\n",
    "        diff_method=diff_method[var],\n",
    "    )"
   ]
  },
  {
   "cell_type": "code",
   "execution_count": null,
   "id": "ff9c1ca3-7806-4f8d-81cd-fd7543ace06f",
   "metadata": {},
   "outputs": [],
   "source": [
    "for metric in [\"mean\", \"std\", 'percentile99', 'percentile1']:\n",
    "    plot_values_and_difference(\n",
    "        metric_dict['obs'][metric].sel(**regions['tiny central US']),\n",
    "        metric_dict['downscaled'][metric].sel(**regions['tiny central US']),\n",
    "        title1=\"Observed {} {}\".format(metric, var),\n",
    "        title2=\"Downscaled {} {}\".format(metric, var),\n",
    "        title3=\"Difference downscaled-GCM\",\n",
    "        variable=var,\n",
    "        metric=metric,\n",
    "        var_limits=var_limits[var]['general'][metric],\n",
    "        diff_limit=diff_limits[var]['overall'],\n",
    "        diff_method=diff_method[var],\n",
    "    )"
   ]
  },
  {
   "cell_type": "code",
   "execution_count": null,
   "id": "9c85fc9b-da27-4332-ab6e-dafdf3575c44",
   "metadata": {},
   "outputs": [],
   "source": [
    "for metric in [\"mean\", \"std\", 'percentile99', 'percentile1']:\n",
    "    plot_values_and_difference(\n",
    "        metric_dict['obs'][metric].sel(**regions['Brazil']),\n",
    "        metric_dict['downscaled'][metric].sel(**regions['Brazil']),\n",
    "        title1=\"Observed {} {}\".format(metric, var),\n",
    "        title2=\"Downscaled {} {}\".format(metric, var),\n",
    "        title3=\"Difference downscaled-GCM\",\n",
    "        variable=var,\n",
    "        metric=metric,\n",
    "        var_limits=var_limits[var]['general'][metric],\n",
    "        diff_limit=diff_limits[var]['overall'],\n",
    "        diff_method=diff_method[var],\n",
    "    )"
   ]
  },
  {
   "cell_type": "markdown",
   "id": "0bdb2c44-d86e-41b3-aa16-164df30ef51a",
   "metadata": {
    "tags": []
   },
   "source": [
    "# Hot days\n",
    "\n",
    "Calculate the average number of hot days (over 30c) within observations and\n",
    "downscaled model.\n"
   ]
  },
  {
   "cell_type": "code",
   "execution_count": null,
   "id": "6d1f5ce6-6fda-41dc-9209-fe56b3324744",
   "metadata": {},
   "outputs": [],
   "source": [
    "if var == \"tasmax\":\n",
    "    days_over_30c_era5 = metrics.days_temperature_threshold(obs, \"over\", 273.15 + 30).compute()\n",
    "    days_over_30c_ds = metrics.days_temperature_threshold(\n",
    "        output_daily.sel(time=train_period), \"over\", 273.15 + 30\n",
    "    ).compute()"
   ]
  },
  {
   "cell_type": "code",
   "execution_count": null,
   "id": "2e3f04f4-a1c4-49fa-a79b-0264f5273de1",
   "metadata": {},
   "outputs": [],
   "source": [
    "if var == \"tasmax\":\n",
    "    plot_values_and_difference(\n",
    "        days_over_30c_era5[\"tasmax\"],\n",
    "        days_over_30c_ds[\"tasmax\"],\n",
    "        cbar_kwargs={\"label\": \"Days over 30C\"},\n",
    "        var_limits=var_limits[var]['over 30c'],\n",
    "        diff_limit=diff_limits[var]['over 30c'],\n",
    "        variable=var,\n",
    "        metric='daysover30',\n",
    "    )"
   ]
  },
  {
   "cell_type": "markdown",
   "id": "f0753123-4039-464b-a48c-1cd1e7195420",
   "metadata": {},
   "source": [
    "# Very hot days\n",
    "\n",
    "Performance: the average number of very hot days (over 40c)\n"
   ]
  },
  {
   "cell_type": "code",
   "execution_count": null,
   "id": "a84df4cd-4561-43b3-b64f-dd4665d06359",
   "metadata": {},
   "outputs": [],
   "source": [
    "if var == \"tasmax\":\n",
    "    days_over_40c_era5 = metrics.days_temperature_threshold(obs, \"over\", 273 + 40).compute()\n",
    "    days_over_40c_ds = metrics.days_temperature_threshold(\n",
    "        output_daily.sel(time=train_period), \"over\", 273 + 40\n",
    "    ).compute()"
   ]
  },
  {
   "cell_type": "code",
   "execution_count": null,
   "id": "a06c02d7-9c0d-479f-83dc-bb3896e876a2",
   "metadata": {},
   "outputs": [],
   "source": [
    "if var == \"tasmax\":\n",
    "    plot_values_and_difference(\n",
    "        days_over_40c_era5[\"tasmax\"],\n",
    "        days_over_40c_ds[\"tasmax\"],\n",
    "        title1=\"Observed days per year over 40C\",\n",
    "        title2=\"Downscaled days per year over 40C\",\n",
    "        cbar_kwargs={\"label\": \"Days over 40C\"},\n",
    "        variable=var,\n",
    "        metric='daysover40',\n",
    "        var_limits=var_limits[var]['over 40c'],\n",
    "        diff_limit=diff_limits[var]['over 40c'],\n",
    "    )"
   ]
  },
  {
   "cell_type": "code",
   "execution_count": null,
   "id": "30a8df96-c330-4602-8d16-0e2f9475a0c9",
   "metadata": {},
   "outputs": [],
   "source": [
    "if var == \"tasmax\":\n",
    "    plot_values_and_difference(\n",
    "        title1=\"Observed days per year over 40C\",\n",
    "        title2=\"Downscaled days per year over 40C\",\n",
    "        cbar_kwargs={\"label\": \"Days over 40C\"},\n",
    "        variable=var,\n",
    "        metric='daysover40',\n",
    "        var_limits=var_limits[var]['over 40c'],\n",
    "        diff_limit=diff_limits[var]['over 40c'],\n",
    "    )"
   ]
  },
  {
   "cell_type": "markdown",
   "id": "04956b69-f8d9-43fc-a8f8-773b164d5cd5",
   "metadata": {},
   "source": [
    "# Is the change seen in the downscaled dataset the same as the change projected by the raw GCM?\n"
   ]
  },
  {
   "cell_type": "code",
   "execution_count": null,
   "id": "8fe686f6-dd82-456e-a45f-8c2a73e4f07a",
   "metadata": {},
   "outputs": [],
   "source": [
    "change_analyses = False\n",
    "if change_analyses:\n",
    "    downscaled_change_cities = change_ds(\n",
    "        downscaled_cities.sel(time=train_period),\n",
    "        downscaled_cities.sel(time=future_period),\n",
    "    )\n",
    "    gcm_change_cities = change_ds(\n",
    "        gcm_cities.sel(time=train_period), gcm_cities.sel(time=future_period)\n",
    "    )"
   ]
  },
  {
   "cell_type": "code",
   "execution_count": null,
   "id": "a57316cd-cea5-418d-b433-00f34b896a2d",
   "metadata": {},
   "outputs": [],
   "source": [
    "if change_analyses:\n",
    "    for metric in gcm_change_cities:\n",
    "        plot_values_and_difference(\n",
    "            gcm_change_cities[metric],\n",
    "            downscaled_change_cities[metric],\n",
    "            gcm_change_cities,\n",
    "            city_coords=obs_cities,\n",
    "            title1=\"GCM change in {}\".format(metric),\n",
    "            title2=\"Downscaled change in {}\".format(metric),\n",
    "            title3=\"Difference downscaled-GCM\",\n",
    "            variable=var,\n",
    "            metric=metric,\n",
    "        )"
   ]
  },
  {
   "cell_type": "markdown",
   "id": "80296759-34d7-4bce-9e2e-36f472d2c4a2",
   "metadata": {},
   "source": [
    "# Seasonal statistics\n"
   ]
  },
  {
   "cell_type": "markdown",
   "id": "e06063c5-dc53-42a0-b682-6c056d6950c9",
   "metadata": {},
   "source": [
    "### Assess the mean value over the season\n"
   ]
  },
  {
   "cell_type": "code",
   "execution_count": null,
   "id": "d927373b-1660-4b99-8902-b861d91dbc67",
   "metadata": {},
   "outputs": [],
   "source": [
    "aggregator = \"mean\"\n",
    "obs_seasonal = get_seasonal(obs, aggregator=aggregator)\n",
    "downscaled_seasonal = get_seasonal(output_daily.sel(time=train_period), aggregator=aggregator)"
   ]
  },
  {
   "cell_type": "code",
   "execution_count": null,
   "id": "0ff9df63-7b8f-48b6-a873-7b885c791fb3",
   "metadata": {},
   "outputs": [],
   "source": [
    "cmap_diff_dict = {\n",
    "    'pr': 'orangeblue_light',\n",
    "    'tasmax': 'orangeblue_light_r',\n",
    "    'tasmin': 'orangeblue_light_r',\n",
    "}"
   ]
  },
  {
   "cell_type": "code",
   "execution_count": null,
   "id": "f9b001ab-8b91-4873-a2a9-769a1761e1fa",
   "metadata": {},
   "outputs": [],
   "source": [
    "plot_seasonal(obs_seasonal[var], downscaled_seasonal[var], cmap_diff=cmap_diff_dict[var])"
   ]
  },
  {
   "cell_type": "markdown",
   "id": "2988e530-a6af-4549-b7ed-8e7c65e7b0cc",
   "metadata": {},
   "source": [
    "### Assess the max value over the season\n"
   ]
  },
  {
   "cell_type": "code",
   "execution_count": null,
   "id": "6c4963a6-ac57-47f1-8ca6-8ee641a1bb8f",
   "metadata": {
    "tags": []
   },
   "outputs": [],
   "source": [
    "aggregator = \"max\"\n",
    "obs_seasonal = get_seasonal(obs, aggregator=aggregator)\n",
    "downscaled_seasonal = get_seasonal(output_daily.sel(time=train_period), aggregator=aggregator)\n",
    "plot_seasonal(obs_seasonal[var], downscaled_seasonal[var])"
   ]
  },
  {
   "cell_type": "markdown",
   "id": "9b5ecb6c-ca62-44ef-a454-20a860ce5e1d",
   "metadata": {},
   "source": [
    "### Assess the variability over the season\n"
   ]
  },
  {
   "cell_type": "code",
   "execution_count": null,
   "id": "34c21ccc-a75a-437c-a9db-abedd07da730",
   "metadata": {
    "tags": []
   },
   "outputs": [],
   "source": [
    "aggregator = \"std\"\n",
    "obs_seasonal = get_seasonal(obs, aggregator=aggregator)\n",
    "downscaled_seasonal = get_seasonal(output_daily.sel(time=train_period), aggregator=aggregator)\n",
    "plot_seasonal(obs_seasonal[var], downscaled_seasonal[var])"
   ]
  },
  {
   "cell_type": "markdown",
   "id": "94e29f85-61e5-424f-8e59-6c96ab2e711a",
   "metadata": {},
   "source": [
    "# Precipitation-specific metrics\n"
   ]
  },
  {
   "cell_type": "markdown",
   "id": "9761ad09-8124-42ad-9e0c-9413d9096820",
   "metadata": {},
   "source": [
    "If precipitation, calculate the precipitation indices across season and plot the\n",
    "same seasonal comparison maps. Metrics taken from Wilby 1998.\n"
   ]
  },
  {
   "cell_type": "markdown",
   "id": "14036035-515b-4eaf-b12c-1b472511b987",
   "metadata": {},
   "source": [
    "### If it was wet, how wet was it?\n"
   ]
  },
  {
   "cell_type": "code",
   "execution_count": null,
   "id": "adc4806d-661f-4f66-b1e3-86b690760be4",
   "metadata": {
    "tags": []
   },
   "outputs": [],
   "source": [
    "if var == \"pr\":\n",
    "    wet_day_dict = {'obs': {}, 'downscaled': {}}\n",
    "    for metric in [\"mean\", \"median\", \"std\", \"percentile95\"]:\n",
    "        wet_day_dict['obs'][metric] = metrics.wet_day_amount(obs, method=metric)['pr'].compute()\n",
    "        wet_day_dict['downscaled'][metric] = metrics.wet_day_amount(\n",
    "            output_daily.sel(time=train_period), method=metric\n",
    "        )['pr'].compute()"
   ]
  },
  {
   "cell_type": "code",
   "execution_count": null,
   "id": "39f0ec72-f5c5-478c-a0c1-ab31e2c0041e",
   "metadata": {},
   "outputs": [],
   "source": [
    "if var == \"pr\":\n",
    "    for metric in [\"mean\", \"median\", \"std\", \"percentile95\"]:\n",
    "        plot_values_and_difference(\n",
    "            wet_day_dict['obs'][metric],\n",
    "            wet_day_dict['downscaled'][metric],\n",
    "            cbar_kwargs={\"label\": f\"{metric} wet day amount\"},\n",
    "            diff_limit=50,\n",
    "            diff_method='percent',\n",
    "            cmap_diff='orangeblue_light',\n",
    "            variable=var,\n",
    "        )"
   ]
  },
  {
   "cell_type": "code",
   "execution_count": null,
   "id": "9bc5b1c6-ac7e-4f7b-bbf4-0587cca07efe",
   "metadata": {},
   "outputs": [],
   "source": [
    "if var == \"pr\":\n",
    "    for metric in [\"mean\", \"median\", \"std\", \"percentile95\"]:\n",
    "        plot_values_and_difference(\n",
    "            wet_day_dict['obs'][metric].sel(**regions['Brazil']),\n",
    "            wet_day_dict['downscaled'][metric].sel(**regions['Brazil']),\n",
    "            cbar_kwargs={\"label\": f\"{metric} wet day amount\"},\n",
    "            diff_limit=50,\n",
    "            diff_method='percent',\n",
    "            cmap_diff='orangeblue_light',\n",
    "            variable=var,\n",
    "        )"
   ]
  },
  {
   "cell_type": "code",
   "execution_count": null,
   "id": "5a24a1b6-7564-4fdc-90e7-c2da4e7406b6",
   "metadata": {
    "tags": []
   },
   "outputs": [],
   "source": [
    "if var == \"pr\":\n",
    "    for metric in [\"mean\", \"median\", \"std\", \"percentile95\"]:\n",
    "        plot_values_and_difference(\n",
    "            wet_day_dict['obs'][metric].sel(\n",
    "                lat=slice(30, 35), lon=slice(-105, -100)\n",
    "            ),  # .sel(lat=slice(25,50), lon=slice(-120, -70)),\n",
    "            wet_day_dict['downscaled'][metric].sel(\n",
    "                lat=slice(30, 35), lon=slice(-105, -100)\n",
    "            ),  # .sel(lat=slice(25,50), lon=slice(-120, -70)),\n",
    "            cbar_kwargs={\"label\": f\"{metric} wet day amount\"},\n",
    "            diff_limit=50,\n",
    "            diff_method='percent',\n",
    "            cmap_diff='orangeblue_light',\n",
    "        )"
   ]
  },
  {
   "cell_type": "markdown",
   "id": "5aecfc7d-e55f-4a36-a8ac-02d7adee99ad",
   "metadata": {},
   "source": [
    "Calculate boolean masks of wet and dry days (they are inverses of eachother)\n",
    "based upon a threshold. We'll then use these to perform a variety of statistics.\n"
   ]
  },
  {
   "cell_type": "code",
   "execution_count": null,
   "id": "592e8bce-530d-4ea8-9166-f977a1a0e78a",
   "metadata": {},
   "outputs": [],
   "source": [
    "if var == \"pr\":\n",
    "    wet_days_obs = metrics.is_wet_day(obs, threshold=0.0).compute()\n",
    "    dry_days_obs = ~wet_days_obs\n",
    "    wet_days_downscaled = metrics.is_wet_day(\n",
    "        output_daily.sel(time=train_period), threshold=0.0\n",
    "    ).compute()\n",
    "    dry_days_downscaled = ~wet_days_downscaled"
   ]
  },
  {
   "cell_type": "code",
   "execution_count": null,
   "id": "34b4f23b-bb35-4139-844e-495d0d3c68de",
   "metadata": {},
   "outputs": [],
   "source": [
    "wet_day_obs_count = wet_days_obs.groupby('time.year').sum().mean(dim='year').compute()\n",
    "wet_day_downscaled_count = wet_days_downscaled.groupby('time.year').sum().mean(dim='year').compute()"
   ]
  },
  {
   "cell_type": "code",
   "execution_count": null,
   "id": "42eab2a9-4f9b-45a9-a8ef-97d059cf72da",
   "metadata": {},
   "outputs": [],
   "source": [
    "plot_values_and_difference(\n",
    "    wet_day_obs_count.pr,\n",
    "    wet_day_downscaled_count.pr,\n",
    "    cbar_kwargs={\"label\": \"wet day count\"},\n",
    "    diff_limit=200,\n",
    "    var_limits=(0, 350),\n",
    "    diff_method='absolute',\n",
    "    cmap_diff='orangeblue_light',\n",
    "    variable=var,\n",
    ")"
   ]
  },
  {
   "cell_type": "code",
   "execution_count": null,
   "id": "84ccca53-fbcd-4164-b32d-bdde8a1c0d8b",
   "metadata": {},
   "outputs": [],
   "source": [
    "plot_values_and_difference(\n",
    "    wet_day_obs_count.pr.sel(**regions['Brazil']),\n",
    "    wet_day_downscaled_count.pr.sel(**regions['Brazil']),\n",
    "    cbar_kwargs={\"label\": f\"wet day count\"},\n",
    "    var_limits=(0, 350),\n",
    "    diff_limit=100,\n",
    "    diff_method='absolute',\n",
    "    cmap_diff='orangeblue_light',\n",
    "    variable=var,\n",
    ")"
   ]
  },
  {
   "cell_type": "markdown",
   "id": "cdbeda37-d384-421b-acb0-8f91451151ba",
   "metadata": {},
   "source": [
    "### Length and variability of wet spells\n"
   ]
  },
  {
   "cell_type": "code",
   "execution_count": null,
   "id": "04a6b5d9-4276-4776-a1ab-08028261e36e",
   "metadata": {},
   "outputs": [],
   "source": [
    "if var == \"pr\":\n",
    "    for metric in [\"mean\", \"std\", \"percentile90\", \"percentile99\"]:\n",
    "        plot_values_and_difference(\n",
    "            apply_spell_length(wet_days_obs, metric),\n",
    "            apply_spell_length(wet_days_downscaled, metric),\n",
    "            title1=\"ERA5 wet spell length\",\n",
    "            title2=\"Downscaled wet spell length\",\n",
    "            cbar_kwargs={\"label\": f\"{metric} days\"},\n",
    "            variable=var,\n",
    "            metric='wet spell length',\n",
    "            var_limits=(0, 5),\n",
    "            diff_limit=5,\n",
    "        )"
   ]
  },
  {
   "cell_type": "markdown",
   "id": "059d4d50-d006-42c2-bbc4-941b8d4f97a3",
   "metadata": {},
   "source": [
    "### Length and variability of dry spells\n"
   ]
  },
  {
   "cell_type": "code",
   "execution_count": null,
   "id": "16ee7b0b-33e4-4917-9b49-f7b0429a5a69",
   "metadata": {
    "tags": []
   },
   "outputs": [],
   "source": [
    "if var == \"pr\":\n",
    "    for metric in [\"mean\", \"std\", \"percentile90\", \"percentile99\"]:\n",
    "        plot_values_and_difference(\n",
    "            apply_spell_length(dry_days_obs, metric),\n",
    "            apply_spell_length(dry_days_downscaled, metric),\n",
    "            title1=\"ERA5 dry spell length\",\n",
    "            title2=\"Downscaled dry spell length\",\n",
    "            cbar_kwargs={\"label\": f\"{metric} days\"},\n",
    "            variable=var,\n",
    "            metric='dry spell length',\n",
    "            var_limits=(0, 5),\n",
    "            diff_limit=5,\n",
    "        )"
   ]
  },
  {
   "cell_type": "markdown",
   "id": "8092aace-1375-4c78-ac0c-fc2120f05bb0",
   "metadata": {},
   "source": [
    "### If today was wet, what are odds tomorrow will be wet?\n"
   ]
  },
  {
   "cell_type": "code",
   "execution_count": null,
   "id": "03d9d0d8-e933-4c84-bb40-9b6480fe37f2",
   "metadata": {},
   "outputs": [],
   "source": [
    "if var == \"pr\":\n",
    "    plot_values_and_difference(\n",
    "        metrics.probability_two_consecutive_days(obs_ds, kind_of_days=\"wet\")[\"pr\"],\n",
    "        metrics.probability_two_consecutive_days(ds.sel(time=train_period), kind_of_days=\"wet\")[\n",
    "            \"pr\"\n",
    "        ],\n",
    "        cbar_kwargs={\"label\": \"probability\"},\n",
    "        diff_limit=0.5,\n",
    "    )"
   ]
  },
  {
   "cell_type": "markdown",
   "id": "a4603b69-e080-47fd-8e7b-faeab6c45f9f",
   "metadata": {},
   "source": [
    "### If today was dry, what are odds tomorrow will be dry?\n"
   ]
  },
  {
   "cell_type": "code",
   "execution_count": null,
   "id": "75f90d87-bd86-494d-847f-5cf82ee4b5fd",
   "metadata": {
    "tags": []
   },
   "outputs": [],
   "source": [
    "if var == \"pr\":\n",
    "    plot_values_and_difference(\n",
    "        metrics.probability_two_consecutive_days(obs_ds, kind_of_days=\"dry\")[\"pr\"],\n",
    "        metrics.probability_two_consecutive_days(ds.sel(time=train_period), kind_of_days=\"dry\")[\n",
    "            \"pr\"\n",
    "        ],\n",
    "        title1=\"ERA5\",\n",
    "        title2=\"Downscaled\",\n",
    "        cbar_kwargs={\"label\": f\"{metric} prob of sequential dry day\"},\n",
    "        variable=var,\n",
    "        metric='probability',\n",
    "        var_limits=(0, 1),\n",
    "        diff_limit=0.5,\n",
    "    )"
   ]
  },
  {
   "cell_type": "markdown",
   "id": "b41229e1-9681-4254-826d-1757d1ea142f",
   "metadata": {},
   "source": [
    "### Low frequency variability - standard deviation of monthly precipitation\n"
   ]
  },
  {
   "cell_type": "code",
   "execution_count": null,
   "id": "f62a5057-3cbf-41c5-ac86-389c64d41020",
   "metadata": {},
   "outputs": [],
   "source": [
    "if var == \"pr\":\n",
    "    plot_values_and_difference(\n",
    "        monthly_variability(obs_ds.pr, method=\"sum\"),\n",
    "        monthly_variability(ds.sel(time=train_period).pr, method=\"sum\"),\n",
    "        title1=\"ERA5 monthly stdev\",\n",
    "        title2=\"Downscaled monthly stdev\",\n",
    "        cbar_kwargs={\"label\": f\"mm\"},\n",
    "        variable=var,\n",
    "        metric='stdev monthly precip',\n",
    "        var_limits=(0, 50),\n",
    "        diff_limit=10,\n",
    "    )"
   ]
  }
 ],
 "metadata": {
  "kernelspec": {
   "display_name": "notebook",
   "language": "python",
   "name": "notebook"
  },
  "language_info": {
   "codemirror_mode": {
    "name": "ipython",
    "version": 3
   },
   "file_extension": ".py",
   "mimetype": "text/x-python",
   "name": "python",
   "nbconvert_exporter": "python",
   "pygments_lexer": "ipython3",
   "version": "3.9.13"
  }
 },
 "nbformat": 4,
 "nbformat_minor": 5
}
